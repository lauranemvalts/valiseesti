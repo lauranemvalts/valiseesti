{
 "cells": [
  {
   "cell_type": "code",
   "execution_count": 1,
   "id": "41473583",
   "metadata": {},
   "outputs": [
    {
     "name": "stderr",
     "output_type": "stream",
     "text": [
      "Downloading GitHub repo peeter-t2/digar.txts@HEAD\n",
      "\n"
     ]
    },
    {
     "name": "stdout",
     "output_type": "stream",
     "text": [
      "* checking for file ‘/tmp/RtmpAH8EaJ/remotesa5e049d82a6a/peeter-t2-digar.txts-b87e10a/DESCRIPTION’ ... OK\n",
      "* preparing ‘digar.txts’:\n",
      "* checking DESCRIPTION meta-information ... OK\n",
      "* checking for LF line-endings in source and make files and shell scripts\n",
      "* checking for empty or unneeded directories\n",
      "Omitted ‘LazyData’ from DESCRIPTION\n",
      "* building ‘digar.txts_0.0.0.9100.tar.gz’\n",
      "Warning in sprintf(gettext(fmt, domain = domain), ...) :\n",
      "  one argument not used by format 'invalid uid value replaced by that for user 'nobody''\n",
      "Warning: invalid uid value replaced by that for user 'nobody'\n",
      "\n"
     ]
    },
    {
     "name": "stderr",
     "output_type": "stream",
     "text": [
      "Loading required package: data.table\n",
      "\n"
     ]
    }
   ],
   "source": [
    "remotes::install_github(\"peeter-t2/digar.txts\",lib=\"R_pckg/\",upgrade=\"never\")\n",
    "library(digar.txts,lib.loc=\"R_pckg/\")"
   ]
  },
  {
   "cell_type": "code",
   "execution_count": 2,
   "id": "65ba2579",
   "metadata": {},
   "outputs": [
    {
     "name": "stderr",
     "output_type": "stream",
     "text": [
      "── \u001b[1mAttaching packages\u001b[22m ─────────────────────────────────────── tidyverse 1.3.1 ──\n",
      "\n",
      "\u001b[32m✔\u001b[39m \u001b[34mggplot2\u001b[39m 3.3.5     \u001b[32m✔\u001b[39m \u001b[34mpurrr  \u001b[39m 0.3.4\n",
      "\u001b[32m✔\u001b[39m \u001b[34mtibble \u001b[39m 3.1.6     \u001b[32m✔\u001b[39m \u001b[34mdplyr  \u001b[39m 1.0.8\n",
      "\u001b[32m✔\u001b[39m \u001b[34mtidyr  \u001b[39m 1.2.0     \u001b[32m✔\u001b[39m \u001b[34mstringr\u001b[39m 1.4.0\n",
      "\u001b[32m✔\u001b[39m \u001b[34mreadr  \u001b[39m 2.1.2     \u001b[32m✔\u001b[39m \u001b[34mforcats\u001b[39m 0.5.1\n",
      "\n",
      "── \u001b[1mConflicts\u001b[22m ────────────────────────────────────────── tidyverse_conflicts() ──\n",
      "\u001b[31m✖\u001b[39m \u001b[34mdplyr\u001b[39m::\u001b[32mbetween()\u001b[39m   masks \u001b[34mdata.table\u001b[39m::between()\n",
      "\u001b[31m✖\u001b[39m \u001b[34mdplyr\u001b[39m::\u001b[32mfilter()\u001b[39m    masks \u001b[34mstats\u001b[39m::filter()\n",
      "\u001b[31m✖\u001b[39m \u001b[34mdplyr\u001b[39m::\u001b[32mfirst()\u001b[39m     masks \u001b[34mdata.table\u001b[39m::first()\n",
      "\u001b[31m✖\u001b[39m \u001b[34mdplyr\u001b[39m::\u001b[32mlag()\u001b[39m       masks \u001b[34mstats\u001b[39m::lag()\n",
      "\u001b[31m✖\u001b[39m \u001b[34mdplyr\u001b[39m::\u001b[32mlast()\u001b[39m      masks \u001b[34mdata.table\u001b[39m::last()\n",
      "\u001b[31m✖\u001b[39m \u001b[34mpurrr\u001b[39m::\u001b[32mtranspose()\u001b[39m masks \u001b[34mdata.table\u001b[39m::transpose()\n",
      "\n"
     ]
    }
   ],
   "source": [
    "library(tidyverse)\n",
    "install.packages('tidytext', lib='~/R_pckg')\n",
    "library(tidytext, lib.loc='~/R_pckg')"
   ]
  },
  {
   "cell_type": "code",
   "execution_count": 3,
   "id": "56724f33",
   "metadata": {},
   "outputs": [
    {
     "name": "stdout",
     "output_type": "stream",
     "text": [
      "[1] \"Issue metadata read\"\n"
     ]
    }
   ],
   "source": [
    "all_issues <- get_digar_overview()"
   ]
  },
  {
   "cell_type": "code",
   "execution_count": 4,
   "id": "3f55ada6",
   "metadata": {},
   "outputs": [],
   "source": [
    "valiseesti_ajalehed <- all_issues %>%\n",
    "    filter(DocumentType==\"NEWSPAPER\") %>%\n",
    "    filter(keyid==\"estdagbladet\" | keyid==\"eestiteatajastock\" | keyid==\"stockholmstid\" | keyid==\"teatajapoliit\" | keyid==\"valiseesti\" | keyid==\"eestipost\" | keyid==\"vabaeestlane\" | keyid==\"vabaeestisona\" | keyid==\"meiekodu\" | keyid==\"voitleja\")"
   ]
  },
  {
   "cell_type": "code",
   "execution_count": 5,
   "id": "9ce41fe6",
   "metadata": {},
   "outputs": [],
   "source": [
    "# Search for lemmas\n",
    "searchterm <- \"balti\"\n",
    "searchfile <- \"balti_lemmas.txt\"\n",
    "do_subset_search(searchterm=searchterm, searchfile=searchfile, valiseesti_ajalehed, searchtype=\"lemmas\", source=\"pages\")"
   ]
  },
  {
   "cell_type": "code",
   "execution_count": 6,
   "id": "0ccc4f87",
   "metadata": {},
   "outputs": [
    {
     "name": "stderr",
     "output_type": "stream",
     "text": [
      "Warning message in data.table::fread(cmd = x, fill = T):\n",
      "“File '/tmp/RtmpAH8EaJ/filea5e0cf8615c' has size 0. Returning a NULL data.table.”\n"
     ]
    }
   ],
   "source": [
    "subset_meta <- get_subset_meta(valiseesti_ajalehed, source=\"pages\")"
   ]
  },
  {
   "cell_type": "code",
   "execution_count": 7,
   "id": "6f3c026d",
   "metadata": {},
   "outputs": [],
   "source": [
    "# Read lemma answers\n",
    "texts <- fread(\"balti_lemmas.txt\",header=F,sep=\"\\t\", quote=\"\")[,.(id=V1,lemmas=V2)]\n",
    "texts[,DocumentID:=str_extract(id,\"[^\\\\.]+\")]\n",
    "fileids_w_meta <- texts %>% select(id, DocumentID) %>% left_join(valiseesti_ajalehed %>% select(keyid,year,month,DocumentID, zippath_sections,zippath_pages),by=c(\"DocumentID\"))"
   ]
  },
  {
   "cell_type": "code",
   "execution_count": 8,
   "id": "52947784",
   "metadata": {},
   "outputs": [],
   "source": [
    "# Get matching files and merge with document\n",
    "get_matching_files(fileids_w_meta,\"balti_text_via_lemmas.txt\",\"pages\",\"text\")\n",
    "texts_matching <- fread(\"balti_text_via_lemmas.txt\",header=F,sep=\"\\t\", quote=\"\")[,.(id=V1,txt=V2)]\n",
    "text_and_lemmas <- merge(texts,texts_matching,by=\"id\")"
   ]
  },
  {
   "cell_type": "code",
   "execution_count": 9,
   "id": "d8321373",
   "metadata": {},
   "outputs": [],
   "source": [
    "sonad_aastad_balti <- fileids_w_meta %>% \n",
    "  count(year) %>% mutate(set=\"balti\")"
   ]
  },
  {
   "cell_type": "code",
   "execution_count": 10,
   "id": "b70512d6",
   "metadata": {},
   "outputs": [
    {
     "data": {
      "image/png": "[encoded data removed]",
      "text/plain": [
       "plot without title"
      ]
     },
     "metadata": {
      "image/png": {
       "height": 420,
       "width": 420
      }
     },
     "output_type": "display_data"
    }
   ],
   "source": [
    "ggplot(data = sonad_aastad_balti, aes(x = year, y = n)) +\n",
    "  geom_bar(stat = \"identity\", fill = \"turquoise\") +\n",
    "  labs(x = \"Aasta\",\n",
    "       y = \"Sagedus\",\n",
    "       title = \"Sõna 'balti' esinemissagedus väliseesti ajalehtedes\")"
   ]
  },
  {
   "cell_type": "code",
   "execution_count": 11,
   "id": "f5223783",
   "metadata": {},
   "outputs": [],
   "source": [
    "balti_concs <- get_concordances(searchterm=searchterm,texts=texts,before=50,after=50,txt=\"lemmas\",id=\"id\")"
   ]
  },
  {
   "cell_type": "code",
   "execution_count": 56,
   "id": "faef96ba",
   "metadata": {},
   "outputs": [],
   "source": [
    "# tekstifailiks tegemine\n",
    "balti_concs2 <- balti_concs[, !c(\"id\",\"nr\",\"begin\",\"end\", \"DocumentID\")]\n",
    "\n",
    "write.table(balti_concs2, \"balti_concs.txt\", sep=\"\\t\", quote = F, row.names = F)"
   ]
  },
  {
   "cell_type": "code",
   "execution_count": 12,
   "id": "f47eec75",
   "metadata": {},
   "outputs": [],
   "source": [
    "balti_trigrammid <- balti_concs %>% \n",
    "  unnest_tokens(word, context, token = \"ngrams\", n = 3, n_min = 3) %>% \n",
    "  count(word,sort=T)"
   ]
  },
  {
   "cell_type": "code",
   "execution_count": 16,
   "id": "688cac8c",
   "metadata": {},
   "outputs": [
    {
     "data": {
      "text/html": [
       "<table class=\"dataframe\">\n",
       "<caption>A data.table: 20 × 2</caption>\n",
       "<thead>\n",
       "\t<tr><th scope=col>word</th><th scope=col>n</th></tr>\n",
       "\t<tr><th scope=col>&lt;chr&gt;</th><th scope=col>&lt;int&gt;</th></tr>\n",
       "</thead>\n",
       "<tbody>\n",
       "\t<tr><td>ja teine balti           </td><td>2591</td></tr>\n",
       "\t<tr><td>teine balti riik         </td><td>2405</td></tr>\n",
       "\t<tr><td>kolm balti riik          </td><td>2233</td></tr>\n",
       "\t<tr><td>liidu liidud liit        </td><td>2199</td></tr>\n",
       "\t<tr><td>eesti ja teine           </td><td>1968</td></tr>\n",
       "\t<tr><td>balti riik küsimus       </td><td>1903</td></tr>\n",
       "\t<tr><td>n liidu liidud           </td><td>1632</td></tr>\n",
       "\t<tr><td>balti riik ja            </td><td>1452</td></tr>\n",
       "\t<tr><td>de baltiska baltiskas    </td><td>1360</td></tr>\n",
       "\t<tr><td>ka balti riik            </td><td>1149</td></tr>\n",
       "\t<tr><td>et balti riik            </td><td>1095</td></tr>\n",
       "\t<tr><td>läti ja leedu            </td><td>1036</td></tr>\n",
       "\t<tr><td>balti riik iseseisvus    </td><td>1032</td></tr>\n",
       "\t<tr><td>olema balti riik         </td><td>1022</td></tr>\n",
       "\t<tr><td>eesti läti ja            </td><td> 909</td></tr>\n",
       "\t<tr><td>balti riik annekteerimine</td><td> 891</td></tr>\n",
       "\t<tr><td>kolm balti rahvas        </td><td> 765</td></tr>\n",
       "\t<tr><td>ja balti riik            </td><td> 749</td></tr>\n",
       "\t<tr><td>kõik kolm balti          </td><td> 722</td></tr>\n",
       "\t<tr><td>balti riik suhtes        </td><td> 698</td></tr>\n",
       "</tbody>\n",
       "</table>\n"
      ],
      "text/latex": [
       "A data.table: 20 × 2\n",
       "\\begin{tabular}{ll}\n",
       " word & n\\\\\n",
       " <chr> & <int>\\\\\n",
       "\\hline\n",
       "\t ja teine balti            & 2591\\\\\n",
       "\t teine balti riik          & 2405\\\\\n",
       "\t kolm balti riik           & 2233\\\\\n",
       "\t liidu liidud liit         & 2199\\\\\n",
       "\t eesti ja teine            & 1968\\\\\n",
       "\t balti riik küsimus        & 1903\\\\\n",
       "\t n liidu liidud            & 1632\\\\\n",
       "\t balti riik ja             & 1452\\\\\n",
       "\t de baltiska baltiskas     & 1360\\\\\n",
       "\t ka balti riik             & 1149\\\\\n",
       "\t et balti riik             & 1095\\\\\n",
       "\t läti ja leedu             & 1036\\\\\n",
       "\t balti riik iseseisvus     & 1032\\\\\n",
       "\t olema balti riik          & 1022\\\\\n",
       "\t eesti läti ja             &  909\\\\\n",
       "\t balti riik annekteerimine &  891\\\\\n",
       "\t kolm balti rahvas         &  765\\\\\n",
       "\t ja balti riik             &  749\\\\\n",
       "\t kõik kolm balti           &  722\\\\\n",
       "\t balti riik suhtes         &  698\\\\\n",
       "\\end{tabular}\n"
      ],
      "text/markdown": [
       "\n",
       "A data.table: 20 × 2\n",
       "\n",
       "| word &lt;chr&gt; | n &lt;int&gt; |\n",
       "|---|---|\n",
       "| ja teine balti            | 2591 |\n",
       "| teine balti riik          | 2405 |\n",
       "| kolm balti riik           | 2233 |\n",
       "| liidu liidud liit         | 2199 |\n",
       "| eesti ja teine            | 1968 |\n",
       "| balti riik küsimus        | 1903 |\n",
       "| n liidu liidud            | 1632 |\n",
       "| balti riik ja             | 1452 |\n",
       "| de baltiska baltiskas     | 1360 |\n",
       "| ka balti riik             | 1149 |\n",
       "| et balti riik             | 1095 |\n",
       "| läti ja leedu             | 1036 |\n",
       "| balti riik iseseisvus     | 1032 |\n",
       "| olema balti riik          | 1022 |\n",
       "| eesti läti ja             |  909 |\n",
       "| balti riik annekteerimine |  891 |\n",
       "| kolm balti rahvas         |  765 |\n",
       "| ja balti riik             |  749 |\n",
       "| kõik kolm balti           |  722 |\n",
       "| balti riik suhtes         |  698 |\n",
       "\n"
      ],
      "text/plain": [
       "   word                      n   \n",
       "1  ja teine balti            2591\n",
       "2  teine balti riik          2405\n",
       "3  kolm balti riik           2233\n",
       "4  liidu liidud liit         2199\n",
       "5  eesti ja teine            1968\n",
       "6  balti riik küsimus        1903\n",
       "7  n liidu liidud            1632\n",
       "8  balti riik ja             1452\n",
       "9  de baltiska baltiskas     1360\n",
       "10 ka balti riik             1149\n",
       "11 et balti riik             1095\n",
       "12 läti ja leedu             1036\n",
       "13 balti riik iseseisvus     1032\n",
       "14 olema balti riik          1022\n",
       "15 eesti läti ja              909\n",
       "16 balti riik annekteerimine  891\n",
       "17 kolm balti rahvas          765\n",
       "18 ja balti riik              749\n",
       "19 kõik kolm balti            722\n",
       "20 balti riik suhtes          698"
      ]
     },
     "metadata": {},
     "output_type": "display_data"
    }
   ],
   "source": [
    "head(balti_trigrammid, 20)"
   ]
  },
  {
   "cell_type": "code",
   "execution_count": 17,
   "id": "18de4124",
   "metadata": {},
   "outputs": [],
   "source": [
    "balti_ngrammid <- balti_concs %>% \n",
    "  unnest_tokens(word, context, token = \"ngrams\", n = 3, n_min = 2) %>% \n",
    "  count(word,sort=T)"
   ]
  },
  {
   "cell_type": "code",
   "execution_count": 18,
   "id": "9bbc7495",
   "metadata": {},
   "outputs": [
    {
     "data": {
      "text/html": [
       "<table class=\"dataframe\">\n",
       "<caption>A data.table: 20 × 2</caption>\n",
       "<thead>\n",
       "\t<tr><th scope=col>word</th><th scope=col>n</th></tr>\n",
       "\t<tr><th scope=col>&lt;chr&gt;</th><th scope=col>&lt;int&gt;</th></tr>\n",
       "</thead>\n",
       "<tbody>\n",
       "\t<tr><td>balti riik        </td><td>35685</td></tr>\n",
       "\t<tr><td>balti rahvas      </td><td>10925</td></tr>\n",
       "\t<tr><td>kolm balti        </td><td> 4841</td></tr>\n",
       "\t<tr><td>ja balti          </td><td> 4318</td></tr>\n",
       "\t<tr><td>teine balti       </td><td> 4287</td></tr>\n",
       "\t<tr><td>balti vabariik    </td><td> 3680</td></tr>\n",
       "\t<tr><td>ja teine          </td><td> 3428</td></tr>\n",
       "\t<tr><td>olema balti       </td><td> 3348</td></tr>\n",
       "\t<tr><td>ka balti          </td><td> 3339</td></tr>\n",
       "\t<tr><td>eesti ja          </td><td> 3191</td></tr>\n",
       "\t<tr><td>balti komitee     </td><td> 3187</td></tr>\n",
       "\t<tr><td>et balti          </td><td> 2940</td></tr>\n",
       "\t<tr><td>ja teine balti    </td><td> 2591</td></tr>\n",
       "\t<tr><td>liidu liidud      </td><td> 2455</td></tr>\n",
       "\t<tr><td>teine balti riik  </td><td> 2405</td></tr>\n",
       "\t<tr><td>liidud liit       </td><td> 2385</td></tr>\n",
       "\t<tr><td>baltiska baltiskas</td><td> 2320</td></tr>\n",
       "\t<tr><td>kolm balti riik   </td><td> 2233</td></tr>\n",
       "\t<tr><td>liidu liidud liit </td><td> 2199</td></tr>\n",
       "\t<tr><td>balt balti        </td><td> 2111</td></tr>\n",
       "</tbody>\n",
       "</table>\n"
      ],
      "text/latex": [
       "A data.table: 20 × 2\n",
       "\\begin{tabular}{ll}\n",
       " word & n\\\\\n",
       " <chr> & <int>\\\\\n",
       "\\hline\n",
       "\t balti riik         & 35685\\\\\n",
       "\t balti rahvas       & 10925\\\\\n",
       "\t kolm balti         &  4841\\\\\n",
       "\t ja balti           &  4318\\\\\n",
       "\t teine balti        &  4287\\\\\n",
       "\t balti vabariik     &  3680\\\\\n",
       "\t ja teine           &  3428\\\\\n",
       "\t olema balti        &  3348\\\\\n",
       "\t ka balti           &  3339\\\\\n",
       "\t eesti ja           &  3191\\\\\n",
       "\t balti komitee      &  3187\\\\\n",
       "\t et balti           &  2940\\\\\n",
       "\t ja teine balti     &  2591\\\\\n",
       "\t liidu liidud       &  2455\\\\\n",
       "\t teine balti riik   &  2405\\\\\n",
       "\t liidud liit        &  2385\\\\\n",
       "\t baltiska baltiskas &  2320\\\\\n",
       "\t kolm balti riik    &  2233\\\\\n",
       "\t liidu liidud liit  &  2199\\\\\n",
       "\t balt balti         &  2111\\\\\n",
       "\\end{tabular}\n"
      ],
      "text/markdown": [
       "\n",
       "A data.table: 20 × 2\n",
       "\n",
       "| word &lt;chr&gt; | n &lt;int&gt; |\n",
       "|---|---|\n",
       "| balti riik         | 35685 |\n",
       "| balti rahvas       | 10925 |\n",
       "| kolm balti         |  4841 |\n",
       "| ja balti           |  4318 |\n",
       "| teine balti        |  4287 |\n",
       "| balti vabariik     |  3680 |\n",
       "| ja teine           |  3428 |\n",
       "| olema balti        |  3348 |\n",
       "| ka balti           |  3339 |\n",
       "| eesti ja           |  3191 |\n",
       "| balti komitee      |  3187 |\n",
       "| et balti           |  2940 |\n",
       "| ja teine balti     |  2591 |\n",
       "| liidu liidud       |  2455 |\n",
       "| teine balti riik   |  2405 |\n",
       "| liidud liit        |  2385 |\n",
       "| baltiska baltiskas |  2320 |\n",
       "| kolm balti riik    |  2233 |\n",
       "| liidu liidud liit  |  2199 |\n",
       "| balt balti         |  2111 |\n",
       "\n"
      ],
      "text/plain": [
       "   word               n    \n",
       "1  balti riik         35685\n",
       "2  balti rahvas       10925\n",
       "3  kolm balti          4841\n",
       "4  ja balti            4318\n",
       "5  teine balti         4287\n",
       "6  balti vabariik      3680\n",
       "7  ja teine            3428\n",
       "8  olema balti         3348\n",
       "9  ka balti            3339\n",
       "10 eesti ja            3191\n",
       "11 balti komitee       3187\n",
       "12 et balti            2940\n",
       "13 ja teine balti      2591\n",
       "14 liidu liidud        2455\n",
       "15 teine balti riik    2405\n",
       "16 liidud liit         2385\n",
       "17 baltiska baltiskas  2320\n",
       "18 kolm balti riik     2233\n",
       "19 liidu liidud liit   2199\n",
       "20 balt balti          2111"
      ]
     },
     "metadata": {},
     "output_type": "display_data"
    }
   ],
   "source": [
    "head(balti_ngrammid, 20)"
   ]
  },
  {
   "cell_type": "code",
   "execution_count": 19,
   "id": "1a82715e",
   "metadata": {},
   "outputs": [],
   "source": [
    "searchterm2 <- \"läti\"\n",
    "searchfile2 <- \"lati_lemmas.txt\"\n",
    "do_subset_search(searchterm=searchterm2, searchfile=searchfile2, valiseesti_ajalehed, searchtype=\"lemmas\", source=\"pages\")"
   ]
  },
  {
   "cell_type": "code",
   "execution_count": 20,
   "id": "f26a7854",
   "metadata": {},
   "outputs": [],
   "source": [
    "texts <- fread(\"lati_lemmas.txt\",header=F,sep=\"\\t\", quote=\"\")[,.(id=V1,lemmas=V2)]\n",
    "texts[,DocumentID:=str_extract(id,\"[^\\\\.]+\")]\n",
    "fileids_w_meta2 <- texts %>% select(id, DocumentID) %>% left_join(valiseesti_ajalehed %>% select(keyid,year,month,DocumentID, zippath_sections,zippath_pages),by=c(\"DocumentID\"))"
   ]
  },
  {
   "cell_type": "code",
   "execution_count": 22,
   "id": "834bb530",
   "metadata": {},
   "outputs": [],
   "source": [
    "lati_concs <- get_concordances(searchterm=searchterm2,texts=texts,before=50,after=50,txt=\"lemmas\",id=\"id\")"
   ]
  },
  {
   "cell_type": "code",
   "execution_count": 23,
   "id": "96d5b02f",
   "metadata": {},
   "outputs": [],
   "source": [
    "lati_trigrammid <- lati_concs %>% \n",
    "  unnest_tokens(word, context, token = \"ngrams\", n = 3, n_min = 3) %>% \n",
    "  count(word,sort=T)"
   ]
  },
  {
   "cell_type": "code",
   "execution_count": 24,
   "id": "ec81fcac",
   "metadata": {},
   "outputs": [
    {
     "data": {
      "text/html": [
       "<table class=\"dataframe\">\n",
       "<caption>A data.table: 20 × 2</caption>\n",
       "<thead>\n",
       "\t<tr><th scope=col>word</th><th scope=col>n</th></tr>\n",
       "\t<tr><th scope=col>&lt;chr&gt;</th><th scope=col>&lt;int&gt;</th></tr>\n",
       "</thead>\n",
       "<tbody>\n",
       "\t<tr><td>läti ja leedu          </td><td>3687</td></tr>\n",
       "\t<tr><td>eesti läti ja          </td><td>3044</td></tr>\n",
       "\t<tr><td>eesti ja läti          </td><td>1564</td></tr>\n",
       "\t<tr><td>eesti läti leedu       </td><td> 467</td></tr>\n",
       "\t<tr><td>läti ja eesti          </td><td> 339</td></tr>\n",
       "\t<tr><td>ja inglise keel        </td><td> 290</td></tr>\n",
       "\t<tr><td>läti leedu ja          </td><td> 286</td></tr>\n",
       "\t<tr><td>läti ja inglise        </td><td> 283</td></tr>\n",
       "\t<tr><td>ja leedu rahvas        </td><td> 275</td></tr>\n",
       "\t<tr><td>rääkima eesti läti     </td><td> 238</td></tr>\n",
       "\t<tr><td>tundma tuntud läti     </td><td> 226</td></tr>\n",
       "\t<tr><td>ka läti ja             </td><td> 222</td></tr>\n",
       "\t<tr><td>ja läti keel           </td><td> 212</td></tr>\n",
       "\t<tr><td>leedu ja läti          </td><td> 208</td></tr>\n",
       "\t<tr><td>keraamika rääkima eesti</td><td> 206</td></tr>\n",
       "\t<tr><td>ja leedu keel          </td><td> 205</td></tr>\n",
       "\t<tr><td>ja leedu rahvusgrupp   </td><td> 196</td></tr>\n",
       "\t<tr><td>ka eesti läti          </td><td> 166</td></tr>\n",
       "\t<tr><td>olema eesti läti       </td><td> 151</td></tr>\n",
       "\t<tr><td>läti leedu poola       </td><td> 142</td></tr>\n",
       "</tbody>\n",
       "</table>\n"
      ],
      "text/latex": [
       "A data.table: 20 × 2\n",
       "\\begin{tabular}{ll}\n",
       " word & n\\\\\n",
       " <chr> & <int>\\\\\n",
       "\\hline\n",
       "\t läti ja leedu           & 3687\\\\\n",
       "\t eesti läti ja           & 3044\\\\\n",
       "\t eesti ja läti           & 1564\\\\\n",
       "\t eesti läti leedu        &  467\\\\\n",
       "\t läti ja eesti           &  339\\\\\n",
       "\t ja inglise keel         &  290\\\\\n",
       "\t läti leedu ja           &  286\\\\\n",
       "\t läti ja inglise         &  283\\\\\n",
       "\t ja leedu rahvas         &  275\\\\\n",
       "\t rääkima eesti läti      &  238\\\\\n",
       "\t tundma tuntud läti      &  226\\\\\n",
       "\t ka läti ja              &  222\\\\\n",
       "\t ja läti keel            &  212\\\\\n",
       "\t leedu ja läti           &  208\\\\\n",
       "\t keraamika rääkima eesti &  206\\\\\n",
       "\t ja leedu keel           &  205\\\\\n",
       "\t ja leedu rahvusgrupp    &  196\\\\\n",
       "\t ka eesti läti           &  166\\\\\n",
       "\t olema eesti läti        &  151\\\\\n",
       "\t läti leedu poola        &  142\\\\\n",
       "\\end{tabular}\n"
      ],
      "text/markdown": [
       "\n",
       "A data.table: 20 × 2\n",
       "\n",
       "| word &lt;chr&gt; | n &lt;int&gt; |\n",
       "|---|---|\n",
       "| läti ja leedu           | 3687 |\n",
       "| eesti läti ja           | 3044 |\n",
       "| eesti ja läti           | 1564 |\n",
       "| eesti läti leedu        |  467 |\n",
       "| läti ja eesti           |  339 |\n",
       "| ja inglise keel         |  290 |\n",
       "| läti leedu ja           |  286 |\n",
       "| läti ja inglise         |  283 |\n",
       "| ja leedu rahvas         |  275 |\n",
       "| rääkima eesti läti      |  238 |\n",
       "| tundma tuntud läti      |  226 |\n",
       "| ka läti ja              |  222 |\n",
       "| ja läti keel            |  212 |\n",
       "| leedu ja läti           |  208 |\n",
       "| keraamika rääkima eesti |  206 |\n",
       "| ja leedu keel           |  205 |\n",
       "| ja leedu rahvusgrupp    |  196 |\n",
       "| ka eesti läti           |  166 |\n",
       "| olema eesti läti        |  151 |\n",
       "| läti leedu poola        |  142 |\n",
       "\n"
      ],
      "text/plain": [
       "   word                    n   \n",
       "1  läti ja leedu           3687\n",
       "2  eesti läti ja           3044\n",
       "3  eesti ja läti           1564\n",
       "4  eesti läti leedu         467\n",
       "5  läti ja eesti            339\n",
       "6  ja inglise keel          290\n",
       "7  läti leedu ja            286\n",
       "8  läti ja inglise          283\n",
       "9  ja leedu rahvas          275\n",
       "10 rääkima eesti läti       238\n",
       "11 tundma tuntud läti       226\n",
       "12 ka läti ja               222\n",
       "13 ja läti keel             212\n",
       "14 leedu ja läti            208\n",
       "15 keraamika rääkima eesti  206\n",
       "16 ja leedu keel            205\n",
       "17 ja leedu rahvusgrupp     196\n",
       "18 ka eesti läti            166\n",
       "19 olema eesti läti         151\n",
       "20 läti leedu poola         142"
      ]
     },
     "metadata": {},
     "output_type": "display_data"
    }
   ],
   "source": [
    "head(lati_trigrammid, 20)"
   ]
  },
  {
   "cell_type": "code",
   "execution_count": 25,
   "id": "17ca7e33",
   "metadata": {},
   "outputs": [],
   "source": [
    "lati_ngrammid <- lati_concs %>% \n",
    "  unnest_tokens(word, context, token = \"ngrams\", n = 3, n_min = 2) %>% \n",
    "  count(word,sort=T)"
   ]
  },
  {
   "cell_type": "code",
   "execution_count": 26,
   "id": "d40074c5",
   "metadata": {},
   "outputs": [
    {
     "data": {
      "text/html": [
       "<table class=\"dataframe\">\n",
       "<caption>A data.table: 20 × 2</caption>\n",
       "<thead>\n",
       "\t<tr><th scope=col>word</th><th scope=col>n</th></tr>\n",
       "\t<tr><th scope=col>&lt;chr&gt;</th><th scope=col>&lt;int&gt;</th></tr>\n",
       "</thead>\n",
       "<tbody>\n",
       "\t<tr><td>läti ja         </td><td>5327</td></tr>\n",
       "\t<tr><td>eesti läti      </td><td>4105</td></tr>\n",
       "\t<tr><td>ja leedu        </td><td>3898</td></tr>\n",
       "\t<tr><td>läti ja leedu   </td><td>3687</td></tr>\n",
       "\t<tr><td>ja läti         </td><td>3094</td></tr>\n",
       "\t<tr><td>eesti läti ja   </td><td>3044</td></tr>\n",
       "\t<tr><td>eesti ja        </td><td>1854</td></tr>\n",
       "\t<tr><td>läti keel       </td><td>1650</td></tr>\n",
       "\t<tr><td>eesti ja läti   </td><td>1564</td></tr>\n",
       "\t<tr><td>ka läti         </td><td> 927</td></tr>\n",
       "\t<tr><td>läti leedu      </td><td> 887</td></tr>\n",
       "\t<tr><td>olema läti      </td><td> 790</td></tr>\n",
       "\t<tr><td>ja eesti        </td><td> 585</td></tr>\n",
       "\t<tr><td>leedu ja        </td><td> 581</td></tr>\n",
       "\t<tr><td>läti rahvas     </td><td> 513</td></tr>\n",
       "\t<tr><td>üks läti        </td><td> 480</td></tr>\n",
       "\t<tr><td>eesti läti leedu</td><td> 467</td></tr>\n",
       "\t<tr><td>läti noor       </td><td> 465</td></tr>\n",
       "\t<tr><td>läti kogudus    </td><td> 404</td></tr>\n",
       "\t<tr><td>inglise keel    </td><td> 384</td></tr>\n",
       "</tbody>\n",
       "</table>\n"
      ],
      "text/latex": [
       "A data.table: 20 × 2\n",
       "\\begin{tabular}{ll}\n",
       " word & n\\\\\n",
       " <chr> & <int>\\\\\n",
       "\\hline\n",
       "\t läti ja          & 5327\\\\\n",
       "\t eesti läti       & 4105\\\\\n",
       "\t ja leedu         & 3898\\\\\n",
       "\t läti ja leedu    & 3687\\\\\n",
       "\t ja läti          & 3094\\\\\n",
       "\t eesti läti ja    & 3044\\\\\n",
       "\t eesti ja         & 1854\\\\\n",
       "\t läti keel        & 1650\\\\\n",
       "\t eesti ja läti    & 1564\\\\\n",
       "\t ka läti          &  927\\\\\n",
       "\t läti leedu       &  887\\\\\n",
       "\t olema läti       &  790\\\\\n",
       "\t ja eesti         &  585\\\\\n",
       "\t leedu ja         &  581\\\\\n",
       "\t läti rahvas      &  513\\\\\n",
       "\t üks läti         &  480\\\\\n",
       "\t eesti läti leedu &  467\\\\\n",
       "\t läti noor        &  465\\\\\n",
       "\t läti kogudus     &  404\\\\\n",
       "\t inglise keel     &  384\\\\\n",
       "\\end{tabular}\n"
      ],
      "text/markdown": [
       "\n",
       "A data.table: 20 × 2\n",
       "\n",
       "| word &lt;chr&gt; | n &lt;int&gt; |\n",
       "|---|---|\n",
       "| läti ja          | 5327 |\n",
       "| eesti läti       | 4105 |\n",
       "| ja leedu         | 3898 |\n",
       "| läti ja leedu    | 3687 |\n",
       "| ja läti          | 3094 |\n",
       "| eesti läti ja    | 3044 |\n",
       "| eesti ja         | 1854 |\n",
       "| läti keel        | 1650 |\n",
       "| eesti ja läti    | 1564 |\n",
       "| ka läti          |  927 |\n",
       "| läti leedu       |  887 |\n",
       "| olema läti       |  790 |\n",
       "| ja eesti         |  585 |\n",
       "| leedu ja         |  581 |\n",
       "| läti rahvas      |  513 |\n",
       "| üks läti         |  480 |\n",
       "| eesti läti leedu |  467 |\n",
       "| läti noor        |  465 |\n",
       "| läti kogudus     |  404 |\n",
       "| inglise keel     |  384 |\n",
       "\n"
      ],
      "text/plain": [
       "   word             n   \n",
       "1  läti ja          5327\n",
       "2  eesti läti       4105\n",
       "3  ja leedu         3898\n",
       "4  läti ja leedu    3687\n",
       "5  ja läti          3094\n",
       "6  eesti läti ja    3044\n",
       "7  eesti ja         1854\n",
       "8  läti keel        1650\n",
       "9  eesti ja läti    1564\n",
       "10 ka läti           927\n",
       "11 läti leedu        887\n",
       "12 olema läti        790\n",
       "13 ja eesti          585\n",
       "14 leedu ja          581\n",
       "15 läti rahvas       513\n",
       "16 üks läti          480\n",
       "17 eesti läti leedu  467\n",
       "18 läti noor         465\n",
       "19 läti kogudus      404\n",
       "20 inglise keel      384"
      ]
     },
     "metadata": {},
     "output_type": "display_data"
    }
   ],
   "source": [
    "head(lati_ngrammid, 20)"
   ]
  },
  {
   "cell_type": "code",
   "execution_count": 27,
   "id": "11a7d3e7",
   "metadata": {},
   "outputs": [],
   "source": [
    "searchterm3 <- \"leedu\"\n",
    "searchfile3 <- \"leedu_lemmas.txt\"\n",
    "do_subset_search(searchterm=searchterm3, searchfile=searchfile3, valiseesti_ajalehed, searchtype=\"lemmas\", source=\"pages\")"
   ]
  },
  {
   "cell_type": "code",
   "execution_count": 28,
   "id": "bdb24df0",
   "metadata": {},
   "outputs": [],
   "source": [
    "texts <- fread(\"leedu_lemmas.txt\",header=F,sep=\"\\t\", quote=\"\")[,.(id=V1,lemmas=V2)]\n",
    "texts[,DocumentID:=str_extract(id,\"[^\\\\.]+\")]\n",
    "fileids_w_meta3 <- texts %>% select(id, DocumentID) %>% left_join(valiseesti_ajalehed %>% select(keyid,year,month,DocumentID, zippath_sections,zippath_pages),by=c(\"DocumentID\"))"
   ]
  },
  {
   "cell_type": "code",
   "execution_count": 29,
   "id": "7f72cd55",
   "metadata": {},
   "outputs": [],
   "source": [
    "leedu_concs <- get_concordances(searchterm=searchterm3,texts=texts,before=50,after=50,txt=\"lemmas\",id=\"id\")"
   ]
  },
  {
   "cell_type": "code",
   "execution_count": 30,
   "id": "2e17c06a",
   "metadata": {},
   "outputs": [],
   "source": [
    "leedu_trigrammid <- leedu_concs %>% \n",
    "  unnest_tokens(word, context, token = \"ngrams\", n = 3, n_min = 3) %>% \n",
    "  count(word,sort=T)"
   ]
  },
  {
   "cell_type": "code",
   "execution_count": 31,
   "id": "1d4171d5",
   "metadata": {},
   "outputs": [
    {
     "data": {
      "text/html": [
       "<table class=\"dataframe\">\n",
       "<caption>A data.table: 20 × 2</caption>\n",
       "<thead>\n",
       "\t<tr><th scope=col>word</th><th scope=col>n</th></tr>\n",
       "\t<tr><th scope=col>&lt;chr&gt;</th><th scope=col>&lt;int&gt;</th></tr>\n",
       "</thead>\n",
       "<tbody>\n",
       "\t<tr><td>lätlane ja leedulane      </td><td>4743</td></tr>\n",
       "\t<tr><td>läti ja leedu             </td><td>3762</td></tr>\n",
       "\t<tr><td>eestlane lätlane ja       </td><td>2998</td></tr>\n",
       "\t<tr><td>eesti läti ja             </td><td>2568</td></tr>\n",
       "\t<tr><td>eestlane lätlane leedulane</td><td> 513</td></tr>\n",
       "\t<tr><td>ja leedulane olema        </td><td> 483</td></tr>\n",
       "\t<tr><td>eesti läti leedu          </td><td> 470</td></tr>\n",
       "\t<tr><td>lätlane leedulane ja      </td><td> 359</td></tr>\n",
       "\t<tr><td>ja leedu rahvas           </td><td> 328</td></tr>\n",
       "\t<tr><td>latt ja leedu             </td><td> 321</td></tr>\n",
       "\t<tr><td>eestlane ja leedulane     </td><td> 286</td></tr>\n",
       "\t<tr><td>läti leedu ja             </td><td> 285</td></tr>\n",
       "\t<tr><td>leedulane ja lätlane      </td><td> 284</td></tr>\n",
       "\t<tr><td>ja leedu keel             </td><td> 273</td></tr>\n",
       "\t<tr><td>liidu liidud liit         </td><td> 257</td></tr>\n",
       "\t<tr><td>ja leedulane kes          </td><td> 238</td></tr>\n",
       "\t<tr><td>ja leedu rahvusgrupp      </td><td> 232</td></tr>\n",
       "\t<tr><td>ka lätlane ja             </td><td> 226</td></tr>\n",
       "\t<tr><td>koos lätlane ja           </td><td> 220</td></tr>\n",
       "\t<tr><td>n liidu liidud            </td><td> 210</td></tr>\n",
       "</tbody>\n",
       "</table>\n"
      ],
      "text/latex": [
       "A data.table: 20 × 2\n",
       "\\begin{tabular}{ll}\n",
       " word & n\\\\\n",
       " <chr> & <int>\\\\\n",
       "\\hline\n",
       "\t lätlane ja leedulane       & 4743\\\\\n",
       "\t läti ja leedu              & 3762\\\\\n",
       "\t eestlane lätlane ja        & 2998\\\\\n",
       "\t eesti läti ja              & 2568\\\\\n",
       "\t eestlane lätlane leedulane &  513\\\\\n",
       "\t ja leedulane olema         &  483\\\\\n",
       "\t eesti läti leedu           &  470\\\\\n",
       "\t lätlane leedulane ja       &  359\\\\\n",
       "\t ja leedu rahvas            &  328\\\\\n",
       "\t latt ja leedu              &  321\\\\\n",
       "\t eestlane ja leedulane      &  286\\\\\n",
       "\t läti leedu ja              &  285\\\\\n",
       "\t leedulane ja lätlane       &  284\\\\\n",
       "\t ja leedu keel              &  273\\\\\n",
       "\t liidu liidud liit          &  257\\\\\n",
       "\t ja leedulane kes           &  238\\\\\n",
       "\t ja leedu rahvusgrupp       &  232\\\\\n",
       "\t ka lätlane ja              &  226\\\\\n",
       "\t koos lätlane ja            &  220\\\\\n",
       "\t n liidu liidud             &  210\\\\\n",
       "\\end{tabular}\n"
      ],
      "text/markdown": [
       "\n",
       "A data.table: 20 × 2\n",
       "\n",
       "| word &lt;chr&gt; | n &lt;int&gt; |\n",
       "|---|---|\n",
       "| lätlane ja leedulane       | 4743 |\n",
       "| läti ja leedu              | 3762 |\n",
       "| eestlane lätlane ja        | 2998 |\n",
       "| eesti läti ja              | 2568 |\n",
       "| eestlane lätlane leedulane |  513 |\n",
       "| ja leedulane olema         |  483 |\n",
       "| eesti läti leedu           |  470 |\n",
       "| lätlane leedulane ja       |  359 |\n",
       "| ja leedu rahvas            |  328 |\n",
       "| latt ja leedu              |  321 |\n",
       "| eestlane ja leedulane      |  286 |\n",
       "| läti leedu ja              |  285 |\n",
       "| leedulane ja lätlane       |  284 |\n",
       "| ja leedu keel              |  273 |\n",
       "| liidu liidud liit          |  257 |\n",
       "| ja leedulane kes           |  238 |\n",
       "| ja leedu rahvusgrupp       |  232 |\n",
       "| ka lätlane ja              |  226 |\n",
       "| koos lätlane ja            |  220 |\n",
       "| n liidu liidud             |  210 |\n",
       "\n"
      ],
      "text/plain": [
       "   word                       n   \n",
       "1  lätlane ja leedulane       4743\n",
       "2  läti ja leedu              3762\n",
       "3  eestlane lätlane ja        2998\n",
       "4  eesti läti ja              2568\n",
       "5  eestlane lätlane leedulane  513\n",
       "6  ja leedulane olema          483\n",
       "7  eesti läti leedu            470\n",
       "8  lätlane leedulane ja        359\n",
       "9  ja leedu rahvas             328\n",
       "10 latt ja leedu               321\n",
       "11 eestlane ja leedulane       286\n",
       "12 läti leedu ja               285\n",
       "13 leedulane ja lätlane        284\n",
       "14 ja leedu keel               273\n",
       "15 liidu liidud liit           257\n",
       "16 ja leedulane kes            238\n",
       "17 ja leedu rahvusgrupp        232\n",
       "18 ka lätlane ja               226\n",
       "19 koos lätlane ja             220\n",
       "20 n liidu liidud              210"
      ]
     },
     "metadata": {},
     "output_type": "display_data"
    }
   ],
   "source": [
    "head(leedu_trigrammid, 20)"
   ]
  },
  {
   "cell_type": "code",
   "execution_count": 32,
   "id": "c99ffd2a",
   "metadata": {},
   "outputs": [],
   "source": [
    "leedu_ngrammid <- leedu_concs %>% \n",
    "  unnest_tokens(word, context, token = \"ngrams\", n = 3, n_min = 2) %>% \n",
    "  count(word,sort=T)"
   ]
  },
  {
   "cell_type": "code",
   "execution_count": 33,
   "id": "6e65ff9f",
   "metadata": {},
   "outputs": [
    {
     "data": {
      "text/html": [
       "<table class=\"dataframe\">\n",
       "<caption>A data.table: 20 × 2</caption>\n",
       "<thead>\n",
       "\t<tr><th scope=col>word</th><th scope=col>n</th></tr>\n",
       "\t<tr><th scope=col>&lt;chr&gt;</th><th scope=col>&lt;int&gt;</th></tr>\n",
       "</thead>\n",
       "<tbody>\n",
       "\t<tr><td>ja leedulane        </td><td>6141</td></tr>\n",
       "\t<tr><td>lätlane ja          </td><td>5451</td></tr>\n",
       "\t<tr><td>ja leedu            </td><td>5201</td></tr>\n",
       "\t<tr><td>lätlane ja leedulane</td><td>4743</td></tr>\n",
       "\t<tr><td>läti ja             </td><td>4205</td></tr>\n",
       "\t<tr><td>läti ja leedu       </td><td>3762</td></tr>\n",
       "\t<tr><td>eestlane lätlane    </td><td>3712</td></tr>\n",
       "\t<tr><td>eesti läti          </td><td>3227</td></tr>\n",
       "\t<tr><td>eestlane lätlane ja </td><td>2998</td></tr>\n",
       "\t<tr><td>eesti läti ja       </td><td>2568</td></tr>\n",
       "\t<tr><td>leedulane ja        </td><td>1462</td></tr>\n",
       "\t<tr><td>leedulane olema     </td><td>1310</td></tr>\n",
       "\t<tr><td>lätlane leedulane   </td><td>1064</td></tr>\n",
       "\t<tr><td>leedu ja            </td><td> 950</td></tr>\n",
       "\t<tr><td>läti leedu          </td><td> 892</td></tr>\n",
       "\t<tr><td>leedu keel          </td><td> 797</td></tr>\n",
       "\t<tr><td>leedulane kes       </td><td> 674</td></tr>\n",
       "\t<tr><td>leedu rahvas        </td><td> 646</td></tr>\n",
       "\t<tr><td>olema leedulane     </td><td> 578</td></tr>\n",
       "\t<tr><td>kes olema           </td><td> 562</td></tr>\n",
       "</tbody>\n",
       "</table>\n"
      ],
      "text/latex": [
       "A data.table: 20 × 2\n",
       "\\begin{tabular}{ll}\n",
       " word & n\\\\\n",
       " <chr> & <int>\\\\\n",
       "\\hline\n",
       "\t ja leedulane         & 6141\\\\\n",
       "\t lätlane ja           & 5451\\\\\n",
       "\t ja leedu             & 5201\\\\\n",
       "\t lätlane ja leedulane & 4743\\\\\n",
       "\t läti ja              & 4205\\\\\n",
       "\t läti ja leedu        & 3762\\\\\n",
       "\t eestlane lätlane     & 3712\\\\\n",
       "\t eesti läti           & 3227\\\\\n",
       "\t eestlane lätlane ja  & 2998\\\\\n",
       "\t eesti läti ja        & 2568\\\\\n",
       "\t leedulane ja         & 1462\\\\\n",
       "\t leedulane olema      & 1310\\\\\n",
       "\t lätlane leedulane    & 1064\\\\\n",
       "\t leedu ja             &  950\\\\\n",
       "\t läti leedu           &  892\\\\\n",
       "\t leedu keel           &  797\\\\\n",
       "\t leedulane kes        &  674\\\\\n",
       "\t leedu rahvas         &  646\\\\\n",
       "\t olema leedulane      &  578\\\\\n",
       "\t kes olema            &  562\\\\\n",
       "\\end{tabular}\n"
      ],
      "text/markdown": [
       "\n",
       "A data.table: 20 × 2\n",
       "\n",
       "| word &lt;chr&gt; | n &lt;int&gt; |\n",
       "|---|---|\n",
       "| ja leedulane         | 6141 |\n",
       "| lätlane ja           | 5451 |\n",
       "| ja leedu             | 5201 |\n",
       "| lätlane ja leedulane | 4743 |\n",
       "| läti ja              | 4205 |\n",
       "| läti ja leedu        | 3762 |\n",
       "| eestlane lätlane     | 3712 |\n",
       "| eesti läti           | 3227 |\n",
       "| eestlane lätlane ja  | 2998 |\n",
       "| eesti läti ja        | 2568 |\n",
       "| leedulane ja         | 1462 |\n",
       "| leedulane olema      | 1310 |\n",
       "| lätlane leedulane    | 1064 |\n",
       "| leedu ja             |  950 |\n",
       "| läti leedu           |  892 |\n",
       "| leedu keel           |  797 |\n",
       "| leedulane kes        |  674 |\n",
       "| leedu rahvas         |  646 |\n",
       "| olema leedulane      |  578 |\n",
       "| kes olema            |  562 |\n",
       "\n"
      ],
      "text/plain": [
       "   word                 n   \n",
       "1  ja leedulane         6141\n",
       "2  lätlane ja           5451\n",
       "3  ja leedu             5201\n",
       "4  lätlane ja leedulane 4743\n",
       "5  läti ja              4205\n",
       "6  läti ja leedu        3762\n",
       "7  eestlane lätlane     3712\n",
       "8  eesti läti           3227\n",
       "9  eestlane lätlane ja  2998\n",
       "10 eesti läti ja        2568\n",
       "11 leedulane ja         1462\n",
       "12 leedulane olema      1310\n",
       "13 lätlane leedulane    1064\n",
       "14 leedu ja              950\n",
       "15 läti leedu            892\n",
       "16 leedu keel            797\n",
       "17 leedulane kes         674\n",
       "18 leedu rahvas          646\n",
       "19 olema leedulane       578\n",
       "20 kes olema             562"
      ]
     },
     "metadata": {},
     "output_type": "display_data"
    }
   ],
   "source": [
    "head(leedu_ngrammid, 20)"
   ]
  },
  {
   "cell_type": "code",
   "execution_count": 34,
   "id": "4a0efd50",
   "metadata": {},
   "outputs": [],
   "source": [
    "rootsi_ajalehed <- all_issues %>%\n",
    "    filter(DocumentType==\"NEWSPAPER\") %>%\n",
    "    filter(keyid==\"estdagbladet\" | keyid==\"eestiteatajastock\" | keyid==\"stockholmstid\" | keyid==\"teatajapoliit\" | keyid==\"valiseesti\")"
   ]
  },
  {
   "cell_type": "code",
   "execution_count": 35,
   "id": "761585e0",
   "metadata": {},
   "outputs": [],
   "source": [
    "searchterm <- \"balti\"\n",
    "searchfile <- \"balti_lemmas_rootsi.txt\"\n",
    "do_subset_search(searchterm=searchterm, searchfile=searchfile, rootsi_ajalehed, searchtype=\"lemmas\", source=\"pages\")"
   ]
  },
  {
   "cell_type": "code",
   "execution_count": 36,
   "id": "ee738c21",
   "metadata": {},
   "outputs": [],
   "source": [
    "texts <- fread(\"balti_lemmas_rootsi.txt\",header=F,sep=\"\\t\", quote=\"\")[,.(id=V1,lemmas=V2)]\n",
    "texts[,DocumentID:=str_extract(id,\"[^\\\\.]+\")]\n",
    "fileids_w_meta4 <- texts %>% select(id, DocumentID) %>% left_join(rootsi_ajalehed %>% select(keyid,year,month,DocumentID, zippath_sections,zippath_pages),by=c(\"DocumentID\"))"
   ]
  },
  {
   "cell_type": "code",
   "execution_count": 37,
   "id": "61c87ecc",
   "metadata": {},
   "outputs": [],
   "source": [
    "balti_concs_rootsi <- get_concordances(searchterm=searchterm,texts=texts,before=50,after=50,txt=\"lemmas\",id=\"id\")"
   ]
  },
  {
   "cell_type": "code",
   "execution_count": 38,
   "id": "6d153ff2",
   "metadata": {},
   "outputs": [],
   "source": [
    "balti_trigrammid_rootsi <- balti_concs_rootsi %>% \n",
    "  unnest_tokens(word, context, token = \"ngrams\", n = 3, n_min = 3) %>% \n",
    "  count(word,sort=T)"
   ]
  },
  {
   "cell_type": "code",
   "execution_count": 61,
   "id": "bc6de29e",
   "metadata": {},
   "outputs": [],
   "source": [
    "# tekstifailiks tegemine\n",
    "balti_concs_rootsi2 <- balti_concs_rootsi[, !c(\"id\",\"nr\",\"begin\",\"end\", \"DocumentID\")]\n",
    "\n",
    "write.table(balti_concs_rootsi2, \"balti_concs_rootsi.txt\", sep=\"\\t\", quote = F, row.names = F)"
   ]
  },
  {
   "cell_type": "code",
   "execution_count": 39,
   "id": "29132737",
   "metadata": {},
   "outputs": [
    {
     "data": {
      "text/html": [
       "<table class=\"dataframe\">\n",
       "<caption>A data.table: 20 × 2</caption>\n",
       "<thead>\n",
       "\t<tr><th scope=col>word</th><th scope=col>n</th></tr>\n",
       "\t<tr><th scope=col>&lt;chr&gt;</th><th scope=col>&lt;int&gt;</th></tr>\n",
       "</thead>\n",
       "<tbody>\n",
       "\t<tr><td>de baltiska baltiskas      </td><td>1353</td></tr>\n",
       "\t<tr><td>kolm balti riik            </td><td> 922</td></tr>\n",
       "\t<tr><td>teine balti riik           </td><td> 885</td></tr>\n",
       "\t<tr><td>ja teine balti             </td><td> 837</td></tr>\n",
       "\t<tr><td>liidu liidud liit          </td><td> 821</td></tr>\n",
       "\t<tr><td>eesti ja teine             </td><td> 627</td></tr>\n",
       "\t<tr><td>baltiska baltiskas staterna</td><td> 613</td></tr>\n",
       "\t<tr><td>n liidu liidud             </td><td> 612</td></tr>\n",
       "\t<tr><td>balti riik küsimus         </td><td> 604</td></tr>\n",
       "\t<tr><td>balti riik ja              </td><td> 554</td></tr>\n",
       "\t<tr><td>ka balti riik              </td><td> 459</td></tr>\n",
       "\t<tr><td>et balti riik              </td><td> 451</td></tr>\n",
       "\t<tr><td>balti riik iseseisvus      </td><td> 423</td></tr>\n",
       "\t<tr><td>olema balti riik           </td><td> 382</td></tr>\n",
       "\t<tr><td>balti riik annekteerimine  </td><td> 375</td></tr>\n",
       "\t<tr><td>eesti ja balti             </td><td> 362</td></tr>\n",
       "\t<tr><td>läti ja leedu              </td><td> 362</td></tr>\n",
       "\t<tr><td>balti riik okupeerimine    </td><td> 334</td></tr>\n",
       "\t<tr><td>eesti läti ja              </td><td> 319</td></tr>\n",
       "\t<tr><td>ja balti riik              </td><td> 290</td></tr>\n",
       "</tbody>\n",
       "</table>\n"
      ],
      "text/latex": [
       "A data.table: 20 × 2\n",
       "\\begin{tabular}{ll}\n",
       " word & n\\\\\n",
       " <chr> & <int>\\\\\n",
       "\\hline\n",
       "\t de baltiska baltiskas       & 1353\\\\\n",
       "\t kolm balti riik             &  922\\\\\n",
       "\t teine balti riik            &  885\\\\\n",
       "\t ja teine balti              &  837\\\\\n",
       "\t liidu liidud liit           &  821\\\\\n",
       "\t eesti ja teine              &  627\\\\\n",
       "\t baltiska baltiskas staterna &  613\\\\\n",
       "\t n liidu liidud              &  612\\\\\n",
       "\t balti riik küsimus          &  604\\\\\n",
       "\t balti riik ja               &  554\\\\\n",
       "\t ka balti riik               &  459\\\\\n",
       "\t et balti riik               &  451\\\\\n",
       "\t balti riik iseseisvus       &  423\\\\\n",
       "\t olema balti riik            &  382\\\\\n",
       "\t balti riik annekteerimine   &  375\\\\\n",
       "\t eesti ja balti              &  362\\\\\n",
       "\t läti ja leedu               &  362\\\\\n",
       "\t balti riik okupeerimine     &  334\\\\\n",
       "\t eesti läti ja               &  319\\\\\n",
       "\t ja balti riik               &  290\\\\\n",
       "\\end{tabular}\n"
      ],
      "text/markdown": [
       "\n",
       "A data.table: 20 × 2\n",
       "\n",
       "| word &lt;chr&gt; | n &lt;int&gt; |\n",
       "|---|---|\n",
       "| de baltiska baltiskas       | 1353 |\n",
       "| kolm balti riik             |  922 |\n",
       "| teine balti riik            |  885 |\n",
       "| ja teine balti              |  837 |\n",
       "| liidu liidud liit           |  821 |\n",
       "| eesti ja teine              |  627 |\n",
       "| baltiska baltiskas staterna |  613 |\n",
       "| n liidu liidud              |  612 |\n",
       "| balti riik küsimus          |  604 |\n",
       "| balti riik ja               |  554 |\n",
       "| ka balti riik               |  459 |\n",
       "| et balti riik               |  451 |\n",
       "| balti riik iseseisvus       |  423 |\n",
       "| olema balti riik            |  382 |\n",
       "| balti riik annekteerimine   |  375 |\n",
       "| eesti ja balti              |  362 |\n",
       "| läti ja leedu               |  362 |\n",
       "| balti riik okupeerimine     |  334 |\n",
       "| eesti läti ja               |  319 |\n",
       "| ja balti riik               |  290 |\n",
       "\n"
      ],
      "text/plain": [
       "   word                        n   \n",
       "1  de baltiska baltiskas       1353\n",
       "2  kolm balti riik              922\n",
       "3  teine balti riik             885\n",
       "4  ja teine balti               837\n",
       "5  liidu liidud liit            821\n",
       "6  eesti ja teine               627\n",
       "7  baltiska baltiskas staterna  613\n",
       "8  n liidu liidud               612\n",
       "9  balti riik küsimus           604\n",
       "10 balti riik ja                554\n",
       "11 ka balti riik                459\n",
       "12 et balti riik                451\n",
       "13 balti riik iseseisvus        423\n",
       "14 olema balti riik             382\n",
       "15 balti riik annekteerimine    375\n",
       "16 eesti ja balti               362\n",
       "17 läti ja leedu                362\n",
       "18 balti riik okupeerimine      334\n",
       "19 eesti läti ja                319\n",
       "20 ja balti riik                290"
      ]
     },
     "metadata": {},
     "output_type": "display_data"
    }
   ],
   "source": [
    "head(balti_trigrammid_rootsi, 20)"
   ]
  },
  {
   "cell_type": "code",
   "execution_count": 40,
   "id": "919ba3d2",
   "metadata": {},
   "outputs": [],
   "source": [
    "kanada_ajalehed <- all_issues %>%\n",
    "    filter(DocumentType==\"NEWSPAPER\") %>%\n",
    "    filter(keyid==\"vabaeestlane\" | keyid==\"voitleja\")"
   ]
  },
  {
   "cell_type": "code",
   "execution_count": 41,
   "id": "0abda200",
   "metadata": {},
   "outputs": [],
   "source": [
    "searchterm <- \"balti\"\n",
    "searchfile <- \"balti_lemmas_kanada.txt\"\n",
    "do_subset_search(searchterm=searchterm, searchfile=searchfile, kanada_ajalehed, searchtype=\"lemmas\", source=\"pages\")"
   ]
  },
  {
   "cell_type": "code",
   "execution_count": 42,
   "id": "1333d802",
   "metadata": {},
   "outputs": [],
   "source": [
    "texts <- fread(\"balti_lemmas_kanada.txt\",header=F,sep=\"\\t\", quote=\"\")[,.(id=V1,lemmas=V2)]\n",
    "texts[,DocumentID:=str_extract(id,\"[^\\\\.]+\")]\n",
    "fileids_w_meta5 <- texts %>% select(id, DocumentID) %>% left_join(kanada_ajalehed %>% select(keyid,year,month,DocumentID, zippath_sections,zippath_pages),by=c(\"DocumentID\"))"
   ]
  },
  {
   "cell_type": "code",
   "execution_count": 43,
   "id": "07951f3f",
   "metadata": {},
   "outputs": [],
   "source": [
    "balti_concs_kanada <- get_concordances(searchterm=searchterm,texts=texts,before=50,after=50,txt=\"lemmas\",id=\"id\")"
   ]
  },
  {
   "cell_type": "code",
   "execution_count": 44,
   "id": "fe103bda",
   "metadata": {},
   "outputs": [],
   "source": [
    "balti_trigrammid_kanada <- balti_concs_kanada %>% \n",
    "  unnest_tokens(word, context, token = \"ngrams\", n = 3, n_min = 3) %>% \n",
    "  count(word,sort=T)"
   ]
  },
  {
   "cell_type": "code",
   "execution_count": 62,
   "id": "11de02c7",
   "metadata": {},
   "outputs": [],
   "source": [
    "# tekstifailiks tegemine\n",
    "balti_concs_kanada2 <- balti_concs_kanada[, !c(\"id\",\"nr\",\"begin\",\"end\", \"DocumentID\")]\n",
    "\n",
    "write.table(balti_concs_kanada2, \"balti_concs_kanada.txt\", sep=\"\\t\", quote = F, row.names = F)"
   ]
  },
  {
   "cell_type": "code",
   "execution_count": 45,
   "id": "48712df5",
   "metadata": {},
   "outputs": [
    {
     "data": {
      "text/html": [
       "<table class=\"dataframe\">\n",
       "<caption>A data.table: 20 × 2</caption>\n",
       "<thead>\n",
       "\t<tr><th scope=col>word</th><th scope=col>n</th></tr>\n",
       "\t<tr><th scope=col>&lt;chr&gt;</th><th scope=col>&lt;int&gt;</th></tr>\n",
       "</thead>\n",
       "<tbody>\n",
       "\t<tr><td>liidu liidud liit        </td><td>702</td></tr>\n",
       "\t<tr><td>kolm balti riik          </td><td>682</td></tr>\n",
       "\t<tr><td>teine balti riik         </td><td>596</td></tr>\n",
       "\t<tr><td>ja teine balti           </td><td>548</td></tr>\n",
       "\t<tr><td>balti riik küsimus       </td><td>508</td></tr>\n",
       "\t<tr><td>n liidu liidud           </td><td>495</td></tr>\n",
       "\t<tr><td>balti riik ja            </td><td>449</td></tr>\n",
       "\t<tr><td>eesti ja teine           </td><td>378</td></tr>\n",
       "\t<tr><td>balti naine nõukogu      </td><td>343</td></tr>\n",
       "\t<tr><td>ka balti riik            </td><td>331</td></tr>\n",
       "\t<tr><td>et balti riik            </td><td>310</td></tr>\n",
       "\t<tr><td>läti ja leedu            </td><td>304</td></tr>\n",
       "\t<tr><td>olema balti riik         </td><td>297</td></tr>\n",
       "\t<tr><td>balti riik iseseisvus    </td><td>295</td></tr>\n",
       "\t<tr><td>eesti läti ja            </td><td>290</td></tr>\n",
       "\t<tr><td>balti riik annekteerimine</td><td>253</td></tr>\n",
       "\t<tr><td>kolm balti rahvas        </td><td>240</td></tr>\n",
       "\t<tr><td>kõik kolm balti          </td><td>225</td></tr>\n",
       "\t<tr><td>ja balti riik            </td><td>214</td></tr>\n",
       "\t<tr><td>balti riik suhtes        </td><td>195</td></tr>\n",
       "</tbody>\n",
       "</table>\n"
      ],
      "text/latex": [
       "A data.table: 20 × 2\n",
       "\\begin{tabular}{ll}\n",
       " word & n\\\\\n",
       " <chr> & <int>\\\\\n",
       "\\hline\n",
       "\t liidu liidud liit         & 702\\\\\n",
       "\t kolm balti riik           & 682\\\\\n",
       "\t teine balti riik          & 596\\\\\n",
       "\t ja teine balti            & 548\\\\\n",
       "\t balti riik küsimus        & 508\\\\\n",
       "\t n liidu liidud            & 495\\\\\n",
       "\t balti riik ja             & 449\\\\\n",
       "\t eesti ja teine            & 378\\\\\n",
       "\t balti naine nõukogu       & 343\\\\\n",
       "\t ka balti riik             & 331\\\\\n",
       "\t et balti riik             & 310\\\\\n",
       "\t läti ja leedu             & 304\\\\\n",
       "\t olema balti riik          & 297\\\\\n",
       "\t balti riik iseseisvus     & 295\\\\\n",
       "\t eesti läti ja             & 290\\\\\n",
       "\t balti riik annekteerimine & 253\\\\\n",
       "\t kolm balti rahvas         & 240\\\\\n",
       "\t kõik kolm balti           & 225\\\\\n",
       "\t ja balti riik             & 214\\\\\n",
       "\t balti riik suhtes         & 195\\\\\n",
       "\\end{tabular}\n"
      ],
      "text/markdown": [
       "\n",
       "A data.table: 20 × 2\n",
       "\n",
       "| word &lt;chr&gt; | n &lt;int&gt; |\n",
       "|---|---|\n",
       "| liidu liidud liit         | 702 |\n",
       "| kolm balti riik           | 682 |\n",
       "| teine balti riik          | 596 |\n",
       "| ja teine balti            | 548 |\n",
       "| balti riik küsimus        | 508 |\n",
       "| n liidu liidud            | 495 |\n",
       "| balti riik ja             | 449 |\n",
       "| eesti ja teine            | 378 |\n",
       "| balti naine nõukogu       | 343 |\n",
       "| ka balti riik             | 331 |\n",
       "| et balti riik             | 310 |\n",
       "| läti ja leedu             | 304 |\n",
       "| olema balti riik          | 297 |\n",
       "| balti riik iseseisvus     | 295 |\n",
       "| eesti läti ja             | 290 |\n",
       "| balti riik annekteerimine | 253 |\n",
       "| kolm balti rahvas         | 240 |\n",
       "| kõik kolm balti           | 225 |\n",
       "| ja balti riik             | 214 |\n",
       "| balti riik suhtes         | 195 |\n",
       "\n"
      ],
      "text/plain": [
       "   word                      n  \n",
       "1  liidu liidud liit         702\n",
       "2  kolm balti riik           682\n",
       "3  teine balti riik          596\n",
       "4  ja teine balti            548\n",
       "5  balti riik küsimus        508\n",
       "6  n liidu liidud            495\n",
       "7  balti riik ja             449\n",
       "8  eesti ja teine            378\n",
       "9  balti naine nõukogu       343\n",
       "10 ka balti riik             331\n",
       "11 et balti riik             310\n",
       "12 läti ja leedu             304\n",
       "13 olema balti riik          297\n",
       "14 balti riik iseseisvus     295\n",
       "15 eesti läti ja             290\n",
       "16 balti riik annekteerimine 253\n",
       "17 kolm balti rahvas         240\n",
       "18 kõik kolm balti           225\n",
       "19 ja balti riik             214\n",
       "20 balti riik suhtes         195"
      ]
     },
     "metadata": {},
     "output_type": "display_data"
    }
   ],
   "source": [
    "head(balti_trigrammid_kanada, 20)"
   ]
  },
  {
   "cell_type": "code",
   "execution_count": 46,
   "id": "aa998146",
   "metadata": {},
   "outputs": [],
   "source": [
    "usa_ajalehed <- all_issues %>%\n",
    "    filter(DocumentType==\"NEWSPAPER\") %>%\n",
    "    filter(keyid==\"vabaeestisona\")"
   ]
  },
  {
   "cell_type": "code",
   "execution_count": 52,
   "id": "a0f0b326",
   "metadata": {},
   "outputs": [],
   "source": [
    "searchterm <- \"balti\"\n",
    "searchfile <- \"balti_lemmas_usa.txt\"\n",
    "do_subset_search(searchterm=searchterm, searchfile=searchfile, usa_ajalehed, searchtype=\"lemmas\", source=\"pages\")"
   ]
  },
  {
   "cell_type": "code",
   "execution_count": 53,
   "id": "a949456a",
   "metadata": {},
   "outputs": [],
   "source": [
    "texts <- fread(\"balti_lemmas_usa.txt\",header=F,sep=\"\\t\", quote=\"\")[,.(id=V1,lemmas=V2)]\n",
    "texts[,DocumentID:=str_extract(id,\"[^\\\\.]+\")]\n",
    "fileids_w_meta5 <- texts %>% select(id, DocumentID) %>% left_join(usa_ajalehed %>% select(keyid,year,month,DocumentID, zippath_sections,zippath_pages),by=c(\"DocumentID\"))"
   ]
  },
  {
   "cell_type": "code",
   "execution_count": 54,
   "id": "62e80fc4",
   "metadata": {},
   "outputs": [],
   "source": [
    "balti_concs_usa <- get_concordances(searchterm=searchterm,texts=texts,before=50,after=50,txt=\"lemmas\",id=\"id\")"
   ]
  },
  {
   "cell_type": "code",
   "execution_count": 55,
   "id": "fa1c4e11",
   "metadata": {},
   "outputs": [],
   "source": [
    "balti_trigrammid_usa <- balti_concs_usa %>% \n",
    "  unnest_tokens(word, context, token = \"ngrams\", n = 3, n_min = 3) %>% \n",
    "  count(word,sort=T)"
   ]
  },
  {
   "cell_type": "code",
   "execution_count": 56,
   "id": "d32e77b9",
   "metadata": {},
   "outputs": [
    {
     "data": {
      "text/html": [
       "<table class=\"dataframe\">\n",
       "<caption>A data.table: 20 × 2</caption>\n",
       "<thead>\n",
       "\t<tr><th scope=col>word</th><th scope=col>n</th></tr>\n",
       "\t<tr><th scope=col>&lt;chr&gt;</th><th scope=col>&lt;int&gt;</th></tr>\n",
       "</thead>\n",
       "<tbody>\n",
       "\t<tr><td>ja teine balti           </td><td>1172</td></tr>\n",
       "\t<tr><td>eesti ja teine           </td><td> 947</td></tr>\n",
       "\t<tr><td>teine balti riik         </td><td> 892</td></tr>\n",
       "\t<tr><td>balti riik küsimus       </td><td> 776</td></tr>\n",
       "\t<tr><td>liidu liidud liit        </td><td> 646</td></tr>\n",
       "\t<tr><td>kolm balti riik          </td><td> 591</td></tr>\n",
       "\t<tr><td>n liidu liidud           </td><td> 509</td></tr>\n",
       "\t<tr><td>balti riik ja            </td><td> 423</td></tr>\n",
       "\t<tr><td>läti ja leedu            </td><td> 354</td></tr>\n",
       "\t<tr><td>ka balti riik            </td><td> 344</td></tr>\n",
       "\t<tr><td>olema balti riik         </td><td> 328</td></tr>\n",
       "\t<tr><td>et balti riik            </td><td> 319</td></tr>\n",
       "\t<tr><td>balti riik iseseisvus    </td><td> 305</td></tr>\n",
       "\t<tr><td>teine balti vabariik     </td><td> 303</td></tr>\n",
       "\t<tr><td>kolm balti vabariik      </td><td> 298</td></tr>\n",
       "\t<tr><td>eesti läti ja            </td><td> 284</td></tr>\n",
       "\t<tr><td>balti riik suhtes        </td><td> 253</td></tr>\n",
       "\t<tr><td>balti riik annekteerimine</td><td> 250</td></tr>\n",
       "\t<tr><td>ja balti riik            </td><td> 238</td></tr>\n",
       "\t<tr><td>balti rahvus naine       </td><td> 213</td></tr>\n",
       "</tbody>\n",
       "</table>\n"
      ],
      "text/latex": [
       "A data.table: 20 × 2\n",
       "\\begin{tabular}{ll}\n",
       " word & n\\\\\n",
       " <chr> & <int>\\\\\n",
       "\\hline\n",
       "\t ja teine balti            & 1172\\\\\n",
       "\t eesti ja teine            &  947\\\\\n",
       "\t teine balti riik          &  892\\\\\n",
       "\t balti riik küsimus        &  776\\\\\n",
       "\t liidu liidud liit         &  646\\\\\n",
       "\t kolm balti riik           &  591\\\\\n",
       "\t n liidu liidud            &  509\\\\\n",
       "\t balti riik ja             &  423\\\\\n",
       "\t läti ja leedu             &  354\\\\\n",
       "\t ka balti riik             &  344\\\\\n",
       "\t olema balti riik          &  328\\\\\n",
       "\t et balti riik             &  319\\\\\n",
       "\t balti riik iseseisvus     &  305\\\\\n",
       "\t teine balti vabariik      &  303\\\\\n",
       "\t kolm balti vabariik       &  298\\\\\n",
       "\t eesti läti ja             &  284\\\\\n",
       "\t balti riik suhtes         &  253\\\\\n",
       "\t balti riik annekteerimine &  250\\\\\n",
       "\t ja balti riik             &  238\\\\\n",
       "\t balti rahvus naine        &  213\\\\\n",
       "\\end{tabular}\n"
      ],
      "text/markdown": [
       "\n",
       "A data.table: 20 × 2\n",
       "\n",
       "| word &lt;chr&gt; | n &lt;int&gt; |\n",
       "|---|---|\n",
       "| ja teine balti            | 1172 |\n",
       "| eesti ja teine            |  947 |\n",
       "| teine balti riik          |  892 |\n",
       "| balti riik küsimus        |  776 |\n",
       "| liidu liidud liit         |  646 |\n",
       "| kolm balti riik           |  591 |\n",
       "| n liidu liidud            |  509 |\n",
       "| balti riik ja             |  423 |\n",
       "| läti ja leedu             |  354 |\n",
       "| ka balti riik             |  344 |\n",
       "| olema balti riik          |  328 |\n",
       "| et balti riik             |  319 |\n",
       "| balti riik iseseisvus     |  305 |\n",
       "| teine balti vabariik      |  303 |\n",
       "| kolm balti vabariik       |  298 |\n",
       "| eesti läti ja             |  284 |\n",
       "| balti riik suhtes         |  253 |\n",
       "| balti riik annekteerimine |  250 |\n",
       "| ja balti riik             |  238 |\n",
       "| balti rahvus naine        |  213 |\n",
       "\n"
      ],
      "text/plain": [
       "   word                      n   \n",
       "1  ja teine balti            1172\n",
       "2  eesti ja teine             947\n",
       "3  teine balti riik           892\n",
       "4  balti riik küsimus         776\n",
       "5  liidu liidud liit          646\n",
       "6  kolm balti riik            591\n",
       "7  n liidu liidud             509\n",
       "8  balti riik ja              423\n",
       "9  läti ja leedu              354\n",
       "10 ka balti riik              344\n",
       "11 olema balti riik           328\n",
       "12 et balti riik              319\n",
       "13 balti riik iseseisvus      305\n",
       "14 teine balti vabariik       303\n",
       "15 kolm balti vabariik        298\n",
       "16 eesti läti ja              284\n",
       "17 balti riik suhtes          253\n",
       "18 balti riik annekteerimine  250\n",
       "19 ja balti riik              238\n",
       "20 balti rahvus naine         213"
      ]
     },
     "metadata": {},
     "output_type": "display_data"
    }
   ],
   "source": [
    "head(balti_trigrammid_usa, 20)"
   ]
  },
  {
   "cell_type": "code",
   "execution_count": 57,
   "id": "a6cdd472",
   "metadata": {},
   "outputs": [],
   "source": [
    "austraalia_ajalehed <- all_issues %>%\n",
    "    filter(DocumentType==\"NEWSPAPER\") %>%\n",
    "    filter(keyid==\"meiekodu\")"
   ]
  },
  {
   "cell_type": "code",
   "execution_count": 59,
   "id": "7c86e523",
   "metadata": {},
   "outputs": [],
   "source": [
    "searchterm <- \"balti\"\n",
    "searchfile <- \"balti_lemmas_austraalia.txt\"\n",
    "do_subset_search(searchterm=searchterm, searchfile=searchfile, austraalia_ajalehed, searchtype=\"lemmas\", source=\"pages\")\n",
    "\n",
    "# tagasi tuleb tühi fail, kuna Austraalia ajalehel ei ole lehekülgi"
   ]
  }
 ],
 "metadata": {
  "kernelspec": {
   "display_name": "R 4.1.2",
   "language": "R",
   "name": "ir4-1"
  },
  "language_info": {
   "codemirror_mode": "r",
   "file_extension": ".r",
   "mimetype": "text/x-r-source",
   "name": "R",
   "pygments_lexer": "r",
   "version": "4.1.2"
  }
 },
 "nbformat": 4,
 "nbformat_minor": 5
}
