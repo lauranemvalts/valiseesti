{
 "cells": [
  {
   "cell_type": "code",
   "execution_count": 1,
   "id": "3dc0abe2",
   "metadata": {},
   "outputs": [
    {
     "name": "stderr",
     "output_type": "stream",
     "text": [
      "Downloading GitHub repo peeter-t2/digar.txts@HEAD\n",
      "\n"
     ]
    },
    {
     "name": "stdout",
     "output_type": "stream",
     "text": [
      "* checking for file ‘/tmp/Rtmp1XVjkN/remotesfb6878c2635d/peeter-t2-digar.txts-b87e10a/DESCRIPTION’ ... OK\n",
      "* preparing ‘digar.txts’:\n",
      "* checking DESCRIPTION meta-information ... OK\n",
      "* checking for LF line-endings in source and make files and shell scripts\n",
      "* checking for empty or unneeded directories\n",
      "Omitted ‘LazyData’ from DESCRIPTION\n",
      "* building ‘digar.txts_0.0.0.9100.tar.gz’\n",
      "Warning in sprintf(gettext(fmt, domain = domain), ...) :\n",
      "  one argument not used by format 'invalid uid value replaced by that for user 'nobody''\n",
      "Warning: invalid uid value replaced by that for user 'nobody'\n",
      "\n"
     ]
    },
    {
     "name": "stderr",
     "output_type": "stream",
     "text": [
      "Loading required package: data.table\n",
      "\n"
     ]
    }
   ],
   "source": [
    "remotes::install_github(\"peeter-t2/digar.txts\",lib=\"R_pckg/\",upgrade=\"never\")\n",
    "library(digar.txts,lib.loc=\"R_pckg/\")"
   ]
  },
  {
   "cell_type": "code",
   "execution_count": 2,
   "id": "aa0a1e89",
   "metadata": {},
   "outputs": [
    {
     "name": "stderr",
     "output_type": "stream",
     "text": [
      "── \u001b[1mAttaching packages\u001b[22m ─────────────────────────────────────── tidyverse 1.3.1 ──\n",
      "\n",
      "\u001b[32m✔\u001b[39m \u001b[34mggplot2\u001b[39m 3.3.5     \u001b[32m✔\u001b[39m \u001b[34mpurrr  \u001b[39m 0.3.4\n",
      "\u001b[32m✔\u001b[39m \u001b[34mtibble \u001b[39m 3.1.6     \u001b[32m✔\u001b[39m \u001b[34mdplyr  \u001b[39m 1.0.8\n",
      "\u001b[32m✔\u001b[39m \u001b[34mtidyr  \u001b[39m 1.2.0     \u001b[32m✔\u001b[39m \u001b[34mstringr\u001b[39m 1.4.0\n",
      "\u001b[32m✔\u001b[39m \u001b[34mreadr  \u001b[39m 2.1.2     \u001b[32m✔\u001b[39m \u001b[34mforcats\u001b[39m 0.5.1\n",
      "\n",
      "── \u001b[1mConflicts\u001b[22m ────────────────────────────────────────── tidyverse_conflicts() ──\n",
      "\u001b[31m✖\u001b[39m \u001b[34mdplyr\u001b[39m::\u001b[32mbetween()\u001b[39m   masks \u001b[34mdata.table\u001b[39m::between()\n",
      "\u001b[31m✖\u001b[39m \u001b[34mdplyr\u001b[39m::\u001b[32mfilter()\u001b[39m    masks \u001b[34mstats\u001b[39m::filter()\n",
      "\u001b[31m✖\u001b[39m \u001b[34mdplyr\u001b[39m::\u001b[32mfirst()\u001b[39m     masks \u001b[34mdata.table\u001b[39m::first()\n",
      "\u001b[31m✖\u001b[39m \u001b[34mdplyr\u001b[39m::\u001b[32mlag()\u001b[39m       masks \u001b[34mstats\u001b[39m::lag()\n",
      "\u001b[31m✖\u001b[39m \u001b[34mdplyr\u001b[39m::\u001b[32mlast()\u001b[39m      masks \u001b[34mdata.table\u001b[39m::last()\n",
      "\u001b[31m✖\u001b[39m \u001b[34mpurrr\u001b[39m::\u001b[32mtranspose()\u001b[39m masks \u001b[34mdata.table\u001b[39m::transpose()\n",
      "\n"
     ]
    }
   ],
   "source": [
    "library(tidyverse)\n",
    "install.packages('tidytext', lib='~/R_pckg')\n",
    "library(tidytext, lib.loc='~/R_pckg')"
   ]
  },
  {
   "cell_type": "code",
   "execution_count": 3,
   "id": "90e9ee69",
   "metadata": {},
   "outputs": [
    {
     "name": "stdout",
     "output_type": "stream",
     "text": [
      "[1] \"Issue metadata read\"\n"
     ]
    }
   ],
   "source": [
    "all_issues <- get_digar_overview()"
   ]
  },
  {
   "cell_type": "code",
   "execution_count": 4,
   "id": "0dcbb125",
   "metadata": {},
   "outputs": [],
   "source": [
    "valiseesti_ajalehed <- all_issues %>%\n",
    "    filter(DocumentType==\"NEWSPAPER\") %>%\n",
    "    filter(keyid==\"estdagbladet\" | keyid==\"eestiteatajastock\" | keyid==\"stockholmstid\" | keyid==\"teatajapoliit\" | keyid==\"valiseesti\" | keyid==\"eestipost\" | keyid==\"vabaeestlane\" | keyid==\"vabaeestisona\" | keyid==\"meiekodu\" | keyid==\"voitleja\")"
   ]
  },
  {
   "cell_type": "code",
   "execution_count": 5,
   "id": "623aa848",
   "metadata": {},
   "outputs": [
    {
     "data": {
      "text/html": [
       "<table class=\"dataframe\">\n",
       "<caption>A data.table: 5 × 60</caption>\n",
       "<thead>\n",
       "\t<tr><th scope=col>DocumentID</th><th scope=col>keyid</th><th scope=col>attrs</th><th scope=col>DocumentDate</th><th scope=col>DocumentTitle</th><th scope=col>DocumentType</th><th scope=col>series</th><th scope=col>DocumentNumber</th><th scope=col>DocumentVolume</th><th scope=col>pages</th><th scope=col>⋯</th><th scope=col>n_pages</th><th scope=col>n_articles_lemmas</th><th scope=col>n_pages_lemmas</th><th scope=col>n_articles_metadata</th><th scope=col>n_pages_metadata</th><th scope=col>pages_exist</th><th scope=col>sections_exist</th><th scope=col>decade</th><th scope=col>zippath_pages_meta</th><th scope=col>zippath_sections_meta</th></tr>\n",
       "\t<tr><th scope=col>&lt;chr&gt;</th><th scope=col>&lt;chr&gt;</th><th scope=col>&lt;int&gt;</th><th scope=col>&lt;chr&gt;</th><th scope=col>&lt;chr&gt;</th><th scope=col>&lt;chr&gt;</th><th scope=col>&lt;chr&gt;</th><th scope=col>&lt;chr&gt;</th><th scope=col>&lt;chr&gt;</th><th scope=col>&lt;chr&gt;</th><th scope=col>⋯</th><th scope=col>&lt;int&gt;</th><th scope=col>&lt;int&gt;</th><th scope=col>&lt;int&gt;</th><th scope=col>&lt;int&gt;</th><th scope=col>&lt;int&gt;</th><th scope=col>&lt;lgl&gt;</th><th scope=col>&lt;lgl&gt;</th><th scope=col>&lt;int&gt;</th><th scope=col>&lt;chr&gt;</th><th scope=col>&lt;chr&gt;</th></tr>\n",
       "</thead>\n",
       "<tbody>\n",
       "\t<tr><td>eestipost19451106</td><td>eestipost</td><td>1</td><td>6 november 1945 </td><td>Eesti Post = Estonian Post : Estonian Newspaper</td><td>NEWSPAPER</td><td>staging/all_pubs/all_vols_eestipost.xml</td><td></td><td></td><td>staging/all_pubs/all_vols_eestipost.xml.tsv</td><td>⋯</td><td>6</td><td>NA</td><td>6</td><td>0</td><td>6</td><td>TRUE</td><td>NA</td><td>1940</td><td>eestipost/eestipost_1940_pages_meta.zip</td><td></td></tr>\n",
       "\t<tr><td>eestipost19451110</td><td>eestipost</td><td>2</td><td>10 november 1945</td><td>Eesti Post = Estonian Post : Estonian Newspaper</td><td>NEWSPAPER</td><td>staging/all_pubs/all_vols_eestipost.xml</td><td></td><td></td><td>staging/all_pubs/all_vols_eestipost.xml.tsv</td><td>⋯</td><td>8</td><td>NA</td><td>8</td><td>0</td><td>8</td><td>TRUE</td><td>NA</td><td>1940</td><td>eestipost/eestipost_1940_pages_meta.zip</td><td></td></tr>\n",
       "\t<tr><td>eestipost19451113</td><td>eestipost</td><td>3</td><td>13 november 1945</td><td>Eesti Post = Estonian Post : Estonian Newspaper</td><td>NEWSPAPER</td><td>staging/all_pubs/all_vols_eestipost.xml</td><td></td><td></td><td>staging/all_pubs/all_vols_eestipost.xml.tsv</td><td>⋯</td><td>6</td><td>NA</td><td>6</td><td>0</td><td>6</td><td>TRUE</td><td>NA</td><td>1940</td><td>eestipost/eestipost_1940_pages_meta.zip</td><td></td></tr>\n",
       "\t<tr><td>eestipost19451115</td><td>eestipost</td><td>4</td><td>15 november 1945</td><td>Eesti Post = Estonian Post : Estonian Newspaper</td><td>NEWSPAPER</td><td>staging/all_pubs/all_vols_eestipost.xml</td><td></td><td></td><td>staging/all_pubs/all_vols_eestipost.xml.tsv</td><td>⋯</td><td>6</td><td>NA</td><td>6</td><td>0</td><td>6</td><td>TRUE</td><td>NA</td><td>1940</td><td>eestipost/eestipost_1940_pages_meta.zip</td><td></td></tr>\n",
       "\t<tr><td>eestipost19451117</td><td>eestipost</td><td>5</td><td>17 november 1945</td><td>Eesti Post = Estonian Post : Estonian Newspaper</td><td>NEWSPAPER</td><td>staging/all_pubs/all_vols_eestipost.xml</td><td></td><td></td><td>staging/all_pubs/all_vols_eestipost.xml.tsv</td><td>⋯</td><td>6</td><td>NA</td><td>6</td><td>0</td><td>6</td><td>TRUE</td><td>NA</td><td>1940</td><td>eestipost/eestipost_1940_pages_meta.zip</td><td></td></tr>\n",
       "</tbody>\n",
       "</table>\n"
      ],
      "text/latex": [
       "A data.table: 5 × 60\n",
       "\\begin{tabular}{lllllllllllllllllllll}\n",
       " DocumentID & keyid & attrs & DocumentDate & DocumentTitle & DocumentType & series & DocumentNumber & DocumentVolume & pages & ⋯ & n\\_pages & n\\_articles\\_lemmas & n\\_pages\\_lemmas & n\\_articles\\_metadata & n\\_pages\\_metadata & pages\\_exist & sections\\_exist & decade & zippath\\_pages\\_meta & zippath\\_sections\\_meta\\\\\n",
       " <chr> & <chr> & <int> & <chr> & <chr> & <chr> & <chr> & <chr> & <chr> & <chr> & ⋯ & <int> & <int> & <int> & <int> & <int> & <lgl> & <lgl> & <int> & <chr> & <chr>\\\\\n",
       "\\hline\n",
       "\t eestipost19451106 & eestipost & 1 & 6 november 1945  & Eesti Post = Estonian Post : Estonian Newspaper & NEWSPAPER & staging/all\\_pubs/all\\_vols\\_eestipost.xml &  &  & staging/all\\_pubs/all\\_vols\\_eestipost.xml.tsv & ⋯ & 6 & NA & 6 & 0 & 6 & TRUE & NA & 1940 & eestipost/eestipost\\_1940\\_pages\\_meta.zip & \\\\\n",
       "\t eestipost19451110 & eestipost & 2 & 10 november 1945 & Eesti Post = Estonian Post : Estonian Newspaper & NEWSPAPER & staging/all\\_pubs/all\\_vols\\_eestipost.xml &  &  & staging/all\\_pubs/all\\_vols\\_eestipost.xml.tsv & ⋯ & 8 & NA & 8 & 0 & 8 & TRUE & NA & 1940 & eestipost/eestipost\\_1940\\_pages\\_meta.zip & \\\\\n",
       "\t eestipost19451113 & eestipost & 3 & 13 november 1945 & Eesti Post = Estonian Post : Estonian Newspaper & NEWSPAPER & staging/all\\_pubs/all\\_vols\\_eestipost.xml &  &  & staging/all\\_pubs/all\\_vols\\_eestipost.xml.tsv & ⋯ & 6 & NA & 6 & 0 & 6 & TRUE & NA & 1940 & eestipost/eestipost\\_1940\\_pages\\_meta.zip & \\\\\n",
       "\t eestipost19451115 & eestipost & 4 & 15 november 1945 & Eesti Post = Estonian Post : Estonian Newspaper & NEWSPAPER & staging/all\\_pubs/all\\_vols\\_eestipost.xml &  &  & staging/all\\_pubs/all\\_vols\\_eestipost.xml.tsv & ⋯ & 6 & NA & 6 & 0 & 6 & TRUE & NA & 1940 & eestipost/eestipost\\_1940\\_pages\\_meta.zip & \\\\\n",
       "\t eestipost19451117 & eestipost & 5 & 17 november 1945 & Eesti Post = Estonian Post : Estonian Newspaper & NEWSPAPER & staging/all\\_pubs/all\\_vols\\_eestipost.xml &  &  & staging/all\\_pubs/all\\_vols\\_eestipost.xml.tsv & ⋯ & 6 & NA & 6 & 0 & 6 & TRUE & NA & 1940 & eestipost/eestipost\\_1940\\_pages\\_meta.zip & \\\\\n",
       "\\end{tabular}\n"
      ],
      "text/markdown": [
       "\n",
       "A data.table: 5 × 60\n",
       "\n",
       "| DocumentID &lt;chr&gt; | keyid &lt;chr&gt; | attrs &lt;int&gt; | DocumentDate &lt;chr&gt; | DocumentTitle &lt;chr&gt; | DocumentType &lt;chr&gt; | series &lt;chr&gt; | DocumentNumber &lt;chr&gt; | DocumentVolume &lt;chr&gt; | pages &lt;chr&gt; | ⋯ ⋯ | n_pages &lt;int&gt; | n_articles_lemmas &lt;int&gt; | n_pages_lemmas &lt;int&gt; | n_articles_metadata &lt;int&gt; | n_pages_metadata &lt;int&gt; | pages_exist &lt;lgl&gt; | sections_exist &lt;lgl&gt; | decade &lt;int&gt; | zippath_pages_meta &lt;chr&gt; | zippath_sections_meta &lt;chr&gt; |\n",
       "|---|---|---|---|---|---|---|---|---|---|---|---|---|---|---|---|---|---|---|---|---|\n",
       "| eestipost19451106 | eestipost | 1 | 6 november 1945  | Eesti Post = Estonian Post : Estonian Newspaper | NEWSPAPER | staging/all_pubs/all_vols_eestipost.xml | <!----> | <!----> | staging/all_pubs/all_vols_eestipost.xml.tsv | ⋯ | 6 | NA | 6 | 0 | 6 | TRUE | NA | 1940 | eestipost/eestipost_1940_pages_meta.zip | <!----> |\n",
       "| eestipost19451110 | eestipost | 2 | 10 november 1945 | Eesti Post = Estonian Post : Estonian Newspaper | NEWSPAPER | staging/all_pubs/all_vols_eestipost.xml | <!----> | <!----> | staging/all_pubs/all_vols_eestipost.xml.tsv | ⋯ | 8 | NA | 8 | 0 | 8 | TRUE | NA | 1940 | eestipost/eestipost_1940_pages_meta.zip | <!----> |\n",
       "| eestipost19451113 | eestipost | 3 | 13 november 1945 | Eesti Post = Estonian Post : Estonian Newspaper | NEWSPAPER | staging/all_pubs/all_vols_eestipost.xml | <!----> | <!----> | staging/all_pubs/all_vols_eestipost.xml.tsv | ⋯ | 6 | NA | 6 | 0 | 6 | TRUE | NA | 1940 | eestipost/eestipost_1940_pages_meta.zip | <!----> |\n",
       "| eestipost19451115 | eestipost | 4 | 15 november 1945 | Eesti Post = Estonian Post : Estonian Newspaper | NEWSPAPER | staging/all_pubs/all_vols_eestipost.xml | <!----> | <!----> | staging/all_pubs/all_vols_eestipost.xml.tsv | ⋯ | 6 | NA | 6 | 0 | 6 | TRUE | NA | 1940 | eestipost/eestipost_1940_pages_meta.zip | <!----> |\n",
       "| eestipost19451117 | eestipost | 5 | 17 november 1945 | Eesti Post = Estonian Post : Estonian Newspaper | NEWSPAPER | staging/all_pubs/all_vols_eestipost.xml | <!----> | <!----> | staging/all_pubs/all_vols_eestipost.xml.tsv | ⋯ | 6 | NA | 6 | 0 | 6 | TRUE | NA | 1940 | eestipost/eestipost_1940_pages_meta.zip | <!----> |\n",
       "\n"
      ],
      "text/plain": [
       "  DocumentID        keyid     attrs DocumentDate    \n",
       "1 eestipost19451106 eestipost 1     6 november 1945 \n",
       "2 eestipost19451110 eestipost 2     10 november 1945\n",
       "3 eestipost19451113 eestipost 3     13 november 1945\n",
       "4 eestipost19451115 eestipost 4     15 november 1945\n",
       "5 eestipost19451117 eestipost 5     17 november 1945\n",
       "  DocumentTitle                                   DocumentType\n",
       "1 Eesti Post = Estonian Post : Estonian Newspaper NEWSPAPER   \n",
       "2 Eesti Post = Estonian Post : Estonian Newspaper NEWSPAPER   \n",
       "3 Eesti Post = Estonian Post : Estonian Newspaper NEWSPAPER   \n",
       "4 Eesti Post = Estonian Post : Estonian Newspaper NEWSPAPER   \n",
       "5 Eesti Post = Estonian Post : Estonian Newspaper NEWSPAPER   \n",
       "  series                                  DocumentNumber DocumentVolume\n",
       "1 staging/all_pubs/all_vols_eestipost.xml                              \n",
       "2 staging/all_pubs/all_vols_eestipost.xml                              \n",
       "3 staging/all_pubs/all_vols_eestipost.xml                              \n",
       "4 staging/all_pubs/all_vols_eestipost.xml                              \n",
       "5 staging/all_pubs/all_vols_eestipost.xml                              \n",
       "  pages                                       ⋯ n_pages n_articles_lemmas\n",
       "1 staging/all_pubs/all_vols_eestipost.xml.tsv ⋯ 6       NA               \n",
       "2 staging/all_pubs/all_vols_eestipost.xml.tsv ⋯ 8       NA               \n",
       "3 staging/all_pubs/all_vols_eestipost.xml.tsv ⋯ 6       NA               \n",
       "4 staging/all_pubs/all_vols_eestipost.xml.tsv ⋯ 6       NA               \n",
       "5 staging/all_pubs/all_vols_eestipost.xml.tsv ⋯ 6       NA               \n",
       "  n_pages_lemmas n_articles_metadata n_pages_metadata pages_exist\n",
       "1 6              0                   6                TRUE       \n",
       "2 8              0                   8                TRUE       \n",
       "3 6              0                   6                TRUE       \n",
       "4 6              0                   6                TRUE       \n",
       "5 6              0                   6                TRUE       \n",
       "  sections_exist decade zippath_pages_meta                     \n",
       "1 NA             1940   eestipost/eestipost_1940_pages_meta.zip\n",
       "2 NA             1940   eestipost/eestipost_1940_pages_meta.zip\n",
       "3 NA             1940   eestipost/eestipost_1940_pages_meta.zip\n",
       "4 NA             1940   eestipost/eestipost_1940_pages_meta.zip\n",
       "5 NA             1940   eestipost/eestipost_1940_pages_meta.zip\n",
       "  zippath_sections_meta\n",
       "1                      \n",
       "2                      \n",
       "3                      \n",
       "4                      \n",
       "5                      "
      ]
     },
     "metadata": {},
     "output_type": "display_data"
    }
   ],
   "source": [
    "head(valiseesti_ajalehed, 5)"
   ]
  },
  {
   "cell_type": "code",
   "execution_count": 6,
   "id": "7f96f587",
   "metadata": {},
   "outputs": [],
   "source": [
    "searchterm <- \"balti\"\n",
    "searchfile <- \"balti_lemmad.txt\"\n",
    "do_subset_search(searchterm=searchterm, searchfile=searchfile, valiseesti_ajalehed, searchtype=\"lemmas\", source=\"pages\")"
   ]
  },
  {
   "cell_type": "code",
   "execution_count": 7,
   "id": "1ae67ee7",
   "metadata": {},
   "outputs": [],
   "source": [
    "texts1 <- fread(\"balti_lemmad.txt\",header=F,sep=\"\\t\", quote=\"\")[,.(id=V1,lemmas=V2)]\n",
    "texts1[,DocumentID:=str_extract(id,\"[^\\\\.]+\")]\n",
    "fileids_w_meta <- texts1 %>% select(id, DocumentID) %>% left_join(valiseesti_ajalehed %>% select(keyid,year,month,DocumentID, zippath_sections,zippath_pages),by=c(\"DocumentID\"))"
   ]
  },
  {
   "cell_type": "code",
   "execution_count": 8,
   "id": "079acafe",
   "metadata": {},
   "outputs": [],
   "source": [
    "valiseesti_aastad_balti <- fileids_w_meta %>% \n",
    "  count(year) %>% mutate(set=\"balti\")"
   ]
  },
  {
   "cell_type": "code",
   "execution_count": 9,
   "id": "0ec6206e",
   "metadata": {},
   "outputs": [],
   "source": [
    "colnames(valiseesti_aastad_balti)[2]  <- \"esinemisi_kokku\""
   ]
  },
  {
   "cell_type": "code",
   "execution_count": 10,
   "id": "5276c93f",
   "metadata": {},
   "outputs": [
    {
     "name": "stderr",
     "output_type": "stream",
     "text": [
      "Warning message in data.table::fread(cmd = x, fill = T):\n",
      "“File '/tmp/Rtmp1XVjkN/filefb6867719dce' has size 0. Returning a NULL data.table.”\n"
     ]
    }
   ],
   "source": [
    "subset_meta <- get_subset_meta(valiseesti_ajalehed, source=\"pages\")"
   ]
  },
  {
   "cell_type": "code",
   "execution_count": 11,
   "id": "f46e794e",
   "metadata": {},
   "outputs": [],
   "source": [
    "subset_wordcounts <- subset_meta %>% \n",
    "  group_by(year) %>% \n",
    "  summarise(words=sum(PageTextWordCount))"
   ]
  },
  {
   "cell_type": "code",
   "execution_count": 12,
   "id": "22dbd18a",
   "metadata": {},
   "outputs": [
    {
     "data": {
      "text/html": [
       "<table class=\"dataframe\">\n",
       "<caption>A tibble: 5 × 2</caption>\n",
       "<thead>\n",
       "\t<tr><th scope=col>year</th><th scope=col>words</th></tr>\n",
       "\t<tr><th scope=col>&lt;int&gt;</th><th scope=col>&lt;int&gt;</th></tr>\n",
       "</thead>\n",
       "<tbody>\n",
       "\t<tr><td>1944</td><td> 212175</td></tr>\n",
       "\t<tr><td>1945</td><td>1711519</td></tr>\n",
       "\t<tr><td>1946</td><td>3156818</td></tr>\n",
       "\t<tr><td>1947</td><td>5109892</td></tr>\n",
       "\t<tr><td>1948</td><td>5112470</td></tr>\n",
       "</tbody>\n",
       "</table>\n"
      ],
      "text/latex": [
       "A tibble: 5 × 2\n",
       "\\begin{tabular}{ll}\n",
       " year & words\\\\\n",
       " <int> & <int>\\\\\n",
       "\\hline\n",
       "\t 1944 &  212175\\\\\n",
       "\t 1945 & 1711519\\\\\n",
       "\t 1946 & 3156818\\\\\n",
       "\t 1947 & 5109892\\\\\n",
       "\t 1948 & 5112470\\\\\n",
       "\\end{tabular}\n"
      ],
      "text/markdown": [
       "\n",
       "A tibble: 5 × 2\n",
       "\n",
       "| year &lt;int&gt; | words &lt;int&gt; |\n",
       "|---|---|\n",
       "| 1944 |  212175 |\n",
       "| 1945 | 1711519 |\n",
       "| 1946 | 3156818 |\n",
       "| 1947 | 5109892 |\n",
       "| 1948 | 5112470 |\n",
       "\n"
      ],
      "text/plain": [
       "  year words  \n",
       "1 1944  212175\n",
       "2 1945 1711519\n",
       "3 1946 3156818\n",
       "4 1947 5109892\n",
       "5 1948 5112470"
      ]
     },
     "metadata": {},
     "output_type": "display_data"
    }
   ],
   "source": [
    "head(subset_wordcounts, 5)"
   ]
  },
  {
   "cell_type": "code",
   "execution_count": 13,
   "id": "4c136e6a",
   "metadata": {},
   "outputs": [],
   "source": [
    "colnames(subset_wordcounts)[2]  <- \"sonu_kokku\""
   ]
  },
  {
   "cell_type": "code",
   "execution_count": 14,
   "id": "c4c0fa99",
   "metadata": {},
   "outputs": [],
   "source": [
    "rootsi_ajalehed <- all_issues %>%\n",
    "    filter(DocumentType==\"NEWSPAPER\") %>%\n",
    "    filter(keyid==\"estdagbladet\" | keyid==\"eestiteatajastock\" | keyid==\"stockholmstid\" | keyid==\"teatajapoliit\" | keyid==\"valiseesti\")"
   ]
  },
  {
   "cell_type": "code",
   "execution_count": 15,
   "id": "ec71945b",
   "metadata": {},
   "outputs": [],
   "source": [
    "searchfile <- \"balti_lemmad_rootsi.txt\"\n",
    "do_subset_search(searchterm=searchterm, searchfile=searchfile, rootsi_ajalehed, searchtype=\"lemmas\", source=\"pages\")"
   ]
  },
  {
   "cell_type": "code",
   "execution_count": 16,
   "id": "1c9d4f9e",
   "metadata": {},
   "outputs": [],
   "source": [
    "texts2 <- fread(\"balti_lemmad_rootsi.txt\",header=F,sep=\"\\t\", quote=\"\")[,.(id=V1,lemmas=V2)]\n",
    "texts2[,DocumentID:=str_extract(id,\"[^\\\\.]+\")]\n",
    "fileids_w_meta2 <- texts2 %>% select(id, DocumentID) %>% left_join(rootsi_ajalehed %>% select(keyid, year, month, DocumentID, zippath_sections, zippath_pages), by=c(\"DocumentID\"))"
   ]
  },
  {
   "cell_type": "code",
   "execution_count": 17,
   "id": "7245e748",
   "metadata": {},
   "outputs": [],
   "source": [
    "rootsi_aastad_balti <- fileids_w_meta2 %>% \n",
    "  count(year) %>% mutate(set=\"balti\")"
   ]
  },
  {
   "cell_type": "code",
   "execution_count": 18,
   "id": "fe8b105f",
   "metadata": {},
   "outputs": [],
   "source": [
    "subset_meta2 <- get_subset_meta(rootsi_ajalehed, source=\"pages\")"
   ]
  },
  {
   "cell_type": "code",
   "execution_count": 19,
   "id": "626665fd",
   "metadata": {},
   "outputs": [],
   "source": [
    "subset_wordcounts2 <- subset_meta2 %>% \n",
    "  group_by(year) %>% \n",
    "  summarise(words=sum(PageTextWordCount))"
   ]
  },
  {
   "cell_type": "code",
   "execution_count": 20,
   "id": "5b6f154f",
   "metadata": {},
   "outputs": [
    {
     "data": {
      "text/html": [
       "<table class=\"dataframe\">\n",
       "<caption>A tibble: 5 × 2</caption>\n",
       "<thead>\n",
       "\t<tr><th scope=col>year</th><th scope=col>words</th></tr>\n",
       "\t<tr><th scope=col>&lt;int&gt;</th><th scope=col>&lt;int&gt;</th></tr>\n",
       "</thead>\n",
       "<tbody>\n",
       "\t<tr><td>1944</td><td> 212175</td></tr>\n",
       "\t<tr><td>1945</td><td>1661642</td></tr>\n",
       "\t<tr><td>1946</td><td>2286172</td></tr>\n",
       "\t<tr><td>1947</td><td>3640298</td></tr>\n",
       "\t<tr><td>1948</td><td>3720132</td></tr>\n",
       "</tbody>\n",
       "</table>\n"
      ],
      "text/latex": [
       "A tibble: 5 × 2\n",
       "\\begin{tabular}{ll}\n",
       " year & words\\\\\n",
       " <int> & <int>\\\\\n",
       "\\hline\n",
       "\t 1944 &  212175\\\\\n",
       "\t 1945 & 1661642\\\\\n",
       "\t 1946 & 2286172\\\\\n",
       "\t 1947 & 3640298\\\\\n",
       "\t 1948 & 3720132\\\\\n",
       "\\end{tabular}\n"
      ],
      "text/markdown": [
       "\n",
       "A tibble: 5 × 2\n",
       "\n",
       "| year &lt;int&gt; | words &lt;int&gt; |\n",
       "|---|---|\n",
       "| 1944 |  212175 |\n",
       "| 1945 | 1661642 |\n",
       "| 1946 | 2286172 |\n",
       "| 1947 | 3640298 |\n",
       "| 1948 | 3720132 |\n",
       "\n"
      ],
      "text/plain": [
       "  year words  \n",
       "1 1944  212175\n",
       "2 1945 1661642\n",
       "3 1946 2286172\n",
       "4 1947 3640298\n",
       "5 1948 3720132"
      ]
     },
     "metadata": {},
     "output_type": "display_data"
    }
   ],
   "source": [
    "head(subset_wordcounts2, 5)"
   ]
  },
  {
   "cell_type": "code",
   "execution_count": 21,
   "id": "f9983ba6",
   "metadata": {},
   "outputs": [],
   "source": [
    "colnames(rootsi_aastad_balti)[2]  <- \"esinemisi_kokku_rootsi\"\n",
    "colnames(subset_wordcounts2)[2]  <- \"sonu_kokku_rootsi\""
   ]
  },
  {
   "cell_type": "code",
   "execution_count": 22,
   "id": "7b2c9316",
   "metadata": {},
   "outputs": [],
   "source": [
    "kanada_ajalehed <- all_issues %>%\n",
    "    filter(DocumentType==\"NEWSPAPER\") %>%\n",
    "    filter(keyid==\"vabaeestlane\" | keyid==\"voitleja\")"
   ]
  },
  {
   "cell_type": "code",
   "execution_count": 23,
   "id": "edc146fe",
   "metadata": {},
   "outputs": [],
   "source": [
    "searchfile <- \"balti_lemmad_kanada.txt\"\n",
    "do_subset_search(searchterm=searchterm, searchfile=searchfile, kanada_ajalehed, searchtype=\"lemmas\", source=\"pages\")"
   ]
  },
  {
   "cell_type": "code",
   "execution_count": 24,
   "id": "e80ed014",
   "metadata": {},
   "outputs": [],
   "source": [
    "texts3 <- fread(\"balti_lemmad_kanada.txt\",header=F,sep=\"\\t\", quote=\"\")[,.(id=V1,lemmas=V2)]\n",
    "texts3[,DocumentID:=str_extract(id,\"[^\\\\.]+\")]\n",
    "fileids_w_meta3 <- texts3 %>% select(id, DocumentID) %>% left_join(kanada_ajalehed %>% select(keyid, year, month, DocumentID, zippath_sections, zippath_pages), by=c(\"DocumentID\"))"
   ]
  },
  {
   "cell_type": "code",
   "execution_count": 25,
   "id": "54ebbc22",
   "metadata": {},
   "outputs": [],
   "source": [
    "kanada_aastad_balti <- fileids_w_meta3 %>% \n",
    "  count(year) %>% mutate(set=\"balti\")"
   ]
  },
  {
   "cell_type": "code",
   "execution_count": 26,
   "id": "365493f9",
   "metadata": {},
   "outputs": [
    {
     "name": "stderr",
     "output_type": "stream",
     "text": [
      "Warning message in data.table::fread(cmd = x, fill = T):\n",
      "“File '/tmp/Rtmp1XVjkN/filefb687e073fa2' has size 0. Returning a NULL data.table.”\n"
     ]
    }
   ],
   "source": [
    "subset_meta3 <- get_subset_meta(kanada_ajalehed, source=\"pages\")"
   ]
  },
  {
   "cell_type": "code",
   "execution_count": 27,
   "id": "0dd24029",
   "metadata": {},
   "outputs": [],
   "source": [
    "subset_wordcounts3 <- subset_meta3 %>% \n",
    "  group_by(year) %>% \n",
    "  summarise(words=sum(PageTextWordCount))"
   ]
  },
  {
   "cell_type": "code",
   "execution_count": 28,
   "id": "2102843d",
   "metadata": {},
   "outputs": [
    {
     "data": {
      "text/html": [
       "<table class=\"dataframe\">\n",
       "<caption>A tibble: 5 × 2</caption>\n",
       "<thead>\n",
       "\t<tr><th scope=col>year</th><th scope=col>words</th></tr>\n",
       "\t<tr><th scope=col>&lt;int&gt;</th><th scope=col>&lt;int&gt;</th></tr>\n",
       "</thead>\n",
       "<tbody>\n",
       "\t<tr><td>1952</td><td>1389121</td></tr>\n",
       "\t<tr><td>1953</td><td>1631876</td></tr>\n",
       "\t<tr><td>1954</td><td>1722077</td></tr>\n",
       "\t<tr><td>1955</td><td>1760442</td></tr>\n",
       "\t<tr><td>1956</td><td>1719398</td></tr>\n",
       "</tbody>\n",
       "</table>\n"
      ],
      "text/latex": [
       "A tibble: 5 × 2\n",
       "\\begin{tabular}{ll}\n",
       " year & words\\\\\n",
       " <int> & <int>\\\\\n",
       "\\hline\n",
       "\t 1952 & 1389121\\\\\n",
       "\t 1953 & 1631876\\\\\n",
       "\t 1954 & 1722077\\\\\n",
       "\t 1955 & 1760442\\\\\n",
       "\t 1956 & 1719398\\\\\n",
       "\\end{tabular}\n"
      ],
      "text/markdown": [
       "\n",
       "A tibble: 5 × 2\n",
       "\n",
       "| year &lt;int&gt; | words &lt;int&gt; |\n",
       "|---|---|\n",
       "| 1952 | 1389121 |\n",
       "| 1953 | 1631876 |\n",
       "| 1954 | 1722077 |\n",
       "| 1955 | 1760442 |\n",
       "| 1956 | 1719398 |\n",
       "\n"
      ],
      "text/plain": [
       "  year words  \n",
       "1 1952 1389121\n",
       "2 1953 1631876\n",
       "3 1954 1722077\n",
       "4 1955 1760442\n",
       "5 1956 1719398"
      ]
     },
     "metadata": {},
     "output_type": "display_data"
    }
   ],
   "source": [
    "head(subset_wordcounts3, 5)"
   ]
  },
  {
   "cell_type": "code",
   "execution_count": 29,
   "id": "4daef1c2",
   "metadata": {},
   "outputs": [],
   "source": [
    "colnames(kanada_aastad_balti)[2]  <- \"esinemisi_kokku_kanada\"\n",
    "colnames(subset_wordcounts3)[2]  <- \"sonu_kokku_kanada\""
   ]
  },
  {
   "cell_type": "code",
   "execution_count": 30,
   "id": "c35d3930",
   "metadata": {},
   "outputs": [],
   "source": [
    "usa_ajalehed <- all_issues %>%\n",
    "    filter(DocumentType==\"NEWSPAPER\") %>%\n",
    "    filter(keyid==\"vabaeestisona\")"
   ]
  },
  {
   "cell_type": "code",
   "execution_count": 31,
   "id": "12798c96",
   "metadata": {},
   "outputs": [],
   "source": [
    "searchfile <- \"balti_lemmad_usa.txt\"\n",
    "do_subset_search(searchterm=searchterm, searchfile=searchfile, usa_ajalehed, searchtype=\"lemmas\", source=\"pages\")"
   ]
  },
  {
   "cell_type": "code",
   "execution_count": 32,
   "id": "884c78d9",
   "metadata": {},
   "outputs": [],
   "source": [
    "texts4 <- fread(\"balti_lemmad_usa.txt\",header=F,sep=\"\\t\", quote=\"\")[,.(id=V1,lemmas=V2)]\n",
    "texts4[,DocumentID:=str_extract(id,\"[^\\\\.]+\")]\n",
    "fileids_w_meta4 <- texts4 %>% select(id, DocumentID) %>% left_join(usa_ajalehed %>% select(keyid, year, month, DocumentID, zippath_sections, zippath_pages), by=c(\"DocumentID\"))"
   ]
  },
  {
   "cell_type": "code",
   "execution_count": 33,
   "id": "79c7478b",
   "metadata": {},
   "outputs": [],
   "source": [
    "usa_aastad_balti <- fileids_w_meta4 %>% \n",
    "  count(year) %>% mutate(set=\"balti\")"
   ]
  },
  {
   "cell_type": "code",
   "execution_count": 34,
   "id": "9bcaa503",
   "metadata": {},
   "outputs": [],
   "source": [
    "subset_meta4 <- get_subset_meta(usa_ajalehed, source=\"pages\")"
   ]
  },
  {
   "cell_type": "code",
   "execution_count": 35,
   "id": "1f5af73b",
   "metadata": {},
   "outputs": [],
   "source": [
    "subset_wordcounts4 <- subset_meta4 %>% \n",
    "  group_by(year) %>% \n",
    "  summarise(words=sum(PageTextWordCount))"
   ]
  },
  {
   "cell_type": "code",
   "execution_count": 36,
   "id": "e88dadad",
   "metadata": {},
   "outputs": [
    {
     "data": {
      "text/html": [
       "<table class=\"dataframe\">\n",
       "<caption>A tibble: 5 × 2</caption>\n",
       "<thead>\n",
       "\t<tr><th scope=col>year</th><th scope=col>words</th></tr>\n",
       "\t<tr><th scope=col>&lt;int&gt;</th><th scope=col>&lt;int&gt;</th></tr>\n",
       "</thead>\n",
       "<tbody>\n",
       "\t<tr><td>1949</td><td> 259930</td></tr>\n",
       "\t<tr><td>1950</td><td> 760216</td></tr>\n",
       "\t<tr><td>1951</td><td> 925559</td></tr>\n",
       "\t<tr><td>1952</td><td>1077164</td></tr>\n",
       "\t<tr><td>1953</td><td>1251404</td></tr>\n",
       "</tbody>\n",
       "</table>\n"
      ],
      "text/latex": [
       "A tibble: 5 × 2\n",
       "\\begin{tabular}{ll}\n",
       " year & words\\\\\n",
       " <int> & <int>\\\\\n",
       "\\hline\n",
       "\t 1949 &  259930\\\\\n",
       "\t 1950 &  760216\\\\\n",
       "\t 1951 &  925559\\\\\n",
       "\t 1952 & 1077164\\\\\n",
       "\t 1953 & 1251404\\\\\n",
       "\\end{tabular}\n"
      ],
      "text/markdown": [
       "\n",
       "A tibble: 5 × 2\n",
       "\n",
       "| year &lt;int&gt; | words &lt;int&gt; |\n",
       "|---|---|\n",
       "| 1949 |  259930 |\n",
       "| 1950 |  760216 |\n",
       "| 1951 |  925559 |\n",
       "| 1952 | 1077164 |\n",
       "| 1953 | 1251404 |\n",
       "\n"
      ],
      "text/plain": [
       "  year words  \n",
       "1 1949  259930\n",
       "2 1950  760216\n",
       "3 1951  925559\n",
       "4 1952 1077164\n",
       "5 1953 1251404"
      ]
     },
     "metadata": {},
     "output_type": "display_data"
    }
   ],
   "source": [
    "head(subset_wordcounts4, 5)"
   ]
  },
  {
   "cell_type": "code",
   "execution_count": 37,
   "id": "eb8ae994",
   "metadata": {},
   "outputs": [],
   "source": [
    "colnames(usa_aastad_balti)[2]  <- \"esinemisi_kokku_usa\"\n",
    "colnames(subset_wordcounts4)[2]  <- \"sonu_kokku_usa\""
   ]
  },
  {
   "cell_type": "code",
   "execution_count": 38,
   "id": "d672f4d4",
   "metadata": {},
   "outputs": [],
   "source": [
    "graafik1 <- valiseesti_aastad_balti %>% \n",
    "  left_join(subset_wordcounts,by=\"year\") %>%\n",
    "  left_join(rootsi_aastad_balti, by=\"year\") %>%\n",
    "  left_join(subset_wordcounts2,by=\"year\") %>%\n",
    "  left_join(kanada_aastad_balti, by=\"year\") %>%\n",
    "  left_join(subset_wordcounts3,by=\"year\") %>%\n",
    "  left_join(usa_aastad_balti, by=\"year\") %>%\n",
    "  left_join(subset_wordcounts4,by=\"year\")"
   ]
  },
  {
   "cell_type": "code",
   "execution_count": 39,
   "id": "96350216",
   "metadata": {},
   "outputs": [],
   "source": [
    "graafik = subset(graafik1, select = -c(set.x,set.y,set.x.x,set.y.y))"
   ]
  },
  {
   "cell_type": "code",
   "execution_count": 40,
   "id": "1a31b053",
   "metadata": {},
   "outputs": [
    {
     "data": {
      "text/html": [
       "<table class=\"dataframe\">\n",
       "<caption>A data.table: 20 × 9</caption>\n",
       "<thead>\n",
       "\t<tr><th scope=col>year</th><th scope=col>esinemisi_kokku</th><th scope=col>sonu_kokku</th><th scope=col>esinemisi_kokku_rootsi</th><th scope=col>sonu_kokku_rootsi</th><th scope=col>esinemisi_kokku_kanada</th><th scope=col>sonu_kokku_kanada</th><th scope=col>esinemisi_kokku_usa</th><th scope=col>sonu_kokku_usa</th></tr>\n",
       "\t<tr><th scope=col>&lt;int&gt;</th><th scope=col>&lt;int&gt;</th><th scope=col>&lt;int&gt;</th><th scope=col>&lt;int&gt;</th><th scope=col>&lt;int&gt;</th><th scope=col>&lt;int&gt;</th><th scope=col>&lt;int&gt;</th><th scope=col>&lt;int&gt;</th><th scope=col>&lt;int&gt;</th></tr>\n",
       "</thead>\n",
       "<tbody>\n",
       "\t<tr><td>1944</td><td>  52</td><td> 212175</td><td> 52</td><td> 212175</td><td> NA</td><td>     NA</td><td> NA</td><td>     NA</td></tr>\n",
       "\t<tr><td>1945</td><td> 441</td><td>1711519</td><td>423</td><td>1661642</td><td> NA</td><td>     NA</td><td> NA</td><td>     NA</td></tr>\n",
       "\t<tr><td>1946</td><td> 907</td><td>3156818</td><td>629</td><td>2286172</td><td> NA</td><td>     NA</td><td> NA</td><td>     NA</td></tr>\n",
       "\t<tr><td>1947</td><td> 984</td><td>5109892</td><td>618</td><td>3640298</td><td> NA</td><td>     NA</td><td> NA</td><td>     NA</td></tr>\n",
       "\t<tr><td>1948</td><td>1195</td><td>5112470</td><td>850</td><td>3720132</td><td> NA</td><td>     NA</td><td> NA</td><td>     NA</td></tr>\n",
       "\t<tr><td>1949</td><td> 909</td><td>4269314</td><td>689</td><td>3191975</td><td> NA</td><td>     NA</td><td> 64</td><td> 259930</td></tr>\n",
       "\t<tr><td>1950</td><td> 930</td><td>4358835</td><td>672</td><td>3187325</td><td> NA</td><td>     NA</td><td>226</td><td> 760216</td></tr>\n",
       "\t<tr><td>1951</td><td> 872</td><td>4016148</td><td>565</td><td>2927056</td><td> NA</td><td>     NA</td><td>269</td><td> 925559</td></tr>\n",
       "\t<tr><td>1952</td><td>1213</td><td>5475485</td><td>566</td><td>2931415</td><td>320</td><td>1389121</td><td>306</td><td>1077164</td></tr>\n",
       "\t<tr><td>1953</td><td>1096</td><td>5287079</td><td>456</td><td>2398362</td><td>276</td><td>1631876</td><td>362</td><td>1251404</td></tr>\n",
       "\t<tr><td>1954</td><td>1198</td><td>5368714</td><td>496</td><td>2392738</td><td>318</td><td>1722077</td><td>384</td><td>1253899</td></tr>\n",
       "\t<tr><td>1955</td><td>1193</td><td>5424443</td><td>485</td><td>2437051</td><td>336</td><td>1760442</td><td>372</td><td>1226950</td></tr>\n",
       "\t<tr><td>1956</td><td>1243</td><td>5334573</td><td>495</td><td>2465595</td><td>374</td><td>1719398</td><td>374</td><td>1149580</td></tr>\n",
       "\t<tr><td>1957</td><td>1157</td><td>5288446</td><td>451</td><td>2375389</td><td>352</td><td>1788358</td><td>354</td><td>1124699</td></tr>\n",
       "\t<tr><td>1958</td><td>1035</td><td>5304165</td><td>383</td><td>2393920</td><td>318</td><td>1758084</td><td>334</td><td>1152161</td></tr>\n",
       "\t<tr><td>1959</td><td> 986</td><td>4561952</td><td>347</td><td>1694904</td><td>324</td><td>1727601</td><td>315</td><td>1139447</td></tr>\n",
       "\t<tr><td>1960</td><td>1016</td><td>4425434</td><td>354</td><td>1411751</td><td>327</td><td>1833567</td><td>335</td><td>1180116</td></tr>\n",
       "\t<tr><td>1961</td><td> 937</td><td>4807496</td><td>445</td><td>1882034</td><td>108</td><td>1760304</td><td>384</td><td>1165158</td></tr>\n",
       "\t<tr><td>1962</td><td>1096</td><td>4641649</td><td>436</td><td>1879028</td><td>277</td><td>1576675</td><td>383</td><td>1185946</td></tr>\n",
       "\t<tr><td>1963</td><td> 894</td><td>4061182</td><td>263</td><td>1207293</td><td>278</td><td>1722713</td><td>353</td><td>1131176</td></tr>\n",
       "</tbody>\n",
       "</table>\n"
      ],
      "text/latex": [
       "A data.table: 20 × 9\n",
       "\\begin{tabular}{lllllllll}\n",
       " year & esinemisi\\_kokku & sonu\\_kokku & esinemisi\\_kokku\\_rootsi & sonu\\_kokku\\_rootsi & esinemisi\\_kokku\\_kanada & sonu\\_kokku\\_kanada & esinemisi\\_kokku\\_usa & sonu\\_kokku\\_usa\\\\\n",
       " <int> & <int> & <int> & <int> & <int> & <int> & <int> & <int> & <int>\\\\\n",
       "\\hline\n",
       "\t 1944 &   52 &  212175 &  52 &  212175 &  NA &      NA &  NA &      NA\\\\\n",
       "\t 1945 &  441 & 1711519 & 423 & 1661642 &  NA &      NA &  NA &      NA\\\\\n",
       "\t 1946 &  907 & 3156818 & 629 & 2286172 &  NA &      NA &  NA &      NA\\\\\n",
       "\t 1947 &  984 & 5109892 & 618 & 3640298 &  NA &      NA &  NA &      NA\\\\\n",
       "\t 1948 & 1195 & 5112470 & 850 & 3720132 &  NA &      NA &  NA &      NA\\\\\n",
       "\t 1949 &  909 & 4269314 & 689 & 3191975 &  NA &      NA &  64 &  259930\\\\\n",
       "\t 1950 &  930 & 4358835 & 672 & 3187325 &  NA &      NA & 226 &  760216\\\\\n",
       "\t 1951 &  872 & 4016148 & 565 & 2927056 &  NA &      NA & 269 &  925559\\\\\n",
       "\t 1952 & 1213 & 5475485 & 566 & 2931415 & 320 & 1389121 & 306 & 1077164\\\\\n",
       "\t 1953 & 1096 & 5287079 & 456 & 2398362 & 276 & 1631876 & 362 & 1251404\\\\\n",
       "\t 1954 & 1198 & 5368714 & 496 & 2392738 & 318 & 1722077 & 384 & 1253899\\\\\n",
       "\t 1955 & 1193 & 5424443 & 485 & 2437051 & 336 & 1760442 & 372 & 1226950\\\\\n",
       "\t 1956 & 1243 & 5334573 & 495 & 2465595 & 374 & 1719398 & 374 & 1149580\\\\\n",
       "\t 1957 & 1157 & 5288446 & 451 & 2375389 & 352 & 1788358 & 354 & 1124699\\\\\n",
       "\t 1958 & 1035 & 5304165 & 383 & 2393920 & 318 & 1758084 & 334 & 1152161\\\\\n",
       "\t 1959 &  986 & 4561952 & 347 & 1694904 & 324 & 1727601 & 315 & 1139447\\\\\n",
       "\t 1960 & 1016 & 4425434 & 354 & 1411751 & 327 & 1833567 & 335 & 1180116\\\\\n",
       "\t 1961 &  937 & 4807496 & 445 & 1882034 & 108 & 1760304 & 384 & 1165158\\\\\n",
       "\t 1962 & 1096 & 4641649 & 436 & 1879028 & 277 & 1576675 & 383 & 1185946\\\\\n",
       "\t 1963 &  894 & 4061182 & 263 & 1207293 & 278 & 1722713 & 353 & 1131176\\\\\n",
       "\\end{tabular}\n"
      ],
      "text/markdown": [
       "\n",
       "A data.table: 20 × 9\n",
       "\n",
       "| year &lt;int&gt; | esinemisi_kokku &lt;int&gt; | sonu_kokku &lt;int&gt; | esinemisi_kokku_rootsi &lt;int&gt; | sonu_kokku_rootsi &lt;int&gt; | esinemisi_kokku_kanada &lt;int&gt; | sonu_kokku_kanada &lt;int&gt; | esinemisi_kokku_usa &lt;int&gt; | sonu_kokku_usa &lt;int&gt; |\n",
       "|---|---|---|---|---|---|---|---|---|\n",
       "| 1944 |   52 |  212175 |  52 |  212175 |  NA |      NA |  NA |      NA |\n",
       "| 1945 |  441 | 1711519 | 423 | 1661642 |  NA |      NA |  NA |      NA |\n",
       "| 1946 |  907 | 3156818 | 629 | 2286172 |  NA |      NA |  NA |      NA |\n",
       "| 1947 |  984 | 5109892 | 618 | 3640298 |  NA |      NA |  NA |      NA |\n",
       "| 1948 | 1195 | 5112470 | 850 | 3720132 |  NA |      NA |  NA |      NA |\n",
       "| 1949 |  909 | 4269314 | 689 | 3191975 |  NA |      NA |  64 |  259930 |\n",
       "| 1950 |  930 | 4358835 | 672 | 3187325 |  NA |      NA | 226 |  760216 |\n",
       "| 1951 |  872 | 4016148 | 565 | 2927056 |  NA |      NA | 269 |  925559 |\n",
       "| 1952 | 1213 | 5475485 | 566 | 2931415 | 320 | 1389121 | 306 | 1077164 |\n",
       "| 1953 | 1096 | 5287079 | 456 | 2398362 | 276 | 1631876 | 362 | 1251404 |\n",
       "| 1954 | 1198 | 5368714 | 496 | 2392738 | 318 | 1722077 | 384 | 1253899 |\n",
       "| 1955 | 1193 | 5424443 | 485 | 2437051 | 336 | 1760442 | 372 | 1226950 |\n",
       "| 1956 | 1243 | 5334573 | 495 | 2465595 | 374 | 1719398 | 374 | 1149580 |\n",
       "| 1957 | 1157 | 5288446 | 451 | 2375389 | 352 | 1788358 | 354 | 1124699 |\n",
       "| 1958 | 1035 | 5304165 | 383 | 2393920 | 318 | 1758084 | 334 | 1152161 |\n",
       "| 1959 |  986 | 4561952 | 347 | 1694904 | 324 | 1727601 | 315 | 1139447 |\n",
       "| 1960 | 1016 | 4425434 | 354 | 1411751 | 327 | 1833567 | 335 | 1180116 |\n",
       "| 1961 |  937 | 4807496 | 445 | 1882034 | 108 | 1760304 | 384 | 1165158 |\n",
       "| 1962 | 1096 | 4641649 | 436 | 1879028 | 277 | 1576675 | 383 | 1185946 |\n",
       "| 1963 |  894 | 4061182 | 263 | 1207293 | 278 | 1722713 | 353 | 1131176 |\n",
       "\n"
      ],
      "text/plain": [
       "   year esinemisi_kokku sonu_kokku esinemisi_kokku_rootsi sonu_kokku_rootsi\n",
       "1  1944   52             212175     52                     212175          \n",
       "2  1945  441            1711519    423                    1661642          \n",
       "3  1946  907            3156818    629                    2286172          \n",
       "4  1947  984            5109892    618                    3640298          \n",
       "5  1948 1195            5112470    850                    3720132          \n",
       "6  1949  909            4269314    689                    3191975          \n",
       "7  1950  930            4358835    672                    3187325          \n",
       "8  1951  872            4016148    565                    2927056          \n",
       "9  1952 1213            5475485    566                    2931415          \n",
       "10 1953 1096            5287079    456                    2398362          \n",
       "11 1954 1198            5368714    496                    2392738          \n",
       "12 1955 1193            5424443    485                    2437051          \n",
       "13 1956 1243            5334573    495                    2465595          \n",
       "14 1957 1157            5288446    451                    2375389          \n",
       "15 1958 1035            5304165    383                    2393920          \n",
       "16 1959  986            4561952    347                    1694904          \n",
       "17 1960 1016            4425434    354                    1411751          \n",
       "18 1961  937            4807496    445                    1882034          \n",
       "19 1962 1096            4641649    436                    1879028          \n",
       "20 1963  894            4061182    263                    1207293          \n",
       "   esinemisi_kokku_kanada sonu_kokku_kanada esinemisi_kokku_usa sonu_kokku_usa\n",
       "1   NA                         NA            NA                      NA       \n",
       "2   NA                         NA            NA                      NA       \n",
       "3   NA                         NA            NA                      NA       \n",
       "4   NA                         NA            NA                      NA       \n",
       "5   NA                         NA            NA                      NA       \n",
       "6   NA                         NA            64                  259930       \n",
       "7   NA                         NA           226                  760216       \n",
       "8   NA                         NA           269                  925559       \n",
       "9  320                    1389121           306                 1077164       \n",
       "10 276                    1631876           362                 1251404       \n",
       "11 318                    1722077           384                 1253899       \n",
       "12 336                    1760442           372                 1226950       \n",
       "13 374                    1719398           374                 1149580       \n",
       "14 352                    1788358           354                 1124699       \n",
       "15 318                    1758084           334                 1152161       \n",
       "16 324                    1727601           315                 1139447       \n",
       "17 327                    1833567           335                 1180116       \n",
       "18 108                    1760304           384                 1165158       \n",
       "19 277                    1576675           383                 1185946       \n",
       "20 278                    1722713           353                 1131176       "
      ]
     },
     "metadata": {},
     "output_type": "display_data"
    }
   ],
   "source": [
    "head(graafik, 20)"
   ]
  },
  {
   "cell_type": "code",
   "execution_count": 41,
   "id": "5a165918",
   "metadata": {},
   "outputs": [
    {
     "name": "stderr",
     "output_type": "stream",
     "text": [
      "Warning message:\n",
      "“Removed 8 row(s) containing missing values (geom_path).”\n",
      "Warning message:\n",
      "“Removed 5 row(s) containing missing values (geom_path).”\n"
     ]
    },
    {
     "data": {
      "image/png": "[encoded data removed]",
      "text/plain": [
       "plot without title"
      ]
     },
     "metadata": {
      "image/png": {
       "height": 420,
       "width": 420
      }
     },
     "output_type": "display_data"
    }
   ],
   "source": [
    "graafik %>%\n",
    "  ggplot(aes(x=year,y=esinemisi_kokku/sonu_kokku)) +\n",
    "  geom_bar(stat = \"identity\", fill = \"gray\") +\n",
    "  geom_line(aes(x=year,y=esinemisi_kokku_rootsi/sonu_kokku_rootsi), stat = \"identity\", color = \"blue\", size = 1) +\n",
    "  geom_line(aes(x=year,y=esinemisi_kokku_kanada/sonu_kokku_kanada), stat = \"identity\", color = \"darkgreen\", size = 1) +\n",
    "  geom_line(aes(x=year,y=esinemisi_kokku_usa/sonu_kokku_usa), stat = \"identity\", color = \"red\", size = 1) +\n",
    "  labs(x = \"Aasta\",\n",
    "       y = \"Suhteline sagedus\",\n",
    "       fill = \"Lemmikjook\",\n",
    "       title = '\"Balti\" suhteline sagedus väliseesti ajalehtedes') +\n",
    "  scale_color_manual(name = \"Riik\", values = c(\"Rootsi\" = \"blue\", \"Kanada\" = \"darkgreen\", \"USA\" = \"red\"))"
   ]
  },
  {
   "cell_type": "code",
   "execution_count": 42,
   "id": "b1f99764",
   "metadata": {},
   "outputs": [
    {
     "name": "stderr",
     "output_type": "stream",
     "text": [
      "\n",
      "Attaching package: ‘igraph’\n",
      "\n",
      "\n",
      "The following objects are masked from ‘package:dplyr’:\n",
      "\n",
      "    as_data_frame, groups, union\n",
      "\n",
      "\n",
      "The following objects are masked from ‘package:purrr’:\n",
      "\n",
      "    compose, simplify\n",
      "\n",
      "\n",
      "The following object is masked from ‘package:tidyr’:\n",
      "\n",
      "    crossing\n",
      "\n",
      "\n",
      "The following object is masked from ‘package:tibble’:\n",
      "\n",
      "    as_data_frame\n",
      "\n",
      "\n",
      "The following objects are masked from ‘package:stats’:\n",
      "\n",
      "    decompose, spectrum\n",
      "\n",
      "\n",
      "The following object is masked from ‘package:base’:\n",
      "\n",
      "    union\n",
      "\n",
      "\n"
     ]
    }
   ],
   "source": [
    "library(igraph)"
   ]
  },
  {
   "cell_type": "code",
   "execution_count": 43,
   "id": "54571c3c",
   "metadata": {},
   "outputs": [],
   "source": [
    "rootsi_ajalehed1 <- all_issues %>%\n",
    "    filter(DocumentType==\"NEWSPAPER\") %>%\n",
    "    filter(year>1943&year<1961) %>%\n",
    "    filter(keyid==\"estdagbladet\" | keyid==\"eestiteatajastock\" | keyid==\"stockholmstid\" | keyid==\"teatajapoliit\" | keyid==\"valiseesti\")"
   ]
  },
  {
   "cell_type": "code",
   "execution_count": 44,
   "id": "16126a8f",
   "metadata": {},
   "outputs": [],
   "source": [
    "searchfile <- \"rootsi_ngrammid1.txt\"\n",
    "do_subset_search(searchterm=searchterm, searchfile=searchfile, rootsi_ajalehed1, searchtype=\"lemmas\", source=\"pages\")"
   ]
  },
  {
   "cell_type": "code",
   "execution_count": 45,
   "id": "42bd0f38",
   "metadata": {},
   "outputs": [],
   "source": [
    "concs1 <- fread(\"rootsi_ngrammid1.txt\",header=F,sep=\"\\t\", quote=\"\")[,.(id=V1,lemmas=V2)]\n",
    "concs1[,DocumentID:=str_extract(id,\"[^\\\\.]+\")]\n",
    "fileids_w_meta_concs1 <- concs1 %>% select(id, DocumentID) %>% left_join(rootsi_ajalehed1 %>% select(keyid, year, month, DocumentID, zippath_sections, zippath_pages), by=c(\"DocumentID\"))"
   ]
  },
  {
   "cell_type": "code",
   "execution_count": 46,
   "id": "2c81bd7e",
   "metadata": {},
   "outputs": [],
   "source": [
    "rootsi_concs1 <- get_concordances(searchterm=searchterm,texts=concs1,before=50,after=50,txt=\"lemmas\",id=\"id\")"
   ]
  },
  {
   "cell_type": "code",
   "execution_count": 47,
   "id": "dec4e67d",
   "metadata": {},
   "outputs": [],
   "source": [
    "rootsi_concs_4460 <- rootsi_concs1[, !c(\"id\",\"nr\",\"begin\",\"end\", \"DocumentID\")]\n",
    "\n",
    "write.table(rootsi_concs_4460, \"4460.txt\", sep=\"\\t\", quote = F, row.names = F)"
   ]
  },
  {
   "cell_type": "code",
   "execution_count": 48,
   "id": "4d4becf6",
   "metadata": {},
   "outputs": [],
   "source": [
    "stopsonad <- read.table(\"estonian-stopwords-lemmas.txt\", header = TRUE, sep = \"\\t\", encoding = \"UTF-8\", stringsAsFactors = T)"
   ]
  },
  {
   "cell_type": "code",
   "execution_count": 49,
   "id": "c1f0cd45",
   "metadata": {},
   "outputs": [
    {
     "data": {
      "text/html": [
       "<table class=\"dataframe\">\n",
       "<caption>A data.frame: 10 × 1</caption>\n",
       "<thead>\n",
       "\t<tr><th></th><th scope=col>word</th></tr>\n",
       "\t<tr><th></th><th scope=col>&lt;fct&gt;</th></tr>\n",
       "</thead>\n",
       "<tbody>\n",
       "\t<tr><th scope=row>1</th><td>all         </td></tr>\n",
       "\t<tr><th scope=row>2</th><td>alla        </td></tr>\n",
       "\t<tr><th scope=row>3</th><td>allapoole   </td></tr>\n",
       "\t<tr><th scope=row>4</th><td>allpool     </td></tr>\n",
       "\t<tr><th scope=row>5</th><td>alt         </td></tr>\n",
       "\t<tr><th scope=row>6</th><td>altpoolt    </td></tr>\n",
       "\t<tr><th scope=row>7</th><td>eel         </td></tr>\n",
       "\t<tr><th scope=row>8</th><td>eespool     </td></tr>\n",
       "\t<tr><th scope=row>9</th><td>enne        </td></tr>\n",
       "\t<tr><th scope=row>10</th><td>hommikupoole</td></tr>\n",
       "</tbody>\n",
       "</table>\n"
      ],
      "text/latex": [
       "A data.frame: 10 × 1\n",
       "\\begin{tabular}{r|l}\n",
       "  & word\\\\\n",
       "  & <fct>\\\\\n",
       "\\hline\n",
       "\t1 & all         \\\\\n",
       "\t2 & alla        \\\\\n",
       "\t3 & allapoole   \\\\\n",
       "\t4 & allpool     \\\\\n",
       "\t5 & alt         \\\\\n",
       "\t6 & altpoolt    \\\\\n",
       "\t7 & eel         \\\\\n",
       "\t8 & eespool     \\\\\n",
       "\t9 & enne        \\\\\n",
       "\t10 & hommikupoole\\\\\n",
       "\\end{tabular}\n"
      ],
      "text/markdown": [
       "\n",
       "A data.frame: 10 × 1\n",
       "\n",
       "| <!--/--> | word &lt;fct&gt; |\n",
       "|---|---|\n",
       "| 1 | all          |\n",
       "| 2 | alla         |\n",
       "| 3 | allapoole    |\n",
       "| 4 | allpool      |\n",
       "| 5 | alt          |\n",
       "| 6 | altpoolt     |\n",
       "| 7 | eel          |\n",
       "| 8 | eespool      |\n",
       "| 9 | enne         |\n",
       "| 10 | hommikupoole |\n",
       "\n"
      ],
      "text/plain": [
       "   word        \n",
       "1  all         \n",
       "2  alla        \n",
       "3  allapoole   \n",
       "4  allpool     \n",
       "5  alt         \n",
       "6  altpoolt    \n",
       "7  eel         \n",
       "8  eespool     \n",
       "9  enne        \n",
       "10 hommikupoole"
      ]
     },
     "metadata": {},
     "output_type": "display_data"
    }
   ],
   "source": [
    "head(stopsonad, 10)"
   ]
  },
  {
   "cell_type": "code",
   "execution_count": 50,
   "id": "635a5f9b",
   "metadata": {},
   "outputs": [],
   "source": [
    "bigrams_separated1 <- rootsi_concs_4460 %>%\n",
    "  unnest_tokens(bigram, context, token = \"ngrams\", n = 2) %>%\n",
    "  separate(bigram, c(\"word1\", \"word2\"), sep = \" \")"
   ]
  },
  {
   "cell_type": "code",
   "execution_count": 51,
   "id": "fdf6314c",
   "metadata": {},
   "outputs": [],
   "source": [
    "bigrams_filtered1 <- bigrams_separated1 %>%\n",
    "  filter(!word1 %in% stopsonad$word) %>%\n",
    "  filter(!word2 %in% stopsonad$word)"
   ]
  },
  {
   "cell_type": "code",
   "execution_count": 52,
   "id": "b4004b1e",
   "metadata": {},
   "outputs": [],
   "source": [
    "# new bigram counts:\n",
    "bigram_counts1 <- bigrams_filtered1 %>% \n",
    "  count(word1, word2, sort = TRUE)"
   ]
  },
  {
   "cell_type": "code",
   "execution_count": 53,
   "id": "1ce3ef05",
   "metadata": {},
   "outputs": [
    {
     "data": {
      "text/html": [
       "<table class=\"dataframe\">\n",
       "<caption>A data.table: 20 × 3</caption>\n",
       "<thead>\n",
       "\t<tr><th scope=col>word1</th><th scope=col>word2</th><th scope=col>n</th></tr>\n",
       "\t<tr><th scope=col>&lt;chr&gt;</th><th scope=col>&lt;chr&gt;</th><th scope=col>&lt;int&gt;</th></tr>\n",
       "</thead>\n",
       "<tbody>\n",
       "\t<tr><td>balti   </td><td>riik     </td><td>4293</td></tr>\n",
       "\t<tr><td>balti   </td><td>rahvas   </td><td>1836</td></tr>\n",
       "\t<tr><td>balti   </td><td>põgenik  </td><td>1016</td></tr>\n",
       "\t<tr><td>kolm    </td><td>balti    </td><td> 628</td></tr>\n",
       "\t<tr><td>balti   </td><td>komitee  </td><td> 386</td></tr>\n",
       "\t<tr><td>balti   </td><td>ülikool  </td><td> 318</td></tr>\n",
       "\t<tr><td>liidu   </td><td>liidud   </td><td> 288</td></tr>\n",
       "\t<tr><td>liidud  </td><td>liit     </td><td> 266</td></tr>\n",
       "\t<tr><td>balti   </td><td>sakslane </td><td> 250</td></tr>\n",
       "\t<tr><td>balti   </td><td>meri     </td><td> 219</td></tr>\n",
       "\t<tr><td>balti   </td><td>pagulane </td><td> 217</td></tr>\n",
       "\t<tr><td>balti   </td><td>maa      </td><td> 199</td></tr>\n",
       "\t<tr><td>balti   </td><td>humanist </td><td> 196</td></tr>\n",
       "\t<tr><td>balti   </td><td>rahvus   </td><td> 194</td></tr>\n",
       "\t<tr><td>humanist</td><td>ühing    </td><td> 188</td></tr>\n",
       "\t<tr><td>baltiska</td><td>baltiskas</td><td> 180</td></tr>\n",
       "\t<tr><td>balti   </td><td>saks     </td><td> 168</td></tr>\n",
       "\t<tr><td>riik    </td><td>küsimus  </td><td> 165</td></tr>\n",
       "\t<tr><td>balt    </td><td>balti    </td><td> 161</td></tr>\n",
       "\t<tr><td>balti   </td><td>küsimus  </td><td> 161</td></tr>\n",
       "</tbody>\n",
       "</table>\n"
      ],
      "text/latex": [
       "A data.table: 20 × 3\n",
       "\\begin{tabular}{lll}\n",
       " word1 & word2 & n\\\\\n",
       " <chr> & <chr> & <int>\\\\\n",
       "\\hline\n",
       "\t balti    & riik      & 4293\\\\\n",
       "\t balti    & rahvas    & 1836\\\\\n",
       "\t balti    & põgenik   & 1016\\\\\n",
       "\t kolm     & balti     &  628\\\\\n",
       "\t balti    & komitee   &  386\\\\\n",
       "\t balti    & ülikool   &  318\\\\\n",
       "\t liidu    & liidud    &  288\\\\\n",
       "\t liidud   & liit      &  266\\\\\n",
       "\t balti    & sakslane  &  250\\\\\n",
       "\t balti    & meri      &  219\\\\\n",
       "\t balti    & pagulane  &  217\\\\\n",
       "\t balti    & maa       &  199\\\\\n",
       "\t balti    & humanist  &  196\\\\\n",
       "\t balti    & rahvus    &  194\\\\\n",
       "\t humanist & ühing     &  188\\\\\n",
       "\t baltiska & baltiskas &  180\\\\\n",
       "\t balti    & saks      &  168\\\\\n",
       "\t riik     & küsimus   &  165\\\\\n",
       "\t balt     & balti     &  161\\\\\n",
       "\t balti    & küsimus   &  161\\\\\n",
       "\\end{tabular}\n"
      ],
      "text/markdown": [
       "\n",
       "A data.table: 20 × 3\n",
       "\n",
       "| word1 &lt;chr&gt; | word2 &lt;chr&gt; | n &lt;int&gt; |\n",
       "|---|---|---|\n",
       "| balti    | riik      | 4293 |\n",
       "| balti    | rahvas    | 1836 |\n",
       "| balti    | põgenik   | 1016 |\n",
       "| kolm     | balti     |  628 |\n",
       "| balti    | komitee   |  386 |\n",
       "| balti    | ülikool   |  318 |\n",
       "| liidu    | liidud    |  288 |\n",
       "| liidud   | liit      |  266 |\n",
       "| balti    | sakslane  |  250 |\n",
       "| balti    | meri      |  219 |\n",
       "| balti    | pagulane  |  217 |\n",
       "| balti    | maa       |  199 |\n",
       "| balti    | humanist  |  196 |\n",
       "| balti    | rahvus    |  194 |\n",
       "| humanist | ühing     |  188 |\n",
       "| baltiska | baltiskas |  180 |\n",
       "| balti    | saks      |  168 |\n",
       "| riik     | küsimus   |  165 |\n",
       "| balt     | balti     |  161 |\n",
       "| balti    | küsimus   |  161 |\n",
       "\n"
      ],
      "text/plain": [
       "   word1    word2     n   \n",
       "1  balti    riik      4293\n",
       "2  balti    rahvas    1836\n",
       "3  balti    põgenik   1016\n",
       "4  kolm     balti      628\n",
       "5  balti    komitee    386\n",
       "6  balti    ülikool    318\n",
       "7  liidu    liidud     288\n",
       "8  liidud   liit       266\n",
       "9  balti    sakslane   250\n",
       "10 balti    meri       219\n",
       "11 balti    pagulane   217\n",
       "12 balti    maa        199\n",
       "13 balti    humanist   196\n",
       "14 balti    rahvus     194\n",
       "15 humanist ühing      188\n",
       "16 baltiska baltiskas  180\n",
       "17 balti    saks       168\n",
       "18 riik     küsimus    165\n",
       "19 balt     balti      161\n",
       "20 balti    küsimus    161"
      ]
     },
     "metadata": {},
     "output_type": "display_data"
    }
   ],
   "source": [
    "head(bigram_counts1, 20)"
   ]
  },
  {
   "cell_type": "code",
   "execution_count": 54,
   "id": "790c7aee",
   "metadata": {},
   "outputs": [],
   "source": [
    "bigram_graph1 <- bigram_counts1 %>%\n",
    "  filter(n > 100) %>%\n",
    "  graph_from_data_frame()"
   ]
  },
  {
   "cell_type": "code",
   "execution_count": 55,
   "id": "2eaf718b",
   "metadata": {},
   "outputs": [
    {
     "data": {
      "text/plain": [
       "IGRAPH 070872a DN-- 34 29 -- \n",
       "+ attr: name (v/c), n (e/n)\n",
       "+ edges from 070872a (vertex names):\n",
       " [1] balti   ->riik       balti   ->rahvas     balti   ->põgenik   \n",
       " [4] kolm    ->balti      balti   ->komitee    balti   ->ülikool   \n",
       " [7] liidu   ->liidud     liidud  ->liit       balti   ->sakslane  \n",
       "[10] balti   ->meri       balti   ->pagulane   balti   ->maa       \n",
       "[13] balti   ->humanist   balti   ->rahvus     humanist->ühing     \n",
       "[16] baltiska->baltiskas  balti   ->saks       riik    ->küsimus   \n",
       "[19] balt    ->balti      balti   ->küsimus    nõukogu ->nõukogude \n",
       "[22] riik    ->iseseisvus riik    ->esindaja   balti   ->vabariik  \n",
       "+ ... omitted several edges"
      ]
     },
     "metadata": {},
     "output_type": "display_data"
    }
   ],
   "source": [
    "bigram_graph1"
   ]
  },
  {
   "cell_type": "code",
   "execution_count": 56,
   "id": "a49aa1d0",
   "metadata": {},
   "outputs": [],
   "source": [
    "install.packages('ggraph', lib='~/R_pckg')\n",
    "library(ggraph, lib.loc='~/R_pckg')"
   ]
  },
  {
   "cell_type": "code",
   "execution_count": 57,
   "id": "b53283c4",
   "metadata": {},
   "outputs": [
    {
     "data": {
      "image/png": "[encoded data removed]",
      "text/plain": [
       "plot without title"
      ]
     },
     "metadata": {
      "image/png": {
       "height": 420,
       "width": 420
      }
     },
     "output_type": "display_data"
    }
   ],
   "source": [
    "set.seed(2017)\n",
    "\n",
    "a <- grid::arrow(type = \"closed\", length = unit(.12, \"inches\"))\n",
    "\n",
    "ggraph(bigram_graph1, layout = \"fr\") +\n",
    "    geom_edge_link(aes(edge_alpha = n), show.legend = FALSE, arrow = a, end_cap = circle(.05, 'inches')) +\n",
    "    #geom_node_point(color = \"lightblue\", size = 5) +\n",
    "    geom_node_text(aes(label = name), repel = TRUE, size=4)"
   ]
  },
  {
   "cell_type": "code",
   "execution_count": 58,
   "id": "bf35f9f0",
   "metadata": {},
   "outputs": [],
   "source": [
    "rootsi_ajalehed2 <- all_issues %>%\n",
    "    filter(DocumentType==\"NEWSPAPER\") %>%\n",
    "    filter(year>1960&year<1985) %>%\n",
    "    filter(keyid==\"estdagbladet\" | keyid==\"eestiteatajastock\" | keyid==\"stockholmstid\" | keyid==\"teatajapoliit\" | keyid==\"valiseesti\")"
   ]
  },
  {
   "cell_type": "code",
   "execution_count": 59,
   "id": "d600cdb7",
   "metadata": {},
   "outputs": [],
   "source": [
    "searchfile <- \"rootsi_ngrammid2.txt\"\n",
    "do_subset_search(searchterm=searchterm, searchfile=searchfile, rootsi_ajalehed2, searchtype=\"lemmas\", source=\"pages\")"
   ]
  },
  {
   "cell_type": "code",
   "execution_count": 60,
   "id": "7cd8390f",
   "metadata": {},
   "outputs": [],
   "source": [
    "concs2 <- fread(\"rootsi_ngrammid2.txt\",header=F,sep=\"\\t\", quote=\"\")[,.(id=V1,lemmas=V2)]\n",
    "concs2[,DocumentID:=str_extract(id,\"[^\\\\.]+\")]\n",
    "fileids_w_meta_concs2 <- concs2 %>% select(id, DocumentID) %>% left_join(rootsi_ajalehed2 %>% select(keyid, year, month, DocumentID, zippath_sections, zippath_pages), by=c(\"DocumentID\"))"
   ]
  },
  {
   "cell_type": "code",
   "execution_count": 61,
   "id": "f9a35f8a",
   "metadata": {},
   "outputs": [],
   "source": [
    "rootsi_concs2 <- get_concordances(searchterm=searchterm,texts=concs2,before=50,after=50,txt=\"lemmas\",id=\"id\")"
   ]
  },
  {
   "cell_type": "code",
   "execution_count": 62,
   "id": "573b1b80",
   "metadata": {},
   "outputs": [],
   "source": [
    "rootsi_concs_6184 <- rootsi_concs2[, !c(\"id\",\"nr\",\"begin\",\"end\", \"DocumentID\")]\n",
    "\n",
    "write.table(rootsi_concs_6184, \"6184.txt\", sep=\"\\t\", quote = F, row.names = F)"
   ]
  },
  {
   "cell_type": "code",
   "execution_count": 63,
   "id": "3b0e45a4",
   "metadata": {},
   "outputs": [],
   "source": [
    "bigrams_separated2 <- rootsi_concs_6184 %>%\n",
    "  unnest_tokens(bigram, context, token = \"ngrams\", n = 2) %>%\n",
    "  separate(bigram, c(\"word1\", \"word2\"), sep = \" \")"
   ]
  },
  {
   "cell_type": "code",
   "execution_count": 64,
   "id": "ac67442c",
   "metadata": {},
   "outputs": [],
   "source": [
    "bigrams_filtered2 <- bigrams_separated2 %>%\n",
    "  filter(!word1 %in% stopsonad$word) %>%\n",
    "  filter(!word2 %in% stopsonad$word)"
   ]
  },
  {
   "cell_type": "code",
   "execution_count": 65,
   "id": "ab9afce4",
   "metadata": {},
   "outputs": [],
   "source": [
    "bigram_counts2 <- bigrams_filtered2 %>% \n",
    "  count(word1, word2, sort = TRUE)"
   ]
  },
  {
   "cell_type": "code",
   "execution_count": 66,
   "id": "9f521096",
   "metadata": {},
   "outputs": [
    {
     "data": {
      "text/html": [
       "<table class=\"dataframe\">\n",
       "<caption>A data.table: 20 × 3</caption>\n",
       "<thead>\n",
       "\t<tr><th scope=col>word1</th><th scope=col>word2</th><th scope=col>n</th></tr>\n",
       "\t<tr><th scope=col>&lt;chr&gt;</th><th scope=col>&lt;chr&gt;</th><th scope=col>&lt;int&gt;</th></tr>\n",
       "</thead>\n",
       "<tbody>\n",
       "\t<tr><td>balti    </td><td>riik          </td><td>5085</td></tr>\n",
       "\t<tr><td>balti    </td><td>rahvas        </td><td>1842</td></tr>\n",
       "\t<tr><td>balti    </td><td>komitee       </td><td>1382</td></tr>\n",
       "\t<tr><td>baltiska </td><td>baltiskas     </td><td>1285</td></tr>\n",
       "\t<tr><td>balti    </td><td>instituut     </td><td> 788</td></tr>\n",
       "\t<tr><td>de       </td><td>baltiska      </td><td> 775</td></tr>\n",
       "\t<tr><td>kolm     </td><td>balti         </td><td> 511</td></tr>\n",
       "\t<tr><td>balti    </td><td>organisatsioon</td><td> 475</td></tr>\n",
       "\t<tr><td>balti    </td><td>küsimus       </td><td> 454</td></tr>\n",
       "\t<tr><td>liidu    </td><td>liidud        </td><td> 395</td></tr>\n",
       "\t<tr><td>liidud   </td><td>liit          </td><td> 389</td></tr>\n",
       "\t<tr><td>baltiskas</td><td>staterna      </td><td> 379</td></tr>\n",
       "\t<tr><td>riik     </td><td>küsimus       </td><td> 368</td></tr>\n",
       "\t<tr><td>balti    </td><td>arhiiv        </td><td> 352</td></tr>\n",
       "\t<tr><td>balti    </td><td>vabariik      </td><td> 343</td></tr>\n",
       "\t<tr><td>balt     </td><td>balti         </td><td> 338</td></tr>\n",
       "\t<tr><td>balti    </td><td>vabadusliit   </td><td> 293</td></tr>\n",
       "\t<tr><td>balti    </td><td>põgenik       </td><td> 283</td></tr>\n",
       "\t<tr><td>eesti    </td><td>läti          </td><td> 193</td></tr>\n",
       "\t<tr><td>balti    </td><td>päritolu      </td><td> 192</td></tr>\n",
       "</tbody>\n",
       "</table>\n"
      ],
      "text/latex": [
       "A data.table: 20 × 3\n",
       "\\begin{tabular}{lll}\n",
       " word1 & word2 & n\\\\\n",
       " <chr> & <chr> & <int>\\\\\n",
       "\\hline\n",
       "\t balti     & riik           & 5085\\\\\n",
       "\t balti     & rahvas         & 1842\\\\\n",
       "\t balti     & komitee        & 1382\\\\\n",
       "\t baltiska  & baltiskas      & 1285\\\\\n",
       "\t balti     & instituut      &  788\\\\\n",
       "\t de        & baltiska       &  775\\\\\n",
       "\t kolm      & balti          &  511\\\\\n",
       "\t balti     & organisatsioon &  475\\\\\n",
       "\t balti     & küsimus        &  454\\\\\n",
       "\t liidu     & liidud         &  395\\\\\n",
       "\t liidud    & liit           &  389\\\\\n",
       "\t baltiskas & staterna       &  379\\\\\n",
       "\t riik      & küsimus        &  368\\\\\n",
       "\t balti     & arhiiv         &  352\\\\\n",
       "\t balti     & vabariik       &  343\\\\\n",
       "\t balt      & balti          &  338\\\\\n",
       "\t balti     & vabadusliit    &  293\\\\\n",
       "\t balti     & põgenik        &  283\\\\\n",
       "\t eesti     & läti           &  193\\\\\n",
       "\t balti     & päritolu       &  192\\\\\n",
       "\\end{tabular}\n"
      ],
      "text/markdown": [
       "\n",
       "A data.table: 20 × 3\n",
       "\n",
       "| word1 &lt;chr&gt; | word2 &lt;chr&gt; | n &lt;int&gt; |\n",
       "|---|---|---|\n",
       "| balti     | riik           | 5085 |\n",
       "| balti     | rahvas         | 1842 |\n",
       "| balti     | komitee        | 1382 |\n",
       "| baltiska  | baltiskas      | 1285 |\n",
       "| balti     | instituut      |  788 |\n",
       "| de        | baltiska       |  775 |\n",
       "| kolm      | balti          |  511 |\n",
       "| balti     | organisatsioon |  475 |\n",
       "| balti     | küsimus        |  454 |\n",
       "| liidu     | liidud         |  395 |\n",
       "| liidud    | liit           |  389 |\n",
       "| baltiskas | staterna       |  379 |\n",
       "| riik      | küsimus        |  368 |\n",
       "| balti     | arhiiv         |  352 |\n",
       "| balti     | vabariik       |  343 |\n",
       "| balt      | balti          |  338 |\n",
       "| balti     | vabadusliit    |  293 |\n",
       "| balti     | põgenik        |  283 |\n",
       "| eesti     | läti           |  193 |\n",
       "| balti     | päritolu       |  192 |\n",
       "\n"
      ],
      "text/plain": [
       "   word1     word2          n   \n",
       "1  balti     riik           5085\n",
       "2  balti     rahvas         1842\n",
       "3  balti     komitee        1382\n",
       "4  baltiska  baltiskas      1285\n",
       "5  balti     instituut       788\n",
       "6  de        baltiska        775\n",
       "7  kolm      balti           511\n",
       "8  balti     organisatsioon  475\n",
       "9  balti     küsimus         454\n",
       "10 liidu     liidud          395\n",
       "11 liidud    liit            389\n",
       "12 baltiskas staterna        379\n",
       "13 riik      küsimus         368\n",
       "14 balti     arhiiv          352\n",
       "15 balti     vabariik        343\n",
       "16 balt      balti           338\n",
       "17 balti     vabadusliit     293\n",
       "18 balti     põgenik         283\n",
       "19 eesti     läti            193\n",
       "20 balti     päritolu        192"
      ]
     },
     "metadata": {},
     "output_type": "display_data"
    }
   ],
   "source": [
    "head(bigram_counts2, 20)"
   ]
  },
  {
   "cell_type": "code",
   "execution_count": 67,
   "id": "60c92cd2",
   "metadata": {},
   "outputs": [],
   "source": [
    "bigram_graph2 <- bigram_counts2 %>%\n",
    "  filter(n > 100) %>%\n",
    "  graph_from_data_frame()"
   ]
  },
  {
   "cell_type": "code",
   "execution_count": 68,
   "id": "fcdce86f",
   "metadata": {},
   "outputs": [
    {
     "data": {
      "text/plain": [
       "IGRAPH d356abc DN-- 58 50 -- \n",
       "+ attr: name (v/c), n (e/n)\n",
       "+ edges from d356abc (vertex names):\n",
       " [1] balti    ->riik           balti    ->rahvas        \n",
       " [3] balti    ->komitee        baltiska ->baltiskas     \n",
       " [5] balti    ->instituut      de       ->baltiska      \n",
       " [7] kolm     ->balti          balti    ->organisatsioon\n",
       " [9] balti    ->küsimus        liidu    ->liidud        \n",
       "[11] liidud   ->liit           baltiskas->staterna      \n",
       "[13] riik     ->küsimus        balti    ->arhiiv        \n",
       "[15] balti    ->vabariik       balt     ->balti         \n",
       "+ ... omitted several edges"
      ]
     },
     "metadata": {},
     "output_type": "display_data"
    }
   ],
   "source": [
    "bigram_graph2"
   ]
  },
  {
   "cell_type": "code",
   "execution_count": 69,
   "id": "ad1023d8",
   "metadata": {},
   "outputs": [
    {
     "data": {
      "image/png": "[encoded data removed]",
      "text/plain": [
       "plot without title"
      ]
     },
     "metadata": {
      "image/png": {
       "height": 420,
       "width": 420
      }
     },
     "output_type": "display_data"
    }
   ],
   "source": [
    "set.seed(2017)\n",
    "\n",
    "a <- grid::arrow(type = \"closed\", length = unit(.12, \"inches\"))\n",
    "\n",
    "ggraph(bigram_graph2, layout = \"fr\") +\n",
    "    geom_edge_link(aes(edge_alpha = n), show.legend = FALSE, arrow = a, end_cap = circle(.05, 'inches')) +\n",
    "    geom_node_text(aes(label = name), repel = TRUE, size=4)"
   ]
  },
  {
   "cell_type": "code",
   "execution_count": 70,
   "id": "802d0c0d",
   "metadata": {},
   "outputs": [],
   "source": [
    "rootsi_ajalehed3 <- all_issues %>%\n",
    "    filter(DocumentType==\"NEWSPAPER\") %>%\n",
    "    filter(year>1984&year<1996) %>%\n",
    "    filter(keyid==\"estdagbladet\" | keyid==\"eestiteatajastock\" | keyid==\"stockholmstid\" | keyid==\"teatajapoliit\" | keyid==\"valiseesti\")"
   ]
  },
  {
   "cell_type": "code",
   "execution_count": 71,
   "id": "92ef6f59",
   "metadata": {},
   "outputs": [],
   "source": [
    "searchfile <- \"rootsi_ngrammid3.txt\"\n",
    "do_subset_search(searchterm=searchterm, searchfile=searchfile, rootsi_ajalehed3, searchtype=\"lemmas\", source=\"pages\")"
   ]
  },
  {
   "cell_type": "code",
   "execution_count": 72,
   "id": "98e2706b",
   "metadata": {},
   "outputs": [],
   "source": [
    "concs3 <- fread(\"rootsi_ngrammid3.txt\",header=F,sep=\"\\t\", quote=\"\")[,.(id=V1,lemmas=V2)]\n",
    "concs3[,DocumentID:=str_extract(id,\"[^\\\\.]+\")]\n",
    "fileids_w_meta_concs3 <- concs3 %>% select(id, DocumentID) %>% left_join(rootsi_ajalehed3 %>% select(keyid, year, month, DocumentID, zippath_sections, zippath_pages), by=c(\"DocumentID\"))"
   ]
  },
  {
   "cell_type": "code",
   "execution_count": 73,
   "id": "5fe9bfcc",
   "metadata": {},
   "outputs": [],
   "source": [
    "rootsi_concs3 <- get_concordances(searchterm=searchterm,texts=concs3,before=50,after=50,txt=\"lemmas\",id=\"id\")"
   ]
  },
  {
   "cell_type": "code",
   "execution_count": 74,
   "id": "4e9f420d",
   "metadata": {},
   "outputs": [
    {
     "ename": "ERROR",
     "evalue": "Error in is.data.frame(x): object 'balti_concs_8595' not found\n",
     "output_type": "error",
     "traceback": [
      "Error in is.data.frame(x): object 'balti_concs_8595' not found\nTraceback:\n",
      "1. write.table(balti_concs_8595, \"8595.txt\", sep = \"\\t\", quote = F, \n .     row.names = F)",
      "2. is.data.frame(x)"
     ]
    }
   ],
   "source": [
    "rootsi_concs_8595 <- rootsi_concs3[, !c(\"id\",\"nr\",\"begin\",\"end\", \"DocumentID\")]\n",
    "\n",
    "write.table(balti_concs_8595, \"8595.txt\", sep=\"\\t\", quote = F, row.names = F)"
   ]
  },
  {
   "cell_type": "code",
   "execution_count": 75,
   "id": "2f74389e",
   "metadata": {},
   "outputs": [],
   "source": [
    "bigrams_separated3 <- rootsi_concs_8595 %>%\n",
    "  unnest_tokens(bigram, context, token = \"ngrams\", n = 2) %>%\n",
    "  separate(bigram, c(\"word1\", \"word2\"), sep = \" \")"
   ]
  },
  {
   "cell_type": "code",
   "execution_count": 148,
   "id": "85188620",
   "metadata": {},
   "outputs": [],
   "source": [
    "bigrams_filtered3 <- bigrams_separated3 %>%\n",
    "  filter(!word1 %in% stopsonad$word) %>%\n",
    "  filter(!word2 %in% stopsonad$word)"
   ]
  },
  {
   "cell_type": "code",
   "execution_count": 149,
   "id": "1ea3ac6d",
   "metadata": {},
   "outputs": [],
   "source": [
    "bigram_counts3 <- bigrams_filtered3 %>% \n",
    "  count(word1, word2, sort = TRUE)"
   ]
  },
  {
   "cell_type": "code",
   "execution_count": 150,
   "id": "4b790dee",
   "metadata": {},
   "outputs": [
    {
     "data": {
      "text/html": [
       "<table class=\"dataframe\">\n",
       "<caption>A data.table: 20 × 3</caption>\n",
       "<thead>\n",
       "\t<tr><th scope=col>word1</th><th scope=col>word2</th><th scope=col>n</th></tr>\n",
       "\t<tr><th scope=col>&lt;chr&gt;</th><th scope=col>&lt;chr&gt;</th><th scope=col>&lt;int&gt;</th></tr>\n",
       "</thead>\n",
       "<tbody>\n",
       "\t<tr><td>balti    </td><td>riik          </td><td>3149</td></tr>\n",
       "\t<tr><td>balti    </td><td>rahvas        </td><td> 986</td></tr>\n",
       "\t<tr><td>baltiska </td><td>baltiskas     </td><td> 594</td></tr>\n",
       "\t<tr><td>kolm     </td><td>balti         </td><td> 406</td></tr>\n",
       "\t<tr><td>de       </td><td>baltiska      </td><td> 349</td></tr>\n",
       "\t<tr><td>balti    </td><td>komitee       </td><td> 247</td></tr>\n",
       "\t<tr><td>balti    </td><td>küsimus       </td><td> 225</td></tr>\n",
       "\t<tr><td>balt     </td><td>balti         </td><td> 214</td></tr>\n",
       "\t<tr><td>balti    </td><td>instituut     </td><td> 212</td></tr>\n",
       "\t<tr><td>balti    </td><td>vabadusliit   </td><td> 200</td></tr>\n",
       "\t<tr><td>liidud   </td><td>liit          </td><td> 191</td></tr>\n",
       "\t<tr><td>liidu    </td><td>liidud        </td><td> 189</td></tr>\n",
       "\t<tr><td>balti    </td><td>arhiiv        </td><td> 158</td></tr>\n",
       "\t<tr><td>baltiskas</td><td>staterna      </td><td> 152</td></tr>\n",
       "\t<tr><td>balti    </td><td>organisatsioon</td><td> 151</td></tr>\n",
       "\t<tr><td>balti    </td><td>vabariik      </td><td> 149</td></tr>\n",
       "\t<tr><td>riik     </td><td>iseseisvus    </td><td> 135</td></tr>\n",
       "\t<tr><td>balti    </td><td>noor          </td><td> 117</td></tr>\n",
       "\t<tr><td>balti    </td><td>põgenik       </td><td>  94</td></tr>\n",
       "\t<tr><td>balti    </td><td>tribunal      </td><td>  91</td></tr>\n",
       "</tbody>\n",
       "</table>\n"
      ],
      "text/latex": [
       "A data.table: 20 × 3\n",
       "\\begin{tabular}{lll}\n",
       " word1 & word2 & n\\\\\n",
       " <chr> & <chr> & <int>\\\\\n",
       "\\hline\n",
       "\t balti     & riik           & 3149\\\\\n",
       "\t balti     & rahvas         &  986\\\\\n",
       "\t baltiska  & baltiskas      &  594\\\\\n",
       "\t kolm      & balti          &  406\\\\\n",
       "\t de        & baltiska       &  349\\\\\n",
       "\t balti     & komitee        &  247\\\\\n",
       "\t balti     & küsimus        &  225\\\\\n",
       "\t balt      & balti          &  214\\\\\n",
       "\t balti     & instituut      &  212\\\\\n",
       "\t balti     & vabadusliit    &  200\\\\\n",
       "\t liidud    & liit           &  191\\\\\n",
       "\t liidu     & liidud         &  189\\\\\n",
       "\t balti     & arhiiv         &  158\\\\\n",
       "\t baltiskas & staterna       &  152\\\\\n",
       "\t balti     & organisatsioon &  151\\\\\n",
       "\t balti     & vabariik       &  149\\\\\n",
       "\t riik      & iseseisvus     &  135\\\\\n",
       "\t balti     & noor           &  117\\\\\n",
       "\t balti     & põgenik        &   94\\\\\n",
       "\t balti     & tribunal       &   91\\\\\n",
       "\\end{tabular}\n"
      ],
      "text/markdown": [
       "\n",
       "A data.table: 20 × 3\n",
       "\n",
       "| word1 &lt;chr&gt; | word2 &lt;chr&gt; | n &lt;int&gt; |\n",
       "|---|---|---|\n",
       "| balti     | riik           | 3149 |\n",
       "| balti     | rahvas         |  986 |\n",
       "| baltiska  | baltiskas      |  594 |\n",
       "| kolm      | balti          |  406 |\n",
       "| de        | baltiska       |  349 |\n",
       "| balti     | komitee        |  247 |\n",
       "| balti     | küsimus        |  225 |\n",
       "| balt      | balti          |  214 |\n",
       "| balti     | instituut      |  212 |\n",
       "| balti     | vabadusliit    |  200 |\n",
       "| liidud    | liit           |  191 |\n",
       "| liidu     | liidud         |  189 |\n",
       "| balti     | arhiiv         |  158 |\n",
       "| baltiskas | staterna       |  152 |\n",
       "| balti     | organisatsioon |  151 |\n",
       "| balti     | vabariik       |  149 |\n",
       "| riik      | iseseisvus     |  135 |\n",
       "| balti     | noor           |  117 |\n",
       "| balti     | põgenik        |   94 |\n",
       "| balti     | tribunal       |   91 |\n",
       "\n"
      ],
      "text/plain": [
       "   word1     word2          n   \n",
       "1  balti     riik           3149\n",
       "2  balti     rahvas          986\n",
       "3  baltiska  baltiskas       594\n",
       "4  kolm      balti           406\n",
       "5  de        baltiska        349\n",
       "6  balti     komitee         247\n",
       "7  balti     küsimus         225\n",
       "8  balt      balti           214\n",
       "9  balti     instituut       212\n",
       "10 balti     vabadusliit     200\n",
       "11 liidud    liit            191\n",
       "12 liidu     liidud          189\n",
       "13 balti     arhiiv          158\n",
       "14 baltiskas staterna        152\n",
       "15 balti     organisatsioon  151\n",
       "16 balti     vabariik        149\n",
       "17 riik      iseseisvus      135\n",
       "18 balti     noor            117\n",
       "19 balti     põgenik          94\n",
       "20 balti     tribunal         91"
      ]
     },
     "metadata": {},
     "output_type": "display_data"
    }
   ],
   "source": [
    "head(bigram_counts3, 20)"
   ]
  },
  {
   "cell_type": "code",
   "execution_count": 151,
   "id": "4de38e86",
   "metadata": {},
   "outputs": [],
   "source": [
    "bigram_graph3 <- bigram_counts3 %>%\n",
    "  filter(n > 100) %>%\n",
    "  graph_from_data_frame()"
   ]
  },
  {
   "cell_type": "code",
   "execution_count": 152,
   "id": "01c2956c",
   "metadata": {},
   "outputs": [
    {
     "data": {
      "text/plain": [
       "IGRAPH d8b6595 DN-- 21 18 -- \n",
       "+ attr: name (v/c), n (e/n)\n",
       "+ edges from d8b6595 (vertex names):\n",
       " [1] balti    ->riik           balti    ->rahvas        \n",
       " [3] baltiska ->baltiskas      kolm     ->balti         \n",
       " [5] de       ->baltiska       balti    ->komitee       \n",
       " [7] balti    ->küsimus        balt     ->balti         \n",
       " [9] balti    ->instituut      balti    ->vabadusliit   \n",
       "[11] liidud   ->liit           liidu    ->liidud        \n",
       "[13] balti    ->arhiiv         baltiskas->staterna      \n",
       "[15] balti    ->organisatsioon balti    ->vabariik      \n",
       "+ ... omitted several edges"
      ]
     },
     "metadata": {},
     "output_type": "display_data"
    }
   ],
   "source": [
    "bigram_graph3"
   ]
  },
  {
   "cell_type": "code",
   "execution_count": 153,
   "id": "f9131881",
   "metadata": {},
   "outputs": [
    {
     "data": {
      "image/png": "[encoded data removed]",
      "text/plain": [
       "plot without title"
      ]
     },
     "metadata": {
      "image/png": {
       "height": 420,
       "width": 420
      }
     },
     "output_type": "display_data"
    }
   ],
   "source": [
    "set.seed(2017)\n",
    "\n",
    "a <- grid::arrow(type = \"closed\", length = unit(.12, \"inches\"))\n",
    "\n",
    "ggraph(bigram_graph3, layout = \"fr\") +\n",
    "    geom_edge_link(aes(edge_alpha = n), show.legend = FALSE, arrow = a, end_cap = circle(.05, 'inches')) +\n",
    "    geom_node_text(aes(label = name), repel = TRUE, size=4)"
   ]
  },
  {
   "cell_type": "code",
   "execution_count": null,
   "id": "3fe7744b",
   "metadata": {},
   "outputs": [],
   "source": []
  }
 ],
 "metadata": {
  "kernelspec": {
   "display_name": "R 4.1.2",
   "language": "R",
   "name": "ir4-1"
  },
  "language_info": {
   "codemirror_mode": "r",
   "file_extension": ".r",
   "mimetype": "text/x-r-source",
   "name": "R",
   "pygments_lexer": "r",
   "version": "4.1.2"
  }
 },
 "nbformat": 4,
 "nbformat_minor": 5
}
