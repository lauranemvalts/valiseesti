{
 "cells": [
  {
   "cell_type": "code",
   "execution_count": 1,
   "id": "1901165d",
   "metadata": {},
   "outputs": [
    {
     "name": "stderr",
     "output_type": "stream",
     "text": [
      "Downloading GitHub repo peeter-t2/digar.txts@HEAD\n",
      "\n"
     ]
    },
    {
     "name": "stdout",
     "output_type": "stream",
     "text": [
      "* checking for file ‘/tmp/RtmpwP00nh/remotes76bc33801386/peeter-t2-digar.txts-b87e10a/DESCRIPTION’ ... OK\n",
      "* preparing ‘digar.txts’:\n",
      "* checking DESCRIPTION meta-information ... OK\n",
      "* checking for LF line-endings in source and make files and shell scripts\n",
      "* checking for empty or unneeded directories\n",
      "Omitted ‘LazyData’ from DESCRIPTION\n",
      "* building ‘digar.txts_0.0.0.9100.tar.gz’\n",
      "Warning in sprintf(gettext(fmt, domain = domain), ...) :\n",
      "  one argument not used by format 'invalid uid value replaced by that for user 'nobody''\n",
      "Warning: invalid uid value replaced by that for user 'nobody'\n",
      "\n"
     ]
    },
    {
     "name": "stderr",
     "output_type": "stream",
     "text": [
      "Loading required package: data.table\n",
      "\n"
     ]
    }
   ],
   "source": [
    "remotes::install_github(\"peeter-t2/digar.txts\",lib=\"R_pckg/\",upgrade=\"never\")\n",
    "library(digar.txts,lib.loc=\"R_pckg/\")"
   ]
  },
  {
   "cell_type": "code",
   "execution_count": 2,
   "id": "4e6015b2",
   "metadata": {},
   "outputs": [
    {
     "name": "stderr",
     "output_type": "stream",
     "text": [
      "── \u001b[1mAttaching packages\u001b[22m ─────────────────────────────────────── tidyverse 1.3.1 ──\n",
      "\n",
      "\u001b[32m✔\u001b[39m \u001b[34mggplot2\u001b[39m 3.3.5     \u001b[32m✔\u001b[39m \u001b[34mpurrr  \u001b[39m 0.3.4\n",
      "\u001b[32m✔\u001b[39m \u001b[34mtibble \u001b[39m 3.1.6     \u001b[32m✔\u001b[39m \u001b[34mdplyr  \u001b[39m 1.0.8\n",
      "\u001b[32m✔\u001b[39m \u001b[34mtidyr  \u001b[39m 1.2.0     \u001b[32m✔\u001b[39m \u001b[34mstringr\u001b[39m 1.4.0\n",
      "\u001b[32m✔\u001b[39m \u001b[34mreadr  \u001b[39m 2.1.2     \u001b[32m✔\u001b[39m \u001b[34mforcats\u001b[39m 0.5.1\n",
      "\n",
      "── \u001b[1mConflicts\u001b[22m ────────────────────────────────────────── tidyverse_conflicts() ──\n",
      "\u001b[31m✖\u001b[39m \u001b[34mdplyr\u001b[39m::\u001b[32mbetween()\u001b[39m   masks \u001b[34mdata.table\u001b[39m::between()\n",
      "\u001b[31m✖\u001b[39m \u001b[34mdplyr\u001b[39m::\u001b[32mfilter()\u001b[39m    masks \u001b[34mstats\u001b[39m::filter()\n",
      "\u001b[31m✖\u001b[39m \u001b[34mdplyr\u001b[39m::\u001b[32mfirst()\u001b[39m     masks \u001b[34mdata.table\u001b[39m::first()\n",
      "\u001b[31m✖\u001b[39m \u001b[34mdplyr\u001b[39m::\u001b[32mlag()\u001b[39m       masks \u001b[34mstats\u001b[39m::lag()\n",
      "\u001b[31m✖\u001b[39m \u001b[34mdplyr\u001b[39m::\u001b[32mlast()\u001b[39m      masks \u001b[34mdata.table\u001b[39m::last()\n",
      "\u001b[31m✖\u001b[39m \u001b[34mpurrr\u001b[39m::\u001b[32mtranspose()\u001b[39m masks \u001b[34mdata.table\u001b[39m::transpose()\n",
      "\n"
     ]
    }
   ],
   "source": [
    "library(tidyverse)\n",
    "install.packages('tidytext', lib='~/R_pckg')\n",
    "library(tidytext, lib.loc='~/R_pckg')"
   ]
  },
  {
   "cell_type": "code",
   "execution_count": 3,
   "id": "922c2a9d",
   "metadata": {},
   "outputs": [
    {
     "name": "stdout",
     "output_type": "stream",
     "text": [
      "[1] \"Issue metadata read\"\n"
     ]
    }
   ],
   "source": [
    "all_issues <- get_digar_overview()"
   ]
  },
  {
   "cell_type": "code",
   "execution_count": 4,
   "id": "8f2ca998",
   "metadata": {},
   "outputs": [],
   "source": [
    "valiseesti_ajalehed <- all_issues %>%\n",
    "    filter(DocumentType==\"NEWSPAPER\") %>%\n",
    "    filter(keyid==\"estdagbladet\" | keyid==\"eestiteatajastock\" | keyid==\"stockholmstid\" | keyid==\"teatajapoliit\" | keyid==\"valiseesti\" | keyid==\"vabaeestlane\" | keyid==\"vabaeestisona\" | keyid==\"voitleja\")"
   ]
  },
  {
   "cell_type": "code",
   "execution_count": 5,
   "id": "8f711af9",
   "metadata": {},
   "outputs": [
    {
     "data": {
      "text/html": [
       "<table class=\"dataframe\">\n",
       "<caption>A data.table: 5 × 60</caption>\n",
       "<thead>\n",
       "\t<tr><th scope=col>DocumentID</th><th scope=col>keyid</th><th scope=col>attrs</th><th scope=col>DocumentDate</th><th scope=col>DocumentTitle</th><th scope=col>DocumentType</th><th scope=col>series</th><th scope=col>DocumentNumber</th><th scope=col>DocumentVolume</th><th scope=col>pages</th><th scope=col>⋯</th><th scope=col>n_pages</th><th scope=col>n_articles_lemmas</th><th scope=col>n_pages_lemmas</th><th scope=col>n_articles_metadata</th><th scope=col>n_pages_metadata</th><th scope=col>pages_exist</th><th scope=col>sections_exist</th><th scope=col>decade</th><th scope=col>zippath_pages_meta</th><th scope=col>zippath_sections_meta</th></tr>\n",
       "\t<tr><th scope=col>&lt;chr&gt;</th><th scope=col>&lt;chr&gt;</th><th scope=col>&lt;int&gt;</th><th scope=col>&lt;chr&gt;</th><th scope=col>&lt;chr&gt;</th><th scope=col>&lt;chr&gt;</th><th scope=col>&lt;chr&gt;</th><th scope=col>&lt;chr&gt;</th><th scope=col>&lt;chr&gt;</th><th scope=col>&lt;chr&gt;</th><th scope=col>⋯</th><th scope=col>&lt;int&gt;</th><th scope=col>&lt;int&gt;</th><th scope=col>&lt;int&gt;</th><th scope=col>&lt;int&gt;</th><th scope=col>&lt;int&gt;</th><th scope=col>&lt;lgl&gt;</th><th scope=col>&lt;lgl&gt;</th><th scope=col>&lt;int&gt;</th><th scope=col>&lt;chr&gt;</th><th scope=col>&lt;chr&gt;</th></tr>\n",
       "</thead>\n",
       "<tbody>\n",
       "\t<tr><td>eestiteatajastock19450801</td><td>eestiteatajastock</td><td>1</td><td>1 august 1945 </td><td>Eesti Teataja</td><td>NEWSPAPER</td><td>staging/all_pubs/all_vols_eestiteatajastock.xml</td><td></td><td></td><td>staging/all_pubs/all_vols_eestiteatajastock.xml.tsv</td><td>⋯</td><td>6</td><td>NA</td><td>6</td><td>0</td><td>6</td><td>TRUE</td><td>NA</td><td>1940</td><td>eestiteatajastock/eestiteatajastock_1940_pages_meta.zip</td><td></td></tr>\n",
       "\t<tr><td>eestiteatajastock19450808</td><td>eestiteatajastock</td><td>2</td><td>8 august 1945 </td><td>Eesti Teataja</td><td>NEWSPAPER</td><td>staging/all_pubs/all_vols_eestiteatajastock.xml</td><td></td><td></td><td>staging/all_pubs/all_vols_eestiteatajastock.xml.tsv</td><td>⋯</td><td>6</td><td>NA</td><td>6</td><td>0</td><td>6</td><td>TRUE</td><td>NA</td><td>1940</td><td>eestiteatajastock/eestiteatajastock_1940_pages_meta.zip</td><td></td></tr>\n",
       "\t<tr><td>eestiteatajastock19450815</td><td>eestiteatajastock</td><td>3</td><td>15 august 1945</td><td>Eesti Teataja</td><td>NEWSPAPER</td><td>staging/all_pubs/all_vols_eestiteatajastock.xml</td><td></td><td></td><td>staging/all_pubs/all_vols_eestiteatajastock.xml.tsv</td><td>⋯</td><td>6</td><td>NA</td><td>6</td><td>0</td><td>6</td><td>TRUE</td><td>NA</td><td>1940</td><td>eestiteatajastock/eestiteatajastock_1940_pages_meta.zip</td><td></td></tr>\n",
       "\t<tr><td>eestiteatajastock19450822</td><td>eestiteatajastock</td><td>4</td><td>22 august 1945</td><td>Eesti Teataja</td><td>NEWSPAPER</td><td>staging/all_pubs/all_vols_eestiteatajastock.xml</td><td></td><td></td><td>staging/all_pubs/all_vols_eestiteatajastock.xml.tsv</td><td>⋯</td><td>6</td><td>NA</td><td>6</td><td>0</td><td>6</td><td>TRUE</td><td>NA</td><td>1940</td><td>eestiteatajastock/eestiteatajastock_1940_pages_meta.zip</td><td></td></tr>\n",
       "\t<tr><td>eestiteatajastock19450829</td><td>eestiteatajastock</td><td>5</td><td>29 august 1945</td><td>Eesti Teataja</td><td>NEWSPAPER</td><td>staging/all_pubs/all_vols_eestiteatajastock.xml</td><td></td><td></td><td>staging/all_pubs/all_vols_eestiteatajastock.xml.tsv</td><td>⋯</td><td>6</td><td>NA</td><td>6</td><td>0</td><td>6</td><td>TRUE</td><td>NA</td><td>1940</td><td>eestiteatajastock/eestiteatajastock_1940_pages_meta.zip</td><td></td></tr>\n",
       "</tbody>\n",
       "</table>\n"
      ],
      "text/latex": [
       "A data.table: 5 × 60\n",
       "\\begin{tabular}{lllllllllllllllllllll}\n",
       " DocumentID & keyid & attrs & DocumentDate & DocumentTitle & DocumentType & series & DocumentNumber & DocumentVolume & pages & ⋯ & n\\_pages & n\\_articles\\_lemmas & n\\_pages\\_lemmas & n\\_articles\\_metadata & n\\_pages\\_metadata & pages\\_exist & sections\\_exist & decade & zippath\\_pages\\_meta & zippath\\_sections\\_meta\\\\\n",
       " <chr> & <chr> & <int> & <chr> & <chr> & <chr> & <chr> & <chr> & <chr> & <chr> & ⋯ & <int> & <int> & <int> & <int> & <int> & <lgl> & <lgl> & <int> & <chr> & <chr>\\\\\n",
       "\\hline\n",
       "\t eestiteatajastock19450801 & eestiteatajastock & 1 & 1 august 1945  & Eesti Teataja & NEWSPAPER & staging/all\\_pubs/all\\_vols\\_eestiteatajastock.xml &  &  & staging/all\\_pubs/all\\_vols\\_eestiteatajastock.xml.tsv & ⋯ & 6 & NA & 6 & 0 & 6 & TRUE & NA & 1940 & eestiteatajastock/eestiteatajastock\\_1940\\_pages\\_meta.zip & \\\\\n",
       "\t eestiteatajastock19450808 & eestiteatajastock & 2 & 8 august 1945  & Eesti Teataja & NEWSPAPER & staging/all\\_pubs/all\\_vols\\_eestiteatajastock.xml &  &  & staging/all\\_pubs/all\\_vols\\_eestiteatajastock.xml.tsv & ⋯ & 6 & NA & 6 & 0 & 6 & TRUE & NA & 1940 & eestiteatajastock/eestiteatajastock\\_1940\\_pages\\_meta.zip & \\\\\n",
       "\t eestiteatajastock19450815 & eestiteatajastock & 3 & 15 august 1945 & Eesti Teataja & NEWSPAPER & staging/all\\_pubs/all\\_vols\\_eestiteatajastock.xml &  &  & staging/all\\_pubs/all\\_vols\\_eestiteatajastock.xml.tsv & ⋯ & 6 & NA & 6 & 0 & 6 & TRUE & NA & 1940 & eestiteatajastock/eestiteatajastock\\_1940\\_pages\\_meta.zip & \\\\\n",
       "\t eestiteatajastock19450822 & eestiteatajastock & 4 & 22 august 1945 & Eesti Teataja & NEWSPAPER & staging/all\\_pubs/all\\_vols\\_eestiteatajastock.xml &  &  & staging/all\\_pubs/all\\_vols\\_eestiteatajastock.xml.tsv & ⋯ & 6 & NA & 6 & 0 & 6 & TRUE & NA & 1940 & eestiteatajastock/eestiteatajastock\\_1940\\_pages\\_meta.zip & \\\\\n",
       "\t eestiteatajastock19450829 & eestiteatajastock & 5 & 29 august 1945 & Eesti Teataja & NEWSPAPER & staging/all\\_pubs/all\\_vols\\_eestiteatajastock.xml &  &  & staging/all\\_pubs/all\\_vols\\_eestiteatajastock.xml.tsv & ⋯ & 6 & NA & 6 & 0 & 6 & TRUE & NA & 1940 & eestiteatajastock/eestiteatajastock\\_1940\\_pages\\_meta.zip & \\\\\n",
       "\\end{tabular}\n"
      ],
      "text/markdown": [
       "\n",
       "A data.table: 5 × 60\n",
       "\n",
       "| DocumentID &lt;chr&gt; | keyid &lt;chr&gt; | attrs &lt;int&gt; | DocumentDate &lt;chr&gt; | DocumentTitle &lt;chr&gt; | DocumentType &lt;chr&gt; | series &lt;chr&gt; | DocumentNumber &lt;chr&gt; | DocumentVolume &lt;chr&gt; | pages &lt;chr&gt; | ⋯ ⋯ | n_pages &lt;int&gt; | n_articles_lemmas &lt;int&gt; | n_pages_lemmas &lt;int&gt; | n_articles_metadata &lt;int&gt; | n_pages_metadata &lt;int&gt; | pages_exist &lt;lgl&gt; | sections_exist &lt;lgl&gt; | decade &lt;int&gt; | zippath_pages_meta &lt;chr&gt; | zippath_sections_meta &lt;chr&gt; |\n",
       "|---|---|---|---|---|---|---|---|---|---|---|---|---|---|---|---|---|---|---|---|---|\n",
       "| eestiteatajastock19450801 | eestiteatajastock | 1 | 1 august 1945  | Eesti Teataja | NEWSPAPER | staging/all_pubs/all_vols_eestiteatajastock.xml | <!----> | <!----> | staging/all_pubs/all_vols_eestiteatajastock.xml.tsv | ⋯ | 6 | NA | 6 | 0 | 6 | TRUE | NA | 1940 | eestiteatajastock/eestiteatajastock_1940_pages_meta.zip | <!----> |\n",
       "| eestiteatajastock19450808 | eestiteatajastock | 2 | 8 august 1945  | Eesti Teataja | NEWSPAPER | staging/all_pubs/all_vols_eestiteatajastock.xml | <!----> | <!----> | staging/all_pubs/all_vols_eestiteatajastock.xml.tsv | ⋯ | 6 | NA | 6 | 0 | 6 | TRUE | NA | 1940 | eestiteatajastock/eestiteatajastock_1940_pages_meta.zip | <!----> |\n",
       "| eestiteatajastock19450815 | eestiteatajastock | 3 | 15 august 1945 | Eesti Teataja | NEWSPAPER | staging/all_pubs/all_vols_eestiteatajastock.xml | <!----> | <!----> | staging/all_pubs/all_vols_eestiteatajastock.xml.tsv | ⋯ | 6 | NA | 6 | 0 | 6 | TRUE | NA | 1940 | eestiteatajastock/eestiteatajastock_1940_pages_meta.zip | <!----> |\n",
       "| eestiteatajastock19450822 | eestiteatajastock | 4 | 22 august 1945 | Eesti Teataja | NEWSPAPER | staging/all_pubs/all_vols_eestiteatajastock.xml | <!----> | <!----> | staging/all_pubs/all_vols_eestiteatajastock.xml.tsv | ⋯ | 6 | NA | 6 | 0 | 6 | TRUE | NA | 1940 | eestiteatajastock/eestiteatajastock_1940_pages_meta.zip | <!----> |\n",
       "| eestiteatajastock19450829 | eestiteatajastock | 5 | 29 august 1945 | Eesti Teataja | NEWSPAPER | staging/all_pubs/all_vols_eestiteatajastock.xml | <!----> | <!----> | staging/all_pubs/all_vols_eestiteatajastock.xml.tsv | ⋯ | 6 | NA | 6 | 0 | 6 | TRUE | NA | 1940 | eestiteatajastock/eestiteatajastock_1940_pages_meta.zip | <!----> |\n",
       "\n"
      ],
      "text/plain": [
       "  DocumentID                keyid             attrs DocumentDate  \n",
       "1 eestiteatajastock19450801 eestiteatajastock 1     1 august 1945 \n",
       "2 eestiteatajastock19450808 eestiteatajastock 2     8 august 1945 \n",
       "3 eestiteatajastock19450815 eestiteatajastock 3     15 august 1945\n",
       "4 eestiteatajastock19450822 eestiteatajastock 4     22 august 1945\n",
       "5 eestiteatajastock19450829 eestiteatajastock 5     29 august 1945\n",
       "  DocumentTitle DocumentType series                                         \n",
       "1 Eesti Teataja NEWSPAPER    staging/all_pubs/all_vols_eestiteatajastock.xml\n",
       "2 Eesti Teataja NEWSPAPER    staging/all_pubs/all_vols_eestiteatajastock.xml\n",
       "3 Eesti Teataja NEWSPAPER    staging/all_pubs/all_vols_eestiteatajastock.xml\n",
       "4 Eesti Teataja NEWSPAPER    staging/all_pubs/all_vols_eestiteatajastock.xml\n",
       "5 Eesti Teataja NEWSPAPER    staging/all_pubs/all_vols_eestiteatajastock.xml\n",
       "  DocumentNumber DocumentVolume\n",
       "1                              \n",
       "2                              \n",
       "3                              \n",
       "4                              \n",
       "5                              \n",
       "  pages                                               ⋯ n_pages\n",
       "1 staging/all_pubs/all_vols_eestiteatajastock.xml.tsv ⋯ 6      \n",
       "2 staging/all_pubs/all_vols_eestiteatajastock.xml.tsv ⋯ 6      \n",
       "3 staging/all_pubs/all_vols_eestiteatajastock.xml.tsv ⋯ 6      \n",
       "4 staging/all_pubs/all_vols_eestiteatajastock.xml.tsv ⋯ 6      \n",
       "5 staging/all_pubs/all_vols_eestiteatajastock.xml.tsv ⋯ 6      \n",
       "  n_articles_lemmas n_pages_lemmas n_articles_metadata n_pages_metadata\n",
       "1 NA                6              0                   6               \n",
       "2 NA                6              0                   6               \n",
       "3 NA                6              0                   6               \n",
       "4 NA                6              0                   6               \n",
       "5 NA                6              0                   6               \n",
       "  pages_exist sections_exist decade\n",
       "1 TRUE        NA             1940  \n",
       "2 TRUE        NA             1940  \n",
       "3 TRUE        NA             1940  \n",
       "4 TRUE        NA             1940  \n",
       "5 TRUE        NA             1940  \n",
       "  zippath_pages_meta                                      zippath_sections_meta\n",
       "1 eestiteatajastock/eestiteatajastock_1940_pages_meta.zip                      \n",
       "2 eestiteatajastock/eestiteatajastock_1940_pages_meta.zip                      \n",
       "3 eestiteatajastock/eestiteatajastock_1940_pages_meta.zip                      \n",
       "4 eestiteatajastock/eestiteatajastock_1940_pages_meta.zip                      \n",
       "5 eestiteatajastock/eestiteatajastock_1940_pages_meta.zip                      "
      ]
     },
     "metadata": {},
     "output_type": "display_data"
    }
   ],
   "source": [
    "head(valiseesti_ajalehed, 5)"
   ]
  },
  {
   "cell_type": "code",
   "execution_count": 6,
   "id": "7c427136",
   "metadata": {},
   "outputs": [],
   "source": [
    "searchterm <- \"balti\"\n",
    "searchfile <- \"balti_lemmad.txt\"\n",
    "do_subset_search(searchterm=searchterm, searchfile=searchfile, valiseesti_ajalehed, searchtype=\"lemmas\", source=\"pages\")"
   ]
  },
  {
   "cell_type": "code",
   "execution_count": 7,
   "id": "6176800a",
   "metadata": {},
   "outputs": [],
   "source": [
    "texts1 <- fread(\"balti_lemmad.txt\",header=F,sep=\"\\t\", quote=\"\")[,.(id=V1,lemmas=V2)]\n",
    "texts1[,DocumentID:=str_extract(id,\"[^\\\\.]+\")]\n",
    "fileids_w_meta <- texts1 %>% select(id, DocumentID) %>% left_join(valiseesti_ajalehed %>% select(keyid,year,month,DocumentID, zippath_sections,zippath_pages),by=c(\"DocumentID\"))"
   ]
  },
  {
   "cell_type": "code",
   "execution_count": 8,
   "id": "f43ed1f3",
   "metadata": {},
   "outputs": [],
   "source": [
    "valiseesti_aastad_balti <- fileids_w_meta %>% \n",
    "  count(year)"
   ]
  },
  {
   "cell_type": "code",
   "execution_count": 9,
   "id": "f3c341a3",
   "metadata": {},
   "outputs": [],
   "source": [
    "colnames(valiseesti_aastad_balti)[2]  <- \"esinemisi_kokku\""
   ]
  },
  {
   "cell_type": "code",
   "execution_count": 10,
   "id": "c042ab51",
   "metadata": {},
   "outputs": [
    {
     "name": "stderr",
     "output_type": "stream",
     "text": [
      "Warning message in data.table::fread(cmd = x, fill = T):\n",
      "“File '/tmp/RtmpwP00nh/file76bc55d879e0' has size 0. Returning a NULL data.table.”\n"
     ]
    }
   ],
   "source": [
    "subset_meta <- get_subset_meta(valiseesti_ajalehed, source=\"pages\")"
   ]
  },
  {
   "cell_type": "code",
   "execution_count": 11,
   "id": "a4cc7b04",
   "metadata": {},
   "outputs": [],
   "source": [
    "subset_wordcounts <- subset_meta %>% \n",
    "  group_by(year) %>% \n",
    "  summarise(words=sum(PageTextWordCount))"
   ]
  },
  {
   "cell_type": "code",
   "execution_count": 12,
   "id": "1f118e4c",
   "metadata": {},
   "outputs": [
    {
     "data": {
      "text/html": [
       "<table class=\"dataframe\">\n",
       "<caption>A tibble: 6 × 2</caption>\n",
       "<thead>\n",
       "\t<tr><th scope=col>year</th><th scope=col>words</th></tr>\n",
       "\t<tr><th scope=col>&lt;int&gt;</th><th scope=col>&lt;int&gt;</th></tr>\n",
       "</thead>\n",
       "<tbody>\n",
       "\t<tr><td>1944</td><td> 212175</td></tr>\n",
       "\t<tr><td>1945</td><td>1661642</td></tr>\n",
       "\t<tr><td>1946</td><td>2286172</td></tr>\n",
       "\t<tr><td>1947</td><td>3640298</td></tr>\n",
       "\t<tr><td>1948</td><td>3720132</td></tr>\n",
       "\t<tr><td>1949</td><td>3451905</td></tr>\n",
       "</tbody>\n",
       "</table>\n"
      ],
      "text/latex": [
       "A tibble: 6 × 2\n",
       "\\begin{tabular}{ll}\n",
       " year & words\\\\\n",
       " <int> & <int>\\\\\n",
       "\\hline\n",
       "\t 1944 &  212175\\\\\n",
       "\t 1945 & 1661642\\\\\n",
       "\t 1946 & 2286172\\\\\n",
       "\t 1947 & 3640298\\\\\n",
       "\t 1948 & 3720132\\\\\n",
       "\t 1949 & 3451905\\\\\n",
       "\\end{tabular}\n"
      ],
      "text/markdown": [
       "\n",
       "A tibble: 6 × 2\n",
       "\n",
       "| year &lt;int&gt; | words &lt;int&gt; |\n",
       "|---|---|\n",
       "| 1944 |  212175 |\n",
       "| 1945 | 1661642 |\n",
       "| 1946 | 2286172 |\n",
       "| 1947 | 3640298 |\n",
       "| 1948 | 3720132 |\n",
       "| 1949 | 3451905 |\n",
       "\n"
      ],
      "text/plain": [
       "  year words  \n",
       "1 1944  212175\n",
       "2 1945 1661642\n",
       "3 1946 2286172\n",
       "4 1947 3640298\n",
       "5 1948 3720132\n",
       "6 1949 3451905"
      ]
     },
     "metadata": {},
     "output_type": "display_data"
    }
   ],
   "source": [
    "head(subset_wordcounts, 6)"
   ]
  },
  {
   "cell_type": "code",
   "execution_count": 13,
   "id": "e3efd097",
   "metadata": {},
   "outputs": [],
   "source": [
    "colnames(subset_wordcounts)[2]  <- \"sonu_kokku\""
   ]
  },
  {
   "cell_type": "code",
   "execution_count": 14,
   "id": "84890056",
   "metadata": {},
   "outputs": [],
   "source": [
    "rootsi_ajalehed <- all_issues %>%\n",
    "    filter(DocumentType==\"NEWSPAPER\") %>%\n",
    "    filter(keyid==\"estdagbladet\" | keyid==\"eestiteatajastock\" | keyid==\"stockholmstid\" | keyid==\"teatajapoliit\" | keyid==\"valiseesti\")"
   ]
  },
  {
   "cell_type": "code",
   "execution_count": 15,
   "id": "439c2eba",
   "metadata": {},
   "outputs": [],
   "source": [
    "searchfile <- \"balti_lemmad_rootsi.txt\"\n",
    "do_subset_search(searchterm=searchterm, searchfile=searchfile, rootsi_ajalehed, searchtype=\"lemmas\", source=\"pages\")"
   ]
  },
  {
   "cell_type": "code",
   "execution_count": 16,
   "id": "0d10710e",
   "metadata": {},
   "outputs": [],
   "source": [
    "texts2 <- fread(\"balti_lemmad_rootsi.txt\",header=F,sep=\"\\t\", quote=\"\")[,.(id=V1,lemmas=V2)]\n",
    "texts2[,DocumentID:=str_extract(id,\"[^\\\\.]+\")]\n",
    "fileids_w_meta2 <- texts2 %>% select(id, DocumentID) %>% left_join(rootsi_ajalehed %>% select(keyid, year, month, DocumentID, zippath_sections, zippath_pages), by=c(\"DocumentID\"))"
   ]
  },
  {
   "cell_type": "code",
   "execution_count": 17,
   "id": "fb4b9338",
   "metadata": {},
   "outputs": [],
   "source": [
    "rootsi_aastad_balti <- fileids_w_meta2 %>% \n",
    "  count(year)"
   ]
  },
  {
   "cell_type": "code",
   "execution_count": 18,
   "id": "befe4f5c",
   "metadata": {},
   "outputs": [],
   "source": [
    "subset_meta2 <- get_subset_meta(rootsi_ajalehed, source=\"pages\")"
   ]
  },
  {
   "cell_type": "code",
   "execution_count": 19,
   "id": "7efff918",
   "metadata": {},
   "outputs": [],
   "source": [
    "subset_wordcounts2 <- subset_meta2 %>% \n",
    "  group_by(year) %>% \n",
    "  summarise(words=sum(PageTextWordCount))"
   ]
  },
  {
   "cell_type": "code",
   "execution_count": 20,
   "id": "2117d967",
   "metadata": {},
   "outputs": [
    {
     "data": {
      "text/html": [
       "<table class=\"dataframe\">\n",
       "<caption>A tibble: 6 × 2</caption>\n",
       "<thead>\n",
       "\t<tr><th scope=col>year</th><th scope=col>words</th></tr>\n",
       "\t<tr><th scope=col>&lt;int&gt;</th><th scope=col>&lt;int&gt;</th></tr>\n",
       "</thead>\n",
       "<tbody>\n",
       "\t<tr><td>1944</td><td> 212175</td></tr>\n",
       "\t<tr><td>1945</td><td>1661642</td></tr>\n",
       "\t<tr><td>1946</td><td>2286172</td></tr>\n",
       "\t<tr><td>1947</td><td>3640298</td></tr>\n",
       "\t<tr><td>1948</td><td>3720132</td></tr>\n",
       "\t<tr><td>1949</td><td>3191975</td></tr>\n",
       "</tbody>\n",
       "</table>\n"
      ],
      "text/latex": [
       "A tibble: 6 × 2\n",
       "\\begin{tabular}{ll}\n",
       " year & words\\\\\n",
       " <int> & <int>\\\\\n",
       "\\hline\n",
       "\t 1944 &  212175\\\\\n",
       "\t 1945 & 1661642\\\\\n",
       "\t 1946 & 2286172\\\\\n",
       "\t 1947 & 3640298\\\\\n",
       "\t 1948 & 3720132\\\\\n",
       "\t 1949 & 3191975\\\\\n",
       "\\end{tabular}\n"
      ],
      "text/markdown": [
       "\n",
       "A tibble: 6 × 2\n",
       "\n",
       "| year &lt;int&gt; | words &lt;int&gt; |\n",
       "|---|---|\n",
       "| 1944 |  212175 |\n",
       "| 1945 | 1661642 |\n",
       "| 1946 | 2286172 |\n",
       "| 1947 | 3640298 |\n",
       "| 1948 | 3720132 |\n",
       "| 1949 | 3191975 |\n",
       "\n"
      ],
      "text/plain": [
       "  year words  \n",
       "1 1944  212175\n",
       "2 1945 1661642\n",
       "3 1946 2286172\n",
       "4 1947 3640298\n",
       "5 1948 3720132\n",
       "6 1949 3191975"
      ]
     },
     "metadata": {},
     "output_type": "display_data"
    }
   ],
   "source": [
    "head(subset_wordcounts2, 6)"
   ]
  },
  {
   "cell_type": "code",
   "execution_count": 21,
   "id": "c7fd32db",
   "metadata": {},
   "outputs": [],
   "source": [
    "colnames(rootsi_aastad_balti)[2]  <- \"esinemisi_kokku_rootsi\"\n",
    "colnames(subset_wordcounts2)[2]  <- \"sonu_kokku_rootsi\""
   ]
  },
  {
   "cell_type": "code",
   "execution_count": 22,
   "id": "e6c28a90",
   "metadata": {},
   "outputs": [],
   "source": [
    "kanada_ajalehed <- all_issues %>%\n",
    "    filter(DocumentType==\"NEWSPAPER\") %>%\n",
    "    filter(keyid==\"vabaeestlane\" | keyid==\"voitleja\")"
   ]
  },
  {
   "cell_type": "code",
   "execution_count": 23,
   "id": "0d7e5b1f",
   "metadata": {},
   "outputs": [],
   "source": [
    "searchfile <- \"balti_lemmad_kanada.txt\"\n",
    "do_subset_search(searchterm=searchterm, searchfile=searchfile, kanada_ajalehed, searchtype=\"lemmas\", source=\"pages\")"
   ]
  },
  {
   "cell_type": "code",
   "execution_count": 24,
   "id": "66daca81",
   "metadata": {},
   "outputs": [],
   "source": [
    "texts3 <- fread(\"balti_lemmad_kanada.txt\",header=F,sep=\"\\t\", quote=\"\")[,.(id=V1,lemmas=V2)]\n",
    "texts3[,DocumentID:=str_extract(id,\"[^\\\\.]+\")]\n",
    "fileids_w_meta3 <- texts3 %>% select(id, DocumentID) %>% left_join(kanada_ajalehed %>% select(keyid, year, month, DocumentID, zippath_sections, zippath_pages), by=c(\"DocumentID\"))"
   ]
  },
  {
   "cell_type": "code",
   "execution_count": 25,
   "id": "3a33f094",
   "metadata": {},
   "outputs": [],
   "source": [
    "kanada_aastad_balti <- fileids_w_meta3 %>% \n",
    "  count(year)"
   ]
  },
  {
   "cell_type": "code",
   "execution_count": 26,
   "id": "f5cc220f",
   "metadata": {},
   "outputs": [
    {
     "name": "stderr",
     "output_type": "stream",
     "text": [
      "Warning message in data.table::fread(cmd = x, fill = T):\n",
      "“File '/tmp/RtmpwP00nh/file76bc49cd5a84' has size 0. Returning a NULL data.table.”\n"
     ]
    }
   ],
   "source": [
    "subset_meta3 <- get_subset_meta(kanada_ajalehed, source=\"pages\")"
   ]
  },
  {
   "cell_type": "code",
   "execution_count": 27,
   "id": "42392796",
   "metadata": {},
   "outputs": [],
   "source": [
    "subset_wordcounts3 <- subset_meta3 %>% \n",
    "  group_by(year) %>% \n",
    "  summarise(words=sum(PageTextWordCount))"
   ]
  },
  {
   "cell_type": "code",
   "execution_count": 28,
   "id": "8118422d",
   "metadata": {},
   "outputs": [
    {
     "data": {
      "text/html": [
       "<table class=\"dataframe\">\n",
       "<caption>A tibble: 5 × 2</caption>\n",
       "<thead>\n",
       "\t<tr><th scope=col>year</th><th scope=col>words</th></tr>\n",
       "\t<tr><th scope=col>&lt;int&gt;</th><th scope=col>&lt;int&gt;</th></tr>\n",
       "</thead>\n",
       "<tbody>\n",
       "\t<tr><td>1952</td><td>1389121</td></tr>\n",
       "\t<tr><td>1953</td><td>1631876</td></tr>\n",
       "\t<tr><td>1954</td><td>1722077</td></tr>\n",
       "\t<tr><td>1955</td><td>1760442</td></tr>\n",
       "\t<tr><td>1956</td><td>1719398</td></tr>\n",
       "</tbody>\n",
       "</table>\n"
      ],
      "text/latex": [
       "A tibble: 5 × 2\n",
       "\\begin{tabular}{ll}\n",
       " year & words\\\\\n",
       " <int> & <int>\\\\\n",
       "\\hline\n",
       "\t 1952 & 1389121\\\\\n",
       "\t 1953 & 1631876\\\\\n",
       "\t 1954 & 1722077\\\\\n",
       "\t 1955 & 1760442\\\\\n",
       "\t 1956 & 1719398\\\\\n",
       "\\end{tabular}\n"
      ],
      "text/markdown": [
       "\n",
       "A tibble: 5 × 2\n",
       "\n",
       "| year &lt;int&gt; | words &lt;int&gt; |\n",
       "|---|---|\n",
       "| 1952 | 1389121 |\n",
       "| 1953 | 1631876 |\n",
       "| 1954 | 1722077 |\n",
       "| 1955 | 1760442 |\n",
       "| 1956 | 1719398 |\n",
       "\n"
      ],
      "text/plain": [
       "  year words  \n",
       "1 1952 1389121\n",
       "2 1953 1631876\n",
       "3 1954 1722077\n",
       "4 1955 1760442\n",
       "5 1956 1719398"
      ]
     },
     "metadata": {},
     "output_type": "display_data"
    }
   ],
   "source": [
    "head(subset_wordcounts3, 5)"
   ]
  },
  {
   "cell_type": "code",
   "execution_count": 29,
   "id": "44d17504",
   "metadata": {},
   "outputs": [],
   "source": [
    "colnames(kanada_aastad_balti)[2]  <- \"esinemisi_kokku_kanada\"\n",
    "colnames(subset_wordcounts3)[2]  <- \"sonu_kokku_kanada\""
   ]
  },
  {
   "cell_type": "code",
   "execution_count": 30,
   "id": "3ec61ed3",
   "metadata": {},
   "outputs": [],
   "source": [
    "usa_ajalehed <- all_issues %>%\n",
    "    filter(DocumentType==\"NEWSPAPER\") %>%\n",
    "    filter(keyid==\"vabaeestisona\")"
   ]
  },
  {
   "cell_type": "code",
   "execution_count": 31,
   "id": "46cad8e0",
   "metadata": {},
   "outputs": [],
   "source": [
    "searchfile <- \"balti_lemmad_usa.txt\"\n",
    "do_subset_search(searchterm=searchterm, searchfile=searchfile, usa_ajalehed, searchtype=\"lemmas\", source=\"pages\")"
   ]
  },
  {
   "cell_type": "code",
   "execution_count": 32,
   "id": "08218aa6",
   "metadata": {},
   "outputs": [],
   "source": [
    "texts4 <- fread(\"balti_lemmad_usa.txt\",header=F,sep=\"\\t\", quote=\"\")[,.(id=V1,lemmas=V2)]\n",
    "texts4[,DocumentID:=str_extract(id,\"[^\\\\.]+\")]\n",
    "fileids_w_meta4 <- texts4 %>% select(id, DocumentID) %>% left_join(usa_ajalehed %>% select(keyid, year, month, DocumentID, zippath_sections, zippath_pages), by=c(\"DocumentID\"))"
   ]
  },
  {
   "cell_type": "code",
   "execution_count": 33,
   "id": "727ab0bb",
   "metadata": {},
   "outputs": [],
   "source": [
    "usa_aastad_balti <- fileids_w_meta4 %>% \n",
    "  count(year)"
   ]
  },
  {
   "cell_type": "code",
   "execution_count": 34,
   "id": "c18adf90",
   "metadata": {},
   "outputs": [],
   "source": [
    "subset_meta4 <- get_subset_meta(usa_ajalehed, source=\"pages\")"
   ]
  },
  {
   "cell_type": "code",
   "execution_count": 35,
   "id": "fdeb9b30",
   "metadata": {},
   "outputs": [],
   "source": [
    "subset_wordcounts4 <- subset_meta4 %>% \n",
    "  group_by(year) %>% \n",
    "  summarise(words=sum(PageTextWordCount))"
   ]
  },
  {
   "cell_type": "code",
   "execution_count": 36,
   "id": "f7ac26d4",
   "metadata": {},
   "outputs": [
    {
     "data": {
      "text/html": [
       "<table class=\"dataframe\">\n",
       "<caption>A tibble: 5 × 2</caption>\n",
       "<thead>\n",
       "\t<tr><th scope=col>year</th><th scope=col>words</th></tr>\n",
       "\t<tr><th scope=col>&lt;int&gt;</th><th scope=col>&lt;int&gt;</th></tr>\n",
       "</thead>\n",
       "<tbody>\n",
       "\t<tr><td>1949</td><td> 259930</td></tr>\n",
       "\t<tr><td>1950</td><td> 760216</td></tr>\n",
       "\t<tr><td>1951</td><td> 925559</td></tr>\n",
       "\t<tr><td>1952</td><td>1077164</td></tr>\n",
       "\t<tr><td>1953</td><td>1251404</td></tr>\n",
       "</tbody>\n",
       "</table>\n"
      ],
      "text/latex": [
       "A tibble: 5 × 2\n",
       "\\begin{tabular}{ll}\n",
       " year & words\\\\\n",
       " <int> & <int>\\\\\n",
       "\\hline\n",
       "\t 1949 &  259930\\\\\n",
       "\t 1950 &  760216\\\\\n",
       "\t 1951 &  925559\\\\\n",
       "\t 1952 & 1077164\\\\\n",
       "\t 1953 & 1251404\\\\\n",
       "\\end{tabular}\n"
      ],
      "text/markdown": [
       "\n",
       "A tibble: 5 × 2\n",
       "\n",
       "| year &lt;int&gt; | words &lt;int&gt; |\n",
       "|---|---|\n",
       "| 1949 |  259930 |\n",
       "| 1950 |  760216 |\n",
       "| 1951 |  925559 |\n",
       "| 1952 | 1077164 |\n",
       "| 1953 | 1251404 |\n",
       "\n"
      ],
      "text/plain": [
       "  year words  \n",
       "1 1949  259930\n",
       "2 1950  760216\n",
       "3 1951  925559\n",
       "4 1952 1077164\n",
       "5 1953 1251404"
      ]
     },
     "metadata": {},
     "output_type": "display_data"
    }
   ],
   "source": [
    "head(subset_wordcounts4, 5)"
   ]
  },
  {
   "cell_type": "code",
   "execution_count": 37,
   "id": "4e442793",
   "metadata": {},
   "outputs": [],
   "source": [
    "colnames(usa_aastad_balti)[2]  <- \"esinemisi_kokku_usa\"\n",
    "colnames(subset_wordcounts4)[2]  <- \"sonu_kokku_usa\""
   ]
  },
  {
   "cell_type": "code",
   "execution_count": 38,
   "id": "a3d69635",
   "metadata": {},
   "outputs": [],
   "source": [
    "graafik <- valiseesti_aastad_balti %>% \n",
    "  left_join(subset_wordcounts, by=\"year\") %>%\n",
    "  left_join(rootsi_aastad_balti, by=\"year\") %>%\n",
    "  left_join(subset_wordcounts2, by=\"year\") %>%\n",
    "  left_join(kanada_aastad_balti, by=\"year\") %>%\n",
    "  left_join(subset_wordcounts3, by=\"year\") %>%\n",
    "  left_join(usa_aastad_balti, by=\"year\") %>%\n",
    "  left_join(subset_wordcounts4, by=\"year\")"
   ]
  },
  {
   "cell_type": "code",
   "execution_count": 39,
   "id": "5ca685c8",
   "metadata": {},
   "outputs": [
    {
     "data": {
      "text/html": [
       "<table class=\"dataframe\">\n",
       "<caption>A data.table: 20 × 9</caption>\n",
       "<thead>\n",
       "\t<tr><th scope=col>year</th><th scope=col>esinemisi_kokku</th><th scope=col>sonu_kokku</th><th scope=col>esinemisi_kokku_rootsi</th><th scope=col>sonu_kokku_rootsi</th><th scope=col>esinemisi_kokku_kanada</th><th scope=col>sonu_kokku_kanada</th><th scope=col>esinemisi_kokku_usa</th><th scope=col>sonu_kokku_usa</th></tr>\n",
       "\t<tr><th scope=col>&lt;int&gt;</th><th scope=col>&lt;int&gt;</th><th scope=col>&lt;int&gt;</th><th scope=col>&lt;int&gt;</th><th scope=col>&lt;int&gt;</th><th scope=col>&lt;int&gt;</th><th scope=col>&lt;int&gt;</th><th scope=col>&lt;int&gt;</th><th scope=col>&lt;int&gt;</th></tr>\n",
       "</thead>\n",
       "<tbody>\n",
       "\t<tr><td>1944</td><td>  52</td><td> 212175</td><td> 52</td><td> 212175</td><td> NA</td><td>     NA</td><td> NA</td><td>     NA</td></tr>\n",
       "\t<tr><td>1945</td><td> 423</td><td>1661642</td><td>423</td><td>1661642</td><td> NA</td><td>     NA</td><td> NA</td><td>     NA</td></tr>\n",
       "\t<tr><td>1946</td><td> 629</td><td>2286172</td><td>629</td><td>2286172</td><td> NA</td><td>     NA</td><td> NA</td><td>     NA</td></tr>\n",
       "\t<tr><td>1947</td><td> 618</td><td>3640298</td><td>618</td><td>3640298</td><td> NA</td><td>     NA</td><td> NA</td><td>     NA</td></tr>\n",
       "\t<tr><td>1948</td><td> 850</td><td>3720132</td><td>850</td><td>3720132</td><td> NA</td><td>     NA</td><td> NA</td><td>     NA</td></tr>\n",
       "\t<tr><td>1949</td><td> 753</td><td>3451905</td><td>689</td><td>3191975</td><td> NA</td><td>     NA</td><td> 64</td><td> 259930</td></tr>\n",
       "\t<tr><td>1950</td><td> 898</td><td>3947541</td><td>672</td><td>3187325</td><td> NA</td><td>     NA</td><td>226</td><td> 760216</td></tr>\n",
       "\t<tr><td>1951</td><td> 834</td><td>3852615</td><td>565</td><td>2927056</td><td> NA</td><td>     NA</td><td>269</td><td> 925559</td></tr>\n",
       "\t<tr><td>1952</td><td>1192</td><td>5397700</td><td>566</td><td>2931415</td><td>320</td><td>1389121</td><td>306</td><td>1077164</td></tr>\n",
       "\t<tr><td>1953</td><td>1094</td><td>5281642</td><td>456</td><td>2398362</td><td>276</td><td>1631876</td><td>362</td><td>1251404</td></tr>\n",
       "\t<tr><td>1954</td><td>1198</td><td>5368714</td><td>496</td><td>2392738</td><td>318</td><td>1722077</td><td>384</td><td>1253899</td></tr>\n",
       "\t<tr><td>1955</td><td>1193</td><td>5424443</td><td>485</td><td>2437051</td><td>336</td><td>1760442</td><td>372</td><td>1226950</td></tr>\n",
       "\t<tr><td>1956</td><td>1243</td><td>5334573</td><td>495</td><td>2465595</td><td>374</td><td>1719398</td><td>374</td><td>1149580</td></tr>\n",
       "\t<tr><td>1957</td><td>1157</td><td>5288446</td><td>451</td><td>2375389</td><td>352</td><td>1788358</td><td>354</td><td>1124699</td></tr>\n",
       "\t<tr><td>1958</td><td>1035</td><td>5304165</td><td>383</td><td>2393920</td><td>318</td><td>1758084</td><td>334</td><td>1152161</td></tr>\n",
       "\t<tr><td>1959</td><td> 986</td><td>4561952</td><td>347</td><td>1694904</td><td>324</td><td>1727601</td><td>315</td><td>1139447</td></tr>\n",
       "\t<tr><td>1960</td><td>1016</td><td>4425434</td><td>354</td><td>1411751</td><td>327</td><td>1833567</td><td>335</td><td>1180116</td></tr>\n",
       "\t<tr><td>1961</td><td> 937</td><td>4807496</td><td>445</td><td>1882034</td><td>108</td><td>1760304</td><td>384</td><td>1165158</td></tr>\n",
       "\t<tr><td>1962</td><td>1096</td><td>4641649</td><td>436</td><td>1879028</td><td>277</td><td>1576675</td><td>383</td><td>1185946</td></tr>\n",
       "\t<tr><td>1963</td><td> 894</td><td>4061182</td><td>263</td><td>1207293</td><td>278</td><td>1722713</td><td>353</td><td>1131176</td></tr>\n",
       "</tbody>\n",
       "</table>\n"
      ],
      "text/latex": [
       "A data.table: 20 × 9\n",
       "\\begin{tabular}{lllllllll}\n",
       " year & esinemisi\\_kokku & sonu\\_kokku & esinemisi\\_kokku\\_rootsi & sonu\\_kokku\\_rootsi & esinemisi\\_kokku\\_kanada & sonu\\_kokku\\_kanada & esinemisi\\_kokku\\_usa & sonu\\_kokku\\_usa\\\\\n",
       " <int> & <int> & <int> & <int> & <int> & <int> & <int> & <int> & <int>\\\\\n",
       "\\hline\n",
       "\t 1944 &   52 &  212175 &  52 &  212175 &  NA &      NA &  NA &      NA\\\\\n",
       "\t 1945 &  423 & 1661642 & 423 & 1661642 &  NA &      NA &  NA &      NA\\\\\n",
       "\t 1946 &  629 & 2286172 & 629 & 2286172 &  NA &      NA &  NA &      NA\\\\\n",
       "\t 1947 &  618 & 3640298 & 618 & 3640298 &  NA &      NA &  NA &      NA\\\\\n",
       "\t 1948 &  850 & 3720132 & 850 & 3720132 &  NA &      NA &  NA &      NA\\\\\n",
       "\t 1949 &  753 & 3451905 & 689 & 3191975 &  NA &      NA &  64 &  259930\\\\\n",
       "\t 1950 &  898 & 3947541 & 672 & 3187325 &  NA &      NA & 226 &  760216\\\\\n",
       "\t 1951 &  834 & 3852615 & 565 & 2927056 &  NA &      NA & 269 &  925559\\\\\n",
       "\t 1952 & 1192 & 5397700 & 566 & 2931415 & 320 & 1389121 & 306 & 1077164\\\\\n",
       "\t 1953 & 1094 & 5281642 & 456 & 2398362 & 276 & 1631876 & 362 & 1251404\\\\\n",
       "\t 1954 & 1198 & 5368714 & 496 & 2392738 & 318 & 1722077 & 384 & 1253899\\\\\n",
       "\t 1955 & 1193 & 5424443 & 485 & 2437051 & 336 & 1760442 & 372 & 1226950\\\\\n",
       "\t 1956 & 1243 & 5334573 & 495 & 2465595 & 374 & 1719398 & 374 & 1149580\\\\\n",
       "\t 1957 & 1157 & 5288446 & 451 & 2375389 & 352 & 1788358 & 354 & 1124699\\\\\n",
       "\t 1958 & 1035 & 5304165 & 383 & 2393920 & 318 & 1758084 & 334 & 1152161\\\\\n",
       "\t 1959 &  986 & 4561952 & 347 & 1694904 & 324 & 1727601 & 315 & 1139447\\\\\n",
       "\t 1960 & 1016 & 4425434 & 354 & 1411751 & 327 & 1833567 & 335 & 1180116\\\\\n",
       "\t 1961 &  937 & 4807496 & 445 & 1882034 & 108 & 1760304 & 384 & 1165158\\\\\n",
       "\t 1962 & 1096 & 4641649 & 436 & 1879028 & 277 & 1576675 & 383 & 1185946\\\\\n",
       "\t 1963 &  894 & 4061182 & 263 & 1207293 & 278 & 1722713 & 353 & 1131176\\\\\n",
       "\\end{tabular}\n"
      ],
      "text/markdown": [
       "\n",
       "A data.table: 20 × 9\n",
       "\n",
       "| year &lt;int&gt; | esinemisi_kokku &lt;int&gt; | sonu_kokku &lt;int&gt; | esinemisi_kokku_rootsi &lt;int&gt; | sonu_kokku_rootsi &lt;int&gt; | esinemisi_kokku_kanada &lt;int&gt; | sonu_kokku_kanada &lt;int&gt; | esinemisi_kokku_usa &lt;int&gt; | sonu_kokku_usa &lt;int&gt; |\n",
       "|---|---|---|---|---|---|---|---|---|\n",
       "| 1944 |   52 |  212175 |  52 |  212175 |  NA |      NA |  NA |      NA |\n",
       "| 1945 |  423 | 1661642 | 423 | 1661642 |  NA |      NA |  NA |      NA |\n",
       "| 1946 |  629 | 2286172 | 629 | 2286172 |  NA |      NA |  NA |      NA |\n",
       "| 1947 |  618 | 3640298 | 618 | 3640298 |  NA |      NA |  NA |      NA |\n",
       "| 1948 |  850 | 3720132 | 850 | 3720132 |  NA |      NA |  NA |      NA |\n",
       "| 1949 |  753 | 3451905 | 689 | 3191975 |  NA |      NA |  64 |  259930 |\n",
       "| 1950 |  898 | 3947541 | 672 | 3187325 |  NA |      NA | 226 |  760216 |\n",
       "| 1951 |  834 | 3852615 | 565 | 2927056 |  NA |      NA | 269 |  925559 |\n",
       "| 1952 | 1192 | 5397700 | 566 | 2931415 | 320 | 1389121 | 306 | 1077164 |\n",
       "| 1953 | 1094 | 5281642 | 456 | 2398362 | 276 | 1631876 | 362 | 1251404 |\n",
       "| 1954 | 1198 | 5368714 | 496 | 2392738 | 318 | 1722077 | 384 | 1253899 |\n",
       "| 1955 | 1193 | 5424443 | 485 | 2437051 | 336 | 1760442 | 372 | 1226950 |\n",
       "| 1956 | 1243 | 5334573 | 495 | 2465595 | 374 | 1719398 | 374 | 1149580 |\n",
       "| 1957 | 1157 | 5288446 | 451 | 2375389 | 352 | 1788358 | 354 | 1124699 |\n",
       "| 1958 | 1035 | 5304165 | 383 | 2393920 | 318 | 1758084 | 334 | 1152161 |\n",
       "| 1959 |  986 | 4561952 | 347 | 1694904 | 324 | 1727601 | 315 | 1139447 |\n",
       "| 1960 | 1016 | 4425434 | 354 | 1411751 | 327 | 1833567 | 335 | 1180116 |\n",
       "| 1961 |  937 | 4807496 | 445 | 1882034 | 108 | 1760304 | 384 | 1165158 |\n",
       "| 1962 | 1096 | 4641649 | 436 | 1879028 | 277 | 1576675 | 383 | 1185946 |\n",
       "| 1963 |  894 | 4061182 | 263 | 1207293 | 278 | 1722713 | 353 | 1131176 |\n",
       "\n"
      ],
      "text/plain": [
       "   year esinemisi_kokku sonu_kokku esinemisi_kokku_rootsi sonu_kokku_rootsi\n",
       "1  1944   52             212175     52                     212175          \n",
       "2  1945  423            1661642    423                    1661642          \n",
       "3  1946  629            2286172    629                    2286172          \n",
       "4  1947  618            3640298    618                    3640298          \n",
       "5  1948  850            3720132    850                    3720132          \n",
       "6  1949  753            3451905    689                    3191975          \n",
       "7  1950  898            3947541    672                    3187325          \n",
       "8  1951  834            3852615    565                    2927056          \n",
       "9  1952 1192            5397700    566                    2931415          \n",
       "10 1953 1094            5281642    456                    2398362          \n",
       "11 1954 1198            5368714    496                    2392738          \n",
       "12 1955 1193            5424443    485                    2437051          \n",
       "13 1956 1243            5334573    495                    2465595          \n",
       "14 1957 1157            5288446    451                    2375389          \n",
       "15 1958 1035            5304165    383                    2393920          \n",
       "16 1959  986            4561952    347                    1694904          \n",
       "17 1960 1016            4425434    354                    1411751          \n",
       "18 1961  937            4807496    445                    1882034          \n",
       "19 1962 1096            4641649    436                    1879028          \n",
       "20 1963  894            4061182    263                    1207293          \n",
       "   esinemisi_kokku_kanada sonu_kokku_kanada esinemisi_kokku_usa sonu_kokku_usa\n",
       "1   NA                         NA            NA                      NA       \n",
       "2   NA                         NA            NA                      NA       \n",
       "3   NA                         NA            NA                      NA       \n",
       "4   NA                         NA            NA                      NA       \n",
       "5   NA                         NA            NA                      NA       \n",
       "6   NA                         NA            64                  259930       \n",
       "7   NA                         NA           226                  760216       \n",
       "8   NA                         NA           269                  925559       \n",
       "9  320                    1389121           306                 1077164       \n",
       "10 276                    1631876           362                 1251404       \n",
       "11 318                    1722077           384                 1253899       \n",
       "12 336                    1760442           372                 1226950       \n",
       "13 374                    1719398           374                 1149580       \n",
       "14 352                    1788358           354                 1124699       \n",
       "15 318                    1758084           334                 1152161       \n",
       "16 324                    1727601           315                 1139447       \n",
       "17 327                    1833567           335                 1180116       \n",
       "18 108                    1760304           384                 1165158       \n",
       "19 277                    1576675           383                 1185946       \n",
       "20 278                    1722713           353                 1131176       "
      ]
     },
     "metadata": {},
     "output_type": "display_data"
    }
   ],
   "source": [
    "head(graafik, 20)"
   ]
  },
  {
   "cell_type": "code",
   "execution_count": 40,
   "id": "7fc74be3",
   "metadata": {},
   "outputs": [
    {
     "name": "stderr",
     "output_type": "stream",
     "text": [
      "Warning message:\n",
      "“Removed 8 row(s) containing missing values (geom_path).”\n",
      "Warning message:\n",
      "“Removed 5 row(s) containing missing values (geom_path).”\n"
     ]
    },
    {
     "data": {
      "image/png": "[encoded data removed]",
      "text/plain": [
       "plot without title"
      ]
     },
     "metadata": {
      "image/png": {
       "height": 420,
       "width": 420
      }
     },
     "output_type": "display_data"
    }
   ],
   "source": [
    "colors <- c(\"Rootsi\"=\"blue\", \"Kanada\"=\"darkgreen\", \"USA\"=\"red\")\n",
    "\n",
    "ggplot(graafik, aes(x=year,y=esinemisi_kokku/sonu_kokku)) +\n",
    "  geom_bar(stat = \"identity\", fill = \"gray\") +\n",
    "  geom_line(aes(x=year,y=esinemisi_kokku_rootsi/sonu_kokku_rootsi, color=\"Rootsi\"), stat = \"identity\", size = 1) +\n",
    "  geom_line(aes(x=year,y=esinemisi_kokku_kanada/sonu_kokku_kanada, color=\"Kanada\"), stat = \"identity\", size = 1) +\n",
    "  geom_line(aes(x=year,y=esinemisi_kokku_usa/sonu_kokku_usa, color=\"USA\"), stat = \"identity\", size = 1) +\n",
    "  labs(x = \"Aasta\",\n",
    "       y = \"Suhteline sagedus\",\n",
    "       title = '\"Balti\" suhteline sagedus väliseesti ajalehtedes') +\n",
    "  scale_color_manual(name=\"Riik\", values = colors)"
   ]
  },
  {
   "cell_type": "code",
   "execution_count": null,
   "id": "9781ed7d",
   "metadata": {},
   "outputs": [],
   "source": []
  }
 ],
 "metadata": {
  "kernelspec": {
   "display_name": "R 4.1.2",
   "language": "R",
   "name": "ir4-1"
  },
  "language_info": {
   "codemirror_mode": "r",
   "file_extension": ".r",
   "mimetype": "text/x-r-source",
   "name": "R",
   "pygments_lexer": "r",
   "version": "4.1.2"
  }
 },
 "nbformat": 4,
 "nbformat_minor": 5
}
