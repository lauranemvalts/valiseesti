{
 "cells": [
  {
   "cell_type": "code",
   "execution_count": 1,
   "id": "956e9b10",
   "metadata": {},
   "outputs": [
    {
     "name": "stderr",
     "output_type": "stream",
     "text": [
      "Downloading GitHub repo peeter-t2/digar.txts@HEAD\n",
      "\n"
     ]
    },
    {
     "name": "stdout",
     "output_type": "stream",
     "text": [
      "* checking for file ‘/tmp/RtmpER9o4a/remotes1e64945259493/peeter-t2-digar.txts-b87e10a/DESCRIPTION’ ... OK\n",
      "* preparing ‘digar.txts’:\n",
      "* checking DESCRIPTION meta-information ... OK\n",
      "* checking for LF line-endings in source and make files and shell scripts\n",
      "* checking for empty or unneeded directories\n",
      "Omitted ‘LazyData’ from DESCRIPTION\n",
      "* building ‘digar.txts_0.0.0.9100.tar.gz’\n",
      "Warning in sprintf(gettext(fmt, domain = domain), ...) :\n",
      "  one argument not used by format 'invalid uid value replaced by that for user 'nobody''\n",
      "Warning: invalid uid value replaced by that for user 'nobody'\n",
      "\n"
     ]
    },
    {
     "name": "stderr",
     "output_type": "stream",
     "text": [
      "Loading required package: data.table\n",
      "\n"
     ]
    }
   ],
   "source": [
    "remotes::install_github(\"peeter-t2/digar.txts\",lib=\"R_pckg/\",upgrade=\"never\")\n",
    "library(digar.txts,lib.loc=\"R_pckg/\")"
   ]
  },
  {
   "cell_type": "code",
   "execution_count": 2,
   "id": "375d81e6",
   "metadata": {},
   "outputs": [
    {
     "name": "stderr",
     "output_type": "stream",
     "text": [
      "── \u001b[1mAttaching packages\u001b[22m ─────────────────────────────────────── tidyverse 1.3.1 ──\n",
      "\n",
      "\u001b[32m✔\u001b[39m \u001b[34mggplot2\u001b[39m 3.3.5     \u001b[32m✔\u001b[39m \u001b[34mpurrr  \u001b[39m 0.3.4\n",
      "\u001b[32m✔\u001b[39m \u001b[34mtibble \u001b[39m 3.1.6     \u001b[32m✔\u001b[39m \u001b[34mdplyr  \u001b[39m 1.0.8\n",
      "\u001b[32m✔\u001b[39m \u001b[34mtidyr  \u001b[39m 1.2.0     \u001b[32m✔\u001b[39m \u001b[34mstringr\u001b[39m 1.4.0\n",
      "\u001b[32m✔\u001b[39m \u001b[34mreadr  \u001b[39m 2.1.2     \u001b[32m✔\u001b[39m \u001b[34mforcats\u001b[39m 0.5.1\n",
      "\n",
      "── \u001b[1mConflicts\u001b[22m ────────────────────────────────────────── tidyverse_conflicts() ──\n",
      "\u001b[31m✖\u001b[39m \u001b[34mdplyr\u001b[39m::\u001b[32mbetween()\u001b[39m   masks \u001b[34mdata.table\u001b[39m::between()\n",
      "\u001b[31m✖\u001b[39m \u001b[34mdplyr\u001b[39m::\u001b[32mfilter()\u001b[39m    masks \u001b[34mstats\u001b[39m::filter()\n",
      "\u001b[31m✖\u001b[39m \u001b[34mdplyr\u001b[39m::\u001b[32mfirst()\u001b[39m     masks \u001b[34mdata.table\u001b[39m::first()\n",
      "\u001b[31m✖\u001b[39m \u001b[34mdplyr\u001b[39m::\u001b[32mlag()\u001b[39m       masks \u001b[34mstats\u001b[39m::lag()\n",
      "\u001b[31m✖\u001b[39m \u001b[34mdplyr\u001b[39m::\u001b[32mlast()\u001b[39m      masks \u001b[34mdata.table\u001b[39m::last()\n",
      "\u001b[31m✖\u001b[39m \u001b[34mpurrr\u001b[39m::\u001b[32mtranspose()\u001b[39m masks \u001b[34mdata.table\u001b[39m::transpose()\n",
      "\n"
     ]
    }
   ],
   "source": [
    "library(tidyverse)\n",
    "install.packages('tidytext', lib='~/R_pckg')\n",
    "library(tidytext, lib.loc='~/R_pckg')"
   ]
  },
  {
   "cell_type": "code",
   "execution_count": 3,
   "id": "8ec7615b",
   "metadata": {},
   "outputs": [
    {
     "name": "stdout",
     "output_type": "stream",
     "text": [
      "[1] \"Issue metadata read\"\n"
     ]
    }
   ],
   "source": [
    "all_issues <- get_digar_overview()"
   ]
  },
  {
   "cell_type": "code",
   "execution_count": 4,
   "id": "d6974dd4",
   "metadata": {},
   "outputs": [],
   "source": [
    "rootsi_ajalehed <- all_issues %>%\n",
    "    filter(DocumentType==\"NEWSPAPER\") %>%\n",
    "    filter(keyid==\"estdagbladet\" | keyid==\"eestiteatajastock\" | keyid==\"stockholmstid\" | keyid==\"teatajapoliit\" | keyid==\"valiseesti\")"
   ]
  },
  {
   "cell_type": "code",
   "execution_count": 5,
   "id": "2ed9b088",
   "metadata": {},
   "outputs": [],
   "source": [
    "searchterm <- \"balti\"\n",
    "searchfile <- \"balti_lemmas_rootsi.txt\"\n",
    "do_subset_search(searchterm=searchterm, searchfile=searchfile, rootsi_ajalehed, searchtype=\"lemmas\", source=\"pages\")"
   ]
  },
  {
   "cell_type": "code",
   "execution_count": 6,
   "id": "c3f3ad53",
   "metadata": {},
   "outputs": [],
   "source": [
    "texts <- fread(\"balti_lemmas_rootsi.txt\",header=F,sep=\"\\t\", quote=\"\")[,.(id=V1,lemmas=V2)]\n",
    "texts[,DocumentID:=str_extract(id,\"[^\\\\.]+\")]\n",
    "fileids_w_meta <- texts %>% select(id, DocumentID) %>% left_join(rootsi_ajalehed %>% select(keyid, year, month, DocumentID, zippath_sections, zippath_pages), by=c(\"DocumentID\"))"
   ]
  },
  {
   "cell_type": "code",
   "execution_count": 7,
   "id": "c3bd9365",
   "metadata": {},
   "outputs": [],
   "source": [
    "rootsi_aastad_balti <- fileids_w_meta %>% \n",
    "  count(year) %>% mutate(set=\"balti\")"
   ]
  },
  {
   "cell_type": "code",
   "execution_count": 9,
   "id": "99561860",
   "metadata": {},
   "outputs": [],
   "source": [
    "subset_meta <- get_subset_meta(rootsi_ajalehed, source=\"pages\")"
   ]
  },
  {
   "cell_type": "code",
   "execution_count": 11,
   "id": "2a93e333",
   "metadata": {},
   "outputs": [],
   "source": [
    "subset_wordcounts <- subset_meta %>% \n",
    "  group_by(year) %>% \n",
    "  summarise(words=sum(PageTextWordCount))"
   ]
  },
  {
   "cell_type": "code",
   "execution_count": 18,
   "id": "c53a5862",
   "metadata": {},
   "outputs": [
    {
     "data": {
      "image/png": "[encoded data removed]",
      "text/plain": [
       "plot without title"
      ]
     },
     "metadata": {
      "image/png": {
       "height": 420,
       "width": 420
      }
     },
     "output_type": "display_data"
    }
   ],
   "source": [
    "rootsi_aastad_balti %>% \n",
    "  left_join(subset_wordcounts,by=\"year\") %>% \n",
    "  ggplot(aes(x=year,y=n/words))+\n",
    "  geom_bar(stat = \"identity\", fill = \"#0072CE\") +\n",
    "  labs(x = \"Aasta\",\n",
    "       y = \"Sagedus\",\n",
    "       title = 'Sõna \"balti\" esinemissagedus väliseesti ajalehtedes protsentuaalselt')"
   ]
  },
  {
   "cell_type": "code",
   "execution_count": 19,
   "id": "cfffe770",
   "metadata": {},
   "outputs": [],
   "source": [
    "rootsi_ajalehed1 <- all_issues %>%\n",
    "    filter(DocumentType==\"NEWSPAPER\") %>%\n",
    "    filter(year>1943&year<1961) %>%\n",
    "    filter(keyid==\"estdagbladet\" | keyid==\"eestiteatajastock\" | keyid==\"stockholmstid\" | keyid==\"teatajapoliit\" | keyid==\"valiseesti\")"
   ]
  },
  {
   "cell_type": "code",
   "execution_count": 20,
   "id": "338e28c5",
   "metadata": {},
   "outputs": [],
   "source": [
    "searchterm <- \"balti\"\n",
    "searchfile <- \"balti_lemmas_rootsi1.txt\"\n",
    "do_subset_search(searchterm=searchterm, searchfile=searchfile, rootsi_ajalehed1, searchtype=\"lemmas\", source=\"pages\")"
   ]
  },
  {
   "cell_type": "code",
   "execution_count": 21,
   "id": "c3ff20c0",
   "metadata": {},
   "outputs": [],
   "source": [
    "texts <- fread(\"balti_lemmas_rootsi1.txt\",header=F,sep=\"\\t\", quote=\"\")[,.(id=V1,lemmas=V2)]\n",
    "texts[,DocumentID:=str_extract(id,\"[^\\\\.]+\")]\n",
    "fileids_w_meta1 <- texts %>% select(id, DocumentID) %>% left_join(rootsi_ajalehed1 %>% select(keyid, year, month, DocumentID, zippath_sections, zippath_pages), by=c(\"DocumentID\"))"
   ]
  },
  {
   "cell_type": "code",
   "execution_count": 22,
   "id": "29af7565",
   "metadata": {},
   "outputs": [],
   "source": [
    "balti_concs_rootsi1 <- get_concordances(searchterm=searchterm,texts=texts,before=50,after=50,txt=\"lemmas\",id=\"id\")"
   ]
  },
  {
   "cell_type": "code",
   "execution_count": 39,
   "id": "85802f26",
   "metadata": {},
   "outputs": [],
   "source": [
    "balti_concs1 <- balti_concs_rootsi1[, !c(\"id\",\"nr\",\"begin\",\"end\", \"DocumentID\")]\n",
    "\n",
    "write.table(balti_concs1, \"balti_concs1.txt\", sep=\"\\t\", quote = F, row.names = F)"
   ]
  },
  {
   "cell_type": "code",
   "execution_count": 23,
   "id": "866c7fd1",
   "metadata": {},
   "outputs": [],
   "source": [
    "balti_trigrammid_rootsi1 <- balti_concs_rootsi1 %>% \n",
    "  unnest_tokens(word, context, token = \"ngrams\", n = 3, n_min = 3) %>% \n",
    "  count(word,sort=T)"
   ]
  },
  {
   "cell_type": "code",
   "execution_count": 24,
   "id": "a1375181",
   "metadata": {},
   "outputs": [
    {
     "data": {
      "text/html": [
       "<table class=\"dataframe\">\n",
       "<caption>A data.table: 20 × 2</caption>\n",
       "<thead>\n",
       "\t<tr><th scope=col>word</th><th scope=col>n</th></tr>\n",
       "\t<tr><th scope=col>&lt;chr&gt;</th><th scope=col>&lt;int&gt;</th></tr>\n",
       "</thead>\n",
       "<tbody>\n",
       "\t<tr><td>kolm balti riik          </td><td>294</td></tr>\n",
       "\t<tr><td>teine balti riik         </td><td>288</td></tr>\n",
       "\t<tr><td>ja teine balti           </td><td>273</td></tr>\n",
       "\t<tr><td>liidu liidud liit        </td><td>250</td></tr>\n",
       "\t<tr><td>eesti ja teine           </td><td>195</td></tr>\n",
       "\t<tr><td>balti humanist ühing     </td><td>183</td></tr>\n",
       "\t<tr><td>n liidu liidud           </td><td>178</td></tr>\n",
       "\t<tr><td>ka balti riik            </td><td>176</td></tr>\n",
       "\t<tr><td>balti riik ja            </td><td>166</td></tr>\n",
       "\t<tr><td>balti riik küsimus       </td><td>160</td></tr>\n",
       "\t<tr><td>kolm balti rahvas        </td><td>160</td></tr>\n",
       "\t<tr><td>et balti riik            </td><td>133</td></tr>\n",
       "\t<tr><td>balti riik iseseisvus    </td><td>126</td></tr>\n",
       "\t<tr><td>balti riik esindaja      </td><td>121</td></tr>\n",
       "\t<tr><td>balti riik annekteerimine</td><td>113</td></tr>\n",
       "\t<tr><td>olema balti riik         </td><td>110</td></tr>\n",
       "\t<tr><td>balti riik saatus        </td><td>100</td></tr>\n",
       "\t<tr><td>de baltiska baltiskas    </td><td> 99</td></tr>\n",
       "\t<tr><td>balti riik kodanik       </td><td> 92</td></tr>\n",
       "\t<tr><td>teine balti rahvas       </td><td> 91</td></tr>\n",
       "</tbody>\n",
       "</table>\n"
      ],
      "text/latex": [
       "A data.table: 20 × 2\n",
       "\\begin{tabular}{ll}\n",
       " word & n\\\\\n",
       " <chr> & <int>\\\\\n",
       "\\hline\n",
       "\t kolm balti riik           & 294\\\\\n",
       "\t teine balti riik          & 288\\\\\n",
       "\t ja teine balti            & 273\\\\\n",
       "\t liidu liidud liit         & 250\\\\\n",
       "\t eesti ja teine            & 195\\\\\n",
       "\t balti humanist ühing      & 183\\\\\n",
       "\t n liidu liidud            & 178\\\\\n",
       "\t ka balti riik             & 176\\\\\n",
       "\t balti riik ja             & 166\\\\\n",
       "\t balti riik küsimus        & 160\\\\\n",
       "\t kolm balti rahvas         & 160\\\\\n",
       "\t et balti riik             & 133\\\\\n",
       "\t balti riik iseseisvus     & 126\\\\\n",
       "\t balti riik esindaja       & 121\\\\\n",
       "\t balti riik annekteerimine & 113\\\\\n",
       "\t olema balti riik          & 110\\\\\n",
       "\t balti riik saatus         & 100\\\\\n",
       "\t de baltiska baltiskas     &  99\\\\\n",
       "\t balti riik kodanik        &  92\\\\\n",
       "\t teine balti rahvas        &  91\\\\\n",
       "\\end{tabular}\n"
      ],
      "text/markdown": [
       "\n",
       "A data.table: 20 × 2\n",
       "\n",
       "| word &lt;chr&gt; | n &lt;int&gt; |\n",
       "|---|---|\n",
       "| kolm balti riik           | 294 |\n",
       "| teine balti riik          | 288 |\n",
       "| ja teine balti            | 273 |\n",
       "| liidu liidud liit         | 250 |\n",
       "| eesti ja teine            | 195 |\n",
       "| balti humanist ühing      | 183 |\n",
       "| n liidu liidud            | 178 |\n",
       "| ka balti riik             | 176 |\n",
       "| balti riik ja             | 166 |\n",
       "| balti riik küsimus        | 160 |\n",
       "| kolm balti rahvas         | 160 |\n",
       "| et balti riik             | 133 |\n",
       "| balti riik iseseisvus     | 126 |\n",
       "| balti riik esindaja       | 121 |\n",
       "| balti riik annekteerimine | 113 |\n",
       "| olema balti riik          | 110 |\n",
       "| balti riik saatus         | 100 |\n",
       "| de baltiska baltiskas     |  99 |\n",
       "| balti riik kodanik        |  92 |\n",
       "| teine balti rahvas        |  91 |\n",
       "\n"
      ],
      "text/plain": [
       "   word                      n  \n",
       "1  kolm balti riik           294\n",
       "2  teine balti riik          288\n",
       "3  ja teine balti            273\n",
       "4  liidu liidud liit         250\n",
       "5  eesti ja teine            195\n",
       "6  balti humanist ühing      183\n",
       "7  n liidu liidud            178\n",
       "8  ka balti riik             176\n",
       "9  balti riik ja             166\n",
       "10 balti riik küsimus        160\n",
       "11 kolm balti rahvas         160\n",
       "12 et balti riik             133\n",
       "13 balti riik iseseisvus     126\n",
       "14 balti riik esindaja       121\n",
       "15 balti riik annekteerimine 113\n",
       "16 olema balti riik          110\n",
       "17 balti riik saatus         100\n",
       "18 de baltiska baltiskas      99\n",
       "19 balti riik kodanik         92\n",
       "20 teine balti rahvas         91"
      ]
     },
     "metadata": {},
     "output_type": "display_data"
    }
   ],
   "source": [
    "head(balti_trigrammid_rootsi1, 20)"
   ]
  },
  {
   "cell_type": "code",
   "execution_count": 25,
   "id": "34851f29",
   "metadata": {},
   "outputs": [],
   "source": [
    "rootsi_ajalehed2 <- all_issues %>%\n",
    "    filter(DocumentType==\"NEWSPAPER\") %>%\n",
    "    filter(year>1960&year<1985) %>%\n",
    "    filter(keyid==\"estdagbladet\" | keyid==\"eestiteatajastock\" | keyid==\"stockholmstid\" | keyid==\"teatajapoliit\" | keyid==\"valiseesti\")"
   ]
  },
  {
   "cell_type": "code",
   "execution_count": 26,
   "id": "eaddf20e",
   "metadata": {},
   "outputs": [],
   "source": [
    "searchterm <- \"balti\"\n",
    "searchfile <- \"balti_lemmas_rootsi2.txt\"\n",
    "do_subset_search(searchterm=searchterm, searchfile=searchfile, rootsi_ajalehed2, searchtype=\"lemmas\", source=\"pages\")"
   ]
  },
  {
   "cell_type": "code",
   "execution_count": 27,
   "id": "63e49794",
   "metadata": {},
   "outputs": [],
   "source": [
    "texts <- fread(\"balti_lemmas_rootsi2.txt\",header=F,sep=\"\\t\", quote=\"\")[,.(id=V1,lemmas=V2)]\n",
    "texts[,DocumentID:=str_extract(id,\"[^\\\\.]+\")]\n",
    "fileids_w_meta1 <- texts %>% select(id, DocumentID) %>% left_join(rootsi_ajalehed2 %>% select(keyid, year, month, DocumentID, zippath_sections, zippath_pages), by=c(\"DocumentID\"))"
   ]
  },
  {
   "cell_type": "code",
   "execution_count": 28,
   "id": "a28832d6",
   "metadata": {},
   "outputs": [],
   "source": [
    "balti_concs_rootsi2 <- get_concordances(searchterm=searchterm,texts=texts,before=50,after=50,txt=\"lemmas\",id=\"id\")"
   ]
  },
  {
   "cell_type": "code",
   "execution_count": 40,
   "id": "4086d26b",
   "metadata": {},
   "outputs": [],
   "source": [
    "balti_concs2 <- balti_concs_rootsi2[, !c(\"id\",\"nr\",\"begin\",\"end\", \"DocumentID\")]\n",
    "\n",
    "write.table(balti_concs2, \"balti_concs2.txt\", sep=\"\\t\", quote = F, row.names = F)"
   ]
  },
  {
   "cell_type": "code",
   "execution_count": 29,
   "id": "a827f880",
   "metadata": {},
   "outputs": [],
   "source": [
    "balti_trigrammid_rootsi2 <- balti_concs_rootsi2 %>% \n",
    "  unnest_tokens(word, context, token = \"ngrams\", n = 3, n_min = 3) %>% \n",
    "  count(word,sort=T)"
   ]
  },
  {
   "cell_type": "code",
   "execution_count": 30,
   "id": "b5e2c64b",
   "metadata": {},
   "outputs": [
    {
     "data": {
      "text/html": [
       "<table class=\"dataframe\">\n",
       "<caption>A data.table: 20 × 2</caption>\n",
       "<thead>\n",
       "\t<tr><th scope=col>word</th><th scope=col>n</th></tr>\n",
       "\t<tr><th scope=col>&lt;chr&gt;</th><th scope=col>&lt;int&gt;</th></tr>\n",
       "</thead>\n",
       "<tbody>\n",
       "\t<tr><td>de baltiska baltiskas      </td><td>766</td></tr>\n",
       "\t<tr><td>baltiska baltiskas staterna</td><td>376</td></tr>\n",
       "\t<tr><td>ja teine balti             </td><td>370</td></tr>\n",
       "\t<tr><td>balti riik küsimus         </td><td>362</td></tr>\n",
       "\t<tr><td>liidu liidud liit          </td><td>359</td></tr>\n",
       "\t<tr><td>teine balti riik           </td><td>326</td></tr>\n",
       "\t<tr><td>n liidu liidud             </td><td>301</td></tr>\n",
       "\t<tr><td>eesti ja teine             </td><td>291</td></tr>\n",
       "\t<tr><td>kolm balti riik            </td><td>258</td></tr>\n",
       "\t<tr><td>eesti ja balti             </td><td>242</td></tr>\n",
       "\t<tr><td>ja balti komitee           </td><td>216</td></tr>\n",
       "\t<tr><td>balti riik ja              </td><td>205</td></tr>\n",
       "\t<tr><td>balti riik annekteerimine  </td><td>191</td></tr>\n",
       "\t<tr><td>läti ja leedu              </td><td>167</td></tr>\n",
       "\t<tr><td>et balti riik              </td><td>164</td></tr>\n",
       "\t<tr><td>balti riik okupeerimine    </td><td>162</td></tr>\n",
       "\t<tr><td>eesti läti ja              </td><td>161</td></tr>\n",
       "\t<tr><td>balti komitee ja           </td><td>158</td></tr>\n",
       "\t<tr><td>ka balti riik              </td><td>155</td></tr>\n",
       "\t<tr><td>balti riik iseseisvus      </td><td>145</td></tr>\n",
       "</tbody>\n",
       "</table>\n"
      ],
      "text/latex": [
       "A data.table: 20 × 2\n",
       "\\begin{tabular}{ll}\n",
       " word & n\\\\\n",
       " <chr> & <int>\\\\\n",
       "\\hline\n",
       "\t de baltiska baltiskas       & 766\\\\\n",
       "\t baltiska baltiskas staterna & 376\\\\\n",
       "\t ja teine balti              & 370\\\\\n",
       "\t balti riik küsimus          & 362\\\\\n",
       "\t liidu liidud liit           & 359\\\\\n",
       "\t teine balti riik            & 326\\\\\n",
       "\t n liidu liidud              & 301\\\\\n",
       "\t eesti ja teine              & 291\\\\\n",
       "\t kolm balti riik             & 258\\\\\n",
       "\t eesti ja balti              & 242\\\\\n",
       "\t ja balti komitee            & 216\\\\\n",
       "\t balti riik ja               & 205\\\\\n",
       "\t balti riik annekteerimine   & 191\\\\\n",
       "\t läti ja leedu               & 167\\\\\n",
       "\t et balti riik               & 164\\\\\n",
       "\t balti riik okupeerimine     & 162\\\\\n",
       "\t eesti läti ja               & 161\\\\\n",
       "\t balti komitee ja            & 158\\\\\n",
       "\t ka balti riik               & 155\\\\\n",
       "\t balti riik iseseisvus       & 145\\\\\n",
       "\\end{tabular}\n"
      ],
      "text/markdown": [
       "\n",
       "A data.table: 20 × 2\n",
       "\n",
       "| word &lt;chr&gt; | n &lt;int&gt; |\n",
       "|---|---|\n",
       "| de baltiska baltiskas       | 766 |\n",
       "| baltiska baltiskas staterna | 376 |\n",
       "| ja teine balti              | 370 |\n",
       "| balti riik küsimus          | 362 |\n",
       "| liidu liidud liit           | 359 |\n",
       "| teine balti riik            | 326 |\n",
       "| n liidu liidud              | 301 |\n",
       "| eesti ja teine              | 291 |\n",
       "| kolm balti riik             | 258 |\n",
       "| eesti ja balti              | 242 |\n",
       "| ja balti komitee            | 216 |\n",
       "| balti riik ja               | 205 |\n",
       "| balti riik annekteerimine   | 191 |\n",
       "| läti ja leedu               | 167 |\n",
       "| et balti riik               | 164 |\n",
       "| balti riik okupeerimine     | 162 |\n",
       "| eesti läti ja               | 161 |\n",
       "| balti komitee ja            | 158 |\n",
       "| ka balti riik               | 155 |\n",
       "| balti riik iseseisvus       | 145 |\n",
       "\n"
      ],
      "text/plain": [
       "   word                        n  \n",
       "1  de baltiska baltiskas       766\n",
       "2  baltiska baltiskas staterna 376\n",
       "3  ja teine balti              370\n",
       "4  balti riik küsimus          362\n",
       "5  liidu liidud liit           359\n",
       "6  teine balti riik            326\n",
       "7  n liidu liidud              301\n",
       "8  eesti ja teine              291\n",
       "9  kolm balti riik             258\n",
       "10 eesti ja balti              242\n",
       "11 ja balti komitee            216\n",
       "12 balti riik ja               205\n",
       "13 balti riik annekteerimine   191\n",
       "14 läti ja leedu               167\n",
       "15 et balti riik               164\n",
       "16 balti riik okupeerimine     162\n",
       "17 eesti läti ja               161\n",
       "18 balti komitee ja            158\n",
       "19 ka balti riik               155\n",
       "20 balti riik iseseisvus       145"
      ]
     },
     "metadata": {},
     "output_type": "display_data"
    }
   ],
   "source": [
    "head(balti_trigrammid_rootsi2, 20)"
   ]
  },
  {
   "cell_type": "code",
   "execution_count": 31,
   "id": "7d2f4569",
   "metadata": {},
   "outputs": [],
   "source": [
    "rootsi_ajalehed3 <- all_issues %>%\n",
    "    filter(DocumentType==\"NEWSPAPER\") %>%\n",
    "    filter(year>1984&year<1996) %>%\n",
    "    filter(keyid==\"estdagbladet\" | keyid==\"eestiteatajastock\" | keyid==\"stockholmstid\" | keyid==\"teatajapoliit\" | keyid==\"valiseesti\")"
   ]
  },
  {
   "cell_type": "code",
   "execution_count": 32,
   "id": "b6d101e6",
   "metadata": {},
   "outputs": [],
   "source": [
    "searchterm <- \"balti\"\n",
    "searchfile <- \"balti_lemmas_rootsi3.txt\"\n",
    "do_subset_search(searchterm=searchterm, searchfile=searchfile, rootsi_ajalehed3, searchtype=\"lemmas\", source=\"pages\")"
   ]
  },
  {
   "cell_type": "code",
   "execution_count": 33,
   "id": "aa559dfd",
   "metadata": {},
   "outputs": [],
   "source": [
    "texts <- fread(\"balti_lemmas_rootsi3.txt\",header=F,sep=\"\\t\", quote=\"\")[,.(id=V1,lemmas=V2)]\n",
    "texts[,DocumentID:=str_extract(id,\"[^\\\\.]+\")]\n",
    "fileids_w_meta1 <- texts %>% select(id, DocumentID) %>% left_join(rootsi_ajalehed3 %>% select(keyid, year, month, DocumentID, zippath_sections, zippath_pages), by=c(\"DocumentID\"))"
   ]
  },
  {
   "cell_type": "code",
   "execution_count": 34,
   "id": "0a11ae83",
   "metadata": {},
   "outputs": [],
   "source": [
    "balti_concs_rootsi3 <- get_concordances(searchterm=searchterm,texts=texts,before=50,after=50,txt=\"lemmas\",id=\"id\")"
   ]
  },
  {
   "cell_type": "code",
   "execution_count": 41,
   "id": "54b1a920",
   "metadata": {},
   "outputs": [],
   "source": [
    "balti_concs3 <- balti_concs_rootsi3[, !c(\"id\",\"nr\",\"begin\",\"end\", \"DocumentID\")]\n",
    "\n",
    "write.table(balti_concs3, \"balti_concs3.txt\", sep=\"\\t\", quote = F, row.names = F)"
   ]
  },
  {
   "cell_type": "code",
   "execution_count": 35,
   "id": "6a9582c7",
   "metadata": {},
   "outputs": [],
   "source": [
    "balti_trigrammid_rootsi3 <- balti_concs_rootsi3 %>% \n",
    "  unnest_tokens(word, context, token = \"ngrams\", n = 3, n_min = 3) %>% \n",
    "  count(word,sort=T)"
   ]
  },
  {
   "cell_type": "code",
   "execution_count": 36,
   "id": "25e3906b",
   "metadata": {},
   "outputs": [
    {
     "data": {
      "text/html": [
       "<table class=\"dataframe\">\n",
       "<caption>A data.table: 20 × 2</caption>\n",
       "<thead>\n",
       "\t<tr><th scope=col>word</th><th scope=col>n</th></tr>\n",
       "\t<tr><th scope=col>&lt;chr&gt;</th><th scope=col>&lt;int&gt;</th></tr>\n",
       "</thead>\n",
       "<tbody>\n",
       "\t<tr><td>de baltiska baltiskas      </td><td>346</td></tr>\n",
       "\t<tr><td>kolm balti riik            </td><td>233</td></tr>\n",
       "\t<tr><td>teine balti riik           </td><td>186</td></tr>\n",
       "\t<tr><td>liidu liidud liit          </td><td>174</td></tr>\n",
       "\t<tr><td>ja teine balti             </td><td>155</td></tr>\n",
       "\t<tr><td>baltiska baltiskas staterna</td><td>152</td></tr>\n",
       "\t<tr><td>balti riik iseseisvus      </td><td>132</td></tr>\n",
       "\t<tr><td>et balti riik              </td><td>126</td></tr>\n",
       "\t<tr><td>balti riik ja              </td><td>123</td></tr>\n",
       "\t<tr><td>n liidu liidud             </td><td>120</td></tr>\n",
       "\t<tr><td>olema balti riik           </td><td>107</td></tr>\n",
       "\t<tr><td>eesti ja teine             </td><td>106</td></tr>\n",
       "\t<tr><td>ka balti riik              </td><td>101</td></tr>\n",
       "\t<tr><td>eesti ja balti             </td><td> 86</td></tr>\n",
       "\t<tr><td>läti ja leedu              </td><td> 85</td></tr>\n",
       "\t<tr><td>balti riik küsimus         </td><td> 77</td></tr>\n",
       "\t<tr><td>kõik kolm balti            </td><td> 76</td></tr>\n",
       "\t<tr><td>balti riik olema           </td><td> 72</td></tr>\n",
       "\t<tr><td>eesti läti ja              </td><td> 72</td></tr>\n",
       "\t<tr><td>balti riik annekteerimine  </td><td> 68</td></tr>\n",
       "</tbody>\n",
       "</table>\n"
      ],
      "text/latex": [
       "A data.table: 20 × 2\n",
       "\\begin{tabular}{ll}\n",
       " word & n\\\\\n",
       " <chr> & <int>\\\\\n",
       "\\hline\n",
       "\t de baltiska baltiskas       & 346\\\\\n",
       "\t kolm balti riik             & 233\\\\\n",
       "\t teine balti riik            & 186\\\\\n",
       "\t liidu liidud liit           & 174\\\\\n",
       "\t ja teine balti              & 155\\\\\n",
       "\t baltiska baltiskas staterna & 152\\\\\n",
       "\t balti riik iseseisvus       & 132\\\\\n",
       "\t et balti riik               & 126\\\\\n",
       "\t balti riik ja               & 123\\\\\n",
       "\t n liidu liidud              & 120\\\\\n",
       "\t olema balti riik            & 107\\\\\n",
       "\t eesti ja teine              & 106\\\\\n",
       "\t ka balti riik               & 101\\\\\n",
       "\t eesti ja balti              &  86\\\\\n",
       "\t läti ja leedu               &  85\\\\\n",
       "\t balti riik küsimus          &  77\\\\\n",
       "\t kõik kolm balti             &  76\\\\\n",
       "\t balti riik olema            &  72\\\\\n",
       "\t eesti läti ja               &  72\\\\\n",
       "\t balti riik annekteerimine   &  68\\\\\n",
       "\\end{tabular}\n"
      ],
      "text/markdown": [
       "\n",
       "A data.table: 20 × 2\n",
       "\n",
       "| word &lt;chr&gt; | n &lt;int&gt; |\n",
       "|---|---|\n",
       "| de baltiska baltiskas       | 346 |\n",
       "| kolm balti riik             | 233 |\n",
       "| teine balti riik            | 186 |\n",
       "| liidu liidud liit           | 174 |\n",
       "| ja teine balti              | 155 |\n",
       "| baltiska baltiskas staterna | 152 |\n",
       "| balti riik iseseisvus       | 132 |\n",
       "| et balti riik               | 126 |\n",
       "| balti riik ja               | 123 |\n",
       "| n liidu liidud              | 120 |\n",
       "| olema balti riik            | 107 |\n",
       "| eesti ja teine              | 106 |\n",
       "| ka balti riik               | 101 |\n",
       "| eesti ja balti              |  86 |\n",
       "| läti ja leedu               |  85 |\n",
       "| balti riik küsimus          |  77 |\n",
       "| kõik kolm balti             |  76 |\n",
       "| balti riik olema            |  72 |\n",
       "| eesti läti ja               |  72 |\n",
       "| balti riik annekteerimine   |  68 |\n",
       "\n"
      ],
      "text/plain": [
       "   word                        n  \n",
       "1  de baltiska baltiskas       346\n",
       "2  kolm balti riik             233\n",
       "3  teine balti riik            186\n",
       "4  liidu liidud liit           174\n",
       "5  ja teine balti              155\n",
       "6  baltiska baltiskas staterna 152\n",
       "7  balti riik iseseisvus       132\n",
       "8  et balti riik               126\n",
       "9  balti riik ja               123\n",
       "10 n liidu liidud              120\n",
       "11 olema balti riik            107\n",
       "12 eesti ja teine              106\n",
       "13 ka balti riik               101\n",
       "14 eesti ja balti               86\n",
       "15 läti ja leedu                85\n",
       "16 balti riik küsimus           77\n",
       "17 kõik kolm balti              76\n",
       "18 balti riik olema             72\n",
       "19 eesti läti ja                72\n",
       "20 balti riik annekteerimine    68"
      ]
     },
     "metadata": {},
     "output_type": "display_data"
    }
   ],
   "source": [
    "head(balti_trigrammid_rootsi3, 20)"
   ]
  },
  {
   "cell_type": "code",
   "execution_count": null,
   "id": "da2b1b47",
   "metadata": {},
   "outputs": [],
   "source": []
  }
 ],
 "metadata": {
  "kernelspec": {
   "display_name": "R 4.1.2",
   "language": "R",
   "name": "ir4-1"
  },
  "language_info": {
   "codemirror_mode": "r",
   "file_extension": ".r",
   "mimetype": "text/x-r-source",
   "name": "R",
   "pygments_lexer": "r",
   "version": "4.1.2"
  }
 },
 "nbformat": 4,
 "nbformat_minor": 5
}
