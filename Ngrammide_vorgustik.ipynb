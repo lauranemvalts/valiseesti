{
 "cells": [
  {
   "cell_type": "code",
   "execution_count": 1,
   "id": "ded9fb3c",
   "metadata": {},
   "outputs": [
    {
     "name": "stderr",
     "output_type": "stream",
     "text": [
      "Downloading GitHub repo peeter-t2/digar.txts@HEAD\n",
      "\n"
     ]
    },
    {
     "name": "stdout",
     "output_type": "stream",
     "text": [
      "* checking for file ‘/tmp/Rtmpnjnkei/remotesf12267aea2f8/peeter-t2-digar.txts-b87e10a/DESCRIPTION’ ... OK\n",
      "* preparing ‘digar.txts’:\n",
      "* checking DESCRIPTION meta-information ... OK\n",
      "* checking for LF line-endings in source and make files and shell scripts\n",
      "* checking for empty or unneeded directories\n",
      "Omitted ‘LazyData’ from DESCRIPTION\n",
      "* building ‘digar.txts_0.0.0.9100.tar.gz’\n",
      "Warning in sprintf(gettext(fmt, domain = domain), ...) :\n",
      "  one argument not used by format 'invalid uid value replaced by that for user 'nobody''\n",
      "Warning: invalid uid value replaced by that for user 'nobody'\n",
      "\n"
     ]
    },
    {
     "name": "stderr",
     "output_type": "stream",
     "text": [
      "Loading required package: data.table\n",
      "\n"
     ]
    }
   ],
   "source": [
    "remotes::install_github(\"peeter-t2/digar.txts\",lib=\"R_pckg/\",upgrade=\"never\")\n",
    "library(digar.txts,lib.loc=\"R_pckg/\")"
   ]
  },
  {
   "cell_type": "code",
   "execution_count": 2,
   "id": "09cdee83",
   "metadata": {},
   "outputs": [
    {
     "name": "stderr",
     "output_type": "stream",
     "text": [
      "── \u001b[1mAttaching packages\u001b[22m ─────────────────────────────────────── tidyverse 1.3.1 ──\n",
      "\n",
      "\u001b[32m✔\u001b[39m \u001b[34mggplot2\u001b[39m 3.3.5     \u001b[32m✔\u001b[39m \u001b[34mpurrr  \u001b[39m 0.3.4\n",
      "\u001b[32m✔\u001b[39m \u001b[34mtibble \u001b[39m 3.1.6     \u001b[32m✔\u001b[39m \u001b[34mdplyr  \u001b[39m 1.0.8\n",
      "\u001b[32m✔\u001b[39m \u001b[34mtidyr  \u001b[39m 1.2.0     \u001b[32m✔\u001b[39m \u001b[34mstringr\u001b[39m 1.4.0\n",
      "\u001b[32m✔\u001b[39m \u001b[34mreadr  \u001b[39m 2.1.2     \u001b[32m✔\u001b[39m \u001b[34mforcats\u001b[39m 0.5.1\n",
      "\n",
      "── \u001b[1mConflicts\u001b[22m ────────────────────────────────────────── tidyverse_conflicts() ──\n",
      "\u001b[31m✖\u001b[39m \u001b[34mdplyr\u001b[39m::\u001b[32mbetween()\u001b[39m   masks \u001b[34mdata.table\u001b[39m::between()\n",
      "\u001b[31m✖\u001b[39m \u001b[34mdplyr\u001b[39m::\u001b[32mfilter()\u001b[39m    masks \u001b[34mstats\u001b[39m::filter()\n",
      "\u001b[31m✖\u001b[39m \u001b[34mdplyr\u001b[39m::\u001b[32mfirst()\u001b[39m     masks \u001b[34mdata.table\u001b[39m::first()\n",
      "\u001b[31m✖\u001b[39m \u001b[34mdplyr\u001b[39m::\u001b[32mlag()\u001b[39m       masks \u001b[34mstats\u001b[39m::lag()\n",
      "\u001b[31m✖\u001b[39m \u001b[34mdplyr\u001b[39m::\u001b[32mlast()\u001b[39m      masks \u001b[34mdata.table\u001b[39m::last()\n",
      "\u001b[31m✖\u001b[39m \u001b[34mpurrr\u001b[39m::\u001b[32mtranspose()\u001b[39m masks \u001b[34mdata.table\u001b[39m::transpose()\n",
      "\n"
     ]
    }
   ],
   "source": [
    "library(tidyverse)\n",
    "install.packages('tidytext', lib='~/R_pckg')\n",
    "library(tidytext, lib.loc='~/R_pckg')"
   ]
  },
  {
   "cell_type": "code",
   "execution_count": 3,
   "id": "d2100c5a",
   "metadata": {},
   "outputs": [
    {
     "name": "stdout",
     "output_type": "stream",
     "text": [
      "[1] \"Issue metadata read\"\n"
     ]
    }
   ],
   "source": [
    "all_issues <- get_digar_overview()"
   ]
  },
  {
   "cell_type": "code",
   "execution_count": 4,
   "id": "9dfd2582",
   "metadata": {},
   "outputs": [],
   "source": [
    "valiseesti_ajalehed <- all_issues %>%\n",
    "    filter(DocumentType==\"NEWSPAPER\") %>%\n",
    "    filter(keyid==\"estdagbladet\" | keyid==\"eestiteatajastock\" | keyid==\"stockholmstid\" | keyid==\"teatajapoliit\" | keyid==\"valiseesti\" | keyid==\"eestipost\" | keyid==\"vabaeestlane\" | keyid==\"vabaeestisona\" | keyid==\"meiekodu\" | keyid==\"voitleja\")"
   ]
  },
  {
   "cell_type": "code",
   "execution_count": 5,
   "id": "eceb2351",
   "metadata": {},
   "outputs": [
    {
     "data": {
      "text/html": [
       "<table class=\"dataframe\">\n",
       "<caption>A data.table: 5 × 60</caption>\n",
       "<thead>\n",
       "\t<tr><th scope=col>DocumentID</th><th scope=col>keyid</th><th scope=col>attrs</th><th scope=col>DocumentDate</th><th scope=col>DocumentTitle</th><th scope=col>DocumentType</th><th scope=col>series</th><th scope=col>DocumentNumber</th><th scope=col>DocumentVolume</th><th scope=col>pages</th><th scope=col>⋯</th><th scope=col>n_pages</th><th scope=col>n_articles_lemmas</th><th scope=col>n_pages_lemmas</th><th scope=col>n_articles_metadata</th><th scope=col>n_pages_metadata</th><th scope=col>pages_exist</th><th scope=col>sections_exist</th><th scope=col>decade</th><th scope=col>zippath_pages_meta</th><th scope=col>zippath_sections_meta</th></tr>\n",
       "\t<tr><th scope=col>&lt;chr&gt;</th><th scope=col>&lt;chr&gt;</th><th scope=col>&lt;int&gt;</th><th scope=col>&lt;chr&gt;</th><th scope=col>&lt;chr&gt;</th><th scope=col>&lt;chr&gt;</th><th scope=col>&lt;chr&gt;</th><th scope=col>&lt;chr&gt;</th><th scope=col>&lt;chr&gt;</th><th scope=col>&lt;chr&gt;</th><th scope=col>⋯</th><th scope=col>&lt;int&gt;</th><th scope=col>&lt;int&gt;</th><th scope=col>&lt;int&gt;</th><th scope=col>&lt;int&gt;</th><th scope=col>&lt;int&gt;</th><th scope=col>&lt;lgl&gt;</th><th scope=col>&lt;lgl&gt;</th><th scope=col>&lt;int&gt;</th><th scope=col>&lt;chr&gt;</th><th scope=col>&lt;chr&gt;</th></tr>\n",
       "</thead>\n",
       "<tbody>\n",
       "\t<tr><td>eestipost19451106</td><td>eestipost</td><td>1</td><td>6 november 1945 </td><td>Eesti Post = Estonian Post : Estonian Newspaper</td><td>NEWSPAPER</td><td>staging/all_pubs/all_vols_eestipost.xml</td><td></td><td></td><td>staging/all_pubs/all_vols_eestipost.xml.tsv</td><td>⋯</td><td>6</td><td>NA</td><td>6</td><td>0</td><td>6</td><td>TRUE</td><td>NA</td><td>1940</td><td>eestipost/eestipost_1940_pages_meta.zip</td><td></td></tr>\n",
       "\t<tr><td>eestipost19451110</td><td>eestipost</td><td>2</td><td>10 november 1945</td><td>Eesti Post = Estonian Post : Estonian Newspaper</td><td>NEWSPAPER</td><td>staging/all_pubs/all_vols_eestipost.xml</td><td></td><td></td><td>staging/all_pubs/all_vols_eestipost.xml.tsv</td><td>⋯</td><td>8</td><td>NA</td><td>8</td><td>0</td><td>8</td><td>TRUE</td><td>NA</td><td>1940</td><td>eestipost/eestipost_1940_pages_meta.zip</td><td></td></tr>\n",
       "\t<tr><td>eestipost19451113</td><td>eestipost</td><td>3</td><td>13 november 1945</td><td>Eesti Post = Estonian Post : Estonian Newspaper</td><td>NEWSPAPER</td><td>staging/all_pubs/all_vols_eestipost.xml</td><td></td><td></td><td>staging/all_pubs/all_vols_eestipost.xml.tsv</td><td>⋯</td><td>6</td><td>NA</td><td>6</td><td>0</td><td>6</td><td>TRUE</td><td>NA</td><td>1940</td><td>eestipost/eestipost_1940_pages_meta.zip</td><td></td></tr>\n",
       "\t<tr><td>eestipost19451115</td><td>eestipost</td><td>4</td><td>15 november 1945</td><td>Eesti Post = Estonian Post : Estonian Newspaper</td><td>NEWSPAPER</td><td>staging/all_pubs/all_vols_eestipost.xml</td><td></td><td></td><td>staging/all_pubs/all_vols_eestipost.xml.tsv</td><td>⋯</td><td>6</td><td>NA</td><td>6</td><td>0</td><td>6</td><td>TRUE</td><td>NA</td><td>1940</td><td>eestipost/eestipost_1940_pages_meta.zip</td><td></td></tr>\n",
       "\t<tr><td>eestipost19451117</td><td>eestipost</td><td>5</td><td>17 november 1945</td><td>Eesti Post = Estonian Post : Estonian Newspaper</td><td>NEWSPAPER</td><td>staging/all_pubs/all_vols_eestipost.xml</td><td></td><td></td><td>staging/all_pubs/all_vols_eestipost.xml.tsv</td><td>⋯</td><td>6</td><td>NA</td><td>6</td><td>0</td><td>6</td><td>TRUE</td><td>NA</td><td>1940</td><td>eestipost/eestipost_1940_pages_meta.zip</td><td></td></tr>\n",
       "</tbody>\n",
       "</table>\n"
      ],
      "text/latex": [
       "A data.table: 5 × 60\n",
       "\\begin{tabular}{lllllllllllllllllllll}\n",
       " DocumentID & keyid & attrs & DocumentDate & DocumentTitle & DocumentType & series & DocumentNumber & DocumentVolume & pages & ⋯ & n\\_pages & n\\_articles\\_lemmas & n\\_pages\\_lemmas & n\\_articles\\_metadata & n\\_pages\\_metadata & pages\\_exist & sections\\_exist & decade & zippath\\_pages\\_meta & zippath\\_sections\\_meta\\\\\n",
       " <chr> & <chr> & <int> & <chr> & <chr> & <chr> & <chr> & <chr> & <chr> & <chr> & ⋯ & <int> & <int> & <int> & <int> & <int> & <lgl> & <lgl> & <int> & <chr> & <chr>\\\\\n",
       "\\hline\n",
       "\t eestipost19451106 & eestipost & 1 & 6 november 1945  & Eesti Post = Estonian Post : Estonian Newspaper & NEWSPAPER & staging/all\\_pubs/all\\_vols\\_eestipost.xml &  &  & staging/all\\_pubs/all\\_vols\\_eestipost.xml.tsv & ⋯ & 6 & NA & 6 & 0 & 6 & TRUE & NA & 1940 & eestipost/eestipost\\_1940\\_pages\\_meta.zip & \\\\\n",
       "\t eestipost19451110 & eestipost & 2 & 10 november 1945 & Eesti Post = Estonian Post : Estonian Newspaper & NEWSPAPER & staging/all\\_pubs/all\\_vols\\_eestipost.xml &  &  & staging/all\\_pubs/all\\_vols\\_eestipost.xml.tsv & ⋯ & 8 & NA & 8 & 0 & 8 & TRUE & NA & 1940 & eestipost/eestipost\\_1940\\_pages\\_meta.zip & \\\\\n",
       "\t eestipost19451113 & eestipost & 3 & 13 november 1945 & Eesti Post = Estonian Post : Estonian Newspaper & NEWSPAPER & staging/all\\_pubs/all\\_vols\\_eestipost.xml &  &  & staging/all\\_pubs/all\\_vols\\_eestipost.xml.tsv & ⋯ & 6 & NA & 6 & 0 & 6 & TRUE & NA & 1940 & eestipost/eestipost\\_1940\\_pages\\_meta.zip & \\\\\n",
       "\t eestipost19451115 & eestipost & 4 & 15 november 1945 & Eesti Post = Estonian Post : Estonian Newspaper & NEWSPAPER & staging/all\\_pubs/all\\_vols\\_eestipost.xml &  &  & staging/all\\_pubs/all\\_vols\\_eestipost.xml.tsv & ⋯ & 6 & NA & 6 & 0 & 6 & TRUE & NA & 1940 & eestipost/eestipost\\_1940\\_pages\\_meta.zip & \\\\\n",
       "\t eestipost19451117 & eestipost & 5 & 17 november 1945 & Eesti Post = Estonian Post : Estonian Newspaper & NEWSPAPER & staging/all\\_pubs/all\\_vols\\_eestipost.xml &  &  & staging/all\\_pubs/all\\_vols\\_eestipost.xml.tsv & ⋯ & 6 & NA & 6 & 0 & 6 & TRUE & NA & 1940 & eestipost/eestipost\\_1940\\_pages\\_meta.zip & \\\\\n",
       "\\end{tabular}\n"
      ],
      "text/markdown": [
       "\n",
       "A data.table: 5 × 60\n",
       "\n",
       "| DocumentID &lt;chr&gt; | keyid &lt;chr&gt; | attrs &lt;int&gt; | DocumentDate &lt;chr&gt; | DocumentTitle &lt;chr&gt; | DocumentType &lt;chr&gt; | series &lt;chr&gt; | DocumentNumber &lt;chr&gt; | DocumentVolume &lt;chr&gt; | pages &lt;chr&gt; | ⋯ ⋯ | n_pages &lt;int&gt; | n_articles_lemmas &lt;int&gt; | n_pages_lemmas &lt;int&gt; | n_articles_metadata &lt;int&gt; | n_pages_metadata &lt;int&gt; | pages_exist &lt;lgl&gt; | sections_exist &lt;lgl&gt; | decade &lt;int&gt; | zippath_pages_meta &lt;chr&gt; | zippath_sections_meta &lt;chr&gt; |\n",
       "|---|---|---|---|---|---|---|---|---|---|---|---|---|---|---|---|---|---|---|---|---|\n",
       "| eestipost19451106 | eestipost | 1 | 6 november 1945  | Eesti Post = Estonian Post : Estonian Newspaper | NEWSPAPER | staging/all_pubs/all_vols_eestipost.xml | <!----> | <!----> | staging/all_pubs/all_vols_eestipost.xml.tsv | ⋯ | 6 | NA | 6 | 0 | 6 | TRUE | NA | 1940 | eestipost/eestipost_1940_pages_meta.zip | <!----> |\n",
       "| eestipost19451110 | eestipost | 2 | 10 november 1945 | Eesti Post = Estonian Post : Estonian Newspaper | NEWSPAPER | staging/all_pubs/all_vols_eestipost.xml | <!----> | <!----> | staging/all_pubs/all_vols_eestipost.xml.tsv | ⋯ | 8 | NA | 8 | 0 | 8 | TRUE | NA | 1940 | eestipost/eestipost_1940_pages_meta.zip | <!----> |\n",
       "| eestipost19451113 | eestipost | 3 | 13 november 1945 | Eesti Post = Estonian Post : Estonian Newspaper | NEWSPAPER | staging/all_pubs/all_vols_eestipost.xml | <!----> | <!----> | staging/all_pubs/all_vols_eestipost.xml.tsv | ⋯ | 6 | NA | 6 | 0 | 6 | TRUE | NA | 1940 | eestipost/eestipost_1940_pages_meta.zip | <!----> |\n",
       "| eestipost19451115 | eestipost | 4 | 15 november 1945 | Eesti Post = Estonian Post : Estonian Newspaper | NEWSPAPER | staging/all_pubs/all_vols_eestipost.xml | <!----> | <!----> | staging/all_pubs/all_vols_eestipost.xml.tsv | ⋯ | 6 | NA | 6 | 0 | 6 | TRUE | NA | 1940 | eestipost/eestipost_1940_pages_meta.zip | <!----> |\n",
       "| eestipost19451117 | eestipost | 5 | 17 november 1945 | Eesti Post = Estonian Post : Estonian Newspaper | NEWSPAPER | staging/all_pubs/all_vols_eestipost.xml | <!----> | <!----> | staging/all_pubs/all_vols_eestipost.xml.tsv | ⋯ | 6 | NA | 6 | 0 | 6 | TRUE | NA | 1940 | eestipost/eestipost_1940_pages_meta.zip | <!----> |\n",
       "\n"
      ],
      "text/plain": [
       "  DocumentID        keyid     attrs DocumentDate    \n",
       "1 eestipost19451106 eestipost 1     6 november 1945 \n",
       "2 eestipost19451110 eestipost 2     10 november 1945\n",
       "3 eestipost19451113 eestipost 3     13 november 1945\n",
       "4 eestipost19451115 eestipost 4     15 november 1945\n",
       "5 eestipost19451117 eestipost 5     17 november 1945\n",
       "  DocumentTitle                                   DocumentType\n",
       "1 Eesti Post = Estonian Post : Estonian Newspaper NEWSPAPER   \n",
       "2 Eesti Post = Estonian Post : Estonian Newspaper NEWSPAPER   \n",
       "3 Eesti Post = Estonian Post : Estonian Newspaper NEWSPAPER   \n",
       "4 Eesti Post = Estonian Post : Estonian Newspaper NEWSPAPER   \n",
       "5 Eesti Post = Estonian Post : Estonian Newspaper NEWSPAPER   \n",
       "  series                                  DocumentNumber DocumentVolume\n",
       "1 staging/all_pubs/all_vols_eestipost.xml                              \n",
       "2 staging/all_pubs/all_vols_eestipost.xml                              \n",
       "3 staging/all_pubs/all_vols_eestipost.xml                              \n",
       "4 staging/all_pubs/all_vols_eestipost.xml                              \n",
       "5 staging/all_pubs/all_vols_eestipost.xml                              \n",
       "  pages                                       ⋯ n_pages n_articles_lemmas\n",
       "1 staging/all_pubs/all_vols_eestipost.xml.tsv ⋯ 6       NA               \n",
       "2 staging/all_pubs/all_vols_eestipost.xml.tsv ⋯ 8       NA               \n",
       "3 staging/all_pubs/all_vols_eestipost.xml.tsv ⋯ 6       NA               \n",
       "4 staging/all_pubs/all_vols_eestipost.xml.tsv ⋯ 6       NA               \n",
       "5 staging/all_pubs/all_vols_eestipost.xml.tsv ⋯ 6       NA               \n",
       "  n_pages_lemmas n_articles_metadata n_pages_metadata pages_exist\n",
       "1 6              0                   6                TRUE       \n",
       "2 8              0                   8                TRUE       \n",
       "3 6              0                   6                TRUE       \n",
       "4 6              0                   6                TRUE       \n",
       "5 6              0                   6                TRUE       \n",
       "  sections_exist decade zippath_pages_meta                     \n",
       "1 NA             1940   eestipost/eestipost_1940_pages_meta.zip\n",
       "2 NA             1940   eestipost/eestipost_1940_pages_meta.zip\n",
       "3 NA             1940   eestipost/eestipost_1940_pages_meta.zip\n",
       "4 NA             1940   eestipost/eestipost_1940_pages_meta.zip\n",
       "5 NA             1940   eestipost/eestipost_1940_pages_meta.zip\n",
       "  zippath_sections_meta\n",
       "1                      \n",
       "2                      \n",
       "3                      \n",
       "4                      \n",
       "5                      "
      ]
     },
     "metadata": {},
     "output_type": "display_data"
    }
   ],
   "source": [
    "head(valiseesti_ajalehed, 5)"
   ]
  },
  {
   "cell_type": "code",
   "execution_count": 6,
   "id": "824f9e35",
   "metadata": {},
   "outputs": [],
   "source": [
    "searchterm <- \"balti\"\n",
    "searchfile <- \"balti_lemmas.txt\"\n",
    "do_subset_search(searchterm=searchterm, searchfile=searchfile, valiseesti_ajalehed, searchtype=\"lemmas\", source=\"pages\")"
   ]
  },
  {
   "cell_type": "code",
   "execution_count": 7,
   "id": "394fbdce",
   "metadata": {},
   "outputs": [],
   "source": [
    "texts1 <- fread(\"balti_lemmas.txt\",header=F,sep=\"\\t\", quote=\"\")[,.(id=V1,lemmas=V2)]\n",
    "texts1[,DocumentID:=str_extract(id,\"[^\\\\.]+\")]\n",
    "fileids_w_meta <- texts1 %>% select(id, DocumentID) %>% left_join(valiseesti_ajalehed %>% select(keyid,year,month,DocumentID, zippath_sections,zippath_pages),by=c(\"DocumentID\"))"
   ]
  },
  {
   "cell_type": "code",
   "execution_count": 8,
   "id": "82decfdd",
   "metadata": {},
   "outputs": [],
   "source": [
    "valiseesti_aastad_balti <- fileids_w_meta %>% \n",
    "  count(year) %>% mutate(set=\"balti\")"
   ]
  },
  {
   "cell_type": "code",
   "execution_count": 9,
   "id": "da03c00d",
   "metadata": {},
   "outputs": [],
   "source": [
    "colnames(valiseesti_aastad_balti)[2]  <- \"n1\""
   ]
  },
  {
   "cell_type": "code",
   "execution_count": 10,
   "id": "ae4644e2",
   "metadata": {},
   "outputs": [
    {
     "name": "stderr",
     "output_type": "stream",
     "text": [
      "Warning message in data.table::fread(cmd = x, fill = T):\n",
      "“File '/tmp/Rtmpnjnkei/filef1224bc358d9' has size 0. Returning a NULL data.table.”\n"
     ]
    }
   ],
   "source": [
    "subset_meta <- get_subset_meta(valiseesti_ajalehed, source=\"pages\")"
   ]
  },
  {
   "cell_type": "code",
   "execution_count": 11,
   "id": "e609cfc4",
   "metadata": {},
   "outputs": [],
   "source": [
    "subset_wordcounts <- subset_meta %>% \n",
    "  group_by(year) %>% \n",
    "  summarise(words=sum(PageTextWordCount))"
   ]
  },
  {
   "cell_type": "code",
   "execution_count": 12,
   "id": "4ed7bf9f",
   "metadata": {},
   "outputs": [
    {
     "data": {
      "text/html": [
       "<table class=\"dataframe\">\n",
       "<caption>A tibble: 5 × 2</caption>\n",
       "<thead>\n",
       "\t<tr><th scope=col>year</th><th scope=col>words</th></tr>\n",
       "\t<tr><th scope=col>&lt;int&gt;</th><th scope=col>&lt;int&gt;</th></tr>\n",
       "</thead>\n",
       "<tbody>\n",
       "\t<tr><td>1944</td><td> 212175</td></tr>\n",
       "\t<tr><td>1945</td><td>1711519</td></tr>\n",
       "\t<tr><td>1946</td><td>3156818</td></tr>\n",
       "\t<tr><td>1947</td><td>5109892</td></tr>\n",
       "\t<tr><td>1948</td><td>5112470</td></tr>\n",
       "</tbody>\n",
       "</table>\n"
      ],
      "text/latex": [
       "A tibble: 5 × 2\n",
       "\\begin{tabular}{ll}\n",
       " year & words\\\\\n",
       " <int> & <int>\\\\\n",
       "\\hline\n",
       "\t 1944 &  212175\\\\\n",
       "\t 1945 & 1711519\\\\\n",
       "\t 1946 & 3156818\\\\\n",
       "\t 1947 & 5109892\\\\\n",
       "\t 1948 & 5112470\\\\\n",
       "\\end{tabular}\n"
      ],
      "text/markdown": [
       "\n",
       "A tibble: 5 × 2\n",
       "\n",
       "| year &lt;int&gt; | words &lt;int&gt; |\n",
       "|---|---|\n",
       "| 1944 |  212175 |\n",
       "| 1945 | 1711519 |\n",
       "| 1946 | 3156818 |\n",
       "| 1947 | 5109892 |\n",
       "| 1948 | 5112470 |\n",
       "\n"
      ],
      "text/plain": [
       "  year words  \n",
       "1 1944  212175\n",
       "2 1945 1711519\n",
       "3 1946 3156818\n",
       "4 1947 5109892\n",
       "5 1948 5112470"
      ]
     },
     "metadata": {},
     "output_type": "display_data"
    }
   ],
   "source": [
    "head(subset_wordcounts, 5)"
   ]
  },
  {
   "cell_type": "code",
   "execution_count": 13,
   "id": "a19c3028",
   "metadata": {},
   "outputs": [],
   "source": [
    "colnames(subset_wordcounts)[2]  <- \"words2\""
   ]
  },
  {
   "cell_type": "code",
   "execution_count": 14,
   "id": "cd50a6fa",
   "metadata": {},
   "outputs": [],
   "source": [
    "rootsi_ajalehed <- all_issues %>%\n",
    "    filter(DocumentType==\"NEWSPAPER\") %>%\n",
    "    filter(keyid==\"estdagbladet\" | keyid==\"eestiteatajastock\" | keyid==\"stockholmstid\" | keyid==\"teatajapoliit\" | keyid==\"valiseesti\")"
   ]
  },
  {
   "cell_type": "code",
   "execution_count": 15,
   "id": "94b905c4",
   "metadata": {},
   "outputs": [],
   "source": [
    "searchterm <- \"balti\"\n",
    "searchfile <- \"balti_lemmas_rootsi.txt\"\n",
    "do_subset_search(searchterm=searchterm, searchfile=searchfile, rootsi_ajalehed, searchtype=\"lemmas\", source=\"pages\")"
   ]
  },
  {
   "cell_type": "code",
   "execution_count": 16,
   "id": "73ff2a1b",
   "metadata": {},
   "outputs": [],
   "source": [
    "texts2 <- fread(\"balti_lemmas_rootsi.txt\",header=F,sep=\"\\t\", quote=\"\")[,.(id=V1,lemmas=V2)]\n",
    "texts2[,DocumentID:=str_extract(id,\"[^\\\\.]+\")]\n",
    "fileids_w_meta2 <- texts2 %>% select(id, DocumentID) %>% left_join(rootsi_ajalehed %>% select(keyid, year, month, DocumentID, zippath_sections, zippath_pages), by=c(\"DocumentID\"))"
   ]
  },
  {
   "cell_type": "code",
   "execution_count": 17,
   "id": "97e47bfd",
   "metadata": {},
   "outputs": [],
   "source": [
    "rootsi_aastad_balti <- fileids_w_meta2 %>% \n",
    "  count(year) %>% mutate(set=\"balti\")"
   ]
  },
  {
   "cell_type": "code",
   "execution_count": 18,
   "id": "15bf9a41",
   "metadata": {},
   "outputs": [],
   "source": [
    "subset_meta2 <- get_subset_meta(rootsi_ajalehed, source=\"pages\")"
   ]
  },
  {
   "cell_type": "code",
   "execution_count": 19,
   "id": "a7913603",
   "metadata": {},
   "outputs": [],
   "source": [
    "subset_wordcounts2 <- subset_meta2 %>% \n",
    "  group_by(year) %>% \n",
    "  summarise(words=sum(PageTextWordCount))"
   ]
  },
  {
   "cell_type": "code",
   "execution_count": 24,
   "id": "0165901d",
   "metadata": {},
   "outputs": [
    {
     "data": {
      "text/html": [
       "<table class=\"dataframe\">\n",
       "<caption>A tibble: 5 × 2</caption>\n",
       "<thead>\n",
       "\t<tr><th scope=col>year</th><th scope=col>words</th></tr>\n",
       "\t<tr><th scope=col>&lt;int&gt;</th><th scope=col>&lt;int&gt;</th></tr>\n",
       "</thead>\n",
       "<tbody>\n",
       "\t<tr><td>1944</td><td> 212175</td></tr>\n",
       "\t<tr><td>1945</td><td>1661642</td></tr>\n",
       "\t<tr><td>1946</td><td>2286172</td></tr>\n",
       "\t<tr><td>1947</td><td>3640298</td></tr>\n",
       "\t<tr><td>1948</td><td>3720132</td></tr>\n",
       "</tbody>\n",
       "</table>\n"
      ],
      "text/latex": [
       "A tibble: 5 × 2\n",
       "\\begin{tabular}{ll}\n",
       " year & words\\\\\n",
       " <int> & <int>\\\\\n",
       "\\hline\n",
       "\t 1944 &  212175\\\\\n",
       "\t 1945 & 1661642\\\\\n",
       "\t 1946 & 2286172\\\\\n",
       "\t 1947 & 3640298\\\\\n",
       "\t 1948 & 3720132\\\\\n",
       "\\end{tabular}\n"
      ],
      "text/markdown": [
       "\n",
       "A tibble: 5 × 2\n",
       "\n",
       "| year &lt;int&gt; | words &lt;int&gt; |\n",
       "|---|---|\n",
       "| 1944 |  212175 |\n",
       "| 1945 | 1661642 |\n",
       "| 1946 | 2286172 |\n",
       "| 1947 | 3640298 |\n",
       "| 1948 | 3720132 |\n",
       "\n"
      ],
      "text/plain": [
       "  year words  \n",
       "1 1944  212175\n",
       "2 1945 1661642\n",
       "3 1946 2286172\n",
       "4 1947 3640298\n",
       "5 1948 3720132"
      ]
     },
     "metadata": {},
     "output_type": "display_data"
    }
   ],
   "source": [
    "head(subset_wordcounts2, 5)"
   ]
  },
  {
   "cell_type": "code",
   "execution_count": 21,
   "id": "62f6fcd9",
   "metadata": {},
   "outputs": [],
   "source": [
    "rootsi_graafik <- rootsi_aastad_balti %>% \n",
    "  left_join(valiseesti_aastad_balti, by=\"year\") %>%\n",
    "  left_join(subset_wordcounts,by=\"year\") %>%\n",
    "  left_join(subset_wordcounts2,by=\"year\")"
   ]
  },
  {
   "cell_type": "code",
   "execution_count": 26,
   "id": "defb5c80",
   "metadata": {},
   "outputs": [
    {
     "data": {
      "text/html": [
       "<table class=\"dataframe\">\n",
       "<caption>A data.table: 20 × 7</caption>\n",
       "<thead>\n",
       "\t<tr><th scope=col>year</th><th scope=col>n</th><th scope=col>set.x</th><th scope=col>n1</th><th scope=col>set.y</th><th scope=col>words2</th><th scope=col>words</th></tr>\n",
       "\t<tr><th scope=col>&lt;int&gt;</th><th scope=col>&lt;int&gt;</th><th scope=col>&lt;chr&gt;</th><th scope=col>&lt;int&gt;</th><th scope=col>&lt;chr&gt;</th><th scope=col>&lt;int&gt;</th><th scope=col>&lt;int&gt;</th></tr>\n",
       "</thead>\n",
       "<tbody>\n",
       "\t<tr><td>1944</td><td> 52</td><td>balti</td><td>  52</td><td>balti</td><td> 212175</td><td> 212175</td></tr>\n",
       "\t<tr><td>1945</td><td>423</td><td>balti</td><td> 441</td><td>balti</td><td>1711519</td><td>1661642</td></tr>\n",
       "\t<tr><td>1946</td><td>629</td><td>balti</td><td> 907</td><td>balti</td><td>3156818</td><td>2286172</td></tr>\n",
       "\t<tr><td>1947</td><td>618</td><td>balti</td><td> 984</td><td>balti</td><td>5109892</td><td>3640298</td></tr>\n",
       "\t<tr><td>1948</td><td>850</td><td>balti</td><td>1195</td><td>balti</td><td>5112470</td><td>3720132</td></tr>\n",
       "\t<tr><td>1949</td><td>689</td><td>balti</td><td> 909</td><td>balti</td><td>4269314</td><td>3191975</td></tr>\n",
       "\t<tr><td>1950</td><td>672</td><td>balti</td><td> 930</td><td>balti</td><td>4358835</td><td>3187325</td></tr>\n",
       "\t<tr><td>1951</td><td>565</td><td>balti</td><td> 872</td><td>balti</td><td>4016148</td><td>2927056</td></tr>\n",
       "\t<tr><td>1952</td><td>566</td><td>balti</td><td>1213</td><td>balti</td><td>5475485</td><td>2931415</td></tr>\n",
       "\t<tr><td>1953</td><td>456</td><td>balti</td><td>1096</td><td>balti</td><td>5287079</td><td>2398362</td></tr>\n",
       "\t<tr><td>1954</td><td>496</td><td>balti</td><td>1198</td><td>balti</td><td>5368714</td><td>2392738</td></tr>\n",
       "\t<tr><td>1955</td><td>485</td><td>balti</td><td>1193</td><td>balti</td><td>5424443</td><td>2437051</td></tr>\n",
       "\t<tr><td>1956</td><td>495</td><td>balti</td><td>1243</td><td>balti</td><td>5334573</td><td>2465595</td></tr>\n",
       "\t<tr><td>1957</td><td>451</td><td>balti</td><td>1157</td><td>balti</td><td>5288446</td><td>2375389</td></tr>\n",
       "\t<tr><td>1958</td><td>383</td><td>balti</td><td>1035</td><td>balti</td><td>5304165</td><td>2393920</td></tr>\n",
       "\t<tr><td>1959</td><td>347</td><td>balti</td><td> 986</td><td>balti</td><td>4561952</td><td>1694904</td></tr>\n",
       "\t<tr><td>1960</td><td>354</td><td>balti</td><td>1016</td><td>balti</td><td>4425434</td><td>1411751</td></tr>\n",
       "\t<tr><td>1961</td><td>445</td><td>balti</td><td> 937</td><td>balti</td><td>4807496</td><td>1882034</td></tr>\n",
       "\t<tr><td>1962</td><td>436</td><td>balti</td><td>1096</td><td>balti</td><td>4641649</td><td>1879028</td></tr>\n",
       "\t<tr><td>1963</td><td>263</td><td>balti</td><td> 894</td><td>balti</td><td>4061182</td><td>1207293</td></tr>\n",
       "</tbody>\n",
       "</table>\n"
      ],
      "text/latex": [
       "A data.table: 20 × 7\n",
       "\\begin{tabular}{lllllll}\n",
       " year & n & set.x & n1 & set.y & words2 & words\\\\\n",
       " <int> & <int> & <chr> & <int> & <chr> & <int> & <int>\\\\\n",
       "\\hline\n",
       "\t 1944 &  52 & balti &   52 & balti &  212175 &  212175\\\\\n",
       "\t 1945 & 423 & balti &  441 & balti & 1711519 & 1661642\\\\\n",
       "\t 1946 & 629 & balti &  907 & balti & 3156818 & 2286172\\\\\n",
       "\t 1947 & 618 & balti &  984 & balti & 5109892 & 3640298\\\\\n",
       "\t 1948 & 850 & balti & 1195 & balti & 5112470 & 3720132\\\\\n",
       "\t 1949 & 689 & balti &  909 & balti & 4269314 & 3191975\\\\\n",
       "\t 1950 & 672 & balti &  930 & balti & 4358835 & 3187325\\\\\n",
       "\t 1951 & 565 & balti &  872 & balti & 4016148 & 2927056\\\\\n",
       "\t 1952 & 566 & balti & 1213 & balti & 5475485 & 2931415\\\\\n",
       "\t 1953 & 456 & balti & 1096 & balti & 5287079 & 2398362\\\\\n",
       "\t 1954 & 496 & balti & 1198 & balti & 5368714 & 2392738\\\\\n",
       "\t 1955 & 485 & balti & 1193 & balti & 5424443 & 2437051\\\\\n",
       "\t 1956 & 495 & balti & 1243 & balti & 5334573 & 2465595\\\\\n",
       "\t 1957 & 451 & balti & 1157 & balti & 5288446 & 2375389\\\\\n",
       "\t 1958 & 383 & balti & 1035 & balti & 5304165 & 2393920\\\\\n",
       "\t 1959 & 347 & balti &  986 & balti & 4561952 & 1694904\\\\\n",
       "\t 1960 & 354 & balti & 1016 & balti & 4425434 & 1411751\\\\\n",
       "\t 1961 & 445 & balti &  937 & balti & 4807496 & 1882034\\\\\n",
       "\t 1962 & 436 & balti & 1096 & balti & 4641649 & 1879028\\\\\n",
       "\t 1963 & 263 & balti &  894 & balti & 4061182 & 1207293\\\\\n",
       "\\end{tabular}\n"
      ],
      "text/markdown": [
       "\n",
       "A data.table: 20 × 7\n",
       "\n",
       "| year &lt;int&gt; | n &lt;int&gt; | set.x &lt;chr&gt; | n1 &lt;int&gt; | set.y &lt;chr&gt; | words2 &lt;int&gt; | words &lt;int&gt; |\n",
       "|---|---|---|---|---|---|---|\n",
       "| 1944 |  52 | balti |   52 | balti |  212175 |  212175 |\n",
       "| 1945 | 423 | balti |  441 | balti | 1711519 | 1661642 |\n",
       "| 1946 | 629 | balti |  907 | balti | 3156818 | 2286172 |\n",
       "| 1947 | 618 | balti |  984 | balti | 5109892 | 3640298 |\n",
       "| 1948 | 850 | balti | 1195 | balti | 5112470 | 3720132 |\n",
       "| 1949 | 689 | balti |  909 | balti | 4269314 | 3191975 |\n",
       "| 1950 | 672 | balti |  930 | balti | 4358835 | 3187325 |\n",
       "| 1951 | 565 | balti |  872 | balti | 4016148 | 2927056 |\n",
       "| 1952 | 566 | balti | 1213 | balti | 5475485 | 2931415 |\n",
       "| 1953 | 456 | balti | 1096 | balti | 5287079 | 2398362 |\n",
       "| 1954 | 496 | balti | 1198 | balti | 5368714 | 2392738 |\n",
       "| 1955 | 485 | balti | 1193 | balti | 5424443 | 2437051 |\n",
       "| 1956 | 495 | balti | 1243 | balti | 5334573 | 2465595 |\n",
       "| 1957 | 451 | balti | 1157 | balti | 5288446 | 2375389 |\n",
       "| 1958 | 383 | balti | 1035 | balti | 5304165 | 2393920 |\n",
       "| 1959 | 347 | balti |  986 | balti | 4561952 | 1694904 |\n",
       "| 1960 | 354 | balti | 1016 | balti | 4425434 | 1411751 |\n",
       "| 1961 | 445 | balti |  937 | balti | 4807496 | 1882034 |\n",
       "| 1962 | 436 | balti | 1096 | balti | 4641649 | 1879028 |\n",
       "| 1963 | 263 | balti |  894 | balti | 4061182 | 1207293 |\n",
       "\n"
      ],
      "text/plain": [
       "   year n   set.x n1   set.y words2  words  \n",
       "1  1944  52 balti   52 balti  212175  212175\n",
       "2  1945 423 balti  441 balti 1711519 1661642\n",
       "3  1946 629 balti  907 balti 3156818 2286172\n",
       "4  1947 618 balti  984 balti 5109892 3640298\n",
       "5  1948 850 balti 1195 balti 5112470 3720132\n",
       "6  1949 689 balti  909 balti 4269314 3191975\n",
       "7  1950 672 balti  930 balti 4358835 3187325\n",
       "8  1951 565 balti  872 balti 4016148 2927056\n",
       "9  1952 566 balti 1213 balti 5475485 2931415\n",
       "10 1953 456 balti 1096 balti 5287079 2398362\n",
       "11 1954 496 balti 1198 balti 5368714 2392738\n",
       "12 1955 485 balti 1193 balti 5424443 2437051\n",
       "13 1956 495 balti 1243 balti 5334573 2465595\n",
       "14 1957 451 balti 1157 balti 5288446 2375389\n",
       "15 1958 383 balti 1035 balti 5304165 2393920\n",
       "16 1959 347 balti  986 balti 4561952 1694904\n",
       "17 1960 354 balti 1016 balti 4425434 1411751\n",
       "18 1961 445 balti  937 balti 4807496 1882034\n",
       "19 1962 436 balti 1096 balti 4641649 1879028\n",
       "20 1963 263 balti  894 balti 4061182 1207293"
      ]
     },
     "metadata": {},
     "output_type": "display_data"
    }
   ],
   "source": [
    "head(rootsi_graafik, 20)"
   ]
  },
  {
   "cell_type": "code",
   "execution_count": 22,
   "id": "50d22b19",
   "metadata": {},
   "outputs": [
    {
     "data": {
      "image/png": "[encoded data removed]",
      "text/plain": [
       "plot without title"
      ]
     },
     "metadata": {
      "image/png": {
       "height": 420,
       "width": 420
      }
     },
     "output_type": "display_data"
    }
   ],
   "source": [
    "rootsi_graafik %>%\n",
    "  ggplot(aes(x=year,y=n1/words2)) +\n",
    "  geom_bar(stat = \"identity\", fill = \"#0072CE\") +\n",
    "  geom_line(aes(x=year,y=n/words), stat = \"identity\", color = \"red\")"
   ]
  },
  {
   "cell_type": "code",
   "execution_count": 25,
   "id": "17846e3f",
   "metadata": {},
   "outputs": [
    {
     "name": "stderr",
     "output_type": "stream",
     "text": [
      "\n",
      "Attaching package: ‘igraph’\n",
      "\n",
      "\n",
      "The following objects are masked from ‘package:dplyr’:\n",
      "\n",
      "    as_data_frame, groups, union\n",
      "\n",
      "\n",
      "The following objects are masked from ‘package:purrr’:\n",
      "\n",
      "    compose, simplify\n",
      "\n",
      "\n",
      "The following object is masked from ‘package:tidyr’:\n",
      "\n",
      "    crossing\n",
      "\n",
      "\n",
      "The following object is masked from ‘package:tibble’:\n",
      "\n",
      "    as_data_frame\n",
      "\n",
      "\n",
      "The following objects are masked from ‘package:stats’:\n",
      "\n",
      "    decompose, spectrum\n",
      "\n",
      "\n",
      "The following object is masked from ‘package:base’:\n",
      "\n",
      "    union\n",
      "\n",
      "\n"
     ]
    }
   ],
   "source": [
    "library(igraph)"
   ]
  },
  {
   "cell_type": "code",
   "execution_count": 27,
   "id": "42cd5588",
   "metadata": {},
   "outputs": [],
   "source": [
    "balti_concs_rootsi <- get_concordances(searchterm=searchterm,texts=texts2,before=50,after=50,txt=\"lemmas\",id=\"id\")"
   ]
  },
  {
   "cell_type": "code",
   "execution_count": 28,
   "id": "124286d7",
   "metadata": {},
   "outputs": [],
   "source": [
    "balti_concs <- balti_concs_rootsi[, !c(\"id\",\"nr\",\"begin\",\"end\", \"DocumentID\")]\n",
    "\n",
    "write.table(balti_concs, \"balti_concs.txt\", sep=\"\\t\", quote = F, row.names = F)"
   ]
  },
  {
   "cell_type": "code",
   "execution_count": 54,
   "id": "cdca70c8",
   "metadata": {},
   "outputs": [],
   "source": [
    "stopsonad <- read.table(\"estonian-stopwords-lemmas.txt\", header = TRUE, sep = \"\\t\", encoding = \"UTF-8\", stringsAsFactors = T)"
   ]
  },
  {
   "cell_type": "code",
   "execution_count": 55,
   "id": "064a492f",
   "metadata": {},
   "outputs": [
    {
     "data": {
      "text/html": [
       "<table class=\"dataframe\">\n",
       "<caption>A data.frame: 1602 × 1</caption>\n",
       "<thead>\n",
       "\t<tr><th scope=col>word</th></tr>\n",
       "\t<tr><th scope=col>&lt;fct&gt;</th></tr>\n",
       "</thead>\n",
       "<tbody>\n",
       "\t<tr><td>all         </td></tr>\n",
       "\t<tr><td>alla        </td></tr>\n",
       "\t<tr><td>allapoole   </td></tr>\n",
       "\t<tr><td>allpool     </td></tr>\n",
       "\t<tr><td>alt         </td></tr>\n",
       "\t<tr><td>altpoolt    </td></tr>\n",
       "\t<tr><td>eel         </td></tr>\n",
       "\t<tr><td>eespool     </td></tr>\n",
       "\t<tr><td>enne        </td></tr>\n",
       "\t<tr><td>hommikupoole</td></tr>\n",
       "\t<tr><td>hoolimata   </td></tr>\n",
       "\t<tr><td>ilma        </td></tr>\n",
       "\t<tr><td>kaudu       </td></tr>\n",
       "\t<tr><td>keset       </td></tr>\n",
       "\t<tr><td>kesk        </td></tr>\n",
       "\t<tr><td>kohe        </td></tr>\n",
       "\t<tr><td>koos        </td></tr>\n",
       "\t<tr><td>kuhupoole   </td></tr>\n",
       "\t<tr><td>kuni        </td></tr>\n",
       "\t<tr><td>kuspool     </td></tr>\n",
       "\t<tr><td>kustpoolt   </td></tr>\n",
       "\t<tr><td>kõige       </td></tr>\n",
       "\t<tr><td>käsikäes    </td></tr>\n",
       "\t<tr><td>lappi       </td></tr>\n",
       "\t<tr><td>ligi        </td></tr>\n",
       "\t<tr><td>läbi        </td></tr>\n",
       "\t<tr><td>mööda       </td></tr>\n",
       "\t<tr><td>paitsi      </td></tr>\n",
       "\t<tr><td>peale       </td></tr>\n",
       "\t<tr><td>pealepoole  </td></tr>\n",
       "\t<tr><td>⋮</td></tr>\n",
       "\t<tr><td>sihukene   </td></tr>\n",
       "\t<tr><td>sina       </td></tr>\n",
       "\t<tr><td>sinusugune </td></tr>\n",
       "\t<tr><td>sinutaoline</td></tr>\n",
       "\t<tr><td>siuke      </td></tr>\n",
       "\t<tr><td>siukene    </td></tr>\n",
       "\t<tr><td>säherdune  </td></tr>\n",
       "\t<tr><td>säärane    </td></tr>\n",
       "\t<tr><td>taoline    </td></tr>\n",
       "\t<tr><td>teiesugune </td></tr>\n",
       "\t<tr><td>teine      </td></tr>\n",
       "\t<tr><td>teistsugune</td></tr>\n",
       "\t<tr><td>tema       </td></tr>\n",
       "\t<tr><td>temake     </td></tr>\n",
       "\t<tr><td>temakene   </td></tr>\n",
       "\t<tr><td>temasugune </td></tr>\n",
       "\t<tr><td>temataoline</td></tr>\n",
       "\t<tr><td>too        </td></tr>\n",
       "\t<tr><td>toosama    </td></tr>\n",
       "\t<tr><td>toosamane  </td></tr>\n",
       "\t<tr><td>üks        </td></tr>\n",
       "\t<tr><td>üksteise   </td></tr>\n",
       "\t<tr><td>hakkama    </td></tr>\n",
       "\t<tr><td>minema     </td></tr>\n",
       "\t<tr><td>olema      </td></tr>\n",
       "\t<tr><td>pidama     </td></tr>\n",
       "\t<tr><td>saama      </td></tr>\n",
       "\t<tr><td>tegema     </td></tr>\n",
       "\t<tr><td>tulema     </td></tr>\n",
       "\t<tr><td>võima      </td></tr>\n",
       "</tbody>\n",
       "</table>\n"
      ],
      "text/latex": [
       "A data.frame: 1602 × 1\n",
       "\\begin{tabular}{l}\n",
       " word\\\\\n",
       " <fct>\\\\\n",
       "\\hline\n",
       "\t all         \\\\\n",
       "\t alla        \\\\\n",
       "\t allapoole   \\\\\n",
       "\t allpool     \\\\\n",
       "\t alt         \\\\\n",
       "\t altpoolt    \\\\\n",
       "\t eel         \\\\\n",
       "\t eespool     \\\\\n",
       "\t enne        \\\\\n",
       "\t hommikupoole\\\\\n",
       "\t hoolimata   \\\\\n",
       "\t ilma        \\\\\n",
       "\t kaudu       \\\\\n",
       "\t keset       \\\\\n",
       "\t kesk        \\\\\n",
       "\t kohe        \\\\\n",
       "\t koos        \\\\\n",
       "\t kuhupoole   \\\\\n",
       "\t kuni        \\\\\n",
       "\t kuspool     \\\\\n",
       "\t kustpoolt   \\\\\n",
       "\t kõige       \\\\\n",
       "\t käsikäes    \\\\\n",
       "\t lappi       \\\\\n",
       "\t ligi        \\\\\n",
       "\t läbi        \\\\\n",
       "\t mööda       \\\\\n",
       "\t paitsi      \\\\\n",
       "\t peale       \\\\\n",
       "\t pealepoole  \\\\\n",
       "\t ⋮\\\\\n",
       "\t sihukene   \\\\\n",
       "\t sina       \\\\\n",
       "\t sinusugune \\\\\n",
       "\t sinutaoline\\\\\n",
       "\t siuke      \\\\\n",
       "\t siukene    \\\\\n",
       "\t säherdune  \\\\\n",
       "\t säärane    \\\\\n",
       "\t taoline    \\\\\n",
       "\t teiesugune \\\\\n",
       "\t teine      \\\\\n",
       "\t teistsugune\\\\\n",
       "\t tema       \\\\\n",
       "\t temake     \\\\\n",
       "\t temakene   \\\\\n",
       "\t temasugune \\\\\n",
       "\t temataoline\\\\\n",
       "\t too        \\\\\n",
       "\t toosama    \\\\\n",
       "\t toosamane  \\\\\n",
       "\t üks        \\\\\n",
       "\t üksteise   \\\\\n",
       "\t hakkama    \\\\\n",
       "\t minema     \\\\\n",
       "\t olema      \\\\\n",
       "\t pidama     \\\\\n",
       "\t saama      \\\\\n",
       "\t tegema     \\\\\n",
       "\t tulema     \\\\\n",
       "\t võima      \\\\\n",
       "\\end{tabular}\n"
      ],
      "text/markdown": [
       "\n",
       "A data.frame: 1602 × 1\n",
       "\n",
       "| word &lt;fct&gt; |\n",
       "|---|\n",
       "| all          |\n",
       "| alla         |\n",
       "| allapoole    |\n",
       "| allpool      |\n",
       "| alt          |\n",
       "| altpoolt     |\n",
       "| eel          |\n",
       "| eespool      |\n",
       "| enne         |\n",
       "| hommikupoole |\n",
       "| hoolimata    |\n",
       "| ilma         |\n",
       "| kaudu        |\n",
       "| keset        |\n",
       "| kesk         |\n",
       "| kohe         |\n",
       "| koos         |\n",
       "| kuhupoole    |\n",
       "| kuni         |\n",
       "| kuspool      |\n",
       "| kustpoolt    |\n",
       "| kõige        |\n",
       "| käsikäes     |\n",
       "| lappi        |\n",
       "| ligi         |\n",
       "| läbi         |\n",
       "| mööda        |\n",
       "| paitsi       |\n",
       "| peale        |\n",
       "| pealepoole   |\n",
       "| ⋮ |\n",
       "| sihukene    |\n",
       "| sina        |\n",
       "| sinusugune  |\n",
       "| sinutaoline |\n",
       "| siuke       |\n",
       "| siukene     |\n",
       "| säherdune   |\n",
       "| säärane     |\n",
       "| taoline     |\n",
       "| teiesugune  |\n",
       "| teine       |\n",
       "| teistsugune |\n",
       "| tema        |\n",
       "| temake      |\n",
       "| temakene    |\n",
       "| temasugune  |\n",
       "| temataoline |\n",
       "| too         |\n",
       "| toosama     |\n",
       "| toosamane   |\n",
       "| üks         |\n",
       "| üksteise    |\n",
       "| hakkama     |\n",
       "| minema      |\n",
       "| olema       |\n",
       "| pidama      |\n",
       "| saama       |\n",
       "| tegema      |\n",
       "| tulema      |\n",
       "| võima       |\n",
       "\n"
      ],
      "text/plain": [
       "     word        \n",
       "1    all         \n",
       "2    alla        \n",
       "3    allapoole   \n",
       "4    allpool     \n",
       "5    alt         \n",
       "6    altpoolt    \n",
       "7    eel         \n",
       "8    eespool     \n",
       "9    enne        \n",
       "10   hommikupoole\n",
       "11   hoolimata   \n",
       "12   ilma        \n",
       "13   kaudu       \n",
       "14   keset       \n",
       "15   kesk        \n",
       "16   kohe        \n",
       "17   koos        \n",
       "18   kuhupoole   \n",
       "19   kuni        \n",
       "20   kuspool     \n",
       "21   kustpoolt   \n",
       "22   kõige       \n",
       "23   käsikäes    \n",
       "24   lappi       \n",
       "25   ligi        \n",
       "26   läbi        \n",
       "27   mööda       \n",
       "28   paitsi      \n",
       "29   peale       \n",
       "30   pealepoole  \n",
       "⋮    ⋮           \n",
       "1573 sihukene    \n",
       "1574 sina        \n",
       "1575 sinusugune  \n",
       "1576 sinutaoline \n",
       "1577 siuke       \n",
       "1578 siukene     \n",
       "1579 säherdune   \n",
       "1580 säärane     \n",
       "1581 taoline     \n",
       "1582 teiesugune  \n",
       "1583 teine       \n",
       "1584 teistsugune \n",
       "1585 tema        \n",
       "1586 temake      \n",
       "1587 temakene    \n",
       "1588 temasugune  \n",
       "1589 temataoline \n",
       "1590 too         \n",
       "1591 toosama     \n",
       "1592 toosamane   \n",
       "1593 üks         \n",
       "1594 üksteise    \n",
       "1595 hakkama     \n",
       "1596 minema      \n",
       "1597 olema       \n",
       "1598 pidama      \n",
       "1599 saama       \n",
       "1600 tegema      \n",
       "1601 tulema      \n",
       "1602 võima       "
      ]
     },
     "metadata": {},
     "output_type": "display_data"
    }
   ],
   "source": [
    "stopsonad"
   ]
  },
  {
   "cell_type": "code",
   "execution_count": 56,
   "id": "a058c1b9",
   "metadata": {},
   "outputs": [],
   "source": [
    "bigrams_separated <- balti_concs_rootsi %>%\n",
    "  unnest_tokens(bigram, context, token = \"ngrams\", n = 2) %>%\n",
    "  separate(bigram, c(\"word1\", \"word2\"), sep = \" \")"
   ]
  },
  {
   "cell_type": "code",
   "execution_count": 57,
   "id": "dcdff2c7",
   "metadata": {},
   "outputs": [],
   "source": [
    "bigrams_filtered <- bigrams_separated %>%\n",
    "  filter(!word1 %in% stopsonad$word) %>%\n",
    "  filter(!word2 %in% stopsonad$word)"
   ]
  },
  {
   "cell_type": "code",
   "execution_count": 58,
   "id": "a8db9d17",
   "metadata": {},
   "outputs": [],
   "source": [
    "# new bigram counts:\n",
    "bigram_counts <- bigrams_filtered %>% \n",
    "  count(word1, word2, sort = TRUE)"
   ]
  },
  {
   "cell_type": "code",
   "execution_count": 114,
   "id": "39f2f826",
   "metadata": {},
   "outputs": [
    {
     "data": {
      "text/html": [
       "<table class=\"dataframe\">\n",
       "<caption>A data.table: 50 × 3</caption>\n",
       "<thead>\n",
       "\t<tr><th scope=col>word1</th><th scope=col>word2</th><th scope=col>n</th></tr>\n",
       "\t<tr><th scope=col>&lt;chr&gt;</th><th scope=col>&lt;chr&gt;</th><th scope=col>&lt;int&gt;</th></tr>\n",
       "</thead>\n",
       "<tbody>\n",
       "\t<tr><td>balti     </td><td>riik          </td><td>13675</td></tr>\n",
       "\t<tr><td>balti     </td><td>rahvas        </td><td> 4703</td></tr>\n",
       "\t<tr><td>baltiska  </td><td>baltiskas     </td><td> 2313</td></tr>\n",
       "\t<tr><td>balti     </td><td>komitee       </td><td> 2031</td></tr>\n",
       "\t<tr><td>kolm      </td><td>balti         </td><td> 1717</td></tr>\n",
       "\t<tr><td>balti     </td><td>põgenik       </td><td> 1447</td></tr>\n",
       "\t<tr><td>de        </td><td>baltiska      </td><td> 1369</td></tr>\n",
       "\t<tr><td>balti     </td><td>instituut     </td><td> 1076</td></tr>\n",
       "\t<tr><td>liidu     </td><td>liidud        </td><td>  914</td></tr>\n",
       "\t<tr><td>liidud    </td><td>liit          </td><td>  889</td></tr>\n",
       "\t<tr><td>balti     </td><td>küsimus       </td><td>  852</td></tr>\n",
       "\t<tr><td>balt      </td><td>balti         </td><td>  755</td></tr>\n",
       "\t<tr><td>balti     </td><td>organisatsioon</td><td>  681</td></tr>\n",
       "\t<tr><td>baltiskas </td><td>staterna      </td><td>  618</td></tr>\n",
       "\t<tr><td>riik      </td><td>küsimus       </td><td>  618</td></tr>\n",
       "\t<tr><td>balti     </td><td>vabariik      </td><td>  614</td></tr>\n",
       "\t<tr><td>balti     </td><td>arhiiv        </td><td>  549</td></tr>\n",
       "\t<tr><td>balti     </td><td>vabadusliit   </td><td>  493</td></tr>\n",
       "\t<tr><td>balti     </td><td>meri          </td><td>  463</td></tr>\n",
       "\t<tr><td>riik      </td><td>iseseisvus    </td><td>  433</td></tr>\n",
       "\t<tr><td>balti     </td><td>maa           </td><td>  400</td></tr>\n",
       "\t<tr><td>balti     </td><td>rahvus        </td><td>  400</td></tr>\n",
       "\t<tr><td>eesti     </td><td>läti          </td><td>  399</td></tr>\n",
       "\t<tr><td>balti     </td><td>ülikool       </td><td>  384</td></tr>\n",
       "\t<tr><td>riik      </td><td>annekteerimine</td><td>  378</td></tr>\n",
       "\t<tr><td>balti     </td><td>sakslane      </td><td>  342</td></tr>\n",
       "\t<tr><td>riik      </td><td>okupeerimine  </td><td>  341</td></tr>\n",
       "\t<tr><td>balti     </td><td>probleem      </td><td>  334</td></tr>\n",
       "\t<tr><td>balti     </td><td>pagulane      </td><td>  332</td></tr>\n",
       "\t<tr><td>nõukogu   </td><td>nõukogude     </td><td>  325</td></tr>\n",
       "\t<tr><td>balti     </td><td>päritolu      </td><td>  324</td></tr>\n",
       "\t<tr><td>balti     </td><td>saks          </td><td>  324</td></tr>\n",
       "\t<tr><td>new       </td><td>york          </td><td>  308</td></tr>\n",
       "\t<tr><td>balti     </td><td>humanist      </td><td>  276</td></tr>\n",
       "\t<tr><td>komitee   </td><td>esimees       </td><td>  275</td></tr>\n",
       "\t<tr><td>riik      </td><td>saatus        </td><td>  275</td></tr>\n",
       "\t<tr><td>tunnustama</td><td>balti         </td><td>  274</td></tr>\n",
       "\t<tr><td>tunnustama</td><td>tunnustanud   </td><td>  258</td></tr>\n",
       "\t<tr><td>humanist  </td><td>ühing         </td><td>  255</td></tr>\n",
       "\t<tr><td>balti     </td><td>rahvusgrupp   </td><td>  243</td></tr>\n",
       "\t<tr><td>baltiskas </td><td>länderna      </td><td>  241</td></tr>\n",
       "\t<tr><td>toimuma   </td><td>toimunud      </td><td>  241</td></tr>\n",
       "\t<tr><td>balti     </td><td>nõukogu       </td><td>  232</td></tr>\n",
       "\t<tr><td>riik      </td><td>esindaja      </td><td>  232</td></tr>\n",
       "\t<tr><td>ülevaade  </td><td>balti         </td><td>  226</td></tr>\n",
       "\t<tr><td>tundma    </td><td>tuntud        </td><td>  225</td></tr>\n",
       "\t<tr><td>balti     </td><td>selts         </td><td>  223</td></tr>\n",
       "\t<tr><td>maa       </td><td>mai           </td><td>  218</td></tr>\n",
       "\t<tr><td>14        </td><td>juuni         </td><td>  215</td></tr>\n",
       "\t<tr><td>mööduma   </td><td>möödunud      </td><td>  215</td></tr>\n",
       "</tbody>\n",
       "</table>\n"
      ],
      "text/latex": [
       "A data.table: 50 × 3\n",
       "\\begin{tabular}{lll}\n",
       " word1 & word2 & n\\\\\n",
       " <chr> & <chr> & <int>\\\\\n",
       "\\hline\n",
       "\t balti      & riik           & 13675\\\\\n",
       "\t balti      & rahvas         &  4703\\\\\n",
       "\t baltiska   & baltiskas      &  2313\\\\\n",
       "\t balti      & komitee        &  2031\\\\\n",
       "\t kolm       & balti          &  1717\\\\\n",
       "\t balti      & põgenik        &  1447\\\\\n",
       "\t de         & baltiska       &  1369\\\\\n",
       "\t balti      & instituut      &  1076\\\\\n",
       "\t liidu      & liidud         &   914\\\\\n",
       "\t liidud     & liit           &   889\\\\\n",
       "\t balti      & küsimus        &   852\\\\\n",
       "\t balt       & balti          &   755\\\\\n",
       "\t balti      & organisatsioon &   681\\\\\n",
       "\t baltiskas  & staterna       &   618\\\\\n",
       "\t riik       & küsimus        &   618\\\\\n",
       "\t balti      & vabariik       &   614\\\\\n",
       "\t balti      & arhiiv         &   549\\\\\n",
       "\t balti      & vabadusliit    &   493\\\\\n",
       "\t balti      & meri           &   463\\\\\n",
       "\t riik       & iseseisvus     &   433\\\\\n",
       "\t balti      & maa            &   400\\\\\n",
       "\t balti      & rahvus         &   400\\\\\n",
       "\t eesti      & läti           &   399\\\\\n",
       "\t balti      & ülikool        &   384\\\\\n",
       "\t riik       & annekteerimine &   378\\\\\n",
       "\t balti      & sakslane       &   342\\\\\n",
       "\t riik       & okupeerimine   &   341\\\\\n",
       "\t balti      & probleem       &   334\\\\\n",
       "\t balti      & pagulane       &   332\\\\\n",
       "\t nõukogu    & nõukogude      &   325\\\\\n",
       "\t balti      & päritolu       &   324\\\\\n",
       "\t balti      & saks           &   324\\\\\n",
       "\t new        & york           &   308\\\\\n",
       "\t balti      & humanist       &   276\\\\\n",
       "\t komitee    & esimees        &   275\\\\\n",
       "\t riik       & saatus         &   275\\\\\n",
       "\t tunnustama & balti          &   274\\\\\n",
       "\t tunnustama & tunnustanud    &   258\\\\\n",
       "\t humanist   & ühing          &   255\\\\\n",
       "\t balti      & rahvusgrupp    &   243\\\\\n",
       "\t baltiskas  & länderna       &   241\\\\\n",
       "\t toimuma    & toimunud       &   241\\\\\n",
       "\t balti      & nõukogu        &   232\\\\\n",
       "\t riik       & esindaja       &   232\\\\\n",
       "\t ülevaade   & balti          &   226\\\\\n",
       "\t tundma     & tuntud         &   225\\\\\n",
       "\t balti      & selts          &   223\\\\\n",
       "\t maa        & mai            &   218\\\\\n",
       "\t 14         & juuni          &   215\\\\\n",
       "\t mööduma    & möödunud       &   215\\\\\n",
       "\\end{tabular}\n"
      ],
      "text/markdown": [
       "\n",
       "A data.table: 50 × 3\n",
       "\n",
       "| word1 &lt;chr&gt; | word2 &lt;chr&gt; | n &lt;int&gt; |\n",
       "|---|---|---|\n",
       "| balti      | riik           | 13675 |\n",
       "| balti      | rahvas         |  4703 |\n",
       "| baltiska   | baltiskas      |  2313 |\n",
       "| balti      | komitee        |  2031 |\n",
       "| kolm       | balti          |  1717 |\n",
       "| balti      | põgenik        |  1447 |\n",
       "| de         | baltiska       |  1369 |\n",
       "| balti      | instituut      |  1076 |\n",
       "| liidu      | liidud         |   914 |\n",
       "| liidud     | liit           |   889 |\n",
       "| balti      | küsimus        |   852 |\n",
       "| balt       | balti          |   755 |\n",
       "| balti      | organisatsioon |   681 |\n",
       "| baltiskas  | staterna       |   618 |\n",
       "| riik       | küsimus        |   618 |\n",
       "| balti      | vabariik       |   614 |\n",
       "| balti      | arhiiv         |   549 |\n",
       "| balti      | vabadusliit    |   493 |\n",
       "| balti      | meri           |   463 |\n",
       "| riik       | iseseisvus     |   433 |\n",
       "| balti      | maa            |   400 |\n",
       "| balti      | rahvus         |   400 |\n",
       "| eesti      | läti           |   399 |\n",
       "| balti      | ülikool        |   384 |\n",
       "| riik       | annekteerimine |   378 |\n",
       "| balti      | sakslane       |   342 |\n",
       "| riik       | okupeerimine   |   341 |\n",
       "| balti      | probleem       |   334 |\n",
       "| balti      | pagulane       |   332 |\n",
       "| nõukogu    | nõukogude      |   325 |\n",
       "| balti      | päritolu       |   324 |\n",
       "| balti      | saks           |   324 |\n",
       "| new        | york           |   308 |\n",
       "| balti      | humanist       |   276 |\n",
       "| komitee    | esimees        |   275 |\n",
       "| riik       | saatus         |   275 |\n",
       "| tunnustama | balti          |   274 |\n",
       "| tunnustama | tunnustanud    |   258 |\n",
       "| humanist   | ühing          |   255 |\n",
       "| balti      | rahvusgrupp    |   243 |\n",
       "| baltiskas  | länderna       |   241 |\n",
       "| toimuma    | toimunud       |   241 |\n",
       "| balti      | nõukogu        |   232 |\n",
       "| riik       | esindaja       |   232 |\n",
       "| ülevaade   | balti          |   226 |\n",
       "| tundma     | tuntud         |   225 |\n",
       "| balti      | selts          |   223 |\n",
       "| maa        | mai            |   218 |\n",
       "| 14         | juuni          |   215 |\n",
       "| mööduma    | möödunud       |   215 |\n",
       "\n"
      ],
      "text/plain": [
       "   word1      word2          n    \n",
       "1  balti      riik           13675\n",
       "2  balti      rahvas          4703\n",
       "3  baltiska   baltiskas       2313\n",
       "4  balti      komitee         2031\n",
       "5  kolm       balti           1717\n",
       "6  balti      põgenik         1447\n",
       "7  de         baltiska        1369\n",
       "8  balti      instituut       1076\n",
       "9  liidu      liidud           914\n",
       "10 liidud     liit             889\n",
       "11 balti      küsimus          852\n",
       "12 balt       balti            755\n",
       "13 balti      organisatsioon   681\n",
       "14 baltiskas  staterna         618\n",
       "15 riik       küsimus          618\n",
       "16 balti      vabariik         614\n",
       "17 balti      arhiiv           549\n",
       "18 balti      vabadusliit      493\n",
       "19 balti      meri             463\n",
       "20 riik       iseseisvus       433\n",
       "21 balti      maa              400\n",
       "22 balti      rahvus           400\n",
       "23 eesti      läti             399\n",
       "24 balti      ülikool          384\n",
       "25 riik       annekteerimine   378\n",
       "26 balti      sakslane         342\n",
       "27 riik       okupeerimine     341\n",
       "28 balti      probleem         334\n",
       "29 balti      pagulane         332\n",
       "30 nõukogu    nõukogude        325\n",
       "31 balti      päritolu         324\n",
       "32 balti      saks             324\n",
       "33 new        york             308\n",
       "34 balti      humanist         276\n",
       "35 komitee    esimees          275\n",
       "36 riik       saatus           275\n",
       "37 tunnustama balti            274\n",
       "38 tunnustama tunnustanud      258\n",
       "39 humanist   ühing            255\n",
       "40 balti      rahvusgrupp      243\n",
       "41 baltiskas  länderna         241\n",
       "42 toimuma    toimunud         241\n",
       "43 balti      nõukogu          232\n",
       "44 riik       esindaja         232\n",
       "45 ülevaade   balti            226\n",
       "46 tundma     tuntud           225\n",
       "47 balti      selts            223\n",
       "48 maa        mai              218\n",
       "49 14         juuni            215\n",
       "50 mööduma    möödunud         215"
      ]
     },
     "metadata": {},
     "output_type": "display_data"
    }
   ],
   "source": [
    "head(bigram_counts, 50)"
   ]
  },
  {
   "cell_type": "code",
   "execution_count": 64,
   "id": "1531c62d",
   "metadata": {},
   "outputs": [],
   "source": [
    "bigram_graph <- bigram_counts %>%\n",
    "  filter(n > 300) %>%\n",
    "  graph_from_data_frame()"
   ]
  },
  {
   "cell_type": "code",
   "execution_count": 62,
   "id": "9ad5d018",
   "metadata": {},
   "outputs": [
    {
     "data": {
      "text/plain": [
       "IGRAPH f7357f1 DN-- 62 54 -- \n",
       "+ attr: name (v/c), n (e/n)\n",
       "+ edges from f7357f1 (vertex names):\n",
       " [1] balti    ->riik           balti    ->rahvas        \n",
       " [3] baltiska ->baltiskas      balti    ->komitee       \n",
       " [5] kolm     ->balti          balti    ->põgenik       \n",
       " [7] de       ->baltiska       balti    ->instituut     \n",
       " [9] liidu    ->liidud         liidud   ->liit          \n",
       "[11] balti    ->küsimus        balt     ->balti         \n",
       "[13] balti    ->organisatsioon baltiskas->staterna      \n",
       "[15] riik     ->küsimus        balti    ->vabariik      \n",
       "+ ... omitted several edges"
      ]
     },
     "metadata": {},
     "output_type": "display_data"
    }
   ],
   "source": [
    "bigram_graph"
   ]
  },
  {
   "cell_type": "code",
   "execution_count": 39,
   "id": "4b260a98",
   "metadata": {},
   "outputs": [
    {
     "name": "stderr",
     "output_type": "stream",
     "text": [
      "also installing the dependencies ‘tweenr’, ‘polyclip’, ‘ggforce’, ‘ggrepel’, ‘viridis’, ‘tidygraph’, ‘graphlayouts’\n",
      "\n",
      "\n"
     ]
    }
   ],
   "source": [
    "install.packages('ggraph', lib='~/R_pckg')\n",
    "library(ggraph, lib.loc='~/R_pckg')"
   ]
  },
  {
   "cell_type": "code",
   "execution_count": 99,
   "id": "49c4d049",
   "metadata": {},
   "outputs": [
    {
     "data": {
      "image/png": "[encoded data removed]",
      "text/plain": [
       "plot without title"
      ]
     },
     "metadata": {
      "image/png": {
       "height": 420,
       "width": 420
      }
     },
     "output_type": "display_data"
    }
   ],
   "source": [
    "set.seed(2017)\n",
    "\n",
    "a <- grid::arrow(type = \"closed\", length = unit(.12, \"inches\"))\n",
    "\n",
    "ggraph(bigram_graph, layout = \"fr\") +\n",
    "    geom_edge_link(aes(edge_alpha = n), show.legend = FALSE, arrow = a, end_cap = circle(.05, 'inches')) +\n",
    "    #geom_node_point(color = \"lightblue\", size = 5) +\n",
    "    geom_node_text(aes(label = name), repel = TRUE, size=4)"
   ]
  },
  {
   "cell_type": "code",
   "execution_count": 101,
   "id": "8c743f72",
   "metadata": {},
   "outputs": [],
   "source": [
    "rootsi_ajalehed1 <- all_issues %>%\n",
    "    filter(DocumentType==\"NEWSPAPER\") %>%\n",
    "    filter(year>1943&year<1961) %>%\n",
    "    filter(keyid==\"estdagbladet\" | keyid==\"eestiteatajastock\" | keyid==\"stockholmstid\" | keyid==\"teatajapoliit\" | keyid==\"valiseesti\")"
   ]
  },
  {
   "cell_type": "code",
   "execution_count": 102,
   "id": "78d3b3c2",
   "metadata": {},
   "outputs": [],
   "source": [
    "searchterm <- \"balti\"\n",
    "searchfile <- \"balti_lemmas_rootsi1.txt\"\n",
    "do_subset_search(searchterm=searchterm, searchfile=searchfile, rootsi_ajalehed1, searchtype=\"lemmas\", source=\"pages\")"
   ]
  },
  {
   "cell_type": "code",
   "execution_count": 103,
   "id": "180d6618",
   "metadata": {},
   "outputs": [],
   "source": [
    "texts <- fread(\"balti_lemmas_rootsi1.txt\",header=F,sep=\"\\t\", quote=\"\")[,.(id=V1,lemmas=V2)]\n",
    "texts[,DocumentID:=str_extract(id,\"[^\\\\.]+\")]\n",
    "fileids_w_meta1 <- texts %>% select(id, DocumentID) %>% left_join(rootsi_ajalehed1 %>% select(keyid, year, month, DocumentID, zippath_sections, zippath_pages), by=c(\"DocumentID\"))"
   ]
  },
  {
   "cell_type": "code",
   "execution_count": 104,
   "id": "229090cc",
   "metadata": {},
   "outputs": [],
   "source": [
    "balti_concs_rootsi1 <- get_concordances(searchterm=searchterm,texts=texts,before=50,after=50,txt=\"lemmas\",id=\"id\")"
   ]
  },
  {
   "cell_type": "code",
   "execution_count": 105,
   "id": "b22de544",
   "metadata": {},
   "outputs": [],
   "source": [
    "balti_concs1 <- balti_concs_rootsi1[, !c(\"id\",\"nr\",\"begin\",\"end\", \"DocumentID\")]\n",
    "\n",
    "write.table(balti_concs1, \"balti_concs1.txt\", sep=\"\\t\", quote = F, row.names = F)"
   ]
  },
  {
   "cell_type": "code",
   "execution_count": 109,
   "id": "92d89eb9",
   "metadata": {},
   "outputs": [],
   "source": [
    "trigrams_separated <- balti_concs_rootsi1 %>% \n",
    "  unnest_tokens(trigram, context, token = \"ngrams\", n = 3, n_min = 3) %>% \n",
    "  separate(trigram, c(\"word1\", \"word2\", \"word3\"), sep = \" \")"
   ]
  },
  {
   "cell_type": "code",
   "execution_count": 110,
   "id": "3ffbb34c",
   "metadata": {},
   "outputs": [],
   "source": [
    "trigrams_filtered <- trigrams_separated %>%\n",
    "  filter(!word1 %in% stopsonad$word) %>%\n",
    "  filter(!word2 %in% stopsonad$word) %>%\n",
    "  filter(!word3 %in% stopsonad$word)"
   ]
  },
  {
   "cell_type": "code",
   "execution_count": 112,
   "id": "e141a4d6",
   "metadata": {},
   "outputs": [],
   "source": [
    "trigram_counts <- trigrams_filtered %>% \n",
    "  count(word1, word2, word3, sort = TRUE)"
   ]
  },
  {
   "cell_type": "code",
   "execution_count": 113,
   "id": "5ad90ac0",
   "metadata": {},
   "outputs": [
    {
     "data": {
      "text/html": [
       "<table class=\"dataframe\">\n",
       "<caption>A data.table: 20 × 4</caption>\n",
       "<thead>\n",
       "\t<tr><th scope=col>word1</th><th scope=col>word2</th><th scope=col>word3</th><th scope=col>n</th></tr>\n",
       "\t<tr><th scope=col>&lt;chr&gt;</th><th scope=col>&lt;chr&gt;</th><th scope=col>&lt;chr&gt;</th><th scope=col>&lt;int&gt;</th></tr>\n",
       "</thead>\n",
       "<tbody>\n",
       "\t<tr><td>kolm      </td><td>balti   </td><td>riik          </td><td>294</td></tr>\n",
       "\t<tr><td>liidu     </td><td>liidud  </td><td>liit          </td><td>250</td></tr>\n",
       "\t<tr><td>balti     </td><td>humanist</td><td>ühing         </td><td>183</td></tr>\n",
       "\t<tr><td>balti     </td><td>riik    </td><td>küsimus       </td><td>160</td></tr>\n",
       "\t<tr><td>kolm      </td><td>balti   </td><td>rahvas        </td><td>160</td></tr>\n",
       "\t<tr><td>balti     </td><td>riik    </td><td>iseseisvus    </td><td>126</td></tr>\n",
       "\t<tr><td>balti     </td><td>riik    </td><td>esindaja      </td><td>121</td></tr>\n",
       "\t<tr><td>balti     </td><td>riik    </td><td>annekteerimine</td><td>113</td></tr>\n",
       "\t<tr><td>balti     </td><td>riik    </td><td>saatus        </td><td>100</td></tr>\n",
       "\t<tr><td>de        </td><td>baltiska</td><td>baltiskas     </td><td> 99</td></tr>\n",
       "\t<tr><td>balti     </td><td>riik    </td><td>kodanik       </td><td> 92</td></tr>\n",
       "\t<tr><td>balti     </td><td>riik    </td><td>okupeerimine  </td><td> 90</td></tr>\n",
       "\t<tr><td>balti     </td><td>rahvas  </td><td>esindaja      </td><td> 68</td></tr>\n",
       "\t<tr><td>balti     </td><td>komitee </td><td>esimees       </td><td> 65</td></tr>\n",
       "\t<tr><td>balti     </td><td>riik    </td><td>vabadus       </td><td> 63</td></tr>\n",
       "\t<tr><td>balti     </td><td>riik    </td><td>vägivaldne    </td><td> 62</td></tr>\n",
       "\t<tr><td>tunnustama</td><td>balti   </td><td>riik          </td><td> 62</td></tr>\n",
       "\t<tr><td>brit      </td><td>briti   </td><td>britt         </td><td> 59</td></tr>\n",
       "\t<tr><td>balti     </td><td>rahvas  </td><td>ühine         </td><td> 58</td></tr>\n",
       "\t<tr><td>balti     </td><td>riik    </td><td>liitmine      </td><td> 52</td></tr>\n",
       "</tbody>\n",
       "</table>\n"
      ],
      "text/latex": [
       "A data.table: 20 × 4\n",
       "\\begin{tabular}{llll}\n",
       " word1 & word2 & word3 & n\\\\\n",
       " <chr> & <chr> & <chr> & <int>\\\\\n",
       "\\hline\n",
       "\t kolm       & balti    & riik           & 294\\\\\n",
       "\t liidu      & liidud   & liit           & 250\\\\\n",
       "\t balti      & humanist & ühing          & 183\\\\\n",
       "\t balti      & riik     & küsimus        & 160\\\\\n",
       "\t kolm       & balti    & rahvas         & 160\\\\\n",
       "\t balti      & riik     & iseseisvus     & 126\\\\\n",
       "\t balti      & riik     & esindaja       & 121\\\\\n",
       "\t balti      & riik     & annekteerimine & 113\\\\\n",
       "\t balti      & riik     & saatus         & 100\\\\\n",
       "\t de         & baltiska & baltiskas      &  99\\\\\n",
       "\t balti      & riik     & kodanik        &  92\\\\\n",
       "\t balti      & riik     & okupeerimine   &  90\\\\\n",
       "\t balti      & rahvas   & esindaja       &  68\\\\\n",
       "\t balti      & komitee  & esimees        &  65\\\\\n",
       "\t balti      & riik     & vabadus        &  63\\\\\n",
       "\t balti      & riik     & vägivaldne     &  62\\\\\n",
       "\t tunnustama & balti    & riik           &  62\\\\\n",
       "\t brit       & briti    & britt          &  59\\\\\n",
       "\t balti      & rahvas   & ühine          &  58\\\\\n",
       "\t balti      & riik     & liitmine       &  52\\\\\n",
       "\\end{tabular}\n"
      ],
      "text/markdown": [
       "\n",
       "A data.table: 20 × 4\n",
       "\n",
       "| word1 &lt;chr&gt; | word2 &lt;chr&gt; | word3 &lt;chr&gt; | n &lt;int&gt; |\n",
       "|---|---|---|---|\n",
       "| kolm       | balti    | riik           | 294 |\n",
       "| liidu      | liidud   | liit           | 250 |\n",
       "| balti      | humanist | ühing          | 183 |\n",
       "| balti      | riik     | küsimus        | 160 |\n",
       "| kolm       | balti    | rahvas         | 160 |\n",
       "| balti      | riik     | iseseisvus     | 126 |\n",
       "| balti      | riik     | esindaja       | 121 |\n",
       "| balti      | riik     | annekteerimine | 113 |\n",
       "| balti      | riik     | saatus         | 100 |\n",
       "| de         | baltiska | baltiskas      |  99 |\n",
       "| balti      | riik     | kodanik        |  92 |\n",
       "| balti      | riik     | okupeerimine   |  90 |\n",
       "| balti      | rahvas   | esindaja       |  68 |\n",
       "| balti      | komitee  | esimees        |  65 |\n",
       "| balti      | riik     | vabadus        |  63 |\n",
       "| balti      | riik     | vägivaldne     |  62 |\n",
       "| tunnustama | balti    | riik           |  62 |\n",
       "| brit       | briti    | britt          |  59 |\n",
       "| balti      | rahvas   | ühine          |  58 |\n",
       "| balti      | riik     | liitmine       |  52 |\n",
       "\n"
      ],
      "text/plain": [
       "   word1      word2    word3          n  \n",
       "1  kolm       balti    riik           294\n",
       "2  liidu      liidud   liit           250\n",
       "3  balti      humanist ühing          183\n",
       "4  balti      riik     küsimus        160\n",
       "5  kolm       balti    rahvas         160\n",
       "6  balti      riik     iseseisvus     126\n",
       "7  balti      riik     esindaja       121\n",
       "8  balti      riik     annekteerimine 113\n",
       "9  balti      riik     saatus         100\n",
       "10 de         baltiska baltiskas       99\n",
       "11 balti      riik     kodanik         92\n",
       "12 balti      riik     okupeerimine    90\n",
       "13 balti      rahvas   esindaja        68\n",
       "14 balti      komitee  esimees         65\n",
       "15 balti      riik     vabadus         63\n",
       "16 balti      riik     vägivaldne      62\n",
       "17 tunnustama balti    riik            62\n",
       "18 brit       briti    britt           59\n",
       "19 balti      rahvas   ühine           58\n",
       "20 balti      riik     liitmine        52"
      ]
     },
     "metadata": {},
     "output_type": "display_data"
    }
   ],
   "source": [
    "head(trigram_counts, 20)"
   ]
  },
  {
   "cell_type": "code",
   "execution_count": 25,
   "id": "57383859",
   "metadata": {},
   "outputs": [],
   "source": [
    "rootsi_ajalehed2 <- all_issues %>%\n",
    "    filter(DocumentType==\"NEWSPAPER\") %>%\n",
    "    filter(year>1960&year<1985) %>%\n",
    "    filter(keyid==\"estdagbladet\" | keyid==\"eestiteatajastock\" | keyid==\"stockholmstid\" | keyid==\"teatajapoliit\" | keyid==\"valiseesti\")"
   ]
  },
  {
   "cell_type": "code",
   "execution_count": 26,
   "id": "8faf517b",
   "metadata": {},
   "outputs": [],
   "source": [
    "searchterm <- \"balti\"\n",
    "searchfile <- \"balti_lemmas_rootsi2.txt\"\n",
    "do_subset_search(searchterm=searchterm, searchfile=searchfile, rootsi_ajalehed2, searchtype=\"lemmas\", source=\"pages\")"
   ]
  },
  {
   "cell_type": "code",
   "execution_count": 27,
   "id": "8fd36d81",
   "metadata": {},
   "outputs": [],
   "source": [
    "texts <- fread(\"balti_lemmas_rootsi2.txt\",header=F,sep=\"\\t\", quote=\"\")[,.(id=V1,lemmas=V2)]\n",
    "texts[,DocumentID:=str_extract(id,\"[^\\\\.]+\")]\n",
    "fileids_w_meta1 <- texts %>% select(id, DocumentID) %>% left_join(rootsi_ajalehed2 %>% select(keyid, year, month, DocumentID, zippath_sections, zippath_pages), by=c(\"DocumentID\"))"
   ]
  },
  {
   "cell_type": "code",
   "execution_count": 28,
   "id": "a1257d6b",
   "metadata": {},
   "outputs": [],
   "source": [
    "balti_concs_rootsi2 <- get_concordances(searchterm=searchterm,texts=texts,before=50,after=50,txt=\"lemmas\",id=\"id\")"
   ]
  },
  {
   "cell_type": "code",
   "execution_count": 40,
   "id": "59c4279c",
   "metadata": {},
   "outputs": [],
   "source": [
    "balti_concs2 <- balti_concs_rootsi2[, !c(\"id\",\"nr\",\"begin\",\"end\", \"DocumentID\")]\n",
    "\n",
    "write.table(balti_concs2, \"balti_concs2.txt\", sep=\"\\t\", quote = F, row.names = F)"
   ]
  },
  {
   "cell_type": "code",
   "execution_count": 29,
   "id": "42ed768e",
   "metadata": {},
   "outputs": [],
   "source": [
    "balti_trigrammid_rootsi2 <- balti_concs_rootsi2 %>% \n",
    "  unnest_tokens(word, context, token = \"ngrams\", n = 3, n_min = 3) %>% \n",
    "  count(word,sort=T)"
   ]
  },
  {
   "cell_type": "code",
   "execution_count": 30,
   "id": "a084ae98",
   "metadata": {},
   "outputs": [
    {
     "data": {
      "text/html": [
       "<table class=\"dataframe\">\n",
       "<caption>A data.table: 20 × 2</caption>\n",
       "<thead>\n",
       "\t<tr><th scope=col>word</th><th scope=col>n</th></tr>\n",
       "\t<tr><th scope=col>&lt;chr&gt;</th><th scope=col>&lt;int&gt;</th></tr>\n",
       "</thead>\n",
       "<tbody>\n",
       "\t<tr><td>de baltiska baltiskas      </td><td>766</td></tr>\n",
       "\t<tr><td>baltiska baltiskas staterna</td><td>376</td></tr>\n",
       "\t<tr><td>ja teine balti             </td><td>370</td></tr>\n",
       "\t<tr><td>balti riik küsimus         </td><td>362</td></tr>\n",
       "\t<tr><td>liidu liidud liit          </td><td>359</td></tr>\n",
       "\t<tr><td>teine balti riik           </td><td>326</td></tr>\n",
       "\t<tr><td>n liidu liidud             </td><td>301</td></tr>\n",
       "\t<tr><td>eesti ja teine             </td><td>291</td></tr>\n",
       "\t<tr><td>kolm balti riik            </td><td>258</td></tr>\n",
       "\t<tr><td>eesti ja balti             </td><td>242</td></tr>\n",
       "\t<tr><td>ja balti komitee           </td><td>216</td></tr>\n",
       "\t<tr><td>balti riik ja              </td><td>205</td></tr>\n",
       "\t<tr><td>balti riik annekteerimine  </td><td>191</td></tr>\n",
       "\t<tr><td>läti ja leedu              </td><td>167</td></tr>\n",
       "\t<tr><td>et balti riik              </td><td>164</td></tr>\n",
       "\t<tr><td>balti riik okupeerimine    </td><td>162</td></tr>\n",
       "\t<tr><td>eesti läti ja              </td><td>161</td></tr>\n",
       "\t<tr><td>balti komitee ja           </td><td>158</td></tr>\n",
       "\t<tr><td>ka balti riik              </td><td>155</td></tr>\n",
       "\t<tr><td>balti riik iseseisvus      </td><td>145</td></tr>\n",
       "</tbody>\n",
       "</table>\n"
      ],
      "text/latex": [
       "A data.table: 20 × 2\n",
       "\\begin{tabular}{ll}\n",
       " word & n\\\\\n",
       " <chr> & <int>\\\\\n",
       "\\hline\n",
       "\t de baltiska baltiskas       & 766\\\\\n",
       "\t baltiska baltiskas staterna & 376\\\\\n",
       "\t ja teine balti              & 370\\\\\n",
       "\t balti riik küsimus          & 362\\\\\n",
       "\t liidu liidud liit           & 359\\\\\n",
       "\t teine balti riik            & 326\\\\\n",
       "\t n liidu liidud              & 301\\\\\n",
       "\t eesti ja teine              & 291\\\\\n",
       "\t kolm balti riik             & 258\\\\\n",
       "\t eesti ja balti              & 242\\\\\n",
       "\t ja balti komitee            & 216\\\\\n",
       "\t balti riik ja               & 205\\\\\n",
       "\t balti riik annekteerimine   & 191\\\\\n",
       "\t läti ja leedu               & 167\\\\\n",
       "\t et balti riik               & 164\\\\\n",
       "\t balti riik okupeerimine     & 162\\\\\n",
       "\t eesti läti ja               & 161\\\\\n",
       "\t balti komitee ja            & 158\\\\\n",
       "\t ka balti riik               & 155\\\\\n",
       "\t balti riik iseseisvus       & 145\\\\\n",
       "\\end{tabular}\n"
      ],
      "text/markdown": [
       "\n",
       "A data.table: 20 × 2\n",
       "\n",
       "| word &lt;chr&gt; | n &lt;int&gt; |\n",
       "|---|---|\n",
       "| de baltiska baltiskas       | 766 |\n",
       "| baltiska baltiskas staterna | 376 |\n",
       "| ja teine balti              | 370 |\n",
       "| balti riik küsimus          | 362 |\n",
       "| liidu liidud liit           | 359 |\n",
       "| teine balti riik            | 326 |\n",
       "| n liidu liidud              | 301 |\n",
       "| eesti ja teine              | 291 |\n",
       "| kolm balti riik             | 258 |\n",
       "| eesti ja balti              | 242 |\n",
       "| ja balti komitee            | 216 |\n",
       "| balti riik ja               | 205 |\n",
       "| balti riik annekteerimine   | 191 |\n",
       "| läti ja leedu               | 167 |\n",
       "| et balti riik               | 164 |\n",
       "| balti riik okupeerimine     | 162 |\n",
       "| eesti läti ja               | 161 |\n",
       "| balti komitee ja            | 158 |\n",
       "| ka balti riik               | 155 |\n",
       "| balti riik iseseisvus       | 145 |\n",
       "\n"
      ],
      "text/plain": [
       "   word                        n  \n",
       "1  de baltiska baltiskas       766\n",
       "2  baltiska baltiskas staterna 376\n",
       "3  ja teine balti              370\n",
       "4  balti riik küsimus          362\n",
       "5  liidu liidud liit           359\n",
       "6  teine balti riik            326\n",
       "7  n liidu liidud              301\n",
       "8  eesti ja teine              291\n",
       "9  kolm balti riik             258\n",
       "10 eesti ja balti              242\n",
       "11 ja balti komitee            216\n",
       "12 balti riik ja               205\n",
       "13 balti riik annekteerimine   191\n",
       "14 läti ja leedu               167\n",
       "15 et balti riik               164\n",
       "16 balti riik okupeerimine     162\n",
       "17 eesti läti ja               161\n",
       "18 balti komitee ja            158\n",
       "19 ka balti riik               155\n",
       "20 balti riik iseseisvus       145"
      ]
     },
     "metadata": {},
     "output_type": "display_data"
    }
   ],
   "source": [
    "head(balti_trigrammid_rootsi2, 20)"
   ]
  },
  {
   "cell_type": "code",
   "execution_count": 31,
   "id": "c5be2067",
   "metadata": {},
   "outputs": [],
   "source": [
    "rootsi_ajalehed3 <- all_issues %>%\n",
    "    filter(DocumentType==\"NEWSPAPER\") %>%\n",
    "    filter(year>1984&year<1996) %>%\n",
    "    filter(keyid==\"estdagbladet\" | keyid==\"eestiteatajastock\" | keyid==\"stockholmstid\" | keyid==\"teatajapoliit\" | keyid==\"valiseesti\")"
   ]
  },
  {
   "cell_type": "code",
   "execution_count": 32,
   "id": "82172c53",
   "metadata": {},
   "outputs": [],
   "source": [
    "searchterm <- \"balti\"\n",
    "searchfile <- \"balti_lemmas_rootsi3.txt\"\n",
    "do_subset_search(searchterm=searchterm, searchfile=searchfile, rootsi_ajalehed3, searchtype=\"lemmas\", source=\"pages\")"
   ]
  },
  {
   "cell_type": "code",
   "execution_count": 33,
   "id": "744a77c3",
   "metadata": {},
   "outputs": [],
   "source": [
    "texts <- fread(\"balti_lemmas_rootsi3.txt\",header=F,sep=\"\\t\", quote=\"\")[,.(id=V1,lemmas=V2)]\n",
    "texts[,DocumentID:=str_extract(id,\"[^\\\\.]+\")]\n",
    "fileids_w_meta1 <- texts %>% select(id, DocumentID) %>% left_join(rootsi_ajalehed3 %>% select(keyid, year, month, DocumentID, zippath_sections, zippath_pages), by=c(\"DocumentID\"))"
   ]
  },
  {
   "cell_type": "code",
   "execution_count": 34,
   "id": "e3234fc4",
   "metadata": {},
   "outputs": [],
   "source": [
    "balti_concs_rootsi3 <- get_concordances(searchterm=searchterm,texts=texts,before=50,after=50,txt=\"lemmas\",id=\"id\")"
   ]
  },
  {
   "cell_type": "code",
   "execution_count": 41,
   "id": "70786e49",
   "metadata": {},
   "outputs": [],
   "source": [
    "balti_concs3 <- balti_concs_rootsi3[, !c(\"id\",\"nr\",\"begin\",\"end\", \"DocumentID\")]\n",
    "\n",
    "write.table(balti_concs3, \"balti_concs3.txt\", sep=\"\\t\", quote = F, row.names = F)"
   ]
  },
  {
   "cell_type": "code",
   "execution_count": 35,
   "id": "6f2b4cec",
   "metadata": {},
   "outputs": [],
   "source": [
    "balti_trigrammid_rootsi3 <- balti_concs_rootsi3 %>% \n",
    "  unnest_tokens(word, context, token = \"ngrams\", n = 3, n_min = 3) %>% \n",
    "  count(word,sort=T)"
   ]
  },
  {
   "cell_type": "code",
   "execution_count": 36,
   "id": "774ac9cc",
   "metadata": {},
   "outputs": [
    {
     "data": {
      "text/html": [
       "<table class=\"dataframe\">\n",
       "<caption>A data.table: 20 × 2</caption>\n",
       "<thead>\n",
       "\t<tr><th scope=col>word</th><th scope=col>n</th></tr>\n",
       "\t<tr><th scope=col>&lt;chr&gt;</th><th scope=col>&lt;int&gt;</th></tr>\n",
       "</thead>\n",
       "<tbody>\n",
       "\t<tr><td>de baltiska baltiskas      </td><td>346</td></tr>\n",
       "\t<tr><td>kolm balti riik            </td><td>233</td></tr>\n",
       "\t<tr><td>teine balti riik           </td><td>186</td></tr>\n",
       "\t<tr><td>liidu liidud liit          </td><td>174</td></tr>\n",
       "\t<tr><td>ja teine balti             </td><td>155</td></tr>\n",
       "\t<tr><td>baltiska baltiskas staterna</td><td>152</td></tr>\n",
       "\t<tr><td>balti riik iseseisvus      </td><td>132</td></tr>\n",
       "\t<tr><td>et balti riik              </td><td>126</td></tr>\n",
       "\t<tr><td>balti riik ja              </td><td>123</td></tr>\n",
       "\t<tr><td>n liidu liidud             </td><td>120</td></tr>\n",
       "\t<tr><td>olema balti riik           </td><td>107</td></tr>\n",
       "\t<tr><td>eesti ja teine             </td><td>106</td></tr>\n",
       "\t<tr><td>ka balti riik              </td><td>101</td></tr>\n",
       "\t<tr><td>eesti ja balti             </td><td> 86</td></tr>\n",
       "\t<tr><td>läti ja leedu              </td><td> 85</td></tr>\n",
       "\t<tr><td>balti riik küsimus         </td><td> 77</td></tr>\n",
       "\t<tr><td>kõik kolm balti            </td><td> 76</td></tr>\n",
       "\t<tr><td>balti riik olema           </td><td> 72</td></tr>\n",
       "\t<tr><td>eesti läti ja              </td><td> 72</td></tr>\n",
       "\t<tr><td>balti riik annekteerimine  </td><td> 68</td></tr>\n",
       "</tbody>\n",
       "</table>\n"
      ],
      "text/latex": [
       "A data.table: 20 × 2\n",
       "\\begin{tabular}{ll}\n",
       " word & n\\\\\n",
       " <chr> & <int>\\\\\n",
       "\\hline\n",
       "\t de baltiska baltiskas       & 346\\\\\n",
       "\t kolm balti riik             & 233\\\\\n",
       "\t teine balti riik            & 186\\\\\n",
       "\t liidu liidud liit           & 174\\\\\n",
       "\t ja teine balti              & 155\\\\\n",
       "\t baltiska baltiskas staterna & 152\\\\\n",
       "\t balti riik iseseisvus       & 132\\\\\n",
       "\t et balti riik               & 126\\\\\n",
       "\t balti riik ja               & 123\\\\\n",
       "\t n liidu liidud              & 120\\\\\n",
       "\t olema balti riik            & 107\\\\\n",
       "\t eesti ja teine              & 106\\\\\n",
       "\t ka balti riik               & 101\\\\\n",
       "\t eesti ja balti              &  86\\\\\n",
       "\t läti ja leedu               &  85\\\\\n",
       "\t balti riik küsimus          &  77\\\\\n",
       "\t kõik kolm balti             &  76\\\\\n",
       "\t balti riik olema            &  72\\\\\n",
       "\t eesti läti ja               &  72\\\\\n",
       "\t balti riik annekteerimine   &  68\\\\\n",
       "\\end{tabular}\n"
      ],
      "text/markdown": [
       "\n",
       "A data.table: 20 × 2\n",
       "\n",
       "| word &lt;chr&gt; | n &lt;int&gt; |\n",
       "|---|---|\n",
       "| de baltiska baltiskas       | 346 |\n",
       "| kolm balti riik             | 233 |\n",
       "| teine balti riik            | 186 |\n",
       "| liidu liidud liit           | 174 |\n",
       "| ja teine balti              | 155 |\n",
       "| baltiska baltiskas staterna | 152 |\n",
       "| balti riik iseseisvus       | 132 |\n",
       "| et balti riik               | 126 |\n",
       "| balti riik ja               | 123 |\n",
       "| n liidu liidud              | 120 |\n",
       "| olema balti riik            | 107 |\n",
       "| eesti ja teine              | 106 |\n",
       "| ka balti riik               | 101 |\n",
       "| eesti ja balti              |  86 |\n",
       "| läti ja leedu               |  85 |\n",
       "| balti riik küsimus          |  77 |\n",
       "| kõik kolm balti             |  76 |\n",
       "| balti riik olema            |  72 |\n",
       "| eesti läti ja               |  72 |\n",
       "| balti riik annekteerimine   |  68 |\n",
       "\n"
      ],
      "text/plain": [
       "   word                        n  \n",
       "1  de baltiska baltiskas       346\n",
       "2  kolm balti riik             233\n",
       "3  teine balti riik            186\n",
       "4  liidu liidud liit           174\n",
       "5  ja teine balti              155\n",
       "6  baltiska baltiskas staterna 152\n",
       "7  balti riik iseseisvus       132\n",
       "8  et balti riik               126\n",
       "9  balti riik ja               123\n",
       "10 n liidu liidud              120\n",
       "11 olema balti riik            107\n",
       "12 eesti ja teine              106\n",
       "13 ka balti riik               101\n",
       "14 eesti ja balti               86\n",
       "15 läti ja leedu                85\n",
       "16 balti riik küsimus           77\n",
       "17 kõik kolm balti              76\n",
       "18 balti riik olema             72\n",
       "19 eesti läti ja                72\n",
       "20 balti riik annekteerimine    68"
      ]
     },
     "metadata": {},
     "output_type": "display_data"
    }
   ],
   "source": [
    "head(balti_trigrammid_rootsi3, 20)"
   ]
  },
  {
   "cell_type": "code",
   "execution_count": null,
   "id": "31b760fe",
   "metadata": {},
   "outputs": [],
   "source": []
  }
 ],
 "metadata": {
  "kernelspec": {
   "display_name": "R 4.1.2",
   "language": "R",
   "name": "ir4-1"
  },
  "language_info": {
   "codemirror_mode": "r",
   "file_extension": ".r",
   "mimetype": "text/x-r-source",
   "name": "R",
   "pygments_lexer": "r",
   "version": "4.1.2"
  }
 },
 "nbformat": 4,
 "nbformat_minor": 5
}
