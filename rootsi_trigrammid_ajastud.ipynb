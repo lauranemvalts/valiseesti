{
 "cells": [
  {
   "cell_type": "code",
   "execution_count": 1,
   "id": "4e68c97a",
   "metadata": {},
   "outputs": [
    {
     "name": "stderr",
     "output_type": "stream",
     "text": [
      "Downloading GitHub repo peeter-t2/digar.txts@HEAD\n",
      "\n"
     ]
    },
    {
     "name": "stdout",
     "output_type": "stream",
     "text": [
      "* checking for file ‘/tmp/RtmpQw7eu2/remotesb89540c7fb4a/peeter-t2-digar.txts-b87e10a/DESCRIPTION’ ... OK\n",
      "* preparing ‘digar.txts’:\n",
      "* checking DESCRIPTION meta-information ... OK\n",
      "* checking for LF line-endings in source and make files and shell scripts\n",
      "* checking for empty or unneeded directories\n",
      "Omitted ‘LazyData’ from DESCRIPTION\n",
      "* building ‘digar.txts_0.0.0.9100.tar.gz’\n",
      "Warning in sprintf(gettext(fmt, domain = domain), ...) :\n",
      "  one argument not used by format 'invalid uid value replaced by that for user 'nobody''\n",
      "Warning: invalid uid value replaced by that for user 'nobody'\n",
      "\n"
     ]
    },
    {
     "name": "stderr",
     "output_type": "stream",
     "text": [
      "Loading required package: data.table\n",
      "\n"
     ]
    }
   ],
   "source": [
    "remotes::install_github(\"peeter-t2/digar.txts\",lib=\"R_pckg/\",upgrade=\"never\")\n",
    "library(digar.txts,lib.loc=\"R_pckg/\")"
   ]
  },
  {
   "cell_type": "code",
   "execution_count": 2,
   "id": "d3a69dab",
   "metadata": {},
   "outputs": [
    {
     "name": "stderr",
     "output_type": "stream",
     "text": [
      "── \u001b[1mAttaching packages\u001b[22m ─────────────────────────────────────── tidyverse 1.3.1 ──\n",
      "\n",
      "\u001b[32m✔\u001b[39m \u001b[34mggplot2\u001b[39m 3.3.5     \u001b[32m✔\u001b[39m \u001b[34mpurrr  \u001b[39m 0.3.4\n",
      "\u001b[32m✔\u001b[39m \u001b[34mtibble \u001b[39m 3.1.6     \u001b[32m✔\u001b[39m \u001b[34mdplyr  \u001b[39m 1.0.8\n",
      "\u001b[32m✔\u001b[39m \u001b[34mtidyr  \u001b[39m 1.2.0     \u001b[32m✔\u001b[39m \u001b[34mstringr\u001b[39m 1.4.0\n",
      "\u001b[32m✔\u001b[39m \u001b[34mreadr  \u001b[39m 2.1.2     \u001b[32m✔\u001b[39m \u001b[34mforcats\u001b[39m 0.5.1\n",
      "\n",
      "── \u001b[1mConflicts\u001b[22m ────────────────────────────────────────── tidyverse_conflicts() ──\n",
      "\u001b[31m✖\u001b[39m \u001b[34mdplyr\u001b[39m::\u001b[32mbetween()\u001b[39m   masks \u001b[34mdata.table\u001b[39m::between()\n",
      "\u001b[31m✖\u001b[39m \u001b[34mdplyr\u001b[39m::\u001b[32mfilter()\u001b[39m    masks \u001b[34mstats\u001b[39m::filter()\n",
      "\u001b[31m✖\u001b[39m \u001b[34mdplyr\u001b[39m::\u001b[32mfirst()\u001b[39m     masks \u001b[34mdata.table\u001b[39m::first()\n",
      "\u001b[31m✖\u001b[39m \u001b[34mdplyr\u001b[39m::\u001b[32mlag()\u001b[39m       masks \u001b[34mstats\u001b[39m::lag()\n",
      "\u001b[31m✖\u001b[39m \u001b[34mdplyr\u001b[39m::\u001b[32mlast()\u001b[39m      masks \u001b[34mdata.table\u001b[39m::last()\n",
      "\u001b[31m✖\u001b[39m \u001b[34mpurrr\u001b[39m::\u001b[32mtranspose()\u001b[39m masks \u001b[34mdata.table\u001b[39m::transpose()\n",
      "\n",
      "\n",
      "Attaching package: ‘igraph’\n",
      "\n",
      "\n",
      "The following objects are masked from ‘package:dplyr’:\n",
      "\n",
      "    as_data_frame, groups, union\n",
      "\n",
      "\n",
      "The following objects are masked from ‘package:purrr’:\n",
      "\n",
      "    compose, simplify\n",
      "\n",
      "\n",
      "The following object is masked from ‘package:tidyr’:\n",
      "\n",
      "    crossing\n",
      "\n",
      "\n",
      "The following object is masked from ‘package:tibble’:\n",
      "\n",
      "    as_data_frame\n",
      "\n",
      "\n",
      "The following objects are masked from ‘package:stats’:\n",
      "\n",
      "    decompose, spectrum\n",
      "\n",
      "\n",
      "The following object is masked from ‘package:base’:\n",
      "\n",
      "    union\n",
      "\n",
      "\n"
     ]
    }
   ],
   "source": [
    "library(tidyverse)\n",
    "library(igraph)\n",
    "install.packages('tidytext', lib='~/R_pckg')\n",
    "library(tidytext, lib.loc='~/R_pckg')\n",
    "install.packages('ggraph', lib='~/R_pckg')\n",
    "library(ggraph, lib.loc='~/R_pckg')"
   ]
  },
  {
   "cell_type": "code",
   "execution_count": 3,
   "id": "768fbe9e",
   "metadata": {},
   "outputs": [
    {
     "name": "stdout",
     "output_type": "stream",
     "text": [
      "[1] \"Issue metadata read\"\n"
     ]
    }
   ],
   "source": [
    "all_issues <- get_digar_overview()"
   ]
  },
  {
   "cell_type": "code",
   "execution_count": 4,
   "id": "7c9be4cd",
   "metadata": {},
   "outputs": [],
   "source": [
    "stopsonad <- read.table(\"estonian-stopwords-lemmas.txt\", header = TRUE, sep = \"\\t\", encoding = \"UTF-8\", stringsAsFactors = T)"
   ]
  },
  {
   "cell_type": "code",
   "execution_count": 5,
   "id": "47889f6f",
   "metadata": {},
   "outputs": [],
   "source": [
    "rootsi_ajalehed1 <- all_issues %>%\n",
    "    filter(DocumentType==\"NEWSPAPER\") %>%\n",
    "    filter(year>1943&year<1961) %>%\n",
    "    filter(keyid==\"estdagbladet\" | keyid==\"eestiteatajastock\" | keyid==\"stockholmstid\" | keyid==\"teatajapoliit\" | keyid==\"valiseesti\")"
   ]
  },
  {
   "cell_type": "code",
   "execution_count": 6,
   "id": "a3a875c8",
   "metadata": {},
   "outputs": [],
   "source": [
    "searchterm <- \"balti\"\n",
    "searchfile <- \"rootsi_trigrammid1.txt\"\n",
    "do_subset_search(searchterm=searchterm, searchfile=searchfile, rootsi_ajalehed1, searchtype=\"lemmas\", source=\"pages\")"
   ]
  },
  {
   "cell_type": "code",
   "execution_count": 7,
   "id": "c8aeac1b",
   "metadata": {},
   "outputs": [],
   "source": [
    "concs1 <- fread(\"rootsi_trigrammid1.txt\",header=F,sep=\"\\t\", quote=\"\")[,.(id=V1,lemmas=V2)]\n",
    "concs1[,DocumentID:=str_extract(id,\"[^\\\\.]+\")]\n",
    "fileids_w_meta_concs1 <- concs1 %>% select(id, DocumentID) %>% left_join(rootsi_ajalehed1 %>% select(keyid, year, month, DocumentID, zippath_sections, zippath_pages), by=c(\"DocumentID\"))"
   ]
  },
  {
   "cell_type": "code",
   "execution_count": 8,
   "id": "7b9f5760",
   "metadata": {},
   "outputs": [],
   "source": [
    "rootsi_concs1 <- get_concordances(searchterm=searchterm,texts=concs1,before=50,after=50,txt=\"lemmas\",id=\"id\")"
   ]
  },
  {
   "cell_type": "code",
   "execution_count": 9,
   "id": "26107d67",
   "metadata": {},
   "outputs": [],
   "source": [
    "rootsi_concs_4460 <- rootsi_concs1[, !c(\"id\",\"nr\",\"begin\",\"end\", \"DocumentID\")]\n",
    "\n",
    "write.table(rootsi_concs_4460, \"4460.txt\", sep=\"\\t\", quote = F, row.names = F)"
   ]
  },
  {
   "cell_type": "code",
   "execution_count": 10,
   "id": "667c0af9",
   "metadata": {},
   "outputs": [
    {
     "data": {
      "text/html": [
       "<table class=\"dataframe\">\n",
       "<caption>A data.frame: 10 × 1</caption>\n",
       "<thead>\n",
       "\t<tr><th></th><th scope=col>context</th></tr>\n",
       "\t<tr><th></th><th scope=col>&lt;chr&gt;</th></tr>\n",
       "</thead>\n",
       "<tbody>\n",
       "\t<tr><th scope=row>1</th><td>uma_kutsutud eesti , läti ja leedu rahvas esindus balti komitee . eestlane esindaja võtma komitee juhtimi</td></tr>\n",
       "\t<tr><th scope=row>2</th><td>d Moskva ka Türgi välispoliitika juht Saraeoglu . balti maa esindaja olema sundima_sunnitud andma_antud o</td></tr>\n",
       "\t<tr><th scope=row>3</th><td>elgia Taani Kopenhaagen , 28. juuli . Kopenhaagen balti põgenik laager jõudma eestlane , kes oma põgenemi</td></tr>\n",
       "\t<tr><th scope=row>4</th><td>kes kõik olema nn . Baltikum laager . üldse olema balti riik kodanik seal umbes 100 inimene . teine eestl</td></tr>\n",
       "\t<tr><th scope=row>5</th><td>valdama_avaldatud . Unrra poolt teatama veel , et balti riik kodaku_kodakud , kes oma kodumaa tagasi ei t</td></tr>\n",
       "\t<tr><th scope=row>6</th><td>nike praktiseerimine võimalus laiendama . Arste - balti põgenik tahtma rakendama Rootsi Punane_Punas Rist</td></tr>\n",
       "\t<tr><th scope=row>7</th><td>rd kuulma , et Potsdam võima päevakord kerkima ka balti riik tulevik küsimus . teatavasti ei olema Inglis</td></tr>\n",
       "\t<tr><th scope=row>8</th><td>e kodanik . 970 see olema haige ja ülejäänu olema balti maa . Inglis ametivõim ei vaatama aga tema kui ’‘</td></tr>\n",
       "\t<tr><th scope=row>9</th><td>aheline organisatsioon esindaja Poolamaa ja teine balti maa ; 4 ) nõukogu vene sõjavägi lahkumine Poolaj </td></tr>\n",
       "\t<tr><th scope=row>10</th><td>M. ka läti ja leedu komitee , moodustama ignlpool balti komitee , mis ülesanne olema koi balti riik kodan</td></tr>\n",
       "</tbody>\n",
       "</table>\n"
      ],
      "text/latex": [
       "A data.frame: 10 × 1\n",
       "\\begin{tabular}{r|l}\n",
       "  & context\\\\\n",
       "  & <chr>\\\\\n",
       "\\hline\n",
       "\t1 & uma\\_kutsutud eesti , läti ja leedu rahvas esindus balti komitee . eestlane esindaja võtma komitee juhtimi\\\\\n",
       "\t2 & d Moskva ka Türgi välispoliitika juht Saraeoglu . balti maa esindaja olema sundima\\_sunnitud andma\\_antud o\\\\\n",
       "\t3 & elgia Taani Kopenhaagen , 28. juuli . Kopenhaagen balti põgenik laager jõudma eestlane , kes oma põgenemi\\\\\n",
       "\t4 & kes kõik olema nn . Baltikum laager . üldse olema balti riik kodanik seal umbes 100 inimene . teine eestl\\\\\n",
       "\t5 & valdama\\_avaldatud . Unrra poolt teatama veel , et balti riik kodaku\\_kodakud , kes oma kodumaa tagasi ei t\\\\\n",
       "\t6 & nike praktiseerimine võimalus laiendama . Arste - balti põgenik tahtma rakendama Rootsi Punane\\_Punas Rist\\\\\n",
       "\t7 & rd kuulma , et Potsdam võima päevakord kerkima ka balti riik tulevik küsimus . teatavasti ei olema Inglis\\\\\n",
       "\t8 & e kodanik . 970 see olema haige ja ülejäänu olema balti maa . Inglis ametivõim ei vaatama aga tema kui ’‘\\\\\n",
       "\t9 & aheline organisatsioon esindaja Poolamaa ja teine balti maa ; 4 ) nõukogu vene sõjavägi lahkumine Poolaj \\\\\n",
       "\t10 & M. ka läti ja leedu komitee , moodustama ignlpool balti komitee , mis ülesanne olema koi balti riik kodan\\\\\n",
       "\\end{tabular}\n"
      ],
      "text/markdown": [
       "\n",
       "A data.frame: 10 × 1\n",
       "\n",
       "| <!--/--> | context &lt;chr&gt; |\n",
       "|---|---|\n",
       "| 1 | uma_kutsutud eesti , läti ja leedu rahvas esindus balti komitee . eestlane esindaja võtma komitee juhtimi |\n",
       "| 2 | d Moskva ka Türgi välispoliitika juht Saraeoglu . balti maa esindaja olema sundima_sunnitud andma_antud o |\n",
       "| 3 | elgia Taani Kopenhaagen , 28. juuli . Kopenhaagen balti põgenik laager jõudma eestlane , kes oma põgenemi |\n",
       "| 4 | kes kõik olema nn . Baltikum laager . üldse olema balti riik kodanik seal umbes 100 inimene . teine eestl |\n",
       "| 5 | valdama_avaldatud . Unrra poolt teatama veel , et balti riik kodaku_kodakud , kes oma kodumaa tagasi ei t |\n",
       "| 6 | nike praktiseerimine võimalus laiendama . Arste - balti põgenik tahtma rakendama Rootsi Punane_Punas Rist |\n",
       "| 7 | rd kuulma , et Potsdam võima päevakord kerkima ka balti riik tulevik küsimus . teatavasti ei olema Inglis |\n",
       "| 8 | e kodanik . 970 see olema haige ja ülejäänu olema balti maa . Inglis ametivõim ei vaatama aga tema kui ’‘ |\n",
       "| 9 | aheline organisatsioon esindaja Poolamaa ja teine balti maa ; 4 ) nõukogu vene sõjavägi lahkumine Poolaj  |\n",
       "| 10 | M. ka läti ja leedu komitee , moodustama ignlpool balti komitee , mis ülesanne olema koi balti riik kodan |\n",
       "\n"
      ],
      "text/plain": [
       "   context                                                                                                  \n",
       "1  uma_kutsutud eesti , läti ja leedu rahvas esindus balti komitee . eestlane esindaja võtma komitee juhtimi\n",
       "2  d Moskva ka Türgi välispoliitika juht Saraeoglu . balti maa esindaja olema sundima_sunnitud andma_antud o\n",
       "3  elgia Taani Kopenhaagen , 28. juuli . Kopenhaagen balti põgenik laager jõudma eestlane , kes oma põgenemi\n",
       "4  kes kõik olema nn . Baltikum laager . üldse olema balti riik kodanik seal umbes 100 inimene . teine eestl\n",
       "5  valdama_avaldatud . Unrra poolt teatama veel , et balti riik kodaku_kodakud , kes oma kodumaa tagasi ei t\n",
       "6  nike praktiseerimine võimalus laiendama . Arste - balti põgenik tahtma rakendama Rootsi Punane_Punas Rist\n",
       "7  rd kuulma , et Potsdam võima päevakord kerkima ka balti riik tulevik küsimus . teatavasti ei olema Inglis\n",
       "8  e kodanik . 970 see olema haige ja ülejäänu olema balti maa . Inglis ametivõim ei vaatama aga tema kui ’‘\n",
       "9  aheline organisatsioon esindaja Poolamaa ja teine balti maa ; 4 ) nõukogu vene sõjavägi lahkumine Poolaj \n",
       "10 M. ka läti ja leedu komitee , moodustama ignlpool balti komitee , mis ülesanne olema koi balti riik kodan"
      ]
     },
     "metadata": {},
     "output_type": "display_data"
    }
   ],
   "source": [
    "rootsi_concs_4460_2 <- str_replace_all(rootsi_concs_4460$context, \"\\\\|\", \"_\")\n",
    "\n",
    "rootsi_concs_4460_3 <- as.data.frame(rootsi_concs_4460_2, header = TRUE)\n",
    "colnames(rootsi_concs_4460_3) <- \"context\"\n",
    "head(rootsi_concs_4460_3, 10)"
   ]
  },
  {
   "cell_type": "code",
   "execution_count": 11,
   "id": "1eaa6826",
   "metadata": {},
   "outputs": [],
   "source": [
    "trigrams_separated1 <- rootsi_concs_4460_3 %>%\n",
    "  unnest_tokens(trigram, context, token = \"ngrams\", n = 3, n_min = 3) %>%\n",
    "  separate(trigram, c(\"word1\", \"word2\", \"word3\"), sep = \" \")"
   ]
  },
  {
   "cell_type": "code",
   "execution_count": 12,
   "id": "b0229f93",
   "metadata": {},
   "outputs": [],
   "source": [
    "trigrams_filtered1 <- trigrams_separated1 %>%\n",
    "  filter(!word1 %in% stopsonad$word) %>%\n",
    "  filter(!word2 %in% stopsonad$word) %>%\n",
    "  filter(!word3 %in% stopsonad$word)"
   ]
  },
  {
   "cell_type": "code",
   "execution_count": 13,
   "id": "58cfb5fd",
   "metadata": {},
   "outputs": [],
   "source": [
    "trigram_counts1 <- trigrams_filtered1 %>% \n",
    "  count(word1, word2, word3, sort = TRUE)"
   ]
  },
  {
   "cell_type": "code",
   "execution_count": 14,
   "id": "acd81da9",
   "metadata": {},
   "outputs": [
    {
     "data": {
      "text/html": [
       "<table class=\"dataframe\">\n",
       "<caption>A data.frame: 30 × 4</caption>\n",
       "<thead>\n",
       "\t<tr><th></th><th scope=col>word1</th><th scope=col>word2</th><th scope=col>word3</th><th scope=col>n</th></tr>\n",
       "\t<tr><th></th><th scope=col>&lt;chr&gt;</th><th scope=col>&lt;chr&gt;</th><th scope=col>&lt;chr&gt;</th><th scope=col>&lt;int&gt;</th></tr>\n",
       "</thead>\n",
       "<tbody>\n",
       "\t<tr><th scope=row>1</th><td>kolm                  </td><td>balti   </td><td>riik            </td><td>294</td></tr>\n",
       "\t<tr><th scope=row>2</th><td>balti                 </td><td>humanist</td><td>ühing           </td><td>179</td></tr>\n",
       "\t<tr><th scope=row>3</th><td>balti                 </td><td>riik    </td><td>küsimus         </td><td>160</td></tr>\n",
       "\t<tr><th scope=row>4</th><td>kolm                  </td><td>balti   </td><td>rahvas          </td><td>160</td></tr>\n",
       "\t<tr><th scope=row>5</th><td>balti                 </td><td>riik    </td><td>iseseisvus      </td><td>126</td></tr>\n",
       "\t<tr><th scope=row>6</th><td>balti                 </td><td>riik    </td><td>esindaja        </td><td>121</td></tr>\n",
       "\t<tr><th scope=row>7</th><td>balti                 </td><td>riik    </td><td>annekteerimine  </td><td>113</td></tr>\n",
       "\t<tr><th scope=row>8</th><td>balti                 </td><td>riik    </td><td>saatus          </td><td>100</td></tr>\n",
       "\t<tr><th scope=row>9</th><td>balti                 </td><td>riik    </td><td>kodanik         </td><td> 92</td></tr>\n",
       "\t<tr><th scope=row>10</th><td>balti                 </td><td>riik    </td><td>okupeerimine    </td><td> 90</td></tr>\n",
       "\t<tr><th scope=row>11</th><td>balti                 </td><td>rahvas  </td><td>esindaja        </td><td> 68</td></tr>\n",
       "\t<tr><th scope=row>12</th><td>balti                 </td><td>komitee </td><td>esimees         </td><td> 65</td></tr>\n",
       "\t<tr><th scope=row>13</th><td>balti                 </td><td>riik    </td><td>vabadus         </td><td> 63</td></tr>\n",
       "\t<tr><th scope=row>14</th><td>balti                 </td><td>riik    </td><td>vägivaldne      </td><td> 62</td></tr>\n",
       "\t<tr><th scope=row>15</th><td>tunnustama            </td><td>balti   </td><td>riik            </td><td> 62</td></tr>\n",
       "\t<tr><th scope=row>16</th><td>balti                 </td><td>rahvas  </td><td>ühine           </td><td> 58</td></tr>\n",
       "\t<tr><th scope=row>17</th><td>balti                 </td><td>riik    </td><td>liitmine        </td><td> 52</td></tr>\n",
       "\t<tr><th scope=row>18</th><td>kolm                  </td><td>balti   </td><td>rahvus          </td><td> 44</td></tr>\n",
       "\t<tr><th scope=row>19</th><td>balti                 </td><td>riik    </td><td>probleem        </td><td> 43</td></tr>\n",
       "\t<tr><th scope=row>20</th><td>balti                 </td><td>riik    </td><td>inkorporeerimine</td><td> 42</td></tr>\n",
       "\t<tr><th scope=row>21</th><td>tunnustama_tunnustanud</td><td>balti   </td><td>riik            </td><td> 42</td></tr>\n",
       "\t<tr><th scope=row>22</th><td>komitee               </td><td>esimees </td><td>prof            </td><td> 41</td></tr>\n",
       "\t<tr><th scope=row>23</th><td>balti                 </td><td>põgenik </td><td>laager          </td><td> 38</td></tr>\n",
       "\t<tr><th scope=row>24</th><td>balti                 </td><td>rahvas  </td><td>sõber           </td><td> 37</td></tr>\n",
       "\t<tr><th scope=row>25</th><td>balti                 </td><td>rahvas  </td><td>saatus          </td><td> 34</td></tr>\n",
       "\t<tr><th scope=row>26</th><td>iseseisev             </td><td>balti   </td><td>riik            </td><td> 34</td></tr>\n",
       "\t<tr><th scope=row>27</th><td>balti                 </td><td>põgenik </td><td>rootsi          </td><td> 32</td></tr>\n",
       "\t<tr><th scope=row>28</th><td>balti                 </td><td>riik    </td><td>vallutamine     </td><td> 32</td></tr>\n",
       "\t<tr><th scope=row>29</th><td>balti                 </td><td>rahvas  </td><td>vabadus         </td><td> 31</td></tr>\n",
       "\t<tr><th scope=row>30</th><td>balti                 </td><td>riik    </td><td>rahvas          </td><td> 31</td></tr>\n",
       "</tbody>\n",
       "</table>\n"
      ],
      "text/latex": [
       "A data.frame: 30 × 4\n",
       "\\begin{tabular}{r|llll}\n",
       "  & word1 & word2 & word3 & n\\\\\n",
       "  & <chr> & <chr> & <chr> & <int>\\\\\n",
       "\\hline\n",
       "\t1 & kolm                   & balti    & riik             & 294\\\\\n",
       "\t2 & balti                  & humanist & ühing            & 179\\\\\n",
       "\t3 & balti                  & riik     & küsimus          & 160\\\\\n",
       "\t4 & kolm                   & balti    & rahvas           & 160\\\\\n",
       "\t5 & balti                  & riik     & iseseisvus       & 126\\\\\n",
       "\t6 & balti                  & riik     & esindaja         & 121\\\\\n",
       "\t7 & balti                  & riik     & annekteerimine   & 113\\\\\n",
       "\t8 & balti                  & riik     & saatus           & 100\\\\\n",
       "\t9 & balti                  & riik     & kodanik          &  92\\\\\n",
       "\t10 & balti                  & riik     & okupeerimine     &  90\\\\\n",
       "\t11 & balti                  & rahvas   & esindaja         &  68\\\\\n",
       "\t12 & balti                  & komitee  & esimees          &  65\\\\\n",
       "\t13 & balti                  & riik     & vabadus          &  63\\\\\n",
       "\t14 & balti                  & riik     & vägivaldne       &  62\\\\\n",
       "\t15 & tunnustama             & balti    & riik             &  62\\\\\n",
       "\t16 & balti                  & rahvas   & ühine            &  58\\\\\n",
       "\t17 & balti                  & riik     & liitmine         &  52\\\\\n",
       "\t18 & kolm                   & balti    & rahvus           &  44\\\\\n",
       "\t19 & balti                  & riik     & probleem         &  43\\\\\n",
       "\t20 & balti                  & riik     & inkorporeerimine &  42\\\\\n",
       "\t21 & tunnustama\\_tunnustanud & balti    & riik             &  42\\\\\n",
       "\t22 & komitee                & esimees  & prof             &  41\\\\\n",
       "\t23 & balti                  & põgenik  & laager           &  38\\\\\n",
       "\t24 & balti                  & rahvas   & sõber            &  37\\\\\n",
       "\t25 & balti                  & rahvas   & saatus           &  34\\\\\n",
       "\t26 & iseseisev              & balti    & riik             &  34\\\\\n",
       "\t27 & balti                  & põgenik  & rootsi           &  32\\\\\n",
       "\t28 & balti                  & riik     & vallutamine      &  32\\\\\n",
       "\t29 & balti                  & rahvas   & vabadus          &  31\\\\\n",
       "\t30 & balti                  & riik     & rahvas           &  31\\\\\n",
       "\\end{tabular}\n"
      ],
      "text/markdown": [
       "\n",
       "A data.frame: 30 × 4\n",
       "\n",
       "| <!--/--> | word1 &lt;chr&gt; | word2 &lt;chr&gt; | word3 &lt;chr&gt; | n &lt;int&gt; |\n",
       "|---|---|---|---|---|\n",
       "| 1 | kolm                   | balti    | riik             | 294 |\n",
       "| 2 | balti                  | humanist | ühing            | 179 |\n",
       "| 3 | balti                  | riik     | küsimus          | 160 |\n",
       "| 4 | kolm                   | balti    | rahvas           | 160 |\n",
       "| 5 | balti                  | riik     | iseseisvus       | 126 |\n",
       "| 6 | balti                  | riik     | esindaja         | 121 |\n",
       "| 7 | balti                  | riik     | annekteerimine   | 113 |\n",
       "| 8 | balti                  | riik     | saatus           | 100 |\n",
       "| 9 | balti                  | riik     | kodanik          |  92 |\n",
       "| 10 | balti                  | riik     | okupeerimine     |  90 |\n",
       "| 11 | balti                  | rahvas   | esindaja         |  68 |\n",
       "| 12 | balti                  | komitee  | esimees          |  65 |\n",
       "| 13 | balti                  | riik     | vabadus          |  63 |\n",
       "| 14 | balti                  | riik     | vägivaldne       |  62 |\n",
       "| 15 | tunnustama             | balti    | riik             |  62 |\n",
       "| 16 | balti                  | rahvas   | ühine            |  58 |\n",
       "| 17 | balti                  | riik     | liitmine         |  52 |\n",
       "| 18 | kolm                   | balti    | rahvus           |  44 |\n",
       "| 19 | balti                  | riik     | probleem         |  43 |\n",
       "| 20 | balti                  | riik     | inkorporeerimine |  42 |\n",
       "| 21 | tunnustama_tunnustanud | balti    | riik             |  42 |\n",
       "| 22 | komitee                | esimees  | prof             |  41 |\n",
       "| 23 | balti                  | põgenik  | laager           |  38 |\n",
       "| 24 | balti                  | rahvas   | sõber            |  37 |\n",
       "| 25 | balti                  | rahvas   | saatus           |  34 |\n",
       "| 26 | iseseisev              | balti    | riik             |  34 |\n",
       "| 27 | balti                  | põgenik  | rootsi           |  32 |\n",
       "| 28 | balti                  | riik     | vallutamine      |  32 |\n",
       "| 29 | balti                  | rahvas   | vabadus          |  31 |\n",
       "| 30 | balti                  | riik     | rahvas           |  31 |\n",
       "\n"
      ],
      "text/plain": [
       "   word1                  word2    word3            n  \n",
       "1  kolm                   balti    riik             294\n",
       "2  balti                  humanist ühing            179\n",
       "3  balti                  riik     küsimus          160\n",
       "4  kolm                   balti    rahvas           160\n",
       "5  balti                  riik     iseseisvus       126\n",
       "6  balti                  riik     esindaja         121\n",
       "7  balti                  riik     annekteerimine   113\n",
       "8  balti                  riik     saatus           100\n",
       "9  balti                  riik     kodanik           92\n",
       "10 balti                  riik     okupeerimine      90\n",
       "11 balti                  rahvas   esindaja          68\n",
       "12 balti                  komitee  esimees           65\n",
       "13 balti                  riik     vabadus           63\n",
       "14 balti                  riik     vägivaldne        62\n",
       "15 tunnustama             balti    riik              62\n",
       "16 balti                  rahvas   ühine             58\n",
       "17 balti                  riik     liitmine          52\n",
       "18 kolm                   balti    rahvus            44\n",
       "19 balti                  riik     probleem          43\n",
       "20 balti                  riik     inkorporeerimine  42\n",
       "21 tunnustama_tunnustanud balti    riik              42\n",
       "22 komitee                esimees  prof              41\n",
       "23 balti                  põgenik  laager            38\n",
       "24 balti                  rahvas   sõber             37\n",
       "25 balti                  rahvas   saatus            34\n",
       "26 iseseisev              balti    riik              34\n",
       "27 balti                  põgenik  rootsi            32\n",
       "28 balti                  riik     vallutamine       32\n",
       "29 balti                  rahvas   vabadus           31\n",
       "30 balti                  riik     rahvas            31"
      ]
     },
     "metadata": {},
     "output_type": "display_data"
    }
   ],
   "source": [
    "head(trigram_counts1, 30)"
   ]
  },
  {
   "cell_type": "code",
   "execution_count": 15,
   "id": "b6fe25e2",
   "metadata": {},
   "outputs": [],
   "source": [
    "rootsi_ajalehed2 <- all_issues %>%\n",
    "    filter(DocumentType==\"NEWSPAPER\") %>%\n",
    "    filter(year>1960&year<1985) %>%\n",
    "    filter(keyid==\"estdagbladet\" | keyid==\"eestiteatajastock\" | keyid==\"stockholmstid\" | keyid==\"teatajapoliit\" | keyid==\"valiseesti\")"
   ]
  },
  {
   "cell_type": "code",
   "execution_count": 16,
   "id": "65b11972",
   "metadata": {},
   "outputs": [],
   "source": [
    "searchfile <- \"rootsi_trigrammid2.txt\"\n",
    "do_subset_search(searchterm=searchterm, searchfile=searchfile, rootsi_ajalehed2, searchtype=\"lemmas\", source=\"pages\")"
   ]
  },
  {
   "cell_type": "code",
   "execution_count": 17,
   "id": "94d291fe",
   "metadata": {},
   "outputs": [],
   "source": [
    "concs2 <- fread(\"rootsi_trigrammid2.txt\",header=F,sep=\"\\t\", quote=\"\")[,.(id=V1,lemmas=V2)]\n",
    "concs2[,DocumentID:=str_extract(id,\"[^\\\\.]+\")]\n",
    "fileids_w_meta_concs2 <- concs2 %>% select(id, DocumentID) %>% left_join(rootsi_ajalehed2 %>% select(keyid, year, month, DocumentID, zippath_sections, zippath_pages), by=c(\"DocumentID\"))"
   ]
  },
  {
   "cell_type": "code",
   "execution_count": 18,
   "id": "5e8f4cf1",
   "metadata": {},
   "outputs": [],
   "source": [
    "rootsi_concs2 <- get_concordances(searchterm=searchterm,texts=concs2,before=50,after=50,txt=\"lemmas\",id=\"id\")"
   ]
  },
  {
   "cell_type": "code",
   "execution_count": 19,
   "id": "c77bbc96",
   "metadata": {},
   "outputs": [],
   "source": [
    "rootsi_concs_6184 <- rootsi_concs2[, !c(\"id\",\"nr\",\"begin\",\"end\", \"DocumentID\")]\n",
    "\n",
    "write.table(rootsi_concs_6184, \"6184.txt\", sep=\"\\t\", quote = F, row.names = F)"
   ]
  },
  {
   "cell_type": "code",
   "execution_count": 20,
   "id": "a2c9f63f",
   "metadata": {},
   "outputs": [
    {
     "data": {
      "text/html": [
       "<table class=\"dataframe\">\n",
       "<caption>A data.frame: 10 × 1</caption>\n",
       "<thead>\n",
       "\t<tr><th></th><th scope=col>context</th></tr>\n",
       "\t<tr><th></th><th scope=col>&lt;chr&gt;</th></tr>\n",
       "</thead>\n",
       "<tbody>\n",
       "\t<tr><th scope=row>1</th><td>itte kuidagi kaasuma » ida kest ja kah » t &amp; gt ■ balti riik viigivnlds » annektmoonl ja S , KHtu Inkorpo</td></tr>\n",
       "\t<tr><th scope=row>2</th><td> foorum , sama ! aeg andma oma ahi Eesti ja teine balti rahvas võõrandama õigus laastamine . mina vlme sa</td></tr>\n",
       "\t<tr><th scope=row>3</th><td>õigus laastamine . mina vlme samuti rõhutama , et balti riik iseseisvus olema oluline balti meri vabadus </td></tr>\n",
       "\t<tr><th scope=row>4</th><td>rõhutama , et balti riik iseseisvus olema oluline balti meri vabadus ja see kogu Euroopa julgeolek vaba n</td></tr>\n",
       "\t<tr><th scope=row>5</th><td>ku * kontsert tolmuma Chicago *, IndianspolisNi ( balti kontserttihlngu kontsert sari *}, Bo * io # is ba</td></tr>\n",
       "\t<tr><th scope=row>6</th><td>ti kontserttihlngu kontsert sari *}, Bo * io # is balti kontsert sari * ( 20 ,’ jaanuar }, Bartfort *. Ne</td></tr>\n",
       "\t<tr><th scope=row>7</th><td>de , mis nähtus , et mööduma_möödunud aasta olema balti komitee juba 38 aasta kestma_kestnud tegeras olem</td></tr>\n",
       "\t<tr><th scope=row>8</th><td>as olema_olnud kõige aktiivsem ja tulemusrikkam , balti põgenik Eesti jöuhtpuu i Vake ^ ttaja ees . 1 . w</td></tr>\n",
       "\t<tr><th scope=row>9</th><td> olema min . V. Sidzikauskaa . see organ andma ka balti komitee kaudud_kauduma väiksem majandusiik_majand</td></tr>\n",
       "\t<tr><th scope=row>10</th><td>ema julm alustama_alustanud operatsioon mässuline baltilik * suguharu » 1 vastu , tänitama ka lennuvägi a</td></tr>\n",
       "</tbody>\n",
       "</table>\n"
      ],
      "text/latex": [
       "A data.frame: 10 × 1\n",
       "\\begin{tabular}{r|l}\n",
       "  & context\\\\\n",
       "  & <chr>\\\\\n",
       "\\hline\n",
       "\t1 & itte kuidagi kaasuma » ida kest ja kah » t \\& gt ■ balti riik viigivnlds » annektmoonl ja S , KHtu Inkorpo\\\\\n",
       "\t2 &  foorum , sama ! aeg andma oma ahi Eesti ja teine balti rahvas võõrandama õigus laastamine . mina vlme sa\\\\\n",
       "\t3 & õigus laastamine . mina vlme samuti rõhutama , et balti riik iseseisvus olema oluline balti meri vabadus \\\\\n",
       "\t4 & rõhutama , et balti riik iseseisvus olema oluline balti meri vabadus ja see kogu Euroopa julgeolek vaba n\\\\\n",
       "\t5 & ku * kontsert tolmuma Chicago *, IndianspolisNi ( balti kontserttihlngu kontsert sari *\\}, Bo * io \\# is ba\\\\\n",
       "\t6 & ti kontserttihlngu kontsert sari *\\}, Bo * io \\# is balti kontsert sari * ( 20 ,’ jaanuar \\}, Bartfort *. Ne\\\\\n",
       "\t7 & de , mis nähtus , et mööduma\\_möödunud aasta olema balti komitee juba 38 aasta kestma\\_kestnud tegeras olem\\\\\n",
       "\t8 & as olema\\_olnud kõige aktiivsem ja tulemusrikkam , balti põgenik Eesti jöuhtpuu i Vake \\textasciicircum{} ttaja ees . 1 . w\\\\\n",
       "\t9 &  olema min . V. Sidzikauskaa . see organ andma ka balti komitee kaudud\\_kauduma väiksem majandusiik\\_majand\\\\\n",
       "\t10 & ema julm alustama\\_alustanud operatsioon mässuline baltilik * suguharu » 1 vastu , tänitama ka lennuvägi a\\\\\n",
       "\\end{tabular}\n"
      ],
      "text/markdown": [
       "\n",
       "A data.frame: 10 × 1\n",
       "\n",
       "| <!--/--> | context &lt;chr&gt; |\n",
       "|---|---|\n",
       "| 1 | itte kuidagi kaasuma » ida kest ja kah » t &amp; gt ■ balti riik viigivnlds » annektmoonl ja S , KHtu Inkorpo |\n",
       "| 2 |  foorum , sama ! aeg andma oma ahi Eesti ja teine balti rahvas võõrandama õigus laastamine . mina vlme sa |\n",
       "| 3 | õigus laastamine . mina vlme samuti rõhutama , et balti riik iseseisvus olema oluline balti meri vabadus  |\n",
       "| 4 | rõhutama , et balti riik iseseisvus olema oluline balti meri vabadus ja see kogu Euroopa julgeolek vaba n |\n",
       "| 5 | ku * kontsert tolmuma Chicago *, IndianspolisNi ( balti kontserttihlngu kontsert sari *}, Bo * io # is ba |\n",
       "| 6 | ti kontserttihlngu kontsert sari *}, Bo * io # is balti kontsert sari * ( 20 ,’ jaanuar }, Bartfort *. Ne |\n",
       "| 7 | de , mis nähtus , et mööduma_möödunud aasta olema balti komitee juba 38 aasta kestma_kestnud tegeras olem |\n",
       "| 8 | as olema_olnud kõige aktiivsem ja tulemusrikkam , balti põgenik Eesti jöuhtpuu i Vake ^ ttaja ees . 1 . w |\n",
       "| 9 |  olema min . V. Sidzikauskaa . see organ andma ka balti komitee kaudud_kauduma väiksem majandusiik_majand |\n",
       "| 10 | ema julm alustama_alustanud operatsioon mässuline baltilik * suguharu » 1 vastu , tänitama ka lennuvägi a |\n",
       "\n"
      ],
      "text/plain": [
       "   context                                                                                                  \n",
       "1  itte kuidagi kaasuma » ida kest ja kah » t & gt ■ balti riik viigivnlds » annektmoonl ja S , KHtu Inkorpo\n",
       "2   foorum , sama ! aeg andma oma ahi Eesti ja teine balti rahvas võõrandama õigus laastamine . mina vlme sa\n",
       "3  õigus laastamine . mina vlme samuti rõhutama , et balti riik iseseisvus olema oluline balti meri vabadus \n",
       "4  rõhutama , et balti riik iseseisvus olema oluline balti meri vabadus ja see kogu Euroopa julgeolek vaba n\n",
       "5  ku * kontsert tolmuma Chicago *, IndianspolisNi ( balti kontserttihlngu kontsert sari *}, Bo * io # is ba\n",
       "6  ti kontserttihlngu kontsert sari *}, Bo * io # is balti kontsert sari * ( 20 ,’ jaanuar }, Bartfort *. Ne\n",
       "7  de , mis nähtus , et mööduma_möödunud aasta olema balti komitee juba 38 aasta kestma_kestnud tegeras olem\n",
       "8  as olema_olnud kõige aktiivsem ja tulemusrikkam , balti põgenik Eesti jöuhtpuu i Vake ^ ttaja ees . 1 . w\n",
       "9   olema min . V. Sidzikauskaa . see organ andma ka balti komitee kaudud_kauduma väiksem majandusiik_majand\n",
       "10 ema julm alustama_alustanud operatsioon mässuline baltilik * suguharu » 1 vastu , tänitama ka lennuvägi a"
      ]
     },
     "metadata": {},
     "output_type": "display_data"
    }
   ],
   "source": [
    "rootsi_concs_6184_2 <- str_replace_all(rootsi_concs_6184$context, \"\\\\|\", \"_\")\n",
    "\n",
    "rootsi_concs_6184_3 <- as.data.frame(rootsi_concs_6184_2, header = TRUE)\n",
    "colnames(rootsi_concs_6184_3) <- \"context\"\n",
    "head(rootsi_concs_6184_3, 10)"
   ]
  },
  {
   "cell_type": "code",
   "execution_count": 21,
   "id": "918a7973",
   "metadata": {},
   "outputs": [],
   "source": [
    "trigrams_separated2 <- rootsi_concs_6184_3 %>%\n",
    "  unnest_tokens(trigram, context, token = \"ngrams\", n = 3, n_min = 3) %>%\n",
    "  separate(trigram, c(\"word1\", \"word2\", \"word3\"), sep = \" \")"
   ]
  },
  {
   "cell_type": "code",
   "execution_count": 22,
   "id": "532a8dcc",
   "metadata": {},
   "outputs": [],
   "source": [
    "trigrams_filtered2 <- trigrams_separated2 %>%\n",
    "  filter(!word1 %in% stopsonad$word) %>%\n",
    "  filter(!word2 %in% stopsonad$word) %>%\n",
    "  filter(!word3 %in% stopsonad$word)"
   ]
  },
  {
   "cell_type": "code",
   "execution_count": 23,
   "id": "0a201be2",
   "metadata": {},
   "outputs": [],
   "source": [
    "trigram_counts2 <- trigrams_filtered2 %>% \n",
    "  count(word1, word2, word3, sort = TRUE)"
   ]
  },
  {
   "cell_type": "code",
   "execution_count": 24,
   "id": "5497c652",
   "metadata": {},
   "outputs": [
    {
     "data": {
      "text/html": [
       "<table class=\"dataframe\">\n",
       "<caption>A data.frame: 30 × 4</caption>\n",
       "<thead>\n",
       "\t<tr><th></th><th scope=col>word1</th><th scope=col>word2</th><th scope=col>word3</th><th scope=col>n</th></tr>\n",
       "\t<tr><th></th><th scope=col>&lt;chr&gt;</th><th scope=col>&lt;chr&gt;</th><th scope=col>&lt;chr&gt;</th><th scope=col>&lt;int&gt;</th></tr>\n",
       "</thead>\n",
       "<tbody>\n",
       "\t<tr><th scope=row>1</th><td>balti                 </td><td>riik              </td><td>küsimus           </td><td>362</td></tr>\n",
       "\t<tr><th scope=row>2</th><td>de                    </td><td>baltiska_baltiskas</td><td>staterna          </td><td>316</td></tr>\n",
       "\t<tr><th scope=row>3</th><td>kolm                  </td><td>balti             </td><td>riik              </td><td>258</td></tr>\n",
       "\t<tr><th scope=row>4</th><td>balti                 </td><td>riik              </td><td>annekteerimine    </td><td>191</td></tr>\n",
       "\t<tr><th scope=row>5</th><td>balti                 </td><td>riik              </td><td>okupeerimine      </td><td>162</td></tr>\n",
       "\t<tr><th scope=row>6</th><td>balti                 </td><td>riik              </td><td>iseseisvus        </td><td>145</td></tr>\n",
       "\t<tr><th scope=row>7</th><td>balti                 </td><td>komitee           </td><td>esimees           </td><td>132</td></tr>\n",
       "\t<tr><th scope=row>8</th><td>tunnustama            </td><td>balti             </td><td>riik              </td><td>121</td></tr>\n",
       "\t<tr><th scope=row>9</th><td>balti                 </td><td>riik              </td><td>saatus            </td><td>119</td></tr>\n",
       "\t<tr><th scope=row>10</th><td>balti                 </td><td>humanistlik       </td><td>ühing             </td><td>117</td></tr>\n",
       "\t<tr><th scope=row>11</th><td>de                    </td><td>baltiska_baltiskas</td><td>länderna          </td><td>106</td></tr>\n",
       "\t<tr><th scope=row>12</th><td>de                    </td><td>baltiska_baltiskas</td><td>folken            </td><td> 90</td></tr>\n",
       "\t<tr><th scope=row>13</th><td>av                    </td><td>de                </td><td>baltiska_baltiskas</td><td> 86</td></tr>\n",
       "\t<tr><th scope=row>14</th><td>balti                 </td><td>riik              </td><td>vägivaldne        </td><td> 82</td></tr>\n",
       "\t<tr><th scope=row>15</th><td>tunnustama_tunnustanud</td><td>balti             </td><td>riik              </td><td> 77</td></tr>\n",
       "\t<tr><th scope=row>16</th><td>om                    </td><td>de                </td><td>baltiska_baltiskas</td><td> 76</td></tr>\n",
       "\t<tr><th scope=row>17</th><td>balti                 </td><td>komitee           </td><td>esindaja          </td><td> 75</td></tr>\n",
       "\t<tr><th scope=row>18</th><td>kolm                  </td><td>balti             </td><td>rahvas            </td><td> 75</td></tr>\n",
       "\t<tr><th scope=row>19</th><td>balti                 </td><td>riik              </td><td>probleem          </td><td> 69</td></tr>\n",
       "\t<tr><th scope=row>20</th><td>balti                 </td><td>riik              </td><td>eesti             </td><td> 64</td></tr>\n",
       "\t<tr><th scope=row>21</th><td>de                    </td><td>tre               </td><td>baltiska_baltiskas</td><td> 62</td></tr>\n",
       "\t<tr><th scope=row>22</th><td>balti                 </td><td>komitee           </td><td>sekretär          </td><td> 60</td></tr>\n",
       "\t<tr><th scope=row>23</th><td>balti                 </td><td>riik              </td><td>anastamine        </td><td> 60</td></tr>\n",
       "\t<tr><th scope=row>24</th><td>balti                 </td><td>riik              </td><td>vabadus           </td><td> 60</td></tr>\n",
       "\t<tr><th scope=row>25</th><td>för                   </td><td>de                </td><td>baltiska_baltiskas</td><td> 60</td></tr>\n",
       "\t<tr><th scope=row>26</th><td>balti                 </td><td>humanist          </td><td>ühing             </td><td> 58</td></tr>\n",
       "\t<tr><th scope=row>27</th><td>balti                 </td><td>organisatsioon    </td><td>esindaja          </td><td> 56</td></tr>\n",
       "\t<tr><th scope=row>28</th><td>komitee               </td><td>esimees           </td><td>prof              </td><td> 56</td></tr>\n",
       "\t<tr><th scope=row>29</th><td>balti                 </td><td>riik              </td><td>esindaja          </td><td> 55</td></tr>\n",
       "\t<tr><th scope=row>30</th><td>iseseisev             </td><td>balti             </td><td>riik              </td><td> 55</td></tr>\n",
       "</tbody>\n",
       "</table>\n"
      ],
      "text/latex": [
       "A data.frame: 30 × 4\n",
       "\\begin{tabular}{r|llll}\n",
       "  & word1 & word2 & word3 & n\\\\\n",
       "  & <chr> & <chr> & <chr> & <int>\\\\\n",
       "\\hline\n",
       "\t1 & balti                  & riik               & küsimus            & 362\\\\\n",
       "\t2 & de                     & baltiska\\_baltiskas & staterna           & 316\\\\\n",
       "\t3 & kolm                   & balti              & riik               & 258\\\\\n",
       "\t4 & balti                  & riik               & annekteerimine     & 191\\\\\n",
       "\t5 & balti                  & riik               & okupeerimine       & 162\\\\\n",
       "\t6 & balti                  & riik               & iseseisvus         & 145\\\\\n",
       "\t7 & balti                  & komitee            & esimees            & 132\\\\\n",
       "\t8 & tunnustama             & balti              & riik               & 121\\\\\n",
       "\t9 & balti                  & riik               & saatus             & 119\\\\\n",
       "\t10 & balti                  & humanistlik        & ühing              & 117\\\\\n",
       "\t11 & de                     & baltiska\\_baltiskas & länderna           & 106\\\\\n",
       "\t12 & de                     & baltiska\\_baltiskas & folken             &  90\\\\\n",
       "\t13 & av                     & de                 & baltiska\\_baltiskas &  86\\\\\n",
       "\t14 & balti                  & riik               & vägivaldne         &  82\\\\\n",
       "\t15 & tunnustama\\_tunnustanud & balti              & riik               &  77\\\\\n",
       "\t16 & om                     & de                 & baltiska\\_baltiskas &  76\\\\\n",
       "\t17 & balti                  & komitee            & esindaja           &  75\\\\\n",
       "\t18 & kolm                   & balti              & rahvas             &  75\\\\\n",
       "\t19 & balti                  & riik               & probleem           &  69\\\\\n",
       "\t20 & balti                  & riik               & eesti              &  64\\\\\n",
       "\t21 & de                     & tre                & baltiska\\_baltiskas &  62\\\\\n",
       "\t22 & balti                  & komitee            & sekretär           &  60\\\\\n",
       "\t23 & balti                  & riik               & anastamine         &  60\\\\\n",
       "\t24 & balti                  & riik               & vabadus            &  60\\\\\n",
       "\t25 & för                    & de                 & baltiska\\_baltiskas &  60\\\\\n",
       "\t26 & balti                  & humanist           & ühing              &  58\\\\\n",
       "\t27 & balti                  & organisatsioon     & esindaja           &  56\\\\\n",
       "\t28 & komitee                & esimees            & prof               &  56\\\\\n",
       "\t29 & balti                  & riik               & esindaja           &  55\\\\\n",
       "\t30 & iseseisev              & balti              & riik               &  55\\\\\n",
       "\\end{tabular}\n"
      ],
      "text/markdown": [
       "\n",
       "A data.frame: 30 × 4\n",
       "\n",
       "| <!--/--> | word1 &lt;chr&gt; | word2 &lt;chr&gt; | word3 &lt;chr&gt; | n &lt;int&gt; |\n",
       "|---|---|---|---|---|\n",
       "| 1 | balti                  | riik               | küsimus            | 362 |\n",
       "| 2 | de                     | baltiska_baltiskas | staterna           | 316 |\n",
       "| 3 | kolm                   | balti              | riik               | 258 |\n",
       "| 4 | balti                  | riik               | annekteerimine     | 191 |\n",
       "| 5 | balti                  | riik               | okupeerimine       | 162 |\n",
       "| 6 | balti                  | riik               | iseseisvus         | 145 |\n",
       "| 7 | balti                  | komitee            | esimees            | 132 |\n",
       "| 8 | tunnustama             | balti              | riik               | 121 |\n",
       "| 9 | balti                  | riik               | saatus             | 119 |\n",
       "| 10 | balti                  | humanistlik        | ühing              | 117 |\n",
       "| 11 | de                     | baltiska_baltiskas | länderna           | 106 |\n",
       "| 12 | de                     | baltiska_baltiskas | folken             |  90 |\n",
       "| 13 | av                     | de                 | baltiska_baltiskas |  86 |\n",
       "| 14 | balti                  | riik               | vägivaldne         |  82 |\n",
       "| 15 | tunnustama_tunnustanud | balti              | riik               |  77 |\n",
       "| 16 | om                     | de                 | baltiska_baltiskas |  76 |\n",
       "| 17 | balti                  | komitee            | esindaja           |  75 |\n",
       "| 18 | kolm                   | balti              | rahvas             |  75 |\n",
       "| 19 | balti                  | riik               | probleem           |  69 |\n",
       "| 20 | balti                  | riik               | eesti              |  64 |\n",
       "| 21 | de                     | tre                | baltiska_baltiskas |  62 |\n",
       "| 22 | balti                  | komitee            | sekretär           |  60 |\n",
       "| 23 | balti                  | riik               | anastamine         |  60 |\n",
       "| 24 | balti                  | riik               | vabadus            |  60 |\n",
       "| 25 | för                    | de                 | baltiska_baltiskas |  60 |\n",
       "| 26 | balti                  | humanist           | ühing              |  58 |\n",
       "| 27 | balti                  | organisatsioon     | esindaja           |  56 |\n",
       "| 28 | komitee                | esimees            | prof               |  56 |\n",
       "| 29 | balti                  | riik               | esindaja           |  55 |\n",
       "| 30 | iseseisev              | balti              | riik               |  55 |\n",
       "\n"
      ],
      "text/plain": [
       "   word1                  word2              word3              n  \n",
       "1  balti                  riik               küsimus            362\n",
       "2  de                     baltiska_baltiskas staterna           316\n",
       "3  kolm                   balti              riik               258\n",
       "4  balti                  riik               annekteerimine     191\n",
       "5  balti                  riik               okupeerimine       162\n",
       "6  balti                  riik               iseseisvus         145\n",
       "7  balti                  komitee            esimees            132\n",
       "8  tunnustama             balti              riik               121\n",
       "9  balti                  riik               saatus             119\n",
       "10 balti                  humanistlik        ühing              117\n",
       "11 de                     baltiska_baltiskas länderna           106\n",
       "12 de                     baltiska_baltiskas folken              90\n",
       "13 av                     de                 baltiska_baltiskas  86\n",
       "14 balti                  riik               vägivaldne          82\n",
       "15 tunnustama_tunnustanud balti              riik                77\n",
       "16 om                     de                 baltiska_baltiskas  76\n",
       "17 balti                  komitee            esindaja            75\n",
       "18 kolm                   balti              rahvas              75\n",
       "19 balti                  riik               probleem            69\n",
       "20 balti                  riik               eesti               64\n",
       "21 de                     tre                baltiska_baltiskas  62\n",
       "22 balti                  komitee            sekretär            60\n",
       "23 balti                  riik               anastamine          60\n",
       "24 balti                  riik               vabadus             60\n",
       "25 för                    de                 baltiska_baltiskas  60\n",
       "26 balti                  humanist           ühing               58\n",
       "27 balti                  organisatsioon     esindaja            56\n",
       "28 komitee                esimees            prof                56\n",
       "29 balti                  riik               esindaja            55\n",
       "30 iseseisev              balti              riik                55"
      ]
     },
     "metadata": {},
     "output_type": "display_data"
    }
   ],
   "source": [
    "head(trigram_counts2, 30)"
   ]
  },
  {
   "cell_type": "code",
   "execution_count": 25,
   "id": "bbd445c3",
   "metadata": {},
   "outputs": [],
   "source": [
    "rootsi_ajalehed3 <- all_issues %>%\n",
    "    filter(DocumentType==\"NEWSPAPER\") %>%\n",
    "    filter(year>1984&year<1996) %>%\n",
    "    filter(keyid==\"estdagbladet\" | keyid==\"eestiteatajastock\" | keyid==\"stockholmstid\" | keyid==\"teatajapoliit\" | keyid==\"valiseesti\")"
   ]
  },
  {
   "cell_type": "code",
   "execution_count": 26,
   "id": "a154a5a6",
   "metadata": {},
   "outputs": [],
   "source": [
    "searchfile <- \"rootsi_trigrammid3.txt\"\n",
    "do_subset_search(searchterm=searchterm, searchfile=searchfile, rootsi_ajalehed3, searchtype=\"lemmas\", source=\"pages\")"
   ]
  },
  {
   "cell_type": "code",
   "execution_count": 27,
   "id": "1cab2819",
   "metadata": {},
   "outputs": [],
   "source": [
    "concs3 <- fread(\"rootsi_trigrammid3.txt\",header=F,sep=\"\\t\", quote=\"\")[,.(id=V1,lemmas=V2)]\n",
    "concs3[,DocumentID:=str_extract(id,\"[^\\\\.]+\")]\n",
    "fileids_w_meta_concs3 <- concs3 %>% select(id, DocumentID) %>% left_join(rootsi_ajalehed3 %>% select(keyid, year, month, DocumentID, zippath_sections, zippath_pages), by=c(\"DocumentID\"))"
   ]
  },
  {
   "cell_type": "code",
   "execution_count": 28,
   "id": "f770c630",
   "metadata": {},
   "outputs": [],
   "source": [
    "rootsi_concs3 <- get_concordances(searchterm=searchterm,texts=concs3,before=50,after=50,txt=\"lemmas\",id=\"id\")"
   ]
  },
  {
   "cell_type": "code",
   "execution_count": 29,
   "id": "0256d489",
   "metadata": {},
   "outputs": [],
   "source": [
    "rootsi_concs_8595 <- rootsi_concs3[, !c(\"id\",\"nr\",\"begin\",\"end\", \"DocumentID\")]\n",
    "\n",
    "write.table(rootsi_concs_8595, \"8595.txt\", sep=\"\\t\", quote = F, row.names = F)"
   ]
  },
  {
   "cell_type": "code",
   "execution_count": 30,
   "id": "e94ac5dd",
   "metadata": {},
   "outputs": [
    {
     "data": {
      "text/html": [
       "<table class=\"dataframe\">\n",
       "<caption>A data.frame: 10 × 1</caption>\n",
       "<thead>\n",
       "\t<tr><th></th><th scope=col>context</th></tr>\n",
       "\t<tr><th></th><th scope=col>&lt;chr&gt;</th></tr>\n",
       "</thead>\n",
       "<tbody>\n",
       "\t<tr><th scope=row>1</th><td> aruanne konstateerima , et vene keel oskus olema baltikumi » üha enam USA-rapori nimetama otseselt Öigus</td></tr>\n",
       "\t<tr><th scope=row>2</th><td>, N.liit . ( VES ). Ilo Käbin - mees Armeemmiseum balti näitus taga kindlasti olema palju kaasmaalane kas</td></tr>\n",
       "\t<tr><th scope=row>3</th><td>sti tutvustama Baltikum rahvas , Baltimaa kui Ita balti riik ajalugu , eriti kuna see olema Rootsi võrdle</td></tr>\n",
       "\t<tr><th scope=row>4</th><td>_koht a . 1977. aasta hiljem võitma sama meeskond balti karikas , mis olema vast kõige suurem edu . hilje</td></tr>\n",
       "\t<tr><th scope=row>5</th><td>amisc ” näol . Berliin olema Idaministeeriu - mis balti küsimus osakond juhataja dr , Peter von Kleist po</td></tr>\n",
       "\t<tr><th scope=row>6</th><td>esti rahvusnõukogu esimees Mihkel Mathfesen EKN , balti komitee ja Eesti komitee traditsioniliscl uueaast</td></tr>\n",
       "\t<tr><th scope=row>7</th><td>ueaasta päev kogunema vastuvõtt sadakond eesti ja balti organisatsioon esindaja ning rootsipoolne külalin</td></tr>\n",
       "\t<tr><th scope=row>8</th><td>lismaa koondis , Mihkel Mathiesen-Rahvusnõukogu , balti komitee , balti arhiiv ja ajaleht ” Teataja ” aua</td></tr>\n",
       "\t<tr><th scope=row>9</th><td> Mihkel Mathiesen-Rahvusnõukogu , balti komitee , balti arhiiv ja ajaleht ” Teataja ” auaadress , Valdo N</td></tr>\n",
       "\t<tr><th scope=row>10</th><td> , et uus aasta olema kõik eestlane ja mina sõber balti naaber ja rootslane seas edukas . tema panema süd</td></tr>\n",
       "</tbody>\n",
       "</table>\n"
      ],
      "text/latex": [
       "A data.frame: 10 × 1\n",
       "\\begin{tabular}{r|l}\n",
       "  & context\\\\\n",
       "  & <chr>\\\\\n",
       "\\hline\n",
       "\t1 &  aruanne konstateerima , et vene keel oskus olema baltikumi » üha enam USA-rapori nimetama otseselt Öigus\\\\\n",
       "\t2 & , N.liit . ( VES ). Ilo Käbin - mees Armeemmiseum balti näitus taga kindlasti olema palju kaasmaalane kas\\\\\n",
       "\t3 & sti tutvustama Baltikum rahvas , Baltimaa kui Ita balti riik ajalugu , eriti kuna see olema Rootsi võrdle\\\\\n",
       "\t4 & \\_koht a . 1977. aasta hiljem võitma sama meeskond balti karikas , mis olema vast kõige suurem edu . hilje\\\\\n",
       "\t5 & amisc ” näol . Berliin olema Idaministeeriu - mis balti küsimus osakond juhataja dr , Peter von Kleist po\\\\\n",
       "\t6 & esti rahvusnõukogu esimees Mihkel Mathfesen EKN , balti komitee ja Eesti komitee traditsioniliscl uueaast\\\\\n",
       "\t7 & ueaasta päev kogunema vastuvõtt sadakond eesti ja balti organisatsioon esindaja ning rootsipoolne külalin\\\\\n",
       "\t8 & lismaa koondis , Mihkel Mathiesen-Rahvusnõukogu , balti komitee , balti arhiiv ja ajaleht ” Teataja ” aua\\\\\n",
       "\t9 &  Mihkel Mathiesen-Rahvusnõukogu , balti komitee , balti arhiiv ja ajaleht ” Teataja ” auaadress , Valdo N\\\\\n",
       "\t10 &  , et uus aasta olema kõik eestlane ja mina sõber balti naaber ja rootslane seas edukas . tema panema süd\\\\\n",
       "\\end{tabular}\n"
      ],
      "text/markdown": [
       "\n",
       "A data.frame: 10 × 1\n",
       "\n",
       "| <!--/--> | context &lt;chr&gt; |\n",
       "|---|---|\n",
       "| 1 |  aruanne konstateerima , et vene keel oskus olema baltikumi » üha enam USA-rapori nimetama otseselt Öigus |\n",
       "| 2 | , N.liit . ( VES ). Ilo Käbin - mees Armeemmiseum balti näitus taga kindlasti olema palju kaasmaalane kas |\n",
       "| 3 | sti tutvustama Baltikum rahvas , Baltimaa kui Ita balti riik ajalugu , eriti kuna see olema Rootsi võrdle |\n",
       "| 4 | _koht a . 1977. aasta hiljem võitma sama meeskond balti karikas , mis olema vast kõige suurem edu . hilje |\n",
       "| 5 | amisc ” näol . Berliin olema Idaministeeriu - mis balti küsimus osakond juhataja dr , Peter von Kleist po |\n",
       "| 6 | esti rahvusnõukogu esimees Mihkel Mathfesen EKN , balti komitee ja Eesti komitee traditsioniliscl uueaast |\n",
       "| 7 | ueaasta päev kogunema vastuvõtt sadakond eesti ja balti organisatsioon esindaja ning rootsipoolne külalin |\n",
       "| 8 | lismaa koondis , Mihkel Mathiesen-Rahvusnõukogu , balti komitee , balti arhiiv ja ajaleht ” Teataja ” aua |\n",
       "| 9 |  Mihkel Mathiesen-Rahvusnõukogu , balti komitee , balti arhiiv ja ajaleht ” Teataja ” auaadress , Valdo N |\n",
       "| 10 |  , et uus aasta olema kõik eestlane ja mina sõber balti naaber ja rootslane seas edukas . tema panema süd |\n",
       "\n"
      ],
      "text/plain": [
       "   context                                                                                                  \n",
       "1   aruanne konstateerima , et vene keel oskus olema baltikumi » üha enam USA-rapori nimetama otseselt Öigus\n",
       "2  , N.liit . ( VES ). Ilo Käbin - mees Armeemmiseum balti näitus taga kindlasti olema palju kaasmaalane kas\n",
       "3  sti tutvustama Baltikum rahvas , Baltimaa kui Ita balti riik ajalugu , eriti kuna see olema Rootsi võrdle\n",
       "4  _koht a . 1977. aasta hiljem võitma sama meeskond balti karikas , mis olema vast kõige suurem edu . hilje\n",
       "5  amisc ” näol . Berliin olema Idaministeeriu - mis balti küsimus osakond juhataja dr , Peter von Kleist po\n",
       "6  esti rahvusnõukogu esimees Mihkel Mathfesen EKN , balti komitee ja Eesti komitee traditsioniliscl uueaast\n",
       "7  ueaasta päev kogunema vastuvõtt sadakond eesti ja balti organisatsioon esindaja ning rootsipoolne külalin\n",
       "8  lismaa koondis , Mihkel Mathiesen-Rahvusnõukogu , balti komitee , balti arhiiv ja ajaleht ” Teataja ” aua\n",
       "9   Mihkel Mathiesen-Rahvusnõukogu , balti komitee , balti arhiiv ja ajaleht ” Teataja ” auaadress , Valdo N\n",
       "10  , et uus aasta olema kõik eestlane ja mina sõber balti naaber ja rootslane seas edukas . tema panema süd"
      ]
     },
     "metadata": {},
     "output_type": "display_data"
    }
   ],
   "source": [
    "rootsi_concs_8595_2 <- str_replace_all(rootsi_concs_8595$context, \"\\\\|\", \"_\")\n",
    "\n",
    "rootsi_concs_8595_3 <- as.data.frame(rootsi_concs_8595_2, header = TRUE)\n",
    "colnames(rootsi_concs_8595_3) <- \"context\"\n",
    "head(rootsi_concs_8595_3, 10)"
   ]
  },
  {
   "cell_type": "code",
   "execution_count": 35,
   "id": "38ddfebd",
   "metadata": {},
   "outputs": [],
   "source": [
    "trigrams_separated3 <- rootsi_concs_8595_3 %>%\n",
    "  unnest_tokens(trigram, context, token = \"ngrams\", n = 3, n_min = 3) %>%\n",
    "  separate(trigram, c(\"word1\", \"word2\", \"word3\"), sep = \" \")"
   ]
  },
  {
   "cell_type": "code",
   "execution_count": 36,
   "id": "8e54e3dc",
   "metadata": {},
   "outputs": [],
   "source": [
    "trigrams_filtered3 <- trigrams_separated3 %>%\n",
    "  filter(!word1 %in% stopsonad$word) %>%\n",
    "  filter(!word2 %in% stopsonad$word) %>%\n",
    "  filter(!word3 %in% stopsonad$word)"
   ]
  },
  {
   "cell_type": "code",
   "execution_count": 37,
   "id": "829906e2",
   "metadata": {},
   "outputs": [],
   "source": [
    "trigram_counts3 <- trigrams_filtered3 %>% \n",
    "  count(word1, word2, word3, sort = TRUE)"
   ]
  },
  {
   "cell_type": "code",
   "execution_count": 39,
   "id": "a225485f",
   "metadata": {},
   "outputs": [
    {
     "data": {
      "text/html": [
       "<table class=\"dataframe\">\n",
       "<caption>A data.frame: 30 × 4</caption>\n",
       "<thead>\n",
       "\t<tr><th></th><th scope=col>word1</th><th scope=col>word2</th><th scope=col>word3</th><th scope=col>n</th></tr>\n",
       "\t<tr><th></th><th scope=col>&lt;chr&gt;</th><th scope=col>&lt;chr&gt;</th><th scope=col>&lt;chr&gt;</th><th scope=col>&lt;int&gt;</th></tr>\n",
       "</thead>\n",
       "<tbody>\n",
       "\t<tr><th scope=row>1</th><td>kolm                  </td><td>balti             </td><td>riik              </td><td>233</td></tr>\n",
       "\t<tr><th scope=row>2</th><td>balti                 </td><td>riik              </td><td>iseseisvus        </td><td>132</td></tr>\n",
       "\t<tr><th scope=row>3</th><td>de                    </td><td>baltiska_baltiskas</td><td>staterna          </td><td>118</td></tr>\n",
       "\t<tr><th scope=row>4</th><td>balti                 </td><td>riik              </td><td>küsimus           </td><td> 77</td></tr>\n",
       "\t<tr><th scope=row>5</th><td>balti                 </td><td>riik              </td><td>annekteerimine    </td><td> 68</td></tr>\n",
       "\t<tr><th scope=row>6</th><td>balti                 </td><td>riik              </td><td>okupeerimine      </td><td> 66</td></tr>\n",
       "\t<tr><th scope=row>7</th><td>balti                 </td><td>vabadusliit       </td><td>esimees           </td><td> 62</td></tr>\n",
       "\t<tr><th scope=row>8</th><td>vabadusliit           </td><td>esimees           </td><td>avo               </td><td> 56</td></tr>\n",
       "\t<tr><th scope=row>9</th><td>kolm                  </td><td>balti             </td><td>rahvas            </td><td> 52</td></tr>\n",
       "\t<tr><th scope=row>10</th><td>balti                 </td><td>riik              </td><td>vabadus           </td><td> 48</td></tr>\n",
       "\t<tr><th scope=row>11</th><td>de                    </td><td>baltiska_baltiskas</td><td>folken            </td><td> 44</td></tr>\n",
       "\t<tr><th scope=row>12</th><td>balti                 </td><td>riik              </td><td>nõukogu           </td><td> 43</td></tr>\n",
       "\t<tr><th scope=row>13</th><td>esimees               </td><td>avo               </td><td>piirisild         </td><td> 43</td></tr>\n",
       "\t<tr><th scope=row>14</th><td>tunnustama            </td><td>balti             </td><td>riik              </td><td> 42</td></tr>\n",
       "\t<tr><th scope=row>15</th><td>för                   </td><td>de                </td><td>baltiska_baltiskas</td><td> 40</td></tr>\n",
       "\t<tr><th scope=row>16</th><td>balti                 </td><td>riik              </td><td>saatus            </td><td> 39</td></tr>\n",
       "\t<tr><th scope=row>17</th><td>balti                 </td><td>riik              </td><td>olukord           </td><td> 36</td></tr>\n",
       "\t<tr><th scope=row>18</th><td>balti                 </td><td>riik              </td><td>liitmine          </td><td> 35</td></tr>\n",
       "\t<tr><th scope=row>19</th><td>balti                 </td><td>riik              </td><td>vägivaldne        </td><td> 35</td></tr>\n",
       "\t<tr><th scope=row>20</th><td>av                    </td><td>de                </td><td>baltiska_baltiskas</td><td> 34</td></tr>\n",
       "\t<tr><th scope=row>21</th><td>balti                 </td><td>riik              </td><td>esindaja          </td><td> 34</td></tr>\n",
       "\t<tr><th scope=row>22</th><td>de                    </td><td>baltiska_baltiskas</td><td>länderna          </td><td> 34</td></tr>\n",
       "\t<tr><th scope=row>23</th><td>balti                 </td><td>komitee           </td><td>esimees           </td><td> 33</td></tr>\n",
       "\t<tr><th scope=row>24</th><td>tunnustama_tunnustanud</td><td>balti             </td><td>riik              </td><td> 31</td></tr>\n",
       "\t<tr><th scope=row>25</th><td>de                    </td><td>baltiska_baltiskas</td><td>folkens           </td><td> 30</td></tr>\n",
       "\t<tr><th scope=row>26</th><td>balti                 </td><td>riik              </td><td>okupatsioon       </td><td> 29</td></tr>\n",
       "\t<tr><th scope=row>27</th><td>iseseisev             </td><td>balti             </td><td>riik              </td><td> 26</td></tr>\n",
       "\t<tr><th scope=row>28</th><td>balti                 </td><td>organisatsioon    </td><td>esindaja          </td><td> 25</td></tr>\n",
       "\t<tr><th scope=row>29</th><td>balti                 </td><td>rahvas            </td><td>vabadus           </td><td> 25</td></tr>\n",
       "\t<tr><th scope=row>30</th><td>balti                 </td><td>riik              </td><td>iseseisvumine     </td><td> 24</td></tr>\n",
       "</tbody>\n",
       "</table>\n"
      ],
      "text/latex": [
       "A data.frame: 30 × 4\n",
       "\\begin{tabular}{r|llll}\n",
       "  & word1 & word2 & word3 & n\\\\\n",
       "  & <chr> & <chr> & <chr> & <int>\\\\\n",
       "\\hline\n",
       "\t1 & kolm                   & balti              & riik               & 233\\\\\n",
       "\t2 & balti                  & riik               & iseseisvus         & 132\\\\\n",
       "\t3 & de                     & baltiska\\_baltiskas & staterna           & 118\\\\\n",
       "\t4 & balti                  & riik               & küsimus            &  77\\\\\n",
       "\t5 & balti                  & riik               & annekteerimine     &  68\\\\\n",
       "\t6 & balti                  & riik               & okupeerimine       &  66\\\\\n",
       "\t7 & balti                  & vabadusliit        & esimees            &  62\\\\\n",
       "\t8 & vabadusliit            & esimees            & avo                &  56\\\\\n",
       "\t9 & kolm                   & balti              & rahvas             &  52\\\\\n",
       "\t10 & balti                  & riik               & vabadus            &  48\\\\\n",
       "\t11 & de                     & baltiska\\_baltiskas & folken             &  44\\\\\n",
       "\t12 & balti                  & riik               & nõukogu            &  43\\\\\n",
       "\t13 & esimees                & avo                & piirisild          &  43\\\\\n",
       "\t14 & tunnustama             & balti              & riik               &  42\\\\\n",
       "\t15 & för                    & de                 & baltiska\\_baltiskas &  40\\\\\n",
       "\t16 & balti                  & riik               & saatus             &  39\\\\\n",
       "\t17 & balti                  & riik               & olukord            &  36\\\\\n",
       "\t18 & balti                  & riik               & liitmine           &  35\\\\\n",
       "\t19 & balti                  & riik               & vägivaldne         &  35\\\\\n",
       "\t20 & av                     & de                 & baltiska\\_baltiskas &  34\\\\\n",
       "\t21 & balti                  & riik               & esindaja           &  34\\\\\n",
       "\t22 & de                     & baltiska\\_baltiskas & länderna           &  34\\\\\n",
       "\t23 & balti                  & komitee            & esimees            &  33\\\\\n",
       "\t24 & tunnustama\\_tunnustanud & balti              & riik               &  31\\\\\n",
       "\t25 & de                     & baltiska\\_baltiskas & folkens            &  30\\\\\n",
       "\t26 & balti                  & riik               & okupatsioon        &  29\\\\\n",
       "\t27 & iseseisev              & balti              & riik               &  26\\\\\n",
       "\t28 & balti                  & organisatsioon     & esindaja           &  25\\\\\n",
       "\t29 & balti                  & rahvas             & vabadus            &  25\\\\\n",
       "\t30 & balti                  & riik               & iseseisvumine      &  24\\\\\n",
       "\\end{tabular}\n"
      ],
      "text/markdown": [
       "\n",
       "A data.frame: 30 × 4\n",
       "\n",
       "| <!--/--> | word1 &lt;chr&gt; | word2 &lt;chr&gt; | word3 &lt;chr&gt; | n &lt;int&gt; |\n",
       "|---|---|---|---|---|\n",
       "| 1 | kolm                   | balti              | riik               | 233 |\n",
       "| 2 | balti                  | riik               | iseseisvus         | 132 |\n",
       "| 3 | de                     | baltiska_baltiskas | staterna           | 118 |\n",
       "| 4 | balti                  | riik               | küsimus            |  77 |\n",
       "| 5 | balti                  | riik               | annekteerimine     |  68 |\n",
       "| 6 | balti                  | riik               | okupeerimine       |  66 |\n",
       "| 7 | balti                  | vabadusliit        | esimees            |  62 |\n",
       "| 8 | vabadusliit            | esimees            | avo                |  56 |\n",
       "| 9 | kolm                   | balti              | rahvas             |  52 |\n",
       "| 10 | balti                  | riik               | vabadus            |  48 |\n",
       "| 11 | de                     | baltiska_baltiskas | folken             |  44 |\n",
       "| 12 | balti                  | riik               | nõukogu            |  43 |\n",
       "| 13 | esimees                | avo                | piirisild          |  43 |\n",
       "| 14 | tunnustama             | balti              | riik               |  42 |\n",
       "| 15 | för                    | de                 | baltiska_baltiskas |  40 |\n",
       "| 16 | balti                  | riik               | saatus             |  39 |\n",
       "| 17 | balti                  | riik               | olukord            |  36 |\n",
       "| 18 | balti                  | riik               | liitmine           |  35 |\n",
       "| 19 | balti                  | riik               | vägivaldne         |  35 |\n",
       "| 20 | av                     | de                 | baltiska_baltiskas |  34 |\n",
       "| 21 | balti                  | riik               | esindaja           |  34 |\n",
       "| 22 | de                     | baltiska_baltiskas | länderna           |  34 |\n",
       "| 23 | balti                  | komitee            | esimees            |  33 |\n",
       "| 24 | tunnustama_tunnustanud | balti              | riik               |  31 |\n",
       "| 25 | de                     | baltiska_baltiskas | folkens            |  30 |\n",
       "| 26 | balti                  | riik               | okupatsioon        |  29 |\n",
       "| 27 | iseseisev              | balti              | riik               |  26 |\n",
       "| 28 | balti                  | organisatsioon     | esindaja           |  25 |\n",
       "| 29 | balti                  | rahvas             | vabadus            |  25 |\n",
       "| 30 | balti                  | riik               | iseseisvumine      |  24 |\n",
       "\n"
      ],
      "text/plain": [
       "   word1                  word2              word3              n  \n",
       "1  kolm                   balti              riik               233\n",
       "2  balti                  riik               iseseisvus         132\n",
       "3  de                     baltiska_baltiskas staterna           118\n",
       "4  balti                  riik               küsimus             77\n",
       "5  balti                  riik               annekteerimine      68\n",
       "6  balti                  riik               okupeerimine        66\n",
       "7  balti                  vabadusliit        esimees             62\n",
       "8  vabadusliit            esimees            avo                 56\n",
       "9  kolm                   balti              rahvas              52\n",
       "10 balti                  riik               vabadus             48\n",
       "11 de                     baltiska_baltiskas folken              44\n",
       "12 balti                  riik               nõukogu             43\n",
       "13 esimees                avo                piirisild           43\n",
       "14 tunnustama             balti              riik                42\n",
       "15 för                    de                 baltiska_baltiskas  40\n",
       "16 balti                  riik               saatus              39\n",
       "17 balti                  riik               olukord             36\n",
       "18 balti                  riik               liitmine            35\n",
       "19 balti                  riik               vägivaldne          35\n",
       "20 av                     de                 baltiska_baltiskas  34\n",
       "21 balti                  riik               esindaja            34\n",
       "22 de                     baltiska_baltiskas länderna            34\n",
       "23 balti                  komitee            esimees             33\n",
       "24 tunnustama_tunnustanud balti              riik                31\n",
       "25 de                     baltiska_baltiskas folkens             30\n",
       "26 balti                  riik               okupatsioon         29\n",
       "27 iseseisev              balti              riik                26\n",
       "28 balti                  organisatsioon     esindaja            25\n",
       "29 balti                  rahvas             vabadus             25\n",
       "30 balti                  riik               iseseisvumine       24"
      ]
     },
     "metadata": {},
     "output_type": "display_data"
    }
   ],
   "source": [
    "head(trigram_counts3, 30)"
   ]
  },
  {
   "cell_type": "code",
   "execution_count": null,
   "id": "759d3299",
   "metadata": {},
   "outputs": [],
   "source": []
  }
 ],
 "metadata": {
  "kernelspec": {
   "display_name": "R 4.1.2",
   "language": "R",
   "name": "ir4-1"
  },
  "language_info": {
   "codemirror_mode": "r",
   "file_extension": ".r",
   "mimetype": "text/x-r-source",
   "name": "R",
   "pygments_lexer": "r",
   "version": "4.1.2"
  }
 },
 "nbformat": 4,
 "nbformat_minor": 5
}
