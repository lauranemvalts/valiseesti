{
 "cells": [
  {
   "cell_type": "code",
   "execution_count": 1,
   "id": "7455bb99",
   "metadata": {},
   "outputs": [
    {
     "name": "stderr",
     "output_type": "stream",
     "text": [
      "Downloading GitHub repo peeter-t2/digar.txts@HEAD\n",
      "\n"
     ]
    },
    {
     "name": "stdout",
     "output_type": "stream",
     "text": [
      "* checking for file ‘/tmp/RtmpRRaK5H/remotes4c8674b7ff4f/peeter-t2-digar.txts-b87e10a/DESCRIPTION’ ... OK\n",
      "* preparing ‘digar.txts’:\n",
      "* checking DESCRIPTION meta-information ... OK\n",
      "* checking for LF line-endings in source and make files and shell scripts\n",
      "* checking for empty or unneeded directories\n",
      "Omitted ‘LazyData’ from DESCRIPTION\n",
      "* building ‘digar.txts_0.0.0.9100.tar.gz’\n",
      "Warning in sprintf(gettext(fmt, domain = domain), ...) :\n",
      "  one argument not used by format 'invalid uid value replaced by that for user 'nobody''\n",
      "Warning: invalid uid value replaced by that for user 'nobody'\n",
      "\n"
     ]
    },
    {
     "name": "stderr",
     "output_type": "stream",
     "text": [
      "Loading required package: data.table\n",
      "\n"
     ]
    }
   ],
   "source": [
    "remotes::install_github(\"peeter-t2/digar.txts\",lib=\"R_pckg/\",upgrade=\"never\")\n",
    "library(digar.txts,lib.loc=\"R_pckg/\")"
   ]
  },
  {
   "cell_type": "code",
   "execution_count": 2,
   "id": "f535dca4",
   "metadata": {},
   "outputs": [
    {
     "name": "stderr",
     "output_type": "stream",
     "text": [
      "── \u001b[1mAttaching packages\u001b[22m ─────────────────────────────────────── tidyverse 1.3.1 ──\n",
      "\n",
      "\u001b[32m✔\u001b[39m \u001b[34mggplot2\u001b[39m 3.3.5     \u001b[32m✔\u001b[39m \u001b[34mpurrr  \u001b[39m 0.3.4\n",
      "\u001b[32m✔\u001b[39m \u001b[34mtibble \u001b[39m 3.1.6     \u001b[32m✔\u001b[39m \u001b[34mdplyr  \u001b[39m 1.0.8\n",
      "\u001b[32m✔\u001b[39m \u001b[34mtidyr  \u001b[39m 1.2.0     \u001b[32m✔\u001b[39m \u001b[34mstringr\u001b[39m 1.4.0\n",
      "\u001b[32m✔\u001b[39m \u001b[34mreadr  \u001b[39m 2.1.2     \u001b[32m✔\u001b[39m \u001b[34mforcats\u001b[39m 0.5.1\n",
      "\n",
      "── \u001b[1mConflicts\u001b[22m ────────────────────────────────────────── tidyverse_conflicts() ──\n",
      "\u001b[31m✖\u001b[39m \u001b[34mdplyr\u001b[39m::\u001b[32mbetween()\u001b[39m   masks \u001b[34mdata.table\u001b[39m::between()\n",
      "\u001b[31m✖\u001b[39m \u001b[34mdplyr\u001b[39m::\u001b[32mfilter()\u001b[39m    masks \u001b[34mstats\u001b[39m::filter()\n",
      "\u001b[31m✖\u001b[39m \u001b[34mdplyr\u001b[39m::\u001b[32mfirst()\u001b[39m     masks \u001b[34mdata.table\u001b[39m::first()\n",
      "\u001b[31m✖\u001b[39m \u001b[34mdplyr\u001b[39m::\u001b[32mlag()\u001b[39m       masks \u001b[34mstats\u001b[39m::lag()\n",
      "\u001b[31m✖\u001b[39m \u001b[34mdplyr\u001b[39m::\u001b[32mlast()\u001b[39m      masks \u001b[34mdata.table\u001b[39m::last()\n",
      "\u001b[31m✖\u001b[39m \u001b[34mpurrr\u001b[39m::\u001b[32mtranspose()\u001b[39m masks \u001b[34mdata.table\u001b[39m::transpose()\n",
      "\n",
      "\n",
      "Attaching package: ‘igraph’\n",
      "\n",
      "\n",
      "The following objects are masked from ‘package:dplyr’:\n",
      "\n",
      "    as_data_frame, groups, union\n",
      "\n",
      "\n",
      "The following objects are masked from ‘package:purrr’:\n",
      "\n",
      "    compose, simplify\n",
      "\n",
      "\n",
      "The following object is masked from ‘package:tidyr’:\n",
      "\n",
      "    crossing\n",
      "\n",
      "\n",
      "The following object is masked from ‘package:tibble’:\n",
      "\n",
      "    as_data_frame\n",
      "\n",
      "\n",
      "The following objects are masked from ‘package:stats’:\n",
      "\n",
      "    decompose, spectrum\n",
      "\n",
      "\n",
      "The following object is masked from ‘package:base’:\n",
      "\n",
      "    union\n",
      "\n",
      "\n"
     ]
    }
   ],
   "source": [
    "library(tidyverse)\n",
    "library(igraph)\n",
    "install.packages('tidytext', lib='~/R_pckg')\n",
    "library(tidytext, lib.loc='~/R_pckg')\n",
    "install.packages('ggraph', lib='~/R_pckg')\n",
    "library(ggraph, lib.loc='~/R_pckg')"
   ]
  },
  {
   "cell_type": "code",
   "execution_count": 3,
   "id": "7228febd",
   "metadata": {},
   "outputs": [
    {
     "name": "stdout",
     "output_type": "stream",
     "text": [
      "[1] \"Issue metadata read\"\n"
     ]
    }
   ],
   "source": [
    "all_issues <- get_digar_overview()"
   ]
  },
  {
   "cell_type": "code",
   "execution_count": 4,
   "id": "51c81a05",
   "metadata": {},
   "outputs": [],
   "source": [
    "stopsonad <- read.table(\"estonian-stopwords-lemmas.txt\", header = TRUE, sep = \"\\t\", encoding = \"UTF-8\", stringsAsFactors = T)"
   ]
  },
  {
   "cell_type": "code",
   "execution_count": 5,
   "id": "a0b673fd",
   "metadata": {},
   "outputs": [],
   "source": [
    "rootsi_ajalehed <- all_issues %>%\n",
    "    filter(DocumentType==\"NEWSPAPER\") %>%\n",
    "    filter(keyid==\"estdagbladet\" | keyid==\"eestiteatajastock\" | keyid==\"stockholmstid\" | keyid==\"teatajapoliit\" | keyid==\"valiseesti\")"
   ]
  },
  {
   "cell_type": "code",
   "execution_count": 6,
   "id": "efe7dd05",
   "metadata": {},
   "outputs": [],
   "source": [
    "searchterm <- \"balti\"\n",
    "searchfile <- \"balti_lemmad_rootsi.txt\"\n",
    "do_subset_search(searchterm=searchterm, searchfile=searchfile, rootsi_ajalehed, searchtype=\"lemmas\", source=\"pages\")"
   ]
  },
  {
   "cell_type": "code",
   "execution_count": 7,
   "id": "4213e72a",
   "metadata": {},
   "outputs": [],
   "source": [
    "texts2 <- fread(\"balti_lemmad_rootsi.txt\",header=F,sep=\"\\t\", quote=\"\")[,.(id=V1,lemmas=V2)]\n",
    "texts2[,DocumentID:=str_extract(id,\"[^\\\\.]+\")]\n",
    "fileids_w_meta2 <- texts2 %>% select(id, DocumentID) %>% left_join(rootsi_ajalehed %>% select(keyid, year, month, DocumentID, zippath_sections, zippath_pages), by=c(\"DocumentID\"))"
   ]
  },
  {
   "cell_type": "code",
   "execution_count": 8,
   "id": "3cf52718",
   "metadata": {},
   "outputs": [],
   "source": [
    "rootsi_trigrammid <- get_concordances(searchterm=searchterm,texts=texts2,before=50,after=50,txt=\"lemmas\",id=\"id\")"
   ]
  },
  {
   "cell_type": "code",
   "execution_count": 9,
   "id": "8e7fef4f",
   "metadata": {},
   "outputs": [],
   "source": [
    "rootsi_concs <- rootsi_trigrammid[, !c(\"id\",\"nr\",\"begin\",\"end\", \"DocumentID\")]\n",
    "\n",
    "write.table(rootsi_concs, \"rootsi_trigrammid.txt\", sep=\"\\t\", quote = F, row.names = F)"
   ]
  },
  {
   "cell_type": "code",
   "execution_count": 10,
   "id": "64ee1f39",
   "metadata": {},
   "outputs": [
    {
     "data": {
      "text/html": [
       "<table class=\"dataframe\">\n",
       "<caption>A data.frame: 10 × 1</caption>\n",
       "<thead>\n",
       "\t<tr><th></th><th scope=col>context</th></tr>\n",
       "\t<tr><th></th><th scope=col>&lt;chr&gt;</th></tr>\n",
       "</thead>\n",
       "<tbody>\n",
       "\t<tr><th scope=row>1</th><td>uma_kutsutud eesti , läti ja leedu rahvas esindus balti komitee . eestlane esindaja võtma komitee juhtimi</td></tr>\n",
       "\t<tr><th scope=row>2</th><td>d Moskva ka Türgi välispoliitika juht Saraeoglu . balti maa esindaja olema sundima_sunnitud andma_antud o</td></tr>\n",
       "\t<tr><th scope=row>3</th><td>elgia Taani Kopenhaagen , 28. juuli . Kopenhaagen balti põgenik laager jõudma eestlane , kes oma põgenemi</td></tr>\n",
       "\t<tr><th scope=row>4</th><td>kes kõik olema nn . Baltikum laager . üldse olema balti riik kodanik seal umbes 100 inimene . teine eestl</td></tr>\n",
       "\t<tr><th scope=row>5</th><td>valdama_avaldatud . Unrra poolt teatama veel , et balti riik kodaku_kodakud , kes oma kodumaa tagasi ei t</td></tr>\n",
       "\t<tr><th scope=row>6</th><td>nike praktiseerimine võimalus laiendama . Arste - balti põgenik tahtma rakendama Rootsi Punane_Punas Rist</td></tr>\n",
       "\t<tr><th scope=row>7</th><td>rd kuulma , et Potsdam võima päevakord kerkima ka balti riik tulevik küsimus . teatavasti ei olema Inglis</td></tr>\n",
       "\t<tr><th scope=row>8</th><td>e kodanik . 970 see olema haige ja ülejäänu olema balti maa . Inglis ametivõim ei vaatama aga tema kui ’‘</td></tr>\n",
       "\t<tr><th scope=row>9</th><td>aheline organisatsioon esindaja Poolamaa ja teine balti maa ; 4 ) nõukogu vene sõjavägi lahkumine Poolaj </td></tr>\n",
       "\t<tr><th scope=row>10</th><td>M. ka läti ja leedu komitee , moodustama ignlpool balti komitee , mis ülesanne olema koi balti riik kodan</td></tr>\n",
       "</tbody>\n",
       "</table>\n"
      ],
      "text/latex": [
       "A data.frame: 10 × 1\n",
       "\\begin{tabular}{r|l}\n",
       "  & context\\\\\n",
       "  & <chr>\\\\\n",
       "\\hline\n",
       "\t1 & uma\\_kutsutud eesti , läti ja leedu rahvas esindus balti komitee . eestlane esindaja võtma komitee juhtimi\\\\\n",
       "\t2 & d Moskva ka Türgi välispoliitika juht Saraeoglu . balti maa esindaja olema sundima\\_sunnitud andma\\_antud o\\\\\n",
       "\t3 & elgia Taani Kopenhaagen , 28. juuli . Kopenhaagen balti põgenik laager jõudma eestlane , kes oma põgenemi\\\\\n",
       "\t4 & kes kõik olema nn . Baltikum laager . üldse olema balti riik kodanik seal umbes 100 inimene . teine eestl\\\\\n",
       "\t5 & valdama\\_avaldatud . Unrra poolt teatama veel , et balti riik kodaku\\_kodakud , kes oma kodumaa tagasi ei t\\\\\n",
       "\t6 & nike praktiseerimine võimalus laiendama . Arste - balti põgenik tahtma rakendama Rootsi Punane\\_Punas Rist\\\\\n",
       "\t7 & rd kuulma , et Potsdam võima päevakord kerkima ka balti riik tulevik küsimus . teatavasti ei olema Inglis\\\\\n",
       "\t8 & e kodanik . 970 see olema haige ja ülejäänu olema balti maa . Inglis ametivõim ei vaatama aga tema kui ’‘\\\\\n",
       "\t9 & aheline organisatsioon esindaja Poolamaa ja teine balti maa ; 4 ) nõukogu vene sõjavägi lahkumine Poolaj \\\\\n",
       "\t10 & M. ka läti ja leedu komitee , moodustama ignlpool balti komitee , mis ülesanne olema koi balti riik kodan\\\\\n",
       "\\end{tabular}\n"
      ],
      "text/markdown": [
       "\n",
       "A data.frame: 10 × 1\n",
       "\n",
       "| <!--/--> | context &lt;chr&gt; |\n",
       "|---|---|\n",
       "| 1 | uma_kutsutud eesti , läti ja leedu rahvas esindus balti komitee . eestlane esindaja võtma komitee juhtimi |\n",
       "| 2 | d Moskva ka Türgi välispoliitika juht Saraeoglu . balti maa esindaja olema sundima_sunnitud andma_antud o |\n",
       "| 3 | elgia Taani Kopenhaagen , 28. juuli . Kopenhaagen balti põgenik laager jõudma eestlane , kes oma põgenemi |\n",
       "| 4 | kes kõik olema nn . Baltikum laager . üldse olema balti riik kodanik seal umbes 100 inimene . teine eestl |\n",
       "| 5 | valdama_avaldatud . Unrra poolt teatama veel , et balti riik kodaku_kodakud , kes oma kodumaa tagasi ei t |\n",
       "| 6 | nike praktiseerimine võimalus laiendama . Arste - balti põgenik tahtma rakendama Rootsi Punane_Punas Rist |\n",
       "| 7 | rd kuulma , et Potsdam võima päevakord kerkima ka balti riik tulevik küsimus . teatavasti ei olema Inglis |\n",
       "| 8 | e kodanik . 970 see olema haige ja ülejäänu olema balti maa . Inglis ametivõim ei vaatama aga tema kui ’‘ |\n",
       "| 9 | aheline organisatsioon esindaja Poolamaa ja teine balti maa ; 4 ) nõukogu vene sõjavägi lahkumine Poolaj  |\n",
       "| 10 | M. ka läti ja leedu komitee , moodustama ignlpool balti komitee , mis ülesanne olema koi balti riik kodan |\n",
       "\n"
      ],
      "text/plain": [
       "   context                                                                                                  \n",
       "1  uma_kutsutud eesti , läti ja leedu rahvas esindus balti komitee . eestlane esindaja võtma komitee juhtimi\n",
       "2  d Moskva ka Türgi välispoliitika juht Saraeoglu . balti maa esindaja olema sundima_sunnitud andma_antud o\n",
       "3  elgia Taani Kopenhaagen , 28. juuli . Kopenhaagen balti põgenik laager jõudma eestlane , kes oma põgenemi\n",
       "4  kes kõik olema nn . Baltikum laager . üldse olema balti riik kodanik seal umbes 100 inimene . teine eestl\n",
       "5  valdama_avaldatud . Unrra poolt teatama veel , et balti riik kodaku_kodakud , kes oma kodumaa tagasi ei t\n",
       "6  nike praktiseerimine võimalus laiendama . Arste - balti põgenik tahtma rakendama Rootsi Punane_Punas Rist\n",
       "7  rd kuulma , et Potsdam võima päevakord kerkima ka balti riik tulevik küsimus . teatavasti ei olema Inglis\n",
       "8  e kodanik . 970 see olema haige ja ülejäänu olema balti maa . Inglis ametivõim ei vaatama aga tema kui ’‘\n",
       "9  aheline organisatsioon esindaja Poolamaa ja teine balti maa ; 4 ) nõukogu vene sõjavägi lahkumine Poolaj \n",
       "10 M. ka läti ja leedu komitee , moodustama ignlpool balti komitee , mis ülesanne olema koi balti riik kodan"
      ]
     },
     "metadata": {},
     "output_type": "display_data"
    }
   ],
   "source": [
    "rootsi_concs2 <- str_replace_all(rootsi_concs$context, \"\\\\|\", \"_\")\n",
    "\n",
    "rootsi_concs3 <- as.data.frame(rootsi_concs2, header = TRUE)\n",
    "colnames(rootsi_concs3) <- \"context\"\n",
    "head(rootsi_concs3, 10)"
   ]
  },
  {
   "cell_type": "code",
   "execution_count": 11,
   "id": "4efb0b69",
   "metadata": {},
   "outputs": [],
   "source": [
    "trigrams_separated_rootsi <- rootsi_concs3 %>%\n",
    "  unnest_tokens(trigram, context, token = \"ngrams\", n = 3, n_min = 3) %>%\n",
    "  separate(trigram, c(\"word1\", \"word2\", \"word3\"), sep = \" \")"
   ]
  },
  {
   "cell_type": "code",
   "execution_count": 12,
   "id": "e71a1da5",
   "metadata": {},
   "outputs": [],
   "source": [
    "trigrams_filtered_rootsi <- trigrams_separated_rootsi %>%\n",
    "  filter(!word1 %in% stopsonad$word) %>%\n",
    "  filter(!word2 %in% stopsonad$word) %>%\n",
    "  filter(!word3 %in% stopsonad$word)"
   ]
  },
  {
   "cell_type": "code",
   "execution_count": 13,
   "id": "458591cb",
   "metadata": {},
   "outputs": [],
   "source": [
    "trigram_counts_rootsi <- trigrams_filtered_rootsi %>% \n",
    "  count(word1, word2, word3, sort = TRUE)"
   ]
  },
  {
   "cell_type": "code",
   "execution_count": 14,
   "id": "7f6dcfc9",
   "metadata": {},
   "outputs": [
    {
     "data": {
      "text/html": [
       "<table class=\"dataframe\">\n",
       "<caption>A data.frame: 30 × 4</caption>\n",
       "<thead>\n",
       "\t<tr><th></th><th scope=col>word1</th><th scope=col>word2</th><th scope=col>word3</th><th scope=col>n</th></tr>\n",
       "\t<tr><th></th><th scope=col>&lt;chr&gt;</th><th scope=col>&lt;chr&gt;</th><th scope=col>&lt;chr&gt;</th><th scope=col>&lt;int&gt;</th></tr>\n",
       "</thead>\n",
       "<tbody>\n",
       "\t<tr><th scope=row>1</th><td>kolm                  </td><td>balti             </td><td>riik              </td><td>922</td></tr>\n",
       "\t<tr><th scope=row>2</th><td>balti                 </td><td>riik              </td><td>küsimus           </td><td>604</td></tr>\n",
       "\t<tr><th scope=row>3</th><td>de                    </td><td>baltiska_baltiskas</td><td>staterna          </td><td>484</td></tr>\n",
       "\t<tr><th scope=row>4</th><td>balti                 </td><td>riik              </td><td>iseseisvus        </td><td>423</td></tr>\n",
       "\t<tr><th scope=row>5</th><td>balti                 </td><td>riik              </td><td>annekteerimine    </td><td>375</td></tr>\n",
       "\t<tr><th scope=row>6</th><td>balti                 </td><td>riik              </td><td>okupeerimine      </td><td>334</td></tr>\n",
       "\t<tr><th scope=row>7</th><td>kolm                  </td><td>balti             </td><td>rahvas            </td><td>287</td></tr>\n",
       "\t<tr><th scope=row>8</th><td>balti                 </td><td>riik              </td><td>saatus            </td><td>264</td></tr>\n",
       "\t<tr><th scope=row>9</th><td>balti                 </td><td>humanist          </td><td>ühing             </td><td>246</td></tr>\n",
       "\t<tr><th scope=row>10</th><td>balti                 </td><td>komitee           </td><td>esimees           </td><td>231</td></tr>\n",
       "\t<tr><th scope=row>11</th><td>tunnustama            </td><td>balti             </td><td>riik              </td><td>230</td></tr>\n",
       "\t<tr><th scope=row>12</th><td>balti                 </td><td>riik              </td><td>esindaja          </td><td>218</td></tr>\n",
       "\t<tr><th scope=row>13</th><td>de                    </td><td>baltiska_baltiskas</td><td>länderna          </td><td>190</td></tr>\n",
       "\t<tr><th scope=row>14</th><td>balti                 </td><td>riik              </td><td>vägivaldne        </td><td>181</td></tr>\n",
       "\t<tr><th scope=row>15</th><td>balti                 </td><td>humanistlik       </td><td>ühing             </td><td>172</td></tr>\n",
       "\t<tr><th scope=row>16</th><td>balti                 </td><td>riik              </td><td>vabadus           </td><td>172</td></tr>\n",
       "\t<tr><th scope=row>17</th><td>de                    </td><td>baltiska_baltiskas</td><td>folken            </td><td>162</td></tr>\n",
       "\t<tr><th scope=row>18</th><td>balti                 </td><td>riik              </td><td>kodanik           </td><td>154</td></tr>\n",
       "\t<tr><th scope=row>19</th><td>tunnustama_tunnustanud</td><td>balti             </td><td>riik              </td><td>151</td></tr>\n",
       "\t<tr><th scope=row>20</th><td>balti                 </td><td>rahvas            </td><td>esindaja          </td><td>130</td></tr>\n",
       "\t<tr><th scope=row>21</th><td>av                    </td><td>de                </td><td>baltiska_baltiskas</td><td>128</td></tr>\n",
       "\t<tr><th scope=row>22</th><td>balti                 </td><td>riik              </td><td>probleem          </td><td>126</td></tr>\n",
       "\t<tr><th scope=row>23</th><td>balti                 </td><td>riik              </td><td>eesti             </td><td>123</td></tr>\n",
       "\t<tr><th scope=row>24</th><td>balti                 </td><td>riik              </td><td>liitmine          </td><td>118</td></tr>\n",
       "\t<tr><th scope=row>25</th><td>för                   </td><td>de                </td><td>baltiska_baltiskas</td><td>116</td></tr>\n",
       "\t<tr><th scope=row>26</th><td>iseseisev             </td><td>balti             </td><td>riik              </td><td>116</td></tr>\n",
       "\t<tr><th scope=row>27</th><td>balti                 </td><td>rahvas            </td><td>vabadus           </td><td>111</td></tr>\n",
       "\t<tr><th scope=row>28</th><td>seisukoht             </td><td>balti             </td><td>riik              </td><td>103</td></tr>\n",
       "\t<tr><th scope=row>29</th><td>kolm                  </td><td>balti             </td><td>rahvus            </td><td>100</td></tr>\n",
       "\t<tr><th scope=row>30</th><td>om                    </td><td>de                </td><td>baltiska_baltiskas</td><td>100</td></tr>\n",
       "</tbody>\n",
       "</table>\n"
      ],
      "text/latex": [
       "A data.frame: 30 × 4\n",
       "\\begin{tabular}{r|llll}\n",
       "  & word1 & word2 & word3 & n\\\\\n",
       "  & <chr> & <chr> & <chr> & <int>\\\\\n",
       "\\hline\n",
       "\t1 & kolm                   & balti              & riik               & 922\\\\\n",
       "\t2 & balti                  & riik               & küsimus            & 604\\\\\n",
       "\t3 & de                     & baltiska\\_baltiskas & staterna           & 484\\\\\n",
       "\t4 & balti                  & riik               & iseseisvus         & 423\\\\\n",
       "\t5 & balti                  & riik               & annekteerimine     & 375\\\\\n",
       "\t6 & balti                  & riik               & okupeerimine       & 334\\\\\n",
       "\t7 & kolm                   & balti              & rahvas             & 287\\\\\n",
       "\t8 & balti                  & riik               & saatus             & 264\\\\\n",
       "\t9 & balti                  & humanist           & ühing              & 246\\\\\n",
       "\t10 & balti                  & komitee            & esimees            & 231\\\\\n",
       "\t11 & tunnustama             & balti              & riik               & 230\\\\\n",
       "\t12 & balti                  & riik               & esindaja           & 218\\\\\n",
       "\t13 & de                     & baltiska\\_baltiskas & länderna           & 190\\\\\n",
       "\t14 & balti                  & riik               & vägivaldne         & 181\\\\\n",
       "\t15 & balti                  & humanistlik        & ühing              & 172\\\\\n",
       "\t16 & balti                  & riik               & vabadus            & 172\\\\\n",
       "\t17 & de                     & baltiska\\_baltiskas & folken             & 162\\\\\n",
       "\t18 & balti                  & riik               & kodanik            & 154\\\\\n",
       "\t19 & tunnustama\\_tunnustanud & balti              & riik               & 151\\\\\n",
       "\t20 & balti                  & rahvas             & esindaja           & 130\\\\\n",
       "\t21 & av                     & de                 & baltiska\\_baltiskas & 128\\\\\n",
       "\t22 & balti                  & riik               & probleem           & 126\\\\\n",
       "\t23 & balti                  & riik               & eesti              & 123\\\\\n",
       "\t24 & balti                  & riik               & liitmine           & 118\\\\\n",
       "\t25 & för                    & de                 & baltiska\\_baltiskas & 116\\\\\n",
       "\t26 & iseseisev              & balti              & riik               & 116\\\\\n",
       "\t27 & balti                  & rahvas             & vabadus            & 111\\\\\n",
       "\t28 & seisukoht              & balti              & riik               & 103\\\\\n",
       "\t29 & kolm                   & balti              & rahvus             & 100\\\\\n",
       "\t30 & om                     & de                 & baltiska\\_baltiskas & 100\\\\\n",
       "\\end{tabular}\n"
      ],
      "text/markdown": [
       "\n",
       "A data.frame: 30 × 4\n",
       "\n",
       "| <!--/--> | word1 &lt;chr&gt; | word2 &lt;chr&gt; | word3 &lt;chr&gt; | n &lt;int&gt; |\n",
       "|---|---|---|---|---|\n",
       "| 1 | kolm                   | balti              | riik               | 922 |\n",
       "| 2 | balti                  | riik               | küsimus            | 604 |\n",
       "| 3 | de                     | baltiska_baltiskas | staterna           | 484 |\n",
       "| 4 | balti                  | riik               | iseseisvus         | 423 |\n",
       "| 5 | balti                  | riik               | annekteerimine     | 375 |\n",
       "| 6 | balti                  | riik               | okupeerimine       | 334 |\n",
       "| 7 | kolm                   | balti              | rahvas             | 287 |\n",
       "| 8 | balti                  | riik               | saatus             | 264 |\n",
       "| 9 | balti                  | humanist           | ühing              | 246 |\n",
       "| 10 | balti                  | komitee            | esimees            | 231 |\n",
       "| 11 | tunnustama             | balti              | riik               | 230 |\n",
       "| 12 | balti                  | riik               | esindaja           | 218 |\n",
       "| 13 | de                     | baltiska_baltiskas | länderna           | 190 |\n",
       "| 14 | balti                  | riik               | vägivaldne         | 181 |\n",
       "| 15 | balti                  | humanistlik        | ühing              | 172 |\n",
       "| 16 | balti                  | riik               | vabadus            | 172 |\n",
       "| 17 | de                     | baltiska_baltiskas | folken             | 162 |\n",
       "| 18 | balti                  | riik               | kodanik            | 154 |\n",
       "| 19 | tunnustama_tunnustanud | balti              | riik               | 151 |\n",
       "| 20 | balti                  | rahvas             | esindaja           | 130 |\n",
       "| 21 | av                     | de                 | baltiska_baltiskas | 128 |\n",
       "| 22 | balti                  | riik               | probleem           | 126 |\n",
       "| 23 | balti                  | riik               | eesti              | 123 |\n",
       "| 24 | balti                  | riik               | liitmine           | 118 |\n",
       "| 25 | för                    | de                 | baltiska_baltiskas | 116 |\n",
       "| 26 | iseseisev              | balti              | riik               | 116 |\n",
       "| 27 | balti                  | rahvas             | vabadus            | 111 |\n",
       "| 28 | seisukoht              | balti              | riik               | 103 |\n",
       "| 29 | kolm                   | balti              | rahvus             | 100 |\n",
       "| 30 | om                     | de                 | baltiska_baltiskas | 100 |\n",
       "\n"
      ],
      "text/plain": [
       "   word1                  word2              word3              n  \n",
       "1  kolm                   balti              riik               922\n",
       "2  balti                  riik               küsimus            604\n",
       "3  de                     baltiska_baltiskas staterna           484\n",
       "4  balti                  riik               iseseisvus         423\n",
       "5  balti                  riik               annekteerimine     375\n",
       "6  balti                  riik               okupeerimine       334\n",
       "7  kolm                   balti              rahvas             287\n",
       "8  balti                  riik               saatus             264\n",
       "9  balti                  humanist           ühing              246\n",
       "10 balti                  komitee            esimees            231\n",
       "11 tunnustama             balti              riik               230\n",
       "12 balti                  riik               esindaja           218\n",
       "13 de                     baltiska_baltiskas länderna           190\n",
       "14 balti                  riik               vägivaldne         181\n",
       "15 balti                  humanistlik        ühing              172\n",
       "16 balti                  riik               vabadus            172\n",
       "17 de                     baltiska_baltiskas folken             162\n",
       "18 balti                  riik               kodanik            154\n",
       "19 tunnustama_tunnustanud balti              riik               151\n",
       "20 balti                  rahvas             esindaja           130\n",
       "21 av                     de                 baltiska_baltiskas 128\n",
       "22 balti                  riik               probleem           126\n",
       "23 balti                  riik               eesti              123\n",
       "24 balti                  riik               liitmine           118\n",
       "25 för                    de                 baltiska_baltiskas 116\n",
       "26 iseseisev              balti              riik               116\n",
       "27 balti                  rahvas             vabadus            111\n",
       "28 seisukoht              balti              riik               103\n",
       "29 kolm                   balti              rahvus             100\n",
       "30 om                     de                 baltiska_baltiskas 100"
      ]
     },
     "metadata": {},
     "output_type": "display_data"
    }
   ],
   "source": [
    "head(trigram_counts_rootsi, 30)"
   ]
  },
  {
   "cell_type": "code",
   "execution_count": 15,
   "id": "dedaf891",
   "metadata": {},
   "outputs": [],
   "source": [
    "trigram_graph_rootsi <- trigram_counts_rootsi %>%\n",
    "  filter(row_number() <= 30) %>%\n",
    "  graph_from_data_frame()"
   ]
  },
  {
   "cell_type": "code",
   "execution_count": 16,
   "id": "f73a380e",
   "metadata": {},
   "outputs": [
    {
     "data": {
      "image/png": "[encoded data removed]",
      "text/plain": [
       "plot without title"
      ]
     },
     "metadata": {
      "image/png": {
       "height": 420,
       "width": 420
      }
     },
     "output_type": "display_data"
    }
   ],
   "source": [
    "set.seed(2017)\n",
    "\n",
    "a <- grid::arrow(type = \"open\", length = unit(.10, \"inches\"))\n",
    "\n",
    "ggraph(trigram_graph_rootsi, layout = \"fr\") +\n",
    "    geom_edge_link(aes(edge_alpha = n), show.legend = FALSE, arrow = a, end_cap = circle(.05, 'inches'), color = \"darkblue\") +\n",
    "    geom_node_text(aes(label = name), repel = TRUE, size=4) +\n",
    "ggtitle(\"Rootsi\")"
   ]
  },
  {
   "cell_type": "code",
   "execution_count": 17,
   "id": "a3f2f2a2",
   "metadata": {},
   "outputs": [],
   "source": [
    "kanada_ajalehed <- all_issues %>%\n",
    "    filter(DocumentType==\"NEWSPAPER\") %>%\n",
    "    filter(keyid==\"vabaeestlane\" | keyid==\"voitleja\")"
   ]
  },
  {
   "cell_type": "code",
   "execution_count": 18,
   "id": "75e2614c",
   "metadata": {},
   "outputs": [],
   "source": [
    "searchfile <- \"balti_lemmad_kanada.txt\"\n",
    "do_subset_search(searchterm=searchterm, searchfile=searchfile, kanada_ajalehed, searchtype=\"lemmas\", source=\"pages\")"
   ]
  },
  {
   "cell_type": "code",
   "execution_count": 19,
   "id": "920525a6",
   "metadata": {},
   "outputs": [],
   "source": [
    "texts3 <- fread(\"balti_lemmad_kanada.txt\",header=F,sep=\"\\t\", quote=\"\")[,.(id=V1,lemmas=V2)]\n",
    "texts3[,DocumentID:=str_extract(id,\"[^\\\\.]+\")]\n",
    "fileids_w_meta3 <- texts3 %>% select(id, DocumentID) %>% left_join(kanada_ajalehed %>% select(keyid, year, month, DocumentID, zippath_sections, zippath_pages), by=c(\"DocumentID\"))"
   ]
  },
  {
   "cell_type": "code",
   "execution_count": 20,
   "id": "0949b8e3",
   "metadata": {},
   "outputs": [],
   "source": [
    "kanada_trigrammid <- get_concordances(searchterm=searchterm,texts=texts3,before=50,after=50,txt=\"lemmas\",id=\"id\")"
   ]
  },
  {
   "cell_type": "code",
   "execution_count": 21,
   "id": "05dd43b7",
   "metadata": {},
   "outputs": [],
   "source": [
    "kanada_concs <- kanada_trigrammid[, !c(\"id\",\"nr\",\"begin\",\"end\", \"DocumentID\")]\n",
    "\n",
    "write.table(kanada_concs, \"kanada_trigrammid.txt\", sep=\"\\t\", quote = F, row.names = F)"
   ]
  },
  {
   "cell_type": "code",
   "execution_count": 22,
   "id": "26aa30a1",
   "metadata": {},
   "outputs": [
    {
     "data": {
      "text/html": [
       "<table class=\"dataframe\">\n",
       "<caption>A data.frame: 10 × 1</caption>\n",
       "<thead>\n",
       "\t<tr><th></th><th scope=col>context</th></tr>\n",
       "\t<tr><th></th><th scope=col>&lt;chr&gt;</th></tr>\n",
       "</thead>\n",
       "<tbody>\n",
       "\t<tr><th scope=row>1</th><td>m kontakt ja eriti südamik ja tihe olema see kolm balti rahvas vahel . riiginõukogu liige min . J. Müller</td></tr>\n",
       "\t<tr><th scope=row>2</th><td>as ja Eesti koguni kahjulik . mis tahtma sakslane balti riik maa-ala suurendamine saavutama ? pidama meel</td></tr>\n",
       "\t<tr><th scope=row>3</th><td>enemaa nõrgestama . Venemaa külg maa äralõikamine balti .. Generalhezirk_Generalhezirki \"\"\"\" suurendamine</td></tr>\n",
       "\t<tr><th scope=row>4</th><td>iis äratama see ajakiri number suur tähelepanu ka balti põgenik keskel . Eesti pagnlasajakirjandus olema </td></tr>\n",
       "\t<tr><th scope=row>5</th><td>kelaager , kus pögenikuteekond algul asuma ainult balti rahvas . Omalajal tõusma seal eestlane arv ligi 2</td></tr>\n",
       "\t<tr><th scope=row>6</th><td>a tähendama_tähendanud , et kõik põgenik , rahvus balti meri kuni must meri , olema läänemaailm põgenema_</td></tr>\n",
       "\t<tr><th scope=row>7</th><td> see sobivus või ka erakondlik side järg jne . ka balti riik paneel koosseis olema kuuldus järgi huvitama</td></tr>\n",
       "\t<tr><th scope=row>8</th><td>dud_Liit port vägivaldselt okupeerima_okupeeritud balti riik olukord . Ester Rõhl sina suur imensiivsus s</td></tr>\n",
       "\t<tr><th scope=row>9</th><td> ka I R-cxMsiF leiduma veel ringkond , kes pidama balti riik anastamine enamlane 3 , , i kommunistlik par</td></tr>\n",
       "\t<tr><th scope=row>10</th><td>ilisem suu _ rema selts üritus võima märkima kolm balti rahvas © poolt ühiselt korraldama_korraldatud peo</td></tr>\n",
       "</tbody>\n",
       "</table>\n"
      ],
      "text/latex": [
       "A data.frame: 10 × 1\n",
       "\\begin{tabular}{r|l}\n",
       "  & context\\\\\n",
       "  & <chr>\\\\\n",
       "\\hline\n",
       "\t1 & m kontakt ja eriti südamik ja tihe olema see kolm balti rahvas vahel . riiginõukogu liige min . J. Müller\\\\\n",
       "\t2 & as ja Eesti koguni kahjulik . mis tahtma sakslane balti riik maa-ala suurendamine saavutama ? pidama meel\\\\\n",
       "\t3 & enemaa nõrgestama . Venemaa külg maa äralõikamine balti .. Generalhezirk\\_Generalhezirki \"\"\"\" suurendamine\\\\\n",
       "\t4 & iis äratama see ajakiri number suur tähelepanu ka balti põgenik keskel . Eesti pagnlasajakirjandus olema \\\\\n",
       "\t5 & kelaager , kus pögenikuteekond algul asuma ainult balti rahvas . Omalajal tõusma seal eestlane arv ligi 2\\\\\n",
       "\t6 & a tähendama\\_tähendanud , et kõik põgenik , rahvus balti meri kuni must meri , olema läänemaailm põgenema\\_\\\\\n",
       "\t7 &  see sobivus või ka erakondlik side järg jne . ka balti riik paneel koosseis olema kuuldus järgi huvitama\\\\\n",
       "\t8 & dud\\_Liit port vägivaldselt okupeerima\\_okupeeritud balti riik olukord . Ester Rõhl sina suur imensiivsus s\\\\\n",
       "\t9 &  ka I R-cxMsiF leiduma veel ringkond , kes pidama balti riik anastamine enamlane 3 , , i kommunistlik par\\\\\n",
       "\t10 & ilisem suu \\_ rema selts üritus võima märkima kolm balti rahvas © poolt ühiselt korraldama\\_korraldatud peo\\\\\n",
       "\\end{tabular}\n"
      ],
      "text/markdown": [
       "\n",
       "A data.frame: 10 × 1\n",
       "\n",
       "| <!--/--> | context &lt;chr&gt; |\n",
       "|---|---|\n",
       "| 1 | m kontakt ja eriti südamik ja tihe olema see kolm balti rahvas vahel . riiginõukogu liige min . J. Müller |\n",
       "| 2 | as ja Eesti koguni kahjulik . mis tahtma sakslane balti riik maa-ala suurendamine saavutama ? pidama meel |\n",
       "| 3 | enemaa nõrgestama . Venemaa külg maa äralõikamine balti .. Generalhezirk_Generalhezirki \"\"\"\" suurendamine |\n",
       "| 4 | iis äratama see ajakiri number suur tähelepanu ka balti põgenik keskel . Eesti pagnlasajakirjandus olema  |\n",
       "| 5 | kelaager , kus pögenikuteekond algul asuma ainult balti rahvas . Omalajal tõusma seal eestlane arv ligi 2 |\n",
       "| 6 | a tähendama_tähendanud , et kõik põgenik , rahvus balti meri kuni must meri , olema läänemaailm põgenema_ |\n",
       "| 7 |  see sobivus või ka erakondlik side järg jne . ka balti riik paneel koosseis olema kuuldus järgi huvitama |\n",
       "| 8 | dud_Liit port vägivaldselt okupeerima_okupeeritud balti riik olukord . Ester Rõhl sina suur imensiivsus s |\n",
       "| 9 |  ka I R-cxMsiF leiduma veel ringkond , kes pidama balti riik anastamine enamlane 3 , , i kommunistlik par |\n",
       "| 10 | ilisem suu _ rema selts üritus võima märkima kolm balti rahvas © poolt ühiselt korraldama_korraldatud peo |\n",
       "\n"
      ],
      "text/plain": [
       "   context                                                                                                  \n",
       "1  m kontakt ja eriti südamik ja tihe olema see kolm balti rahvas vahel . riiginõukogu liige min . J. Müller\n",
       "2  as ja Eesti koguni kahjulik . mis tahtma sakslane balti riik maa-ala suurendamine saavutama ? pidama meel\n",
       "3  enemaa nõrgestama . Venemaa külg maa äralõikamine balti .. Generalhezirk_Generalhezirki \"\"\"\" suurendamine\n",
       "4  iis äratama see ajakiri number suur tähelepanu ka balti põgenik keskel . Eesti pagnlasajakirjandus olema \n",
       "5  kelaager , kus pögenikuteekond algul asuma ainult balti rahvas . Omalajal tõusma seal eestlane arv ligi 2\n",
       "6  a tähendama_tähendanud , et kõik põgenik , rahvus balti meri kuni must meri , olema läänemaailm põgenema_\n",
       "7   see sobivus või ka erakondlik side järg jne . ka balti riik paneel koosseis olema kuuldus järgi huvitama\n",
       "8  dud_Liit port vägivaldselt okupeerima_okupeeritud balti riik olukord . Ester Rõhl sina suur imensiivsus s\n",
       "9   ka I R-cxMsiF leiduma veel ringkond , kes pidama balti riik anastamine enamlane 3 , , i kommunistlik par\n",
       "10 ilisem suu _ rema selts üritus võima märkima kolm balti rahvas © poolt ühiselt korraldama_korraldatud peo"
      ]
     },
     "metadata": {},
     "output_type": "display_data"
    }
   ],
   "source": [
    "kanada_concs2 <- str_replace_all(kanada_concs$context, \"\\\\|\", \"_\")\n",
    "\n",
    "kanada_concs3 <- as.data.frame(kanada_concs2, header = TRUE)\n",
    "colnames(kanada_concs3) <- \"context\"\n",
    "head(kanada_concs3, 10)"
   ]
  },
  {
   "cell_type": "code",
   "execution_count": 23,
   "id": "9cec3ec9",
   "metadata": {},
   "outputs": [],
   "source": [
    "trigrams_separated_kanada <- kanada_concs3 %>%\n",
    "  unnest_tokens(trigram, context, token = \"ngrams\", n = 3, n_min = 3) %>%\n",
    "  separate(trigram, c(\"word1\", \"word2\", \"word3\"), sep = \" \")"
   ]
  },
  {
   "cell_type": "code",
   "execution_count": 24,
   "id": "f2772311",
   "metadata": {},
   "outputs": [],
   "source": [
    "trigrams_filtered_kanada <- trigrams_separated_kanada %>%\n",
    "  filter(!word1 %in% stopsonad$word) %>%\n",
    "  filter(!word2 %in% stopsonad$word) %>%\n",
    "  filter(!word3 %in% stopsonad$word)"
   ]
  },
  {
   "cell_type": "code",
   "execution_count": 25,
   "id": "5ac981a1",
   "metadata": {},
   "outputs": [],
   "source": [
    "trigram_counts_kanada <- trigrams_filtered_kanada %>% \n",
    "  count(word1, word2, word3, sort = TRUE)"
   ]
  },
  {
   "cell_type": "code",
   "execution_count": 26,
   "id": "75545cec",
   "metadata": {},
   "outputs": [
    {
     "data": {
      "text/html": [
       "<table class=\"dataframe\">\n",
       "<caption>A data.frame: 30 × 4</caption>\n",
       "<thead>\n",
       "\t<tr><th></th><th scope=col>word1</th><th scope=col>word2</th><th scope=col>word3</th><th scope=col>n</th></tr>\n",
       "\t<tr><th></th><th scope=col>&lt;chr&gt;</th><th scope=col>&lt;chr&gt;</th><th scope=col>&lt;chr&gt;</th><th scope=col>&lt;int&gt;</th></tr>\n",
       "</thead>\n",
       "<tbody>\n",
       "\t<tr><th scope=row>1</th><td>kolm       </td><td>balti      </td><td>riik          </td><td>682</td></tr>\n",
       "\t<tr><th scope=row>2</th><td>balti      </td><td>riik       </td><td>küsimus       </td><td>507</td></tr>\n",
       "\t<tr><th scope=row>3</th><td>balti      </td><td>naine      </td><td>nõukogu       </td><td>343</td></tr>\n",
       "\t<tr><th scope=row>4</th><td>balti      </td><td>riik       </td><td>iseseisvus    </td><td>295</td></tr>\n",
       "\t<tr><th scope=row>5</th><td>balti      </td><td>riik       </td><td>annekteerimine</td><td>253</td></tr>\n",
       "\t<tr><th scope=row>6</th><td>kolm       </td><td>balti      </td><td>rahvas        </td><td>240</td></tr>\n",
       "\t<tr><th scope=row>7</th><td>tunnustama </td><td>balti      </td><td>riik          </td><td>160</td></tr>\n",
       "\t<tr><th scope=row>8</th><td>balti      </td><td>riik       </td><td>okupeerimine  </td><td>158</td></tr>\n",
       "\t<tr><th scope=row>9</th><td>balti      </td><td>riik       </td><td>saatus        </td><td>152</td></tr>\n",
       "\t<tr><th scope=row>10</th><td>balti      </td><td>riik       </td><td>esindaja      </td><td>126</td></tr>\n",
       "\t<tr><th scope=row>11</th><td>balti      </td><td>riik       </td><td>vägivaldne    </td><td>119</td></tr>\n",
       "\t<tr><th scope=row>12</th><td>balti      </td><td>riik       </td><td>probleem      </td><td>114</td></tr>\n",
       "\t<tr><th scope=row>13</th><td>balti      </td><td>riik       </td><td>eesti         </td><td>108</td></tr>\n",
       "\t<tr><th scope=row>14</th><td>balti      </td><td>vabadusliit</td><td>esimees       </td><td>108</td></tr>\n",
       "\t<tr><th scope=row>15</th><td>kolm       </td><td>balti      </td><td>rahvus        </td><td>104</td></tr>\n",
       "\t<tr><th scope=row>16</th><td>balti      </td><td>rahvusgrupp</td><td>esindaja      </td><td>102</td></tr>\n",
       "\t<tr><th scope=row>17</th><td>balti      </td><td>rahvas     </td><td>esindaja      </td><td> 96</td></tr>\n",
       "\t<tr><th scope=row>18</th><td>balti      </td><td>riik       </td><td>olukord       </td><td> 96</td></tr>\n",
       "\t<tr><th scope=row>19</th><td>kolm       </td><td>balti      </td><td>vabariik      </td><td> 86</td></tr>\n",
       "\t<tr><th scope=row>20</th><td>balti      </td><td>liit       </td><td>esimees       </td><td> 84</td></tr>\n",
       "\t<tr><th scope=row>21</th><td>balti      </td><td>rahvas     </td><td>ühine         </td><td> 81</td></tr>\n",
       "\t<tr><th scope=row>22</th><td>riik       </td><td>eesti      </td><td>läti          </td><td> 77</td></tr>\n",
       "\t<tr><th scope=row>23</th><td>balti      </td><td>komitee    </td><td>esimees       </td><td> 74</td></tr>\n",
       "\t<tr><th scope=row>24</th><td>balti      </td><td>riik       </td><td>vabadus       </td><td> 69</td></tr>\n",
       "\t<tr><th scope=row>25</th><td>balti      </td><td>veteran    </td><td>liit          </td><td> 69</td></tr>\n",
       "\t<tr><th scope=row>26</th><td>seisukoht  </td><td>balti      </td><td>riik          </td><td> 69</td></tr>\n",
       "\t<tr><th scope=row>27</th><td>ülemaailmne</td><td>balti      </td><td>nõukogu       </td><td> 68</td></tr>\n",
       "\t<tr><th scope=row>28</th><td>balti      </td><td>riik       </td><td>nato          </td><td> 66</td></tr>\n",
       "\t<tr><th scope=row>29</th><td>balti      </td><td>rahvas     </td><td>õigus         </td><td> 64</td></tr>\n",
       "\t<tr><th scope=row>30</th><td>balti      </td><td>riik       </td><td>ajalugu       </td><td> 64</td></tr>\n",
       "</tbody>\n",
       "</table>\n"
      ],
      "text/latex": [
       "A data.frame: 30 × 4\n",
       "\\begin{tabular}{r|llll}\n",
       "  & word1 & word2 & word3 & n\\\\\n",
       "  & <chr> & <chr> & <chr> & <int>\\\\\n",
       "\\hline\n",
       "\t1 & kolm        & balti       & riik           & 682\\\\\n",
       "\t2 & balti       & riik        & küsimus        & 507\\\\\n",
       "\t3 & balti       & naine       & nõukogu        & 343\\\\\n",
       "\t4 & balti       & riik        & iseseisvus     & 295\\\\\n",
       "\t5 & balti       & riik        & annekteerimine & 253\\\\\n",
       "\t6 & kolm        & balti       & rahvas         & 240\\\\\n",
       "\t7 & tunnustama  & balti       & riik           & 160\\\\\n",
       "\t8 & balti       & riik        & okupeerimine   & 158\\\\\n",
       "\t9 & balti       & riik        & saatus         & 152\\\\\n",
       "\t10 & balti       & riik        & esindaja       & 126\\\\\n",
       "\t11 & balti       & riik        & vägivaldne     & 119\\\\\n",
       "\t12 & balti       & riik        & probleem       & 114\\\\\n",
       "\t13 & balti       & riik        & eesti          & 108\\\\\n",
       "\t14 & balti       & vabadusliit & esimees        & 108\\\\\n",
       "\t15 & kolm        & balti       & rahvus         & 104\\\\\n",
       "\t16 & balti       & rahvusgrupp & esindaja       & 102\\\\\n",
       "\t17 & balti       & rahvas      & esindaja       &  96\\\\\n",
       "\t18 & balti       & riik        & olukord        &  96\\\\\n",
       "\t19 & kolm        & balti       & vabariik       &  86\\\\\n",
       "\t20 & balti       & liit        & esimees        &  84\\\\\n",
       "\t21 & balti       & rahvas      & ühine          &  81\\\\\n",
       "\t22 & riik        & eesti       & läti           &  77\\\\\n",
       "\t23 & balti       & komitee     & esimees        &  74\\\\\n",
       "\t24 & balti       & riik        & vabadus        &  69\\\\\n",
       "\t25 & balti       & veteran     & liit           &  69\\\\\n",
       "\t26 & seisukoht   & balti       & riik           &  69\\\\\n",
       "\t27 & ülemaailmne & balti       & nõukogu        &  68\\\\\n",
       "\t28 & balti       & riik        & nato           &  66\\\\\n",
       "\t29 & balti       & rahvas      & õigus          &  64\\\\\n",
       "\t30 & balti       & riik        & ajalugu        &  64\\\\\n",
       "\\end{tabular}\n"
      ],
      "text/markdown": [
       "\n",
       "A data.frame: 30 × 4\n",
       "\n",
       "| <!--/--> | word1 &lt;chr&gt; | word2 &lt;chr&gt; | word3 &lt;chr&gt; | n &lt;int&gt; |\n",
       "|---|---|---|---|---|\n",
       "| 1 | kolm        | balti       | riik           | 682 |\n",
       "| 2 | balti       | riik        | küsimus        | 507 |\n",
       "| 3 | balti       | naine       | nõukogu        | 343 |\n",
       "| 4 | balti       | riik        | iseseisvus     | 295 |\n",
       "| 5 | balti       | riik        | annekteerimine | 253 |\n",
       "| 6 | kolm        | balti       | rahvas         | 240 |\n",
       "| 7 | tunnustama  | balti       | riik           | 160 |\n",
       "| 8 | balti       | riik        | okupeerimine   | 158 |\n",
       "| 9 | balti       | riik        | saatus         | 152 |\n",
       "| 10 | balti       | riik        | esindaja       | 126 |\n",
       "| 11 | balti       | riik        | vägivaldne     | 119 |\n",
       "| 12 | balti       | riik        | probleem       | 114 |\n",
       "| 13 | balti       | riik        | eesti          | 108 |\n",
       "| 14 | balti       | vabadusliit | esimees        | 108 |\n",
       "| 15 | kolm        | balti       | rahvus         | 104 |\n",
       "| 16 | balti       | rahvusgrupp | esindaja       | 102 |\n",
       "| 17 | balti       | rahvas      | esindaja       |  96 |\n",
       "| 18 | balti       | riik        | olukord        |  96 |\n",
       "| 19 | kolm        | balti       | vabariik       |  86 |\n",
       "| 20 | balti       | liit        | esimees        |  84 |\n",
       "| 21 | balti       | rahvas      | ühine          |  81 |\n",
       "| 22 | riik        | eesti       | läti           |  77 |\n",
       "| 23 | balti       | komitee     | esimees        |  74 |\n",
       "| 24 | balti       | riik        | vabadus        |  69 |\n",
       "| 25 | balti       | veteran     | liit           |  69 |\n",
       "| 26 | seisukoht   | balti       | riik           |  69 |\n",
       "| 27 | ülemaailmne | balti       | nõukogu        |  68 |\n",
       "| 28 | balti       | riik        | nato           |  66 |\n",
       "| 29 | balti       | rahvas      | õigus          |  64 |\n",
       "| 30 | balti       | riik        | ajalugu        |  64 |\n",
       "\n"
      ],
      "text/plain": [
       "   word1       word2       word3          n  \n",
       "1  kolm        balti       riik           682\n",
       "2  balti       riik        küsimus        507\n",
       "3  balti       naine       nõukogu        343\n",
       "4  balti       riik        iseseisvus     295\n",
       "5  balti       riik        annekteerimine 253\n",
       "6  kolm        balti       rahvas         240\n",
       "7  tunnustama  balti       riik           160\n",
       "8  balti       riik        okupeerimine   158\n",
       "9  balti       riik        saatus         152\n",
       "10 balti       riik        esindaja       126\n",
       "11 balti       riik        vägivaldne     119\n",
       "12 balti       riik        probleem       114\n",
       "13 balti       riik        eesti          108\n",
       "14 balti       vabadusliit esimees        108\n",
       "15 kolm        balti       rahvus         104\n",
       "16 balti       rahvusgrupp esindaja       102\n",
       "17 balti       rahvas      esindaja        96\n",
       "18 balti       riik        olukord         96\n",
       "19 kolm        balti       vabariik        86\n",
       "20 balti       liit        esimees         84\n",
       "21 balti       rahvas      ühine           81\n",
       "22 riik        eesti       läti            77\n",
       "23 balti       komitee     esimees         74\n",
       "24 balti       riik        vabadus         69\n",
       "25 balti       veteran     liit            69\n",
       "26 seisukoht   balti       riik            69\n",
       "27 ülemaailmne balti       nõukogu         68\n",
       "28 balti       riik        nato            66\n",
       "29 balti       rahvas      õigus           64\n",
       "30 balti       riik        ajalugu         64"
      ]
     },
     "metadata": {},
     "output_type": "display_data"
    }
   ],
   "source": [
    "head(trigram_counts_kanada, 30)"
   ]
  },
  {
   "cell_type": "code",
   "execution_count": 27,
   "id": "9f0e90e3",
   "metadata": {},
   "outputs": [],
   "source": [
    "trigram_graph_kanada <- trigram_counts_kanada %>%\n",
    "  filter(row_number() <= 30) %>%\n",
    "  graph_from_data_frame()"
   ]
  },
  {
   "cell_type": "code",
   "execution_count": 28,
   "id": "934a1939",
   "metadata": {},
   "outputs": [
    {
     "data": {
      "image/png": "[encoded data removed]",
      "text/plain": [
       "plot without title"
      ]
     },
     "metadata": {
      "image/png": {
       "height": 420,
       "width": 420
      }
     },
     "output_type": "display_data"
    }
   ],
   "source": [
    "set.seed(2017)\n",
    "\n",
    "a <- grid::arrow(type = \"open\", length = unit(.10, \"inches\"))\n",
    "\n",
    "ggraph(trigram_graph_kanada, layout = \"fr\") +\n",
    "    geom_edge_link(aes(edge_alpha = n), show.legend = FALSE, arrow = a, end_cap = circle(.05, 'inches'), color = \"darkblue\") +\n",
    "    geom_node_text(aes(label = name), repel = TRUE, size=4) +\n",
    "ggtitle(\"Kanada\")"
   ]
  },
  {
   "cell_type": "code",
   "execution_count": 29,
   "id": "02dd7b83",
   "metadata": {},
   "outputs": [],
   "source": [
    "usa_ajalehed <- all_issues %>%\n",
    "    filter(DocumentType==\"NEWSPAPER\") %>%\n",
    "    filter(keyid==\"vabaeestisona\")"
   ]
  },
  {
   "cell_type": "code",
   "execution_count": 30,
   "id": "e416c674",
   "metadata": {},
   "outputs": [],
   "source": [
    "searchfile <- \"balti_lemmad_usa.txt\"\n",
    "do_subset_search(searchterm=searchterm, searchfile=searchfile, usa_ajalehed, searchtype=\"lemmas\", source=\"pages\")"
   ]
  },
  {
   "cell_type": "code",
   "execution_count": 31,
   "id": "c4fa475b",
   "metadata": {},
   "outputs": [],
   "source": [
    "texts4 <- fread(\"balti_lemmad_usa.txt\",header=F,sep=\"\\t\", quote=\"\")[,.(id=V1,lemmas=V2)]\n",
    "texts4[,DocumentID:=str_extract(id,\"[^\\\\.]+\")]\n",
    "fileids_w_meta4 <- texts4 %>% select(id, DocumentID) %>% left_join(usa_ajalehed %>% select(keyid, year, month, DocumentID, zippath_sections, zippath_pages), by=c(\"DocumentID\"))"
   ]
  },
  {
   "cell_type": "code",
   "execution_count": 32,
   "id": "a4d8e0a7",
   "metadata": {},
   "outputs": [],
   "source": [
    "usa_trigrammid <- get_concordances(searchterm=searchterm,texts=texts4,before=50,after=50,txt=\"lemmas\",id=\"id\")"
   ]
  },
  {
   "cell_type": "code",
   "execution_count": 33,
   "id": "85eafd9c",
   "metadata": {},
   "outputs": [],
   "source": [
    "usa_concs <- usa_trigrammid[, !c(\"id\",\"nr\",\"begin\",\"end\", \"DocumentID\")]\n",
    "\n",
    "write.table(usa_concs, \"usa_trigrammid.txt\", sep=\"\\t\", quote = F, row.names = F)"
   ]
  },
  {
   "cell_type": "code",
   "execution_count": 34,
   "id": "f0c23a0c",
   "metadata": {},
   "outputs": [
    {
     "data": {
      "text/html": [
       "<table class=\"dataframe\">\n",
       "<caption>A data.frame: 10 × 1</caption>\n",
       "<thead>\n",
       "\t<tr><th></th><th scope=col>context</th></tr>\n",
       "\t<tr><th></th><th scope=col>&lt;chr&gt;</th></tr>\n",
       "</thead>\n",
       "<tbody>\n",
       "\t<tr><th scope=row>1</th><td>ti rõi va hävitamine . miks El kuulma Appihuudu ? balti komitee deklaratsioon maailm . hoiatus kommunism </td></tr>\n",
       "\t<tr><th scope=row>2</th><td>oon maailm rahu vastu ja sama aeg j otsene rünnak balti rahvas vabadu j sele . see leping põhjal nõukogu-</td></tr>\n",
       "\t<tr><th scope=row>3</th><td>jal nõukogu-j de Liidu_Liidud_Liit valitsus asuma balti nik_niki_nikide iseseisvus hävitamine . juuni kes</td></tr>\n",
       "\t<tr><th scope=row>4</th><td>dama praegu selge ; et andma seaduslik alune_alus balti riiolmna igaüks ja konverents tagajärg ei saama o</td></tr>\n",
       "\t<tr><th scope=row>5</th><td> pool miljon kalN . 1 kdetungijäte tääk olemasolu balti “ vaba Eesti sõna ” järgmine number ilmuma laupäe</td></tr>\n",
       "\t<tr><th scope=row>6</th><td>ündinu laps kui ka kuni 70 a . vanune vanake kogu balti riik tema transporteeriti raudteejaam , laadima l</td></tr>\n",
       "\t<tr><th scope=row>7</th><td> ] . ihl olema ainult algus metsik ettekavatsetud balti rahvas likvideerimine . 15,000,000 vang nõukogu k</td></tr>\n",
       "\t<tr><th scope=row>8</th><td>i abi esinema kõne . sõna - võtt olema tema teine balti rahvas 1 esindaja . aktus kujunema uhfcuslikukS k</td></tr>\n",
       "\t<tr><th scope=row>9</th><td>kuvabadus ja ühesugune õiglus jaseadus rezhiinü . balti rahvas kõneleja ei olema_olnud raske see kohustus</td></tr>\n",
       "\t<tr><th scope=row>10</th><td> 13.-14 , Juuni KÜttDITAMISED tähistamine loomine balti komitee millal tõusma eestlane arv 1000 Montreal </td></tr>\n",
       "</tbody>\n",
       "</table>\n"
      ],
      "text/latex": [
       "A data.frame: 10 × 1\n",
       "\\begin{tabular}{r|l}\n",
       "  & context\\\\\n",
       "  & <chr>\\\\\n",
       "\\hline\n",
       "\t1 & ti rõi va hävitamine . miks El kuulma Appihuudu ? balti komitee deklaratsioon maailm . hoiatus kommunism \\\\\n",
       "\t2 & oon maailm rahu vastu ja sama aeg j otsene rünnak balti rahvas vabadu j sele . see leping põhjal nõukogu-\\\\\n",
       "\t3 & jal nõukogu-j de Liidu\\_Liidud\\_Liit valitsus asuma balti nik\\_niki\\_nikide iseseisvus hävitamine . juuni kes\\\\\n",
       "\t4 & dama praegu selge ; et andma seaduslik alune\\_alus balti riiolmna igaüks ja konverents tagajärg ei saama o\\\\\n",
       "\t5 &  pool miljon kalN . 1 kdetungijäte tääk olemasolu balti “ vaba Eesti sõna ” järgmine number ilmuma laupäe\\\\\n",
       "\t6 & ündinu laps kui ka kuni 70 a . vanune vanake kogu balti riik tema transporteeriti raudteejaam , laadima l\\\\\n",
       "\t7 &  {]} . ihl olema ainult algus metsik ettekavatsetud balti rahvas likvideerimine . 15,000,000 vang nõukogu k\\\\\n",
       "\t8 & i abi esinema kõne . sõna - võtt olema tema teine balti rahvas 1 esindaja . aktus kujunema uhfcuslikukS k\\\\\n",
       "\t9 & kuvabadus ja ühesugune õiglus jaseadus rezhiinü . balti rahvas kõneleja ei olema\\_olnud raske see kohustus\\\\\n",
       "\t10 &  13.-14 , Juuni KÜttDITAMISED tähistamine loomine balti komitee millal tõusma eestlane arv 1000 Montreal \\\\\n",
       "\\end{tabular}\n"
      ],
      "text/markdown": [
       "\n",
       "A data.frame: 10 × 1\n",
       "\n",
       "| <!--/--> | context &lt;chr&gt; |\n",
       "|---|---|\n",
       "| 1 | ti rõi va hävitamine . miks El kuulma Appihuudu ? balti komitee deklaratsioon maailm . hoiatus kommunism  |\n",
       "| 2 | oon maailm rahu vastu ja sama aeg j otsene rünnak balti rahvas vabadu j sele . see leping põhjal nõukogu- |\n",
       "| 3 | jal nõukogu-j de Liidu_Liidud_Liit valitsus asuma balti nik_niki_nikide iseseisvus hävitamine . juuni kes |\n",
       "| 4 | dama praegu selge ; et andma seaduslik alune_alus balti riiolmna igaüks ja konverents tagajärg ei saama o |\n",
       "| 5 |  pool miljon kalN . 1 kdetungijäte tääk olemasolu balti “ vaba Eesti sõna ” järgmine number ilmuma laupäe |\n",
       "| 6 | ündinu laps kui ka kuni 70 a . vanune vanake kogu balti riik tema transporteeriti raudteejaam , laadima l |\n",
       "| 7 |  ] . ihl olema ainult algus metsik ettekavatsetud balti rahvas likvideerimine . 15,000,000 vang nõukogu k |\n",
       "| 8 | i abi esinema kõne . sõna - võtt olema tema teine balti rahvas 1 esindaja . aktus kujunema uhfcuslikukS k |\n",
       "| 9 | kuvabadus ja ühesugune õiglus jaseadus rezhiinü . balti rahvas kõneleja ei olema_olnud raske see kohustus |\n",
       "| 10 |  13.-14 , Juuni KÜttDITAMISED tähistamine loomine balti komitee millal tõusma eestlane arv 1000 Montreal  |\n",
       "\n"
      ],
      "text/plain": [
       "   context                                                                                                  \n",
       "1  ti rõi va hävitamine . miks El kuulma Appihuudu ? balti komitee deklaratsioon maailm . hoiatus kommunism \n",
       "2  oon maailm rahu vastu ja sama aeg j otsene rünnak balti rahvas vabadu j sele . see leping põhjal nõukogu-\n",
       "3  jal nõukogu-j de Liidu_Liidud_Liit valitsus asuma balti nik_niki_nikide iseseisvus hävitamine . juuni kes\n",
       "4  dama praegu selge ; et andma seaduslik alune_alus balti riiolmna igaüks ja konverents tagajärg ei saama o\n",
       "5   pool miljon kalN . 1 kdetungijäte tääk olemasolu balti “ vaba Eesti sõna ” järgmine number ilmuma laupäe\n",
       "6  ündinu laps kui ka kuni 70 a . vanune vanake kogu balti riik tema transporteeriti raudteejaam , laadima l\n",
       "7   ] . ihl olema ainult algus metsik ettekavatsetud balti rahvas likvideerimine . 15,000,000 vang nõukogu k\n",
       "8  i abi esinema kõne . sõna - võtt olema tema teine balti rahvas 1 esindaja . aktus kujunema uhfcuslikukS k\n",
       "9  kuvabadus ja ühesugune õiglus jaseadus rezhiinü . balti rahvas kõneleja ei olema_olnud raske see kohustus\n",
       "10  13.-14 , Juuni KÜttDITAMISED tähistamine loomine balti komitee millal tõusma eestlane arv 1000 Montreal "
      ]
     },
     "metadata": {},
     "output_type": "display_data"
    }
   ],
   "source": [
    "usa_concs2 <- str_replace_all(usa_concs$context, \"\\\\|\", \"_\")\n",
    "\n",
    "usa_concs3 <- as.data.frame(usa_concs2, header = TRUE)\n",
    "colnames(usa_concs3) <- \"context\"\n",
    "head(usa_concs3, 10)"
   ]
  },
  {
   "cell_type": "code",
   "execution_count": 35,
   "id": "753afd34",
   "metadata": {},
   "outputs": [],
   "source": [
    "trigrams_separated_usa <- usa_concs3 %>%\n",
    "  unnest_tokens(trigram, context, token = \"ngrams\", n = 3, n_min = 3) %>%\n",
    "  separate(trigram, c(\"word1\", \"word2\", \"word3\"), sep = \" \")"
   ]
  },
  {
   "cell_type": "code",
   "execution_count": 36,
   "id": "26d96577",
   "metadata": {},
   "outputs": [],
   "source": [
    "trigrams_filtered_usa <- trigrams_separated_usa %>%\n",
    "  filter(!word1 %in% stopsonad$word) %>%\n",
    "  filter(!word2 %in% stopsonad$word) %>%\n",
    "  filter(!word3 %in% stopsonad$word)"
   ]
  },
  {
   "cell_type": "code",
   "execution_count": 37,
   "id": "eee43ebb",
   "metadata": {},
   "outputs": [],
   "source": [
    "trigram_counts_usa <- trigrams_filtered_usa %>% \n",
    "  count(word1, word2, word3, sort = TRUE)"
   ]
  },
  {
   "cell_type": "code",
   "execution_count": 38,
   "id": "7037e90d",
   "metadata": {},
   "outputs": [
    {
     "data": {
      "text/html": [
       "<table class=\"dataframe\">\n",
       "<caption>A data.frame: 30 × 4</caption>\n",
       "<thead>\n",
       "\t<tr><th></th><th scope=col>word1</th><th scope=col>word2</th><th scope=col>word3</th><th scope=col>n</th></tr>\n",
       "\t<tr><th></th><th scope=col>&lt;chr&gt;</th><th scope=col>&lt;chr&gt;</th><th scope=col>&lt;chr&gt;</th><th scope=col>&lt;int&gt;</th></tr>\n",
       "</thead>\n",
       "<tbody>\n",
       "\t<tr><th scope=row>1</th><td>balti      </td><td>riik    </td><td>küsimus       </td><td>776</td></tr>\n",
       "\t<tr><th scope=row>2</th><td>kolm       </td><td>balti   </td><td>riik          </td><td>591</td></tr>\n",
       "\t<tr><th scope=row>3</th><td>balti      </td><td>riik    </td><td>iseseisvus    </td><td>305</td></tr>\n",
       "\t<tr><th scope=row>4</th><td>kolm       </td><td>balti   </td><td>vabariik      </td><td>298</td></tr>\n",
       "\t<tr><th scope=row>5</th><td>balti      </td><td>riik    </td><td>annekteerimine</td><td>250</td></tr>\n",
       "\t<tr><th scope=row>6</th><td>balti      </td><td>rahvus  </td><td>naine         </td><td>212</td></tr>\n",
       "\t<tr><th scope=row>7</th><td>balti      </td><td>kontsert</td><td>seeria        </td><td>209</td></tr>\n",
       "\t<tr><th scope=row>8</th><td>balti      </td><td>naine   </td><td>nõukogu       </td><td>206</td></tr>\n",
       "\t<tr><th scope=row>9</th><td>balti      </td><td>vabariik</td><td>esindaja      </td><td>196</td></tr>\n",
       "\t<tr><th scope=row>10</th><td>kolm       </td><td>balti   </td><td>rahvas        </td><td>196</td></tr>\n",
       "\t<tr><th scope=row>11</th><td>rahvus     </td><td>naine   </td><td>nõukogu       </td><td>193</td></tr>\n",
       "\t<tr><th scope=row>12</th><td>balti      </td><td>riik    </td><td>okupeerimine  </td><td>183</td></tr>\n",
       "\t<tr><th scope=row>13</th><td>kolm       </td><td>balti   </td><td>rahvus        </td><td>178</td></tr>\n",
       "\t<tr><th scope=row>14</th><td>balti      </td><td>ameerika</td><td>komitee       </td><td>176</td></tr>\n",
       "\t<tr><th scope=row>15</th><td>balti      </td><td>riik    </td><td>saatus        </td><td>166</td></tr>\n",
       "\t<tr><th scope=row>16</th><td>balti      </td><td>vabariik</td><td>rahvas        </td><td>159</td></tr>\n",
       "\t<tr><th scope=row>17</th><td>balti      </td><td>riik    </td><td>vabadus       </td><td>156</td></tr>\n",
       "\t<tr><th scope=row>18</th><td>kolm       </td><td>balti   </td><td>rahvusgrupp   </td><td>154</td></tr>\n",
       "\t<tr><th scope=row>19</th><td>balti      </td><td>vabariik</td><td>küsimus       </td><td>150</td></tr>\n",
       "\t<tr><th scope=row>20</th><td>tunnustama </td><td>balti   </td><td>riik          </td><td>147</td></tr>\n",
       "\t<tr><th scope=row>21</th><td>balti      </td><td>riik    </td><td>esindaja      </td><td>145</td></tr>\n",
       "\t<tr><th scope=row>22</th><td>balti      </td><td>riik    </td><td>vägivaldne    </td><td>145</td></tr>\n",
       "\t<tr><th scope=row>23</th><td>balti      </td><td>riik    </td><td>olukord       </td><td>120</td></tr>\n",
       "\t<tr><th scope=row>24</th><td>balti      </td><td>riik    </td><td>rahvas        </td><td>118</td></tr>\n",
       "\t<tr><th scope=row>25</th><td>balti      </td><td>komitee </td><td>esimees       </td><td>114</td></tr>\n",
       "\t<tr><th scope=row>26</th><td>balti      </td><td>riik    </td><td>eesti         </td><td>110</td></tr>\n",
       "\t<tr><th scope=row>27</th><td>vaba       </td><td>eesti   </td><td>sõna          </td><td>110</td></tr>\n",
       "\t<tr><th scope=row>28</th><td>ülemaailmne</td><td>balti   </td><td>nõukogu       </td><td>107</td></tr>\n",
       "\t<tr><th scope=row>29</th><td>balti      </td><td>riik    </td><td>probleem      </td><td>104</td></tr>\n",
       "\t<tr><th scope=row>30</th><td>balti      </td><td>riik    </td><td>julgeolek     </td><td>103</td></tr>\n",
       "</tbody>\n",
       "</table>\n"
      ],
      "text/latex": [
       "A data.frame: 30 × 4\n",
       "\\begin{tabular}{r|llll}\n",
       "  & word1 & word2 & word3 & n\\\\\n",
       "  & <chr> & <chr> & <chr> & <int>\\\\\n",
       "\\hline\n",
       "\t1 & balti       & riik     & küsimus        & 776\\\\\n",
       "\t2 & kolm        & balti    & riik           & 591\\\\\n",
       "\t3 & balti       & riik     & iseseisvus     & 305\\\\\n",
       "\t4 & kolm        & balti    & vabariik       & 298\\\\\n",
       "\t5 & balti       & riik     & annekteerimine & 250\\\\\n",
       "\t6 & balti       & rahvus   & naine          & 212\\\\\n",
       "\t7 & balti       & kontsert & seeria         & 209\\\\\n",
       "\t8 & balti       & naine    & nõukogu        & 206\\\\\n",
       "\t9 & balti       & vabariik & esindaja       & 196\\\\\n",
       "\t10 & kolm        & balti    & rahvas         & 196\\\\\n",
       "\t11 & rahvus      & naine    & nõukogu        & 193\\\\\n",
       "\t12 & balti       & riik     & okupeerimine   & 183\\\\\n",
       "\t13 & kolm        & balti    & rahvus         & 178\\\\\n",
       "\t14 & balti       & ameerika & komitee        & 176\\\\\n",
       "\t15 & balti       & riik     & saatus         & 166\\\\\n",
       "\t16 & balti       & vabariik & rahvas         & 159\\\\\n",
       "\t17 & balti       & riik     & vabadus        & 156\\\\\n",
       "\t18 & kolm        & balti    & rahvusgrupp    & 154\\\\\n",
       "\t19 & balti       & vabariik & küsimus        & 150\\\\\n",
       "\t20 & tunnustama  & balti    & riik           & 147\\\\\n",
       "\t21 & balti       & riik     & esindaja       & 145\\\\\n",
       "\t22 & balti       & riik     & vägivaldne     & 145\\\\\n",
       "\t23 & balti       & riik     & olukord        & 120\\\\\n",
       "\t24 & balti       & riik     & rahvas         & 118\\\\\n",
       "\t25 & balti       & komitee  & esimees        & 114\\\\\n",
       "\t26 & balti       & riik     & eesti          & 110\\\\\n",
       "\t27 & vaba        & eesti    & sõna           & 110\\\\\n",
       "\t28 & ülemaailmne & balti    & nõukogu        & 107\\\\\n",
       "\t29 & balti       & riik     & probleem       & 104\\\\\n",
       "\t30 & balti       & riik     & julgeolek      & 103\\\\\n",
       "\\end{tabular}\n"
      ],
      "text/markdown": [
       "\n",
       "A data.frame: 30 × 4\n",
       "\n",
       "| <!--/--> | word1 &lt;chr&gt; | word2 &lt;chr&gt; | word3 &lt;chr&gt; | n &lt;int&gt; |\n",
       "|---|---|---|---|---|\n",
       "| 1 | balti       | riik     | küsimus        | 776 |\n",
       "| 2 | kolm        | balti    | riik           | 591 |\n",
       "| 3 | balti       | riik     | iseseisvus     | 305 |\n",
       "| 4 | kolm        | balti    | vabariik       | 298 |\n",
       "| 5 | balti       | riik     | annekteerimine | 250 |\n",
       "| 6 | balti       | rahvus   | naine          | 212 |\n",
       "| 7 | balti       | kontsert | seeria         | 209 |\n",
       "| 8 | balti       | naine    | nõukogu        | 206 |\n",
       "| 9 | balti       | vabariik | esindaja       | 196 |\n",
       "| 10 | kolm        | balti    | rahvas         | 196 |\n",
       "| 11 | rahvus      | naine    | nõukogu        | 193 |\n",
       "| 12 | balti       | riik     | okupeerimine   | 183 |\n",
       "| 13 | kolm        | balti    | rahvus         | 178 |\n",
       "| 14 | balti       | ameerika | komitee        | 176 |\n",
       "| 15 | balti       | riik     | saatus         | 166 |\n",
       "| 16 | balti       | vabariik | rahvas         | 159 |\n",
       "| 17 | balti       | riik     | vabadus        | 156 |\n",
       "| 18 | kolm        | balti    | rahvusgrupp    | 154 |\n",
       "| 19 | balti       | vabariik | küsimus        | 150 |\n",
       "| 20 | tunnustama  | balti    | riik           | 147 |\n",
       "| 21 | balti       | riik     | esindaja       | 145 |\n",
       "| 22 | balti       | riik     | vägivaldne     | 145 |\n",
       "| 23 | balti       | riik     | olukord        | 120 |\n",
       "| 24 | balti       | riik     | rahvas         | 118 |\n",
       "| 25 | balti       | komitee  | esimees        | 114 |\n",
       "| 26 | balti       | riik     | eesti          | 110 |\n",
       "| 27 | vaba        | eesti    | sõna           | 110 |\n",
       "| 28 | ülemaailmne | balti    | nõukogu        | 107 |\n",
       "| 29 | balti       | riik     | probleem       | 104 |\n",
       "| 30 | balti       | riik     | julgeolek      | 103 |\n",
       "\n"
      ],
      "text/plain": [
       "   word1       word2    word3          n  \n",
       "1  balti       riik     küsimus        776\n",
       "2  kolm        balti    riik           591\n",
       "3  balti       riik     iseseisvus     305\n",
       "4  kolm        balti    vabariik       298\n",
       "5  balti       riik     annekteerimine 250\n",
       "6  balti       rahvus   naine          212\n",
       "7  balti       kontsert seeria         209\n",
       "8  balti       naine    nõukogu        206\n",
       "9  balti       vabariik esindaja       196\n",
       "10 kolm        balti    rahvas         196\n",
       "11 rahvus      naine    nõukogu        193\n",
       "12 balti       riik     okupeerimine   183\n",
       "13 kolm        balti    rahvus         178\n",
       "14 balti       ameerika komitee        176\n",
       "15 balti       riik     saatus         166\n",
       "16 balti       vabariik rahvas         159\n",
       "17 balti       riik     vabadus        156\n",
       "18 kolm        balti    rahvusgrupp    154\n",
       "19 balti       vabariik küsimus        150\n",
       "20 tunnustama  balti    riik           147\n",
       "21 balti       riik     esindaja       145\n",
       "22 balti       riik     vägivaldne     145\n",
       "23 balti       riik     olukord        120\n",
       "24 balti       riik     rahvas         118\n",
       "25 balti       komitee  esimees        114\n",
       "26 balti       riik     eesti          110\n",
       "27 vaba        eesti    sõna           110\n",
       "28 ülemaailmne balti    nõukogu        107\n",
       "29 balti       riik     probleem       104\n",
       "30 balti       riik     julgeolek      103"
      ]
     },
     "metadata": {},
     "output_type": "display_data"
    }
   ],
   "source": [
    "head(trigram_counts_usa, 30)"
   ]
  },
  {
   "cell_type": "code",
   "execution_count": 39,
   "id": "cd04d023",
   "metadata": {},
   "outputs": [],
   "source": [
    "trigram_graph_usa <- trigram_counts_usa %>%\n",
    "  filter(row_number() <= 30) %>%\n",
    "  graph_from_data_frame()"
   ]
  },
  {
   "cell_type": "code",
   "execution_count": 40,
   "id": "da3b187a",
   "metadata": {},
   "outputs": [
    {
     "data": {
      "image/png": "[encoded data removed]",
      "text/plain": [
       "plot without title"
      ]
     },
     "metadata": {
      "image/png": {
       "height": 420,
       "width": 420
      }
     },
     "output_type": "display_data"
    }
   ],
   "source": [
    "set.seed(2017)\n",
    "\n",
    "a <- grid::arrow(type = \"open\", length = unit(.10, \"inches\"))\n",
    "\n",
    "ggraph(trigram_graph_usa, layout = \"fr\") +\n",
    "    geom_edge_link(aes(edge_alpha = n), show.legend = FALSE, arrow = a, end_cap = circle(.05, 'inches'), color = \"darkblue\") +\n",
    "    geom_node_text(aes(label = name), repel = TRUE, size=4) +\n",
    "ggtitle(\"USA\")"
   ]
  },
  {
   "cell_type": "code",
   "execution_count": null,
   "id": "18543706",
   "metadata": {},
   "outputs": [],
   "source": []
  }
 ],
 "metadata": {
  "kernelspec": {
   "display_name": "R 4.1.2",
   "language": "R",
   "name": "ir4-1"
  },
  "language_info": {
   "codemirror_mode": "r",
   "file_extension": ".r",
   "mimetype": "text/x-r-source",
   "name": "R",
   "pygments_lexer": "r",
   "version": "4.1.2"
  }
 },
 "nbformat": 4,
 "nbformat_minor": 5
}
